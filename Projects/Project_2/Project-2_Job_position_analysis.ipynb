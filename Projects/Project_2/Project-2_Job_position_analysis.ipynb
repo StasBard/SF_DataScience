{
  "cells": [
    {
      "cell_type": "markdown",
      "id": "42289889-bd57-434e-9637-d3e354756316",
      "metadata": {
        "id": "42289889-bd57-434e-9637-d3e354756316"
      },
      "source": [
        "<center> <img src = https://raw.githubusercontent.com/AndreyRysistov/DatasetsForPandas/main/hh%20label.jpg alt=\"drawing\" style=\"width:400px;\">"
      ]
    },
    {
      "cell_type": "markdown",
      "id": "829cb75b-f14e-4ba8-9195-7ba929a7d656",
      "metadata": {
        "id": "829cb75b-f14e-4ba8-9195-7ba929a7d656",
        "tags": []
      },
      "source": [
        "# <center> Проект: Анализ вакансий из HeadHunter\n",
        "   "
      ]
    },
    {
      "cell_type": "code",
      "execution_count": 1,
      "id": "dccfde33-2452-43fb-a8a5-5c6ebc02a71d",
      "metadata": {
        "id": "dccfde33-2452-43fb-a8a5-5c6ebc02a71d"
      },
      "outputs": [],
      "source": [
        "import psycopg2\n",
        "import pandas as pd\n",
        "import requests  # для парсинга в юнитах 5 и 7\n",
        "from bs4 import BeautifulSoup # для парсинга в юнитах 5 и 7\n",
        "import plotly.express as px # для построения графика в юните 7"
      ]
    },
    {
      "cell_type": "code",
      "execution_count": 2,
      "id": "d651ca7f",
      "metadata": {},
      "outputs": [],
      "source": [
        "# Вместо psycopg2 можно было бы использовать sqlalchemy вот так:\n",
        "# from sqlalchemy import create_engine\n",
        "# connection = create_engine(f'postgresql+psycopg2://{USER}:{PASSWORD}@{HOST}:{PORT}/{DBNAME}')\n",
        "# df = pd.read_sql_query(sqlalchemy.text(query), conn_str) # метод text - для корректного восприятия символа %\n",
        "\n",
        "# Однако после ее обновления до версии 2.0 возникает ошибка\n",
        "# 'OptionEngine' object has no attribute 'execute', о которой сказано\n",
        "# здесь: https://github.com/pandas-dev/pandas/issues/51015\n",
        "# В надежде на скорое исправление ситуации прибегнем к отключению\n",
        "# сообщений о несовместимости pandas и SQLAlchemy:\n",
        "import warnings\n",
        "warnings.filterwarnings('ignore')"
      ]
    },
    {
      "cell_type": "code",
      "execution_count": 3,
      "id": "oVKH4ehvf8Ay",
      "metadata": {
        "id": "oVKH4ehvf8Ay"
      },
      "outputs": [],
      "source": [
        "# Параметры подключения к базе данных удалены в целях безопасности"
      ]
    },
    {
      "cell_type": "code",
      "execution_count": 4,
      "id": "G4X_q8KBf7SF",
      "metadata": {
        "id": "G4X_q8KBf7SF"
      },
      "outputs": [],
      "source": [
        "# Создаем подключение к базе данных\n",
        "connection = psycopg2.connect(\n",
        "    dbname=DBNAME,\n",
        "    user=USER,\n",
        "    host=HOST,\n",
        "    password=PASSWORD,\n",
        "    port=PORT\n",
        ")"
      ]
    },
    {
      "cell_type": "markdown",
      "id": "0dc6476b-7a00-44f1-ac93-6e3baed33a29",
      "metadata": {
        "id": "0dc6476b-7a00-44f1-ac93-6e3baed33a29"
      },
      "source": [
        "# Юнит 3. Предварительный анализ данных"
      ]
    },
    {
      "cell_type": "markdown",
      "id": "889782b6-8d1c-410e-8920-e57f27917c64",
      "metadata": {
        "id": "889782b6-8d1c-410e-8920-e57f27917c64"
      },
      "source": [
        "1. Напишите запрос, который посчитает количество вакансий в нашей базе (вакансии находятся в таблице vacancies). "
      ]
    },
    {
      "cell_type": "code",
      "execution_count": 5,
      "id": "bc39e68e-ed02-4ee2-9235-7258a2f867a8",
      "metadata": {
        "id": "bc39e68e-ed02-4ee2-9235-7258a2f867a8"
      },
      "outputs": [],
      "source": [
        "# текст запроса\n",
        "query_3_1 = f'''SELECT\n",
        "                    COUNT(id) AS total_vacancies\n",
        "                FROM public.vacancies\n",
        "             '''"
      ]
    },
    {
      "cell_type": "code",
      "execution_count": 6,
      "id": "ab2a1f07",
      "metadata": {},
      "outputs": [
        {
          "name": "stdout",
          "output_type": "stream",
          "text": [
            "Общее количество вакансий в базе: 49197\n"
          ]
        }
      ],
      "source": [
        "# результат запроса\n",
        "df = pd.read_sql_query(query_3_1, connection)\n",
        "print('Общее количество вакансий в базе:', df.iloc[0,0])"
      ]
    },
    {
      "cell_type": "markdown",
      "id": "b583485d-1f9e-494e-ada4-80ffff7c53d6",
      "metadata": {
        "id": "b583485d-1f9e-494e-ada4-80ffff7c53d6"
      },
      "source": [
        "2. Напишите запрос, который посчитает количество работодателей (таблица employers). "
      ]
    },
    {
      "cell_type": "code",
      "execution_count": 7,
      "id": "5408c52c-3407-4a63-b25b-1aafa2322d28",
      "metadata": {
        "id": "5408c52c-3407-4a63-b25b-1aafa2322d28"
      },
      "outputs": [],
      "source": [
        "# текст запроса\n",
        "query_3_2 = f'''SELECT\n",
        "                    COUNT(id) AS total_employers\n",
        "                FROM employers\n",
        "             '''"
      ]
    },
    {
      "cell_type": "code",
      "execution_count": 8,
      "id": "jVL4eshKhdqc",
      "metadata": {
        "id": "jVL4eshKhdqc"
      },
      "outputs": [
        {
          "name": "stdout",
          "output_type": "stream",
          "text": [
            "Общее количество работодателей в базе: 23501\n"
          ]
        }
      ],
      "source": [
        "# результат запроса\n",
        "df = pd.read_sql_query(query_3_2, connection)\n",
        "print('Общее количество работодателей в базе:', df.iloc[0,0])"
      ]
    },
    {
      "cell_type": "markdown",
      "id": "a2bfff1f-c975-4bf6-84be-2185d79dcb76",
      "metadata": {
        "id": "a2bfff1f-c975-4bf6-84be-2185d79dcb76"
      },
      "source": [
        "3. Посчитате с помощью запроса количество регионов (таблица areas)."
      ]
    },
    {
      "cell_type": "code",
      "execution_count": 9,
      "id": "1m8QJwBYhey6",
      "metadata": {
        "id": "1m8QJwBYhey6"
      },
      "outputs": [],
      "source": [
        "# текст запроса\n",
        "query_3_3 = f'''SELECT\n",
        "                    COUNT(id) AS total_areas\n",
        "                FROM areas\n",
        "             '''"
      ]
    },
    {
      "cell_type": "code",
      "execution_count": 10,
      "id": "EZsn9tlfhe7f",
      "metadata": {
        "id": "EZsn9tlfhe7f"
      },
      "outputs": [
        {
          "name": "stdout",
          "output_type": "stream",
          "text": [
            "Общее количество регионов в базе: 1362\n"
          ]
        }
      ],
      "source": [
        "# результат запроса\n",
        "df = pd.read_sql_query(query_3_3, connection)\n",
        "print('Общее количество регионов в базе:', df.iloc[0,0])"
      ]
    },
    {
      "cell_type": "markdown",
      "id": "41bb59f3-53cc-4a67-a5bc-bedf573955e4",
      "metadata": {
        "id": "41bb59f3-53cc-4a67-a5bc-bedf573955e4"
      },
      "source": [
        "4. Посчитате с помощью запроса количество сфер деятельности в базе (таблица industries)."
      ]
    },
    {
      "cell_type": "code",
      "execution_count": 11,
      "id": "d286cf4c-707b-4cd2-9190-7ab3587d04a1",
      "metadata": {
        "id": "d286cf4c-707b-4cd2-9190-7ab3587d04a1"
      },
      "outputs": [],
      "source": [
        "# текст запроса\n",
        "query_3_4 = f'''SELECT\n",
        "                    COUNT(id) AS total_industries\n",
        "                FROM industries\n",
        "             '''"
      ]
    },
    {
      "cell_type": "code",
      "execution_count": 12,
      "id": "JYAaoZ4qhfzW",
      "metadata": {
        "id": "JYAaoZ4qhfzW"
      },
      "outputs": [
        {
          "name": "stdout",
          "output_type": "stream",
          "text": [
            "Общее количество сфер деятельности в базе: 294\n"
          ]
        }
      ],
      "source": [
        "# результат запроса\n",
        "df = pd.read_sql_query(query_3_4, connection)\n",
        "print('Общее количество сфер деятельности в базе:', df.iloc[0,0])"
      ]
    },
    {
      "cell_type": "markdown",
      "id": "9a8a2181-6914-448b-85f1-38f5f18b8a93",
      "metadata": {
        "id": "9a8a2181-6914-448b-85f1-38f5f18b8a93"
      },
      "source": [
        "***"
      ]
    },
    {
      "attachments": {},
      "cell_type": "markdown",
      "id": "6068be97",
      "metadata": {},
      "source": [
        "**Выводы по предварительному анализу данных:**  \n",
        "1. В базе данных содержится почти 50 тыс. вакансий в 23,5 тыс. компаний, то есть при условии равного распределения (что, вероятнее всего, не так) - по 2 вакансии у работодателя.  \n",
        "\n",
        "2. География работодателей представлена 1362 регионами (городами).  \n",
        "\n",
        "3. Сферы деятельности, в которых заняты работодатели и в которых предлагают свои вакансии, насчитывают почти 300 различных видов."
      ]
    },
    {
      "cell_type": "markdown",
      "id": "8d62a9f3-f64e-4fe7-bdac-c4dffa16155e",
      "metadata": {
        "id": "8d62a9f3-f64e-4fe7-bdac-c4dffa16155e"
      },
      "source": [
        "# Юнит 4. Детальный анализ вакансий"
      ]
    },
    {
      "cell_type": "markdown",
      "id": "93053d3d-b284-481a-9cf7-012d7014c0e0",
      "metadata": {
        "id": "93053d3d-b284-481a-9cf7-012d7014c0e0"
      },
      "source": [
        "1. Напишите запрос, который позволит узнать, сколько (cnt) вакансий в каждом регионе (area).\n",
        "Отсортируйте по количеству вакансий в порядке убывания."
      ]
    },
    {
      "cell_type": "code",
      "execution_count": 13,
      "id": "3f069da6-fdc9-4ae7-b514-fafe2675efd3",
      "metadata": {
        "id": "3f069da6-fdc9-4ae7-b514-fafe2675efd3"
      },
      "outputs": [],
      "source": [
        "query_4_1 = f'''SELECT\n",
        "                    a.name AS area,\n",
        "                    COUNT(v.id) AS cnt\n",
        "                FROM areas AS a\n",
        "                JOIN vacancies AS v ON a.id = v.area_id\n",
        "                GROUP BY a.name\n",
        "                ORDER BY COUNT(v.id) DESC\n",
        "             '''"
      ]
    },
    {
      "cell_type": "code",
      "execution_count": 14,
      "id": "P7QL86hrjhRJ",
      "metadata": {
        "id": "P7QL86hrjhRJ"
      },
      "outputs": [
        {
          "data": {
            "text/plain": [
              "'Количество вакансий в каждом регионе:'"
            ]
          },
          "metadata": {},
          "output_type": "display_data"
        },
        {
          "data": {
            "text/html": [
              "<div>\n",
              "<style scoped>\n",
              "    .dataframe tbody tr th:only-of-type {\n",
              "        vertical-align: middle;\n",
              "    }\n",
              "\n",
              "    .dataframe tbody tr th {\n",
              "        vertical-align: top;\n",
              "    }\n",
              "\n",
              "    .dataframe thead th {\n",
              "        text-align: right;\n",
              "    }\n",
              "</style>\n",
              "<table border=\"1\" class=\"dataframe\">\n",
              "  <thead>\n",
              "    <tr style=\"text-align: right;\">\n",
              "      <th></th>\n",
              "      <th>area</th>\n",
              "      <th>cnt</th>\n",
              "    </tr>\n",
              "  </thead>\n",
              "  <tbody>\n",
              "    <tr>\n",
              "      <th>0</th>\n",
              "      <td>Москва</td>\n",
              "      <td>5333</td>\n",
              "    </tr>\n",
              "    <tr>\n",
              "      <th>1</th>\n",
              "      <td>Санкт-Петербург</td>\n",
              "      <td>2851</td>\n",
              "    </tr>\n",
              "    <tr>\n",
              "      <th>2</th>\n",
              "      <td>Минск</td>\n",
              "      <td>2112</td>\n",
              "    </tr>\n",
              "    <tr>\n",
              "      <th>3</th>\n",
              "      <td>Новосибирск</td>\n",
              "      <td>2006</td>\n",
              "    </tr>\n",
              "    <tr>\n",
              "      <th>4</th>\n",
              "      <td>Алматы</td>\n",
              "      <td>1892</td>\n",
              "    </tr>\n",
              "    <tr>\n",
              "      <th>...</th>\n",
              "      <td>...</td>\n",
              "      <td>...</td>\n",
              "    </tr>\n",
              "    <tr>\n",
              "      <th>764</th>\n",
              "      <td>Тарко-Сале</td>\n",
              "      <td>1</td>\n",
              "    </tr>\n",
              "    <tr>\n",
              "      <th>765</th>\n",
              "      <td>Новоаннинский</td>\n",
              "      <td>1</td>\n",
              "    </tr>\n",
              "    <tr>\n",
              "      <th>766</th>\n",
              "      <td>Бирск</td>\n",
              "      <td>1</td>\n",
              "    </tr>\n",
              "    <tr>\n",
              "      <th>767</th>\n",
              "      <td>Сасово</td>\n",
              "      <td>1</td>\n",
              "    </tr>\n",
              "    <tr>\n",
              "      <th>768</th>\n",
              "      <td>Анна</td>\n",
              "      <td>1</td>\n",
              "    </tr>\n",
              "  </tbody>\n",
              "</table>\n",
              "<p>769 rows × 2 columns</p>\n",
              "</div>"
            ],
            "text/plain": [
              "                area   cnt\n",
              "0             Москва  5333\n",
              "1    Санкт-Петербург  2851\n",
              "2              Минск  2112\n",
              "3        Новосибирск  2006\n",
              "4             Алматы  1892\n",
              "..               ...   ...\n",
              "764       Тарко-Сале     1\n",
              "765    Новоаннинский     1\n",
              "766            Бирск     1\n",
              "767           Сасово     1\n",
              "768             Анна     1\n",
              "\n",
              "[769 rows x 2 columns]"
            ]
          },
          "metadata": {},
          "output_type": "display_data"
        }
      ],
      "source": [
        "df = pd.read_sql_query(query_4_1, connection)\n",
        "display('Количество вакансий в каждом регионе:', df)"
      ]
    },
    {
      "cell_type": "markdown",
      "id": "4266f0b6-1646-492a-88b4-2f6a46502135",
      "metadata": {
        "id": "4266f0b6-1646-492a-88b4-2f6a46502135"
      },
      "source": [
        "2. Напишите запрос, чтобы определить у какого количества вакансий заполнено хотя бы одно из двух полей с зарплатой."
      ]
    },
    {
      "cell_type": "code",
      "execution_count": 15,
      "id": "0c44b350-72eb-4d65-8b54-a1fc449ba9fd",
      "metadata": {
        "id": "0c44b350-72eb-4d65-8b54-a1fc449ba9fd"
      },
      "outputs": [],
      "source": [
        "query_4_2 = f'''SELECT\n",
        "                    COUNT(id)\n",
        "                FROM vacancies\n",
        "                WHERE salary_from IS NOT NULL\n",
        "                    OR salary_to IS NOT NULL\n",
        "             '''"
      ]
    },
    {
      "cell_type": "code",
      "execution_count": 16,
      "id": "rhvwaMDkoWTi",
      "metadata": {
        "id": "rhvwaMDkoWTi"
      },
      "outputs": [
        {
          "name": "stdout",
          "output_type": "stream",
          "text": [
            "Количество вакансий, у которых заполнено хотя бы одно из двух полей с зарплатой: 24073\n"
          ]
        }
      ],
      "source": [
        "df = pd.read_sql_query(query_4_2, connection)\n",
        "print('Количество вакансий, у которых заполнено хотя бы одно из двух полей с зарплатой:', df.iloc[0,0])"
      ]
    },
    {
      "cell_type": "markdown",
      "id": "635c4d5d-f323-4c66-b428-50a088120aa0",
      "metadata": {
        "id": "635c4d5d-f323-4c66-b428-50a088120aa0"
      },
      "source": [
        "3. Найдите средние значения для нижней и верхней границы зарплатной вилки. Округлите значения до целого."
      ]
    },
    {
      "cell_type": "code",
      "execution_count": 17,
      "id": "603cdbe4-0ec3-4106-8eaf-c73fcdd29165",
      "metadata": {
        "id": "603cdbe4-0ec3-4106-8eaf-c73fcdd29165"
      },
      "outputs": [],
      "source": [
        "query_4_3 = f'''SELECT\n",
        "                    ROUND(AVG(salary_from), 0)::int AS avg_salary_from,\n",
        "                    ROUND(AVG(salary_to), 0)::int AS avg_salary_to\n",
        "                FROM vacancies\n",
        "             '''"
      ]
    },
    {
      "cell_type": "code",
      "execution_count": 18,
      "id": "pswpAb66ovZZ",
      "metadata": {
        "id": "pswpAb66ovZZ"
      },
      "outputs": [
        {
          "name": "stdout",
          "output_type": "stream",
          "text": [
            "Средние значения для зарплатной вилки (в руб.): нижнее - 71065, верхнее - 110537.\n"
          ]
        }
      ],
      "source": [
        "df = pd.read_sql_query(query_4_3, connection)\n",
        "print(f'Средние значения для зарплатной вилки (в руб.): нижнее - {df.iloc[0,0]}, верхнее - {df.iloc[0,1]}.')"
      ]
    },
    {
      "cell_type": "markdown",
      "id": "f3fdaec9-5fd3-4260-9cf5-1d7406b628a5",
      "metadata": {
        "id": "f3fdaec9-5fd3-4260-9cf5-1d7406b628a5"
      },
      "source": [
        "4. Напишите запрос, который выведет количество вакансий для каждого сочетания типа рабочего графика (schedule) и типа трудоустройства (employment), используемого в вакансиях. Результат отсортируйте по убыванию количества.\n"
      ]
    },
    {
      "cell_type": "code",
      "execution_count": 19,
      "id": "1ea710ec-871b-431e-9462-c7d0fd87011b",
      "metadata": {
        "id": "1ea710ec-871b-431e-9462-c7d0fd87011b"
      },
      "outputs": [],
      "source": [
        "query_4_4 = f'''SELECT\n",
        "                    schedule,\n",
        "                    employment,\n",
        "                    COUNT(id) AS num_of_vacancies\n",
        "                FROM vacancies\n",
        "                GROUP BY schedule, employment\n",
        "                ORDER BY 3 DESC\n",
        "             '''"
      ]
    },
    {
      "cell_type": "code",
      "execution_count": 20,
      "id": "lGUVqavdo4JQ",
      "metadata": {
        "id": "lGUVqavdo4JQ"
      },
      "outputs": [
        {
          "data": {
            "text/plain": [
              "'Количество вакансий для различных сочетаний типов графика и трудоустройства:'"
            ]
          },
          "metadata": {},
          "output_type": "display_data"
        },
        {
          "data": {
            "text/html": [
              "<div>\n",
              "<style scoped>\n",
              "    .dataframe tbody tr th:only-of-type {\n",
              "        vertical-align: middle;\n",
              "    }\n",
              "\n",
              "    .dataframe tbody tr th {\n",
              "        vertical-align: top;\n",
              "    }\n",
              "\n",
              "    .dataframe thead th {\n",
              "        text-align: right;\n",
              "    }\n",
              "</style>\n",
              "<table border=\"1\" class=\"dataframe\">\n",
              "  <thead>\n",
              "    <tr style=\"text-align: right;\">\n",
              "      <th></th>\n",
              "      <th>schedule</th>\n",
              "      <th>employment</th>\n",
              "      <th>num_of_vacancies</th>\n",
              "    </tr>\n",
              "  </thead>\n",
              "  <tbody>\n",
              "    <tr>\n",
              "      <th>0</th>\n",
              "      <td>Полный день</td>\n",
              "      <td>Полная занятость</td>\n",
              "      <td>35367</td>\n",
              "    </tr>\n",
              "    <tr>\n",
              "      <th>1</th>\n",
              "      <td>Удаленная работа</td>\n",
              "      <td>Полная занятость</td>\n",
              "      <td>7802</td>\n",
              "    </tr>\n",
              "    <tr>\n",
              "      <th>2</th>\n",
              "      <td>Гибкий график</td>\n",
              "      <td>Полная занятость</td>\n",
              "      <td>1593</td>\n",
              "    </tr>\n",
              "    <tr>\n",
              "      <th>3</th>\n",
              "      <td>Удаленная работа</td>\n",
              "      <td>Частичная занятость</td>\n",
              "      <td>1312</td>\n",
              "    </tr>\n",
              "    <tr>\n",
              "      <th>4</th>\n",
              "      <td>Сменный график</td>\n",
              "      <td>Полная занятость</td>\n",
              "      <td>940</td>\n",
              "    </tr>\n",
              "    <tr>\n",
              "      <th>5</th>\n",
              "      <td>Полный день</td>\n",
              "      <td>Стажировка</td>\n",
              "      <td>569</td>\n",
              "    </tr>\n",
              "    <tr>\n",
              "      <th>6</th>\n",
              "      <td>Вахтовый метод</td>\n",
              "      <td>Полная занятость</td>\n",
              "      <td>367</td>\n",
              "    </tr>\n",
              "    <tr>\n",
              "      <th>7</th>\n",
              "      <td>Полный день</td>\n",
              "      <td>Частичная занятость</td>\n",
              "      <td>347</td>\n",
              "    </tr>\n",
              "    <tr>\n",
              "      <th>8</th>\n",
              "      <td>Гибкий график</td>\n",
              "      <td>Частичная занятость</td>\n",
              "      <td>312</td>\n",
              "    </tr>\n",
              "    <tr>\n",
              "      <th>9</th>\n",
              "      <td>Полный день</td>\n",
              "      <td>Проектная работа</td>\n",
              "      <td>141</td>\n",
              "    </tr>\n",
              "    <tr>\n",
              "      <th>10</th>\n",
              "      <td>Удаленная работа</td>\n",
              "      <td>Проектная работа</td>\n",
              "      <td>133</td>\n",
              "    </tr>\n",
              "    <tr>\n",
              "      <th>11</th>\n",
              "      <td>Гибкий график</td>\n",
              "      <td>Стажировка</td>\n",
              "      <td>116</td>\n",
              "    </tr>\n",
              "    <tr>\n",
              "      <th>12</th>\n",
              "      <td>Сменный график</td>\n",
              "      <td>Частичная занятость</td>\n",
              "      <td>101</td>\n",
              "    </tr>\n",
              "    <tr>\n",
              "      <th>13</th>\n",
              "      <td>Удаленная работа</td>\n",
              "      <td>Стажировка</td>\n",
              "      <td>64</td>\n",
              "    </tr>\n",
              "    <tr>\n",
              "      <th>14</th>\n",
              "      <td>Гибкий график</td>\n",
              "      <td>Проектная работа</td>\n",
              "      <td>18</td>\n",
              "    </tr>\n",
              "    <tr>\n",
              "      <th>15</th>\n",
              "      <td>Сменный график</td>\n",
              "      <td>Стажировка</td>\n",
              "      <td>12</td>\n",
              "    </tr>\n",
              "    <tr>\n",
              "      <th>16</th>\n",
              "      <td>Вахтовый метод</td>\n",
              "      <td>Проектная работа</td>\n",
              "      <td>2</td>\n",
              "    </tr>\n",
              "    <tr>\n",
              "      <th>17</th>\n",
              "      <td>Сменный график</td>\n",
              "      <td>Проектная работа</td>\n",
              "      <td>1</td>\n",
              "    </tr>\n",
              "  </tbody>\n",
              "</table>\n",
              "</div>"
            ],
            "text/plain": [
              "            schedule           employment  num_of_vacancies\n",
              "0        Полный день     Полная занятость             35367\n",
              "1   Удаленная работа     Полная занятость              7802\n",
              "2      Гибкий график     Полная занятость              1593\n",
              "3   Удаленная работа  Частичная занятость              1312\n",
              "4     Сменный график     Полная занятость               940\n",
              "5        Полный день           Стажировка               569\n",
              "6     Вахтовый метод     Полная занятость               367\n",
              "7        Полный день  Частичная занятость               347\n",
              "8      Гибкий график  Частичная занятость               312\n",
              "9        Полный день     Проектная работа               141\n",
              "10  Удаленная работа     Проектная работа               133\n",
              "11     Гибкий график           Стажировка               116\n",
              "12    Сменный график  Частичная занятость               101\n",
              "13  Удаленная работа           Стажировка                64\n",
              "14     Гибкий график     Проектная работа                18\n",
              "15    Сменный график           Стажировка                12\n",
              "16    Вахтовый метод     Проектная работа                 2\n",
              "17    Сменный график     Проектная работа                 1"
            ]
          },
          "metadata": {},
          "output_type": "display_data"
        }
      ],
      "source": [
        "df = pd.read_sql_query(query_4_4, connection)\n",
        "display('Количество вакансий для различных сочетаний типов графика и трудоустройства:', df)"
      ]
    },
    {
      "cell_type": "markdown",
      "id": "0136ffee-0ead-4a6b-b608-61d1c753a438",
      "metadata": {
        "id": "0136ffee-0ead-4a6b-b608-61d1c753a438"
      },
      "source": [
        "5. Напишите запрос, выводящий значения поля Требуемый опыт работы (experience) в порядке возрастания количества вакансий, в которых указан данный вариант опыта. "
      ]
    },
    {
      "cell_type": "code",
      "execution_count": 21,
      "id": "5b3a8e79-f7ab-4008-b767-12aea3a205ea",
      "metadata": {
        "id": "5b3a8e79-f7ab-4008-b767-12aea3a205ea"
      },
      "outputs": [],
      "source": [
        "query_4_5 = f'''SELECT\n",
        "                    experience,\n",
        "                    COUNT(id) AS num_of_vacancies\n",
        "                FROM vacancies\n",
        "                WHERE experience IS NOT NULL\n",
        "                GROUP BY experience\n",
        "                ORDER BY COUNT(id) ASC\n",
        "             '''"
      ]
    },
    {
      "cell_type": "code",
      "execution_count": 22,
      "id": "3Is64Y-hpDpq",
      "metadata": {
        "id": "3Is64Y-hpDpq"
      },
      "outputs": [
        {
          "data": {
            "text/plain": [
              "'Количество вакансий для различного опыта работы:'"
            ]
          },
          "metadata": {},
          "output_type": "display_data"
        },
        {
          "data": {
            "text/html": [
              "<div>\n",
              "<style scoped>\n",
              "    .dataframe tbody tr th:only-of-type {\n",
              "        vertical-align: middle;\n",
              "    }\n",
              "\n",
              "    .dataframe tbody tr th {\n",
              "        vertical-align: top;\n",
              "    }\n",
              "\n",
              "    .dataframe thead th {\n",
              "        text-align: right;\n",
              "    }\n",
              "</style>\n",
              "<table border=\"1\" class=\"dataframe\">\n",
              "  <thead>\n",
              "    <tr style=\"text-align: right;\">\n",
              "      <th></th>\n",
              "      <th>experience</th>\n",
              "      <th>num_of_vacancies</th>\n",
              "    </tr>\n",
              "  </thead>\n",
              "  <tbody>\n",
              "    <tr>\n",
              "      <th>0</th>\n",
              "      <td>Более 6 лет</td>\n",
              "      <td>1337</td>\n",
              "    </tr>\n",
              "    <tr>\n",
              "      <th>1</th>\n",
              "      <td>Нет опыта</td>\n",
              "      <td>7197</td>\n",
              "    </tr>\n",
              "    <tr>\n",
              "      <th>2</th>\n",
              "      <td>От 3 до 6 лет</td>\n",
              "      <td>14511</td>\n",
              "    </tr>\n",
              "    <tr>\n",
              "      <th>3</th>\n",
              "      <td>От 1 года до 3 лет</td>\n",
              "      <td>26152</td>\n",
              "    </tr>\n",
              "  </tbody>\n",
              "</table>\n",
              "</div>"
            ],
            "text/plain": [
              "           experience  num_of_vacancies\n",
              "0         Более 6 лет              1337\n",
              "1           Нет опыта              7197\n",
              "2       От 3 до 6 лет             14511\n",
              "3  От 1 года до 3 лет             26152"
            ]
          },
          "metadata": {},
          "output_type": "display_data"
        }
      ],
      "source": [
        "df = pd.read_sql_query(query_4_5, connection)\n",
        "display('Количество вакансий для различного опыта работы:', df)"
      ]
    },
    {
      "cell_type": "markdown",
      "id": "oq2b7n1QpIka",
      "metadata": {
        "id": "oq2b7n1QpIka"
      },
      "source": [
        "***"
      ]
    },
    {
      "attachments": {},
      "cell_type": "markdown",
      "id": "048e39df",
      "metadata": {},
      "source": [
        "**Выводы по детальному анализу данных:**  \n",
        "\n",
        "1.  Тройку городов по количеству представленных вакансий составляют: Москва, Санкт-Петербург и Минск. При этом количество вакансий в одной Москве (5333) превышает суммарное их количество в двух других городах из тройки (2851 и 2112, соответственно). Кроме этого, Москва и Питер заметно отрываются от других городов по количеству вакансий, а вот начиная с Минска и дальше вниз рейтинга разница между городами не столь драматична. Сравните: Минск (2112) - Новосибирск (2006) - Алматы (1892) и т.д.  \n",
        "\n",
        "2. Примерно в половине вакансий (24 тыс. из 49 тыс.) работодатели указали хотя бы одно из двух значений зарплатной вилки.  \n",
        "\n",
        "3. При этом средняя минимальная заработная плата составляет 71 тыс. руб., а средняя максимальная - 110,5 тыс. руб.  \n",
        "\n",
        "4. Полная занятость является самым востребованным у работодателей типом занятости, занимая первые три места по количеству вакансий. При этом сочетание с графиком полный день - абсолютный лидер: 72% всех вакансий содержат именно такое сочетание требований. Наименее популярна у работодателей проектная работа и стажировка вкупе со сменным и гибким графиком, вахтовым методом и удаленной работой: в базе данных насчитывается лишь 97 подобных вакансий (нижние 5 строчек рейтинга), что составляет менее 1% процента всего пула вакансий.  \n",
        "\n",
        "5. Наиболее редким требованием к опыту работы соискателей является требование свыше 6 лет - менее 3% всех вакансий его содержат. А вот самым распространенным (более половины всех вакансий) является порог от 1 года до 3 лет. На интервал от 3 до 6 лет опыта приходится чуть более четверти предложений о работе."
      ]
    },
    {
      "cell_type": "markdown",
      "id": "7ea20ab6-04a7-40a0-adec-443a0e5a42c3",
      "metadata": {
        "id": "7ea20ab6-04a7-40a0-adec-443a0e5a42c3"
      },
      "source": [
        "# Юнит 5. Анализ работодателей"
      ]
    },
    {
      "cell_type": "markdown",
      "id": "968aed80-74ef-4ffb-b5bf-c65b84e9caea",
      "metadata": {
        "id": "968aed80-74ef-4ffb-b5bf-c65b84e9caea"
      },
      "source": [
        "1. Напишите запрос, который позволит узнать, какие работодатели находятся на первом и пятом месте по количеству вакансий."
      ]
    },
    {
      "cell_type": "code",
      "execution_count": 23,
      "id": "f2d62796-d400-4ec1-a675-88112739a50e",
      "metadata": {
        "id": "f2d62796-d400-4ec1-a675-88112739a50e"
      },
      "outputs": [],
      "source": [
        "query_5_1 = f''' -- Сохраним запрос топ-5 компаний в новую таблицу\n",
        "                WITH top AS\n",
        "                (\n",
        "                    SELECT\n",
        "                        e.name AS employer,\n",
        "                        COUNT(v.id) AS vacancies\n",
        "                    FROM vacancies AS v\n",
        "                    JOIN employers AS e ON v.employer_id = e.id\n",
        "                    GROUP BY e.name\n",
        "                    ORDER BY COUNT(v.id) DESC\n",
        "                    LIMIT 5\n",
        "                )\n",
        "\n",
        "                -- Выведем первую и пятую строки из новой таблицы\n",
        "                -- в порядке убывания числа вакансий\n",
        "                (SELECT * FROM top LIMIT 1)\n",
        "                UNION\n",
        "                (SELECT * FROM top LIMIT 1 OFFSET 4)\n",
        "                ORDER BY 2 DESC\n",
        "             '''"
      ]
    },
    {
      "cell_type": "code",
      "execution_count": 24,
      "id": "64tOMkAxqkQk",
      "metadata": {
        "id": "64tOMkAxqkQk"
      },
      "outputs": [
        {
          "data": {
            "text/plain": [
              "'Первая и пятая компания в ТОП-5 работодателей по количеству вакансий:'"
            ]
          },
          "metadata": {},
          "output_type": "display_data"
        },
        {
          "data": {
            "text/html": [
              "<div>\n",
              "<style scoped>\n",
              "    .dataframe tbody tr th:only-of-type {\n",
              "        vertical-align: middle;\n",
              "    }\n",
              "\n",
              "    .dataframe tbody tr th {\n",
              "        vertical-align: top;\n",
              "    }\n",
              "\n",
              "    .dataframe thead th {\n",
              "        text-align: right;\n",
              "    }\n",
              "</style>\n",
              "<table border=\"1\" class=\"dataframe\">\n",
              "  <thead>\n",
              "    <tr style=\"text-align: right;\">\n",
              "      <th></th>\n",
              "      <th>employer</th>\n",
              "      <th>vacancies</th>\n",
              "    </tr>\n",
              "  </thead>\n",
              "  <tbody>\n",
              "    <tr>\n",
              "      <th>0</th>\n",
              "      <td>Яндекс</td>\n",
              "      <td>1933</td>\n",
              "    </tr>\n",
              "    <tr>\n",
              "      <th>1</th>\n",
              "      <td>Газпром нефть</td>\n",
              "      <td>331</td>\n",
              "    </tr>\n",
              "  </tbody>\n",
              "</table>\n",
              "</div>"
            ],
            "text/plain": [
              "        employer  vacancies\n",
              "0         Яндекс       1933\n",
              "1  Газпром нефть        331"
            ]
          },
          "metadata": {},
          "output_type": "display_data"
        }
      ],
      "source": [
        "df = pd.read_sql_query(query_5_1, connection)\n",
        "display('Первая и пятая компания в ТОП-5 работодателей по количеству вакансий:', df)"
      ]
    },
    {
      "cell_type": "markdown",
      "id": "68377cfc-b378-43dc-ab7d-1195abf2c515",
      "metadata": {
        "id": "68377cfc-b378-43dc-ab7d-1195abf2c515"
      },
      "source": [
        "2. Напишите запрос, который для каждого региона выведет количество работодателей и вакансий в нём.\n",
        "Среди регионов, в которых нет вакансий, найдите тот, в котором наибольшее количество работодателей.\n"
      ]
    },
    {
      "cell_type": "code",
      "execution_count": 25,
      "id": "dd7df27a-e3e8-412e-a21a-5d389b71e891",
      "metadata": {
        "id": "dd7df27a-e3e8-412e-a21a-5d389b71e891"
      },
      "outputs": [],
      "source": [
        "query_5_2 = f'''WITH end_result AS\n",
        "                (   -- Составим таблицу из числа работодателей в каждом регионе\n",
        "                    WITH areas_employers AS\n",
        "                    (\n",
        "                        SELECT\n",
        "                            a.*,\n",
        "                            COUNT(e.id) AS num_of_employers\n",
        "                        FROM public.areas AS a\n",
        "                        LEFT JOIN public.employers AS e ON a.id = e.area\n",
        "                        GROUP BY a.id\n",
        "                        ORDER BY COUNT(e.id) DESC\n",
        "                    )\n",
        "                    \n",
        "                    -- К таблице с работодателями добавим количество вакансий\n",
        "                    -- в каждом регионе\n",
        "                    SELECT\n",
        "                        a.name,\n",
        "                        a.num_of_employers,\n",
        "                        COUNT(v.id) AS num_of_vacancies\n",
        "                    FROM areas_employers AS a\n",
        "                    LEFT JOIN public.vacancies AS v ON v.area_id = a.id\n",
        "                    GROUP BY a.name, a.num_of_employers\n",
        "                    ORDER BY a.num_of_employers DESC\n",
        "                )\n",
        "\n",
        "                -- Выведем полученный результат, объединив с ответом на вопрос:\n",
        "                -- в каком регионе нет вакансий, а число работодателей наибольшее?\n",
        "                SELECT *\n",
        "                FROM end_result AS e\n",
        "\n",
        "                UNION ALL\n",
        "\n",
        "                (SELECT\n",
        "                    e.name || ' - регион без вакансий с наибольшим числом работодателей' AS name,\n",
        "                    num_of_employers,\n",
        "                    num_of_vacancies\n",
        "                FROM end_result AS e\n",
        "                WHERE num_of_vacancies = 0\n",
        "                ORDER BY num_of_employers DESC\n",
        "                LIMIT 1)\n",
        "             '''"
      ]
    },
    {
      "cell_type": "code",
      "execution_count": 26,
      "id": "x1ikWbydrbf6",
      "metadata": {
        "id": "x1ikWbydrbf6"
      },
      "outputs": [
        {
          "data": {
            "text/plain": [
              "'Рейтинг регионов по количеству работодателей и вакансий:'"
            ]
          },
          "metadata": {},
          "output_type": "display_data"
        },
        {
          "data": {
            "text/html": [
              "<div>\n",
              "<style scoped>\n",
              "    .dataframe tbody tr th:only-of-type {\n",
              "        vertical-align: middle;\n",
              "    }\n",
              "\n",
              "    .dataframe tbody tr th {\n",
              "        vertical-align: top;\n",
              "    }\n",
              "\n",
              "    .dataframe thead th {\n",
              "        text-align: right;\n",
              "    }\n",
              "</style>\n",
              "<table border=\"1\" class=\"dataframe\">\n",
              "  <thead>\n",
              "    <tr style=\"text-align: right;\">\n",
              "      <th></th>\n",
              "      <th>name</th>\n",
              "      <th>num_of_employers</th>\n",
              "      <th>num_of_vacancies</th>\n",
              "    </tr>\n",
              "  </thead>\n",
              "  <tbody>\n",
              "    <tr>\n",
              "      <th>0</th>\n",
              "      <td>Москва</td>\n",
              "      <td>5864</td>\n",
              "      <td>5333</td>\n",
              "    </tr>\n",
              "    <tr>\n",
              "      <th>1</th>\n",
              "      <td>Санкт-Петербург</td>\n",
              "      <td>2217</td>\n",
              "      <td>2851</td>\n",
              "    </tr>\n",
              "    <tr>\n",
              "      <th>2</th>\n",
              "      <td>Минск</td>\n",
              "      <td>1115</td>\n",
              "      <td>2112</td>\n",
              "    </tr>\n",
              "    <tr>\n",
              "      <th>3</th>\n",
              "      <td>Алматы</td>\n",
              "      <td>721</td>\n",
              "      <td>1892</td>\n",
              "    </tr>\n",
              "    <tr>\n",
              "      <th>4</th>\n",
              "      <td>Екатеринбург</td>\n",
              "      <td>609</td>\n",
              "      <td>1698</td>\n",
              "    </tr>\n",
              "    <tr>\n",
              "      <th>...</th>\n",
              "      <td>...</td>\n",
              "      <td>...</td>\n",
              "      <td>...</td>\n",
              "    </tr>\n",
              "    <tr>\n",
              "      <th>1358</th>\n",
              "      <td>Кола</td>\n",
              "      <td>0</td>\n",
              "      <td>2</td>\n",
              "    </tr>\n",
              "    <tr>\n",
              "      <th>1359</th>\n",
              "      <td>Петропавловка (Республика Бурятия)</td>\n",
              "      <td>0</td>\n",
              "      <td>1</td>\n",
              "    </tr>\n",
              "    <tr>\n",
              "      <th>1360</th>\n",
              "      <td>Ключи (Алтайский край)</td>\n",
              "      <td>0</td>\n",
              "      <td>0</td>\n",
              "    </tr>\n",
              "    <tr>\n",
              "      <th>1361</th>\n",
              "      <td>Пикалево</td>\n",
              "      <td>0</td>\n",
              "      <td>1</td>\n",
              "    </tr>\n",
              "    <tr>\n",
              "      <th>1362</th>\n",
              "      <td>Россия - регион без вакансий с наибольшим числ...</td>\n",
              "      <td>410</td>\n",
              "      <td>0</td>\n",
              "    </tr>\n",
              "  </tbody>\n",
              "</table>\n",
              "<p>1363 rows × 3 columns</p>\n",
              "</div>"
            ],
            "text/plain": [
              "                                                   name  num_of_employers  \\\n",
              "0                                                Москва              5864   \n",
              "1                                       Санкт-Петербург              2217   \n",
              "2                                                 Минск              1115   \n",
              "3                                                Алматы               721   \n",
              "4                                          Екатеринбург               609   \n",
              "...                                                 ...               ...   \n",
              "1358                                               Кола                 0   \n",
              "1359                 Петропавловка (Республика Бурятия)                 0   \n",
              "1360                             Ключи (Алтайский край)                 0   \n",
              "1361                                           Пикалево                 0   \n",
              "1362  Россия - регион без вакансий с наибольшим числ...               410   \n",
              "\n",
              "      num_of_vacancies  \n",
              "0                 5333  \n",
              "1                 2851  \n",
              "2                 2112  \n",
              "3                 1892  \n",
              "4                 1698  \n",
              "...                ...  \n",
              "1358                 2  \n",
              "1359                 1  \n",
              "1360                 0  \n",
              "1361                 1  \n",
              "1362                 0  \n",
              "\n",
              "[1363 rows x 3 columns]"
            ]
          },
          "metadata": {},
          "output_type": "display_data"
        }
      ],
      "source": [
        "df = pd.read_sql_query(query_5_2, connection)\n",
        "display('Рейтинг регионов по количеству работодателей и вакансий:', df)"
      ]
    },
    {
      "cell_type": "markdown",
      "id": "f2fe0acb-ab1a-4e15-9326-2560e22d73c1",
      "metadata": {
        "id": "f2fe0acb-ab1a-4e15-9326-2560e22d73c1"
      },
      "source": [
        "3. Для каждого работодателя посчитайте количество регионов, в которых он публикует свои вакансии. Отсортируйте результат по убыванию количества.\n"
      ]
    },
    {
      "cell_type": "code",
      "execution_count": 27,
      "id": "6271f8ad-bd2e-4196-ae4a-5b39c4c1010e",
      "metadata": {
        "id": "6271f8ad-bd2e-4196-ae4a-5b39c4c1010e"
      },
      "outputs": [],
      "source": [
        "query_5_3 = f'''SELECT\n",
        "                    e.name AS employer,\n",
        "                    COUNT(DISTINCT v.area_id) AS num_of_areas\n",
        "                FROM vacancies AS v\n",
        "                JOIN employers AS e ON e.id = v.employer_id\n",
        "                GROUP BY v.employer_id, e.name\n",
        "                ORDER BY num_of_areas DESC\n",
        "             '''"
      ]
    },
    {
      "cell_type": "code",
      "execution_count": 28,
      "id": "1EIvX3HasH4F",
      "metadata": {
        "id": "1EIvX3HasH4F"
      },
      "outputs": [
        {
          "data": {
            "text/plain": [
              "'Рейтинг работодателей по количеству регионов, где они публикуют свои вакансии:'"
            ]
          },
          "metadata": {},
          "output_type": "display_data"
        },
        {
          "data": {
            "text/html": [
              "<div>\n",
              "<style scoped>\n",
              "    .dataframe tbody tr th:only-of-type {\n",
              "        vertical-align: middle;\n",
              "    }\n",
              "\n",
              "    .dataframe tbody tr th {\n",
              "        vertical-align: top;\n",
              "    }\n",
              "\n",
              "    .dataframe thead th {\n",
              "        text-align: right;\n",
              "    }\n",
              "</style>\n",
              "<table border=\"1\" class=\"dataframe\">\n",
              "  <thead>\n",
              "    <tr style=\"text-align: right;\">\n",
              "      <th></th>\n",
              "      <th>employer</th>\n",
              "      <th>num_of_areas</th>\n",
              "    </tr>\n",
              "  </thead>\n",
              "  <tbody>\n",
              "    <tr>\n",
              "      <th>0</th>\n",
              "      <td>Яндекс</td>\n",
              "      <td>181</td>\n",
              "    </tr>\n",
              "    <tr>\n",
              "      <th>1</th>\n",
              "      <td>Ростелеком</td>\n",
              "      <td>152</td>\n",
              "    </tr>\n",
              "    <tr>\n",
              "      <th>2</th>\n",
              "      <td>Спецремонт</td>\n",
              "      <td>116</td>\n",
              "    </tr>\n",
              "    <tr>\n",
              "      <th>3</th>\n",
              "      <td>Поляков Денис Иванович</td>\n",
              "      <td>88</td>\n",
              "    </tr>\n",
              "    <tr>\n",
              "      <th>4</th>\n",
              "      <td>ООО ЕФИН</td>\n",
              "      <td>71</td>\n",
              "    </tr>\n",
              "    <tr>\n",
              "      <th>...</th>\n",
              "      <td>...</td>\n",
              "      <td>...</td>\n",
              "    </tr>\n",
              "    <tr>\n",
              "      <th>14901</th>\n",
              "      <td>НПП Авиатрон</td>\n",
              "      <td>1</td>\n",
              "    </tr>\n",
              "    <tr>\n",
              "      <th>14902</th>\n",
              "      <td>Центр дистанционных торгов</td>\n",
              "      <td>1</td>\n",
              "    </tr>\n",
              "    <tr>\n",
              "      <th>14903</th>\n",
              "      <td>Городские Телекоммуникационные Системы</td>\n",
              "      <td>1</td>\n",
              "    </tr>\n",
              "    <tr>\n",
              "      <th>14904</th>\n",
              "      <td>Введенский, Отель</td>\n",
              "      <td>1</td>\n",
              "    </tr>\n",
              "    <tr>\n",
              "      <th>14905</th>\n",
              "      <td>Группа Компаний Автоимпорт</td>\n",
              "      <td>1</td>\n",
              "    </tr>\n",
              "  </tbody>\n",
              "</table>\n",
              "<p>14906 rows × 2 columns</p>\n",
              "</div>"
            ],
            "text/plain": [
              "                                     employer  num_of_areas\n",
              "0                                      Яндекс           181\n",
              "1                                  Ростелеком           152\n",
              "2                                  Спецремонт           116\n",
              "3                      Поляков Денис Иванович            88\n",
              "4                                   ООО ЕФИН             71\n",
              "...                                       ...           ...\n",
              "14901                            НПП Авиатрон             1\n",
              "14902              Центр дистанционных торгов             1\n",
              "14903  Городские Телекоммуникационные Системы             1\n",
              "14904                       Введенский, Отель             1\n",
              "14905              Группа Компаний Автоимпорт             1\n",
              "\n",
              "[14906 rows x 2 columns]"
            ]
          },
          "metadata": {},
          "output_type": "display_data"
        }
      ],
      "source": [
        "df = pd.read_sql_query(query_5_3, connection)\n",
        "display('Рейтинг работодателей по количеству регионов, где они публикуют свои вакансии:', df)"
      ]
    },
    {
      "cell_type": "markdown",
      "id": "eab2206d-d95b-468b-8e5f-34381abf0ce7",
      "metadata": {
        "id": "eab2206d-d95b-468b-8e5f-34381abf0ce7"
      },
      "source": [
        "4. Напишите запрос для подсчёта количества работодателей, у которых не указана сфера деятельности. "
      ]
    },
    {
      "cell_type": "code",
      "execution_count": 29,
      "id": "80defb23-bfb1-4a18-8be6-bf36aa7165d5",
      "metadata": {
        "id": "80defb23-bfb1-4a18-8be6-bf36aa7165d5"
      },
      "outputs": [],
      "source": [
        "query_5_4 = f'''SELECT\n",
        "                    COUNT (*)\n",
        "                FROM employers AS e\n",
        "                LEFT JOIN public.employers_industries AS ei ON ei.employer_id = e.id\n",
        "                WHERE ei.employer_id IS NULL\n",
        "             '''"
      ]
    },
    {
      "cell_type": "code",
      "execution_count": 30,
      "id": "Dp_yCx6ysQSu",
      "metadata": {
        "id": "Dp_yCx6ysQSu"
      },
      "outputs": [
        {
          "name": "stdout",
          "output_type": "stream",
          "text": [
            "Количество работодателей, не указавших сферу своей деятельности: 8419\n"
          ]
        }
      ],
      "source": [
        "df = pd.read_sql_query(query_5_4, connection)\n",
        "print('Количество работодателей, не указавших сферу своей деятельности:', df.iloc[0,0])"
      ]
    },
    {
      "cell_type": "markdown",
      "id": "0112af31-f6b0-4e3b-82ab-71296e752e5e",
      "metadata": {
        "id": "0112af31-f6b0-4e3b-82ab-71296e752e5e"
      },
      "source": [
        "5. Напишите запрос, чтобы узнать название компании, находящейся на третьем месте в алфавитном списке (по названию) компаний, у которых указано четыре сферы деятельности. "
      ]
    },
    {
      "cell_type": "code",
      "execution_count": 31,
      "id": "973b0cfc-a972-470a-8b4a-68744ef220c4",
      "metadata": {
        "id": "973b0cfc-a972-470a-8b4a-68744ef220c4"
      },
      "outputs": [],
      "source": [
        "query_5_5 = f'''SELECT\n",
        "                    e.name AS employer,\n",
        "                    COUNT(DISTINCT ei.industry_id) AS num_of_industries\n",
        "                FROM employers AS e\n",
        "                LEFT JOIN employers_industries AS ei ON ei.employer_id = e.id\n",
        "                WHERE ei.employer_id IS NOT NULL\n",
        "                GROUP BY e.id \n",
        "                HAVING COUNT(DISTINCT ei.industry_id) = 4\n",
        "                ORDER BY e.name\n",
        "                LIMIT 1 OFFSET 2\n",
        "             '''"
      ]
    },
    {
      "cell_type": "code",
      "execution_count": 32,
      "id": "xsPtpp8EsaED",
      "metadata": {
        "id": "xsPtpp8EsaED"
      },
      "outputs": [
        {
          "name": "stdout",
          "output_type": "stream",
          "text": [
            "Третье место в алфавитном списке компаний с четырьмя сферами деятельности принадлежит: 2ГИС\n"
          ]
        }
      ],
      "source": [
        "df = pd.read_sql_query(query_5_5, connection)\n",
        "print('Третье место в алфавитном списке компаний с четырьмя сферами деятельности принадлежит:', df.iloc[0,0])"
      ]
    },
    {
      "cell_type": "markdown",
      "id": "3bfcfdaf-755d-4d2b-8ed8-326201dc07ab",
      "metadata": {
        "id": "3bfcfdaf-755d-4d2b-8ed8-326201dc07ab"
      },
      "source": [
        "6. С помощью запроса выясните, у какого количества работодателей в качестве сферы деятельности указана Разработка программного обеспечения.\n"
      ]
    },
    {
      "cell_type": "code",
      "execution_count": 33,
      "id": "ad3f270f-2991-47eb-929b-e8f88a55b0d1",
      "metadata": {
        "id": "ad3f270f-2991-47eb-929b-e8f88a55b0d1"
      },
      "outputs": [],
      "source": [
        "query_5_6 = f'''SELECT\n",
        "                    COUNT(e.id) AS total_it_employers\n",
        "                FROM employers AS e\n",
        "                LEFT JOIN employers_industries AS ei ON ei.employer_id = e.id\n",
        "                JOIN public.industries AS i ON i.id = ei.industry_id\n",
        "                WHERE i.name = 'Разработка программного обеспечения'\n",
        "             '''"
      ]
    },
    {
      "cell_type": "code",
      "execution_count": 34,
      "id": "H72qxWM0shPR",
      "metadata": {
        "id": "H72qxWM0shPR"
      },
      "outputs": [
        {
          "name": "stdout",
          "output_type": "stream",
          "text": [
            "Количество работодателей, указавших \"Разработку программного обеспечения\" как сферу деятельности: 3553\n"
          ]
        }
      ],
      "source": [
        "df = pd.read_sql_query(query_5_6, connection)\n",
        "print('Количество работодателей, указавших \"Разработку программного обеспечения\" как сферу деятельности:',\n",
        "      df.iloc[0,0])"
      ]
    },
    {
      "cell_type": "markdown",
      "id": "7b02bb86-0546-40fb-94a4-242f050a5c57",
      "metadata": {
        "id": "7b02bb86-0546-40fb-94a4-242f050a5c57"
      },
      "source": [
        "7. Для компании «Яндекс» выведите список регионов-миллионников, в которых представлены вакансии компании, вместе с количеством вакансий в этих регионах. Также добавьте строку Total с общим количеством вакансий компании. Результат отсортируйте по возрастанию количества.\n",
        "\n",
        "Список городов-милионников надо взять [отсюда](https://ru.wikipedia.org/wiki/%D0%93%D0%BE%D1%80%D0%BE%D0%B4%D0%B0-%D0%BC%D0%B8%D0%BB%D0%BB%D0%B8%D0%BE%D0%BD%D0%B5%D1%80%D1%8B_%D0%A0%D0%BE%D1%81%D1%81%D0%B8%D0%B8). \n",
        "\n",
        "Если возникнут трудности с этим задание посмотрите материалы модуля  PYTHON-17. Как получать данные из веб-источников и API. "
      ]
    },
    {
      "cell_type": "code",
      "execution_count": 35,
      "id": "ZdfrL6gIs1Pn",
      "metadata": {
        "id": "ZdfrL6gIs1Pn"
      },
      "outputs": [],
      "source": [
        "# код для получения списка городов-милионников\n",
        "url = 'https://ru.wikipedia.org/wiki/%D0%93%D0%BE%D1%80%D0%BE%D0%B4%D0%B0-%D0%BC%D0%B8%D0%BB%D0%BB%D0%B8%D0%BE%D0%BD%D0%B5%D1%80%D1%8B_%D0%A0%D0%BE%D1%81%D1%81%D0%B8%D0%B8'\n",
        "response = requests.get(url)\n",
        "page = BeautifulSoup(response.text, 'html.parser')\n",
        "links = page.find_all('a') # Ищем все ссылки на странице и сохраняем в переменной links в виде списка\n",
        "\n",
        "# Оставим в списке только интересующие нас города\n",
        "mln_city_list = [link.text for link in links[45:62]]\n",
        "mln_city_list.remove('[a]')"
      ]
    },
    {
      "cell_type": "code",
      "execution_count": 36,
      "id": "5a0e32a4-e68a-4365-8a39-2fe24c542c36",
      "metadata": {
        "id": "5a0e32a4-e68a-4365-8a39-2fe24c542c36"
      },
      "outputs": [],
      "source": [
        "query_5_7 = f'''WITH yandex AS\n",
        "                (\n",
        "                    SELECT\n",
        "                        a.name AS area,\n",
        "                        COUNT(v.id) AS num_of_vacancies\n",
        "                    FROM vacancies AS v\n",
        "                    JOIN employers AS e ON e.id = v.employer_id\n",
        "                    JOIN areas AS a ON a.id = v.area_id\n",
        "                    WHERE e.name = 'Яндекс' AND a.name IN {tuple(mln_city_list)}\n",
        "                    GROUP BY a.name\n",
        "                    ORDER BY num_of_vacancies\n",
        "                )\n",
        "                \n",
        "                SELECT * FROM yandex\n",
        "                UNION ALL\n",
        "                SELECT 'Total', SUM(ya.num_of_vacancies)::int FROM yandex AS ya\n",
        "             '''"
      ]
    },
    {
      "cell_type": "code",
      "execution_count": 37,
      "id": "ttPhiO1rsvPq",
      "metadata": {
        "id": "ttPhiO1rsvPq"
      },
      "outputs": [
        {
          "data": {
            "text/plain": [
              "'Количество вакансий \"Яндекса\" в городах-миллионниках:'"
            ]
          },
          "metadata": {},
          "output_type": "display_data"
        },
        {
          "data": {
            "text/html": [
              "<div>\n",
              "<style scoped>\n",
              "    .dataframe tbody tr th:only-of-type {\n",
              "        vertical-align: middle;\n",
              "    }\n",
              "\n",
              "    .dataframe tbody tr th {\n",
              "        vertical-align: top;\n",
              "    }\n",
              "\n",
              "    .dataframe thead th {\n",
              "        text-align: right;\n",
              "    }\n",
              "</style>\n",
              "<table border=\"1\" class=\"dataframe\">\n",
              "  <thead>\n",
              "    <tr style=\"text-align: right;\">\n",
              "      <th></th>\n",
              "      <th>area</th>\n",
              "      <th>num_of_vacancies</th>\n",
              "    </tr>\n",
              "  </thead>\n",
              "  <tbody>\n",
              "    <tr>\n",
              "      <th>0</th>\n",
              "      <td>Омск</td>\n",
              "      <td>21</td>\n",
              "    </tr>\n",
              "    <tr>\n",
              "      <th>1</th>\n",
              "      <td>Челябинск</td>\n",
              "      <td>22</td>\n",
              "    </tr>\n",
              "    <tr>\n",
              "      <th>2</th>\n",
              "      <td>Красноярск</td>\n",
              "      <td>23</td>\n",
              "    </tr>\n",
              "    <tr>\n",
              "      <th>3</th>\n",
              "      <td>Волгоград</td>\n",
              "      <td>24</td>\n",
              "    </tr>\n",
              "    <tr>\n",
              "      <th>4</th>\n",
              "      <td>Пермь</td>\n",
              "      <td>25</td>\n",
              "    </tr>\n",
              "    <tr>\n",
              "      <th>5</th>\n",
              "      <td>Казань</td>\n",
              "      <td>25</td>\n",
              "    </tr>\n",
              "    <tr>\n",
              "      <th>6</th>\n",
              "      <td>Ростов-на-Дону</td>\n",
              "      <td>25</td>\n",
              "    </tr>\n",
              "    <tr>\n",
              "      <th>7</th>\n",
              "      <td>Уфа</td>\n",
              "      <td>26</td>\n",
              "    </tr>\n",
              "    <tr>\n",
              "      <th>8</th>\n",
              "      <td>Самара</td>\n",
              "      <td>26</td>\n",
              "    </tr>\n",
              "    <tr>\n",
              "      <th>9</th>\n",
              "      <td>Краснодар</td>\n",
              "      <td>30</td>\n",
              "    </tr>\n",
              "    <tr>\n",
              "      <th>10</th>\n",
              "      <td>Воронеж</td>\n",
              "      <td>32</td>\n",
              "    </tr>\n",
              "    <tr>\n",
              "      <th>11</th>\n",
              "      <td>Новосибирск</td>\n",
              "      <td>35</td>\n",
              "    </tr>\n",
              "    <tr>\n",
              "      <th>12</th>\n",
              "      <td>Нижний Новгород</td>\n",
              "      <td>36</td>\n",
              "    </tr>\n",
              "    <tr>\n",
              "      <th>13</th>\n",
              "      <td>Екатеринбург</td>\n",
              "      <td>39</td>\n",
              "    </tr>\n",
              "    <tr>\n",
              "      <th>14</th>\n",
              "      <td>Санкт-Петербург</td>\n",
              "      <td>42</td>\n",
              "    </tr>\n",
              "    <tr>\n",
              "      <th>15</th>\n",
              "      <td>Москва</td>\n",
              "      <td>54</td>\n",
              "    </tr>\n",
              "    <tr>\n",
              "      <th>16</th>\n",
              "      <td>Total</td>\n",
              "      <td>485</td>\n",
              "    </tr>\n",
              "  </tbody>\n",
              "</table>\n",
              "</div>"
            ],
            "text/plain": [
              "               area  num_of_vacancies\n",
              "0              Омск                21\n",
              "1         Челябинск                22\n",
              "2        Красноярск                23\n",
              "3         Волгоград                24\n",
              "4             Пермь                25\n",
              "5            Казань                25\n",
              "6    Ростов-на-Дону                25\n",
              "7               Уфа                26\n",
              "8            Самара                26\n",
              "9         Краснодар                30\n",
              "10          Воронеж                32\n",
              "11      Новосибирск                35\n",
              "12  Нижний Новгород                36\n",
              "13     Екатеринбург                39\n",
              "14  Санкт-Петербург                42\n",
              "15           Москва                54\n",
              "16            Total               485"
            ]
          },
          "metadata": {},
          "output_type": "display_data"
        }
      ],
      "source": [
        "df = pd.read_sql_query(query_5_7, connection)\n",
        "display('Количество вакансий \"Яндекса\" в городах-миллионниках:', df)"
      ]
    },
    {
      "cell_type": "markdown",
      "id": "04966e40-3bc3-4dc8-9ba2-e80580ce3abc",
      "metadata": {
        "id": "04966e40-3bc3-4dc8-9ba2-e80580ce3abc"
      },
      "source": [
        "***"
      ]
    },
    {
      "attachments": {},
      "cell_type": "markdown",
      "id": "0132941d",
      "metadata": {},
      "source": [
        "**Выводы по анализу работодателей:**  \n",
        "1. Пятерку работодателей по количеству вакансий открывает Яндекс, чье количество предложений о работе - 1933 - почти в полтора раза превышает сумму вакансий у остальных членов ТОП-5 (для которых медианой является 444 вакансии). Замыкает пятерку Газпром нефть с 331 открытой позицией.  \n",
        "\n",
        "2. Как и в случае с количеством вакансий в предыдущем разделе исследования, тройку городов-лидеров по числу работодателей представляют Москва, Санкт-Петербург и Минск. А регионом, где вакансии отсутствуют, но зарегистрировано наибольшее число работодателей (410) стал регион Россия.  \n",
        "\n",
        "3. Наиболее широкой географией по поиску сотрудников могут похвастаться Яндекс, Ростелеком и Спецремонт. Их вакансии представлены в 181, 152 и 116 регионах соответственно. Примечательно, что в отличии от первых двух компаний, входящих в ТОП-5 по числу вакансий, Спецремонт находится по этому показателю лишь на 15 месте (у компании всего 151 открытая позиция). Таким образом, Спецремонт при относительно небольшом количестве вакансий охватывает довольно значительную территорию.  \n",
        "\n",
        "4. Из всех компаний, представленных в базе данных (23,5 тыс.) более трети (8,4 тыс.) не указали сферу своей деятельности, что может негативно повлиять на поиск их вакансий потенциальными работниками.  \n",
        "\n",
        "5. Максимальное количество сфер деятельности, в которых представленные компании ведут свой бизнес - 5 (к этой группе отноится Тинькофф), медианное значение этого показателя - 2. В список компаний с 4-мя сферами бизнеса вошла компания 2ГИС, принадлежащая Сбербанку. При этом у самого СБЕРа лишь одна сфера деятельности.  \n",
        "\n",
        "6. Разработкой программного обеспечения занимаются 15% всех работодателей (3553 компании). Однако вполне возможно, что количество таких компаний в действительности больше, т.к. не все работодатели указали сферу свой деятельности.  \n",
        "\n",
        "7. Четверть всех вакансий (485 из 1933) лидера по этому показателю - Яндекса - приходится на города-миллионники России. При этом медианное количество открытых позиций в этих городах - 26, а среднее (из-за вхождения Москвы, Питера и нескольких других крупных городов) - 30. Это указывает на  то, что география привлечения сотрудников Яндексом очень широкая, а количество вакансий (и, вероятно, их разноплановость) этой географией определяются в незначительной степени.  "
      ]
    },
    {
      "cell_type": "markdown",
      "id": "b1ef156a-efcb-49ce-bb23-90763e7f35b2",
      "metadata": {
        "id": "b1ef156a-efcb-49ce-bb23-90763e7f35b2",
        "tags": []
      },
      "source": [
        "# Юнит 6. Предметный анализ"
      ]
    },
    {
      "cell_type": "markdown",
      "id": "b9cd50a0-992d-4988-8463-2b2b1c4629b4",
      "metadata": {
        "id": "b9cd50a0-992d-4988-8463-2b2b1c4629b4"
      },
      "source": [
        "1. Сколько вакансий имеет отношение к данным?\n",
        "\n",
        "Считаем, что вакансия имеет отношение к данным, если в её названии содержатся слова 'data' или 'данн'.\n",
        "\n",
        "*Подсказка: Обратите внимание, что названия вакансий могут быть написаны в любом регистре.* \n"
      ]
    },
    {
      "cell_type": "code",
      "execution_count": 38,
      "id": "54ab0e50-c0f1-47cc-a54b-bc5c8bc363f9",
      "metadata": {
        "id": "54ab0e50-c0f1-47cc-a54b-bc5c8bc363f9"
      },
      "outputs": [],
      "source": [
        "query_6_1 = f'''SELECT\n",
        "                    COUNT(id)\n",
        "                FROM vacancies\n",
        "                WHERE lower(name) LIKE '%data%' OR lower(name) LIKE '%данн%'\n",
        "             '''"
      ]
    },
    {
      "cell_type": "code",
      "execution_count": 39,
      "id": "9F1meAqsuUjd",
      "metadata": {
        "id": "9F1meAqsuUjd"
      },
      "outputs": [
        {
          "name": "stdout",
          "output_type": "stream",
          "text": [
            "Количество вакансий, имеющих отношение к данным: 1771\n"
          ]
        }
      ],
      "source": [
        "df = pd.read_sql_query(query_6_1, connection)\n",
        "print('Количество вакансий, имеющих отношение к данным:', df.iloc[0,0])"
      ]
    },
    {
      "cell_type": "markdown",
      "id": "4dea20cb-a36b-474a-a0b9-e08e8e3857a5",
      "metadata": {
        "id": "4dea20cb-a36b-474a-a0b9-e08e8e3857a5"
      },
      "source": [
        "2. Сколько есть подходящих вакансий для начинающего дата-сайентиста? \n",
        "Будем считать вакансиями для дата-сайентистов такие, в названии которых есть хотя бы одно из следующих сочетаний:\n",
        "* 'data scientist'\n",
        "* 'data science'\n",
        "* 'исследователь данных'\n",
        "* 'ML' (здесь не нужно брать вакансии по HTML)\n",
        "* 'machine learning'\n",
        "* 'машинн%обучен%'\n",
        "\n",
        "** В следующих заданиях мы продолжим работать с вакансиями по этому условию.*\n",
        "\n",
        "Считаем вакансиями для специалистов уровня Junior следующие:\n",
        "* в названии есть слово 'junior' *или*\n",
        "* требуемый опыт — Нет опыта *или*\n",
        "* тип трудоустройства — Стажировка.\n",
        " "
      ]
    },
    {
      "cell_type": "code",
      "execution_count": 40,
      "id": "9c61b3c0-bb66-46c9-ae1e-81d3f5752b4a",
      "metadata": {
        "id": "9c61b3c0-bb66-46c9-ae1e-81d3f5752b4a"
      },
      "outputs": [],
      "source": [
        "query_6_2 = f'''SELECT\n",
        "                    COUNT(id)\n",
        "                FROM vacancies\n",
        "                WHERE (lower(name) LIKE '%data scientist%'\n",
        "                    OR lower(name) LIKE '%data science%'\n",
        "                    OR lower(name) LIKE '%исследователь данных%'\n",
        "                    OR (name LIKE '%ML%' AND name NOT LIKE '%HTML%')\n",
        "                    OR lower(name) LIKE '%machine learning%'\n",
        "                    OR lower(name) LIKE '%машинн%обучен%')\n",
        "                    AND (lower(name) LIKE '%junior%'\n",
        "                    OR experience = 'Нет опыта'\n",
        "                    OR employment = 'Стажировка')\n",
        "             '''"
      ]
    },
    {
      "cell_type": "code",
      "execution_count": 41,
      "id": "ZNM-LLYuu1dj",
      "metadata": {
        "id": "ZNM-LLYuu1dj"
      },
      "outputs": [
        {
          "name": "stdout",
          "output_type": "stream",
          "text": [
            "Количество вакансий для начинающих дата-сайентистов: 51\n"
          ]
        }
      ],
      "source": [
        "df = pd.read_sql_query(query_6_2, connection)\n",
        "print('Количество вакансий для начинающих дата-сайентистов:', df.iloc[0,0])"
      ]
    },
    {
      "cell_type": "markdown",
      "id": "eedceb80-c5ca-480e-b27a-278dfb8b4438",
      "metadata": {
        "id": "eedceb80-c5ca-480e-b27a-278dfb8b4438"
      },
      "source": [
        "3. Сколько есть вакансий для DS, в которых в качестве ключевого навыка указан SQL или postgres?\n",
        "\n",
        "** Критерии для отнесения вакансии к DS указаны в предыдущем задании.*"
      ]
    },
    {
      "cell_type": "code",
      "execution_count": 42,
      "id": "69621713-0cc5-4f1b-a1d7-bb144fa6148c",
      "metadata": {
        "id": "69621713-0cc5-4f1b-a1d7-bb144fa6148c"
      },
      "outputs": [],
      "source": [
        "query_6_3 = f'''SELECT\n",
        "                    COUNT(id)\n",
        "                FROM vacancies\n",
        "                WHERE (lower(name) LIKE '%data scientist%'\n",
        "                    OR lower(name) LIKE '%data science%'\n",
        "                    OR lower(name) LIKE '%исследователь данных%'\n",
        "                    OR (name LIKE '%ML%' AND name NOT LIKE '%HTML%')\n",
        "                    OR lower(name) LIKE '%machine learning%'\n",
        "                    OR lower(name) LIKE '%машинн%обучен%')\n",
        "                    AND (key_skills LIKE '%SQL%'\n",
        "                    OR key_skills LIKE '%postgres%')\n",
        "             '''\n"
      ]
    },
    {
      "cell_type": "code",
      "execution_count": 43,
      "id": "alA8WEAAvGdf",
      "metadata": {
        "id": "alA8WEAAvGdf"
      },
      "outputs": [
        {
          "name": "stdout",
          "output_type": "stream",
          "text": [
            "Количество вакансий, в которых SQL или postgres указаны в качестве ключевых навыков: 201\n"
          ]
        }
      ],
      "source": [
        "df = pd.read_sql_query(query_6_3, connection)\n",
        "print('Количество вакансий, в которых SQL или postgres указаны в качестве ключевых навыков:', df.iloc[0,0])"
      ]
    },
    {
      "cell_type": "markdown",
      "id": "1be1e9c6-37cf-4a5f-bfeb-04cab799dc80",
      "metadata": {
        "id": "1be1e9c6-37cf-4a5f-bfeb-04cab799dc80"
      },
      "source": [
        "4. Проверьте, насколько популярен Python в требованиях работодателей к DS.Для этого вычислите количество вакансий, в которых в качестве ключевого навыка указан Python.\n",
        "\n",
        "** Это можно сделать помощью запроса, аналогичного предыдущему.*"
      ]
    },
    {
      "cell_type": "code",
      "execution_count": 44,
      "id": "0036a355-9ccf-4564-8b01-73d8194297e7",
      "metadata": {
        "id": "0036a355-9ccf-4564-8b01-73d8194297e7"
      },
      "outputs": [],
      "source": [
        "query_6_4 = f'''SELECT\n",
        "                    COUNT(id)\n",
        "                FROM vacancies\n",
        "                WHERE (lower(name) LIKE '%data scientist%'\n",
        "                    OR lower(name) LIKE '%data science%'\n",
        "                    OR lower(name) LIKE '%исследователь данных%'\n",
        "                    OR (name LIKE '%ML%' AND name NOT LIKE '%HTML%')\n",
        "                    OR lower(name) LIKE '%machine learning%'\n",
        "                    OR lower(name) LIKE '%машинн%обучен%')\n",
        "                    AND (key_skills LIKE '%Python%')\n",
        "             '''"
      ]
    },
    {
      "cell_type": "code",
      "execution_count": 45,
      "id": "1i-5WyucvQ6v",
      "metadata": {
        "id": "1i-5WyucvQ6v"
      },
      "outputs": [
        {
          "name": "stdout",
          "output_type": "stream",
          "text": [
            "Количество вакансий, в которых Python указан в качестве ключевого навыка: 351\n"
          ]
        }
      ],
      "source": [
        "df = pd.read_sql_query(query_6_4, connection)\n",
        "print('Количество вакансий, в которых Python указан в качестве ключевого навыка:', df.iloc[0,0])"
      ]
    },
    {
      "cell_type": "markdown",
      "id": "ec3c8db7-fa21-4a41-a994-1af63742a642",
      "metadata": {
        "id": "ec3c8db7-fa21-4a41-a994-1af63742a642"
      },
      "source": [
        "5. Сколько ключевых навыков в среднем указывают в вакансиях для DS?\n",
        "Ответ округлите до двух знаков после точки-разделителя."
      ]
    },
    {
      "cell_type": "code",
      "execution_count": 46,
      "id": "949132bc-d5b6-4611-8218-0b9a504d74f4",
      "metadata": {
        "id": "949132bc-d5b6-4611-8218-0b9a504d74f4"
      },
      "outputs": [],
      "source": [
        "query_6_5 = f'''SELECT\n",
        "                    -- Для расчета количества навыков, отделенных символом\n",
        "                    -- табуляции, вычтем из исходной строки строку с\n",
        "                    -- удаленными знаками табуляции (и добавим единицу),\n",
        "                    -- округлим до двух знаков после запятой.\n",
        "                    ROUND(AVG(\n",
        "                        char_length(key_skills)\n",
        "                        - char_length(replace(key_skills, '\\t', '')) + 1\n",
        "                    ),2) AS avg_num_of_skills\n",
        "                FROM vacancies\n",
        "                WHERE (lower(name) LIKE '%data scientist%'\n",
        "                    OR lower(name) LIKE '%data science%'\n",
        "                    OR lower(name) LIKE '%исследователь данных%'\n",
        "                    OR (name LIKE '%ML%' AND name NOT LIKE '%HTML%')\n",
        "                    OR lower(name) LIKE '%machine learning%'\n",
        "                    OR lower(name) LIKE '%машинн%обучен%')\n",
        "                    AND key_skills IS NOT NULL\n",
        "             '''"
      ]
    },
    {
      "cell_type": "code",
      "execution_count": 47,
      "id": "a3V24Tvmviqk",
      "metadata": {
        "id": "a3V24Tvmviqk"
      },
      "outputs": [
        {
          "name": "stdout",
          "output_type": "stream",
          "text": [
            "Среднее количество навыков в вакансиях для DS: 6.41\n"
          ]
        }
      ],
      "source": [
        "df = pd.read_sql_query(query_6_5, connection)\n",
        "print('Среднее количество навыков в вакансиях для DS:', df.iloc[0,0])"
      ]
    },
    {
      "attachments": {},
      "cell_type": "markdown",
      "id": "1041c17a-ca8f-4543-a0ca-32778914fb00",
      "metadata": {
        "id": "1041c17a-ca8f-4543-a0ca-32778914fb00"
      },
      "source": [
        "6. Напишите запрос, позволяющий вычислить, какую зарплату для DS в **среднем** указывают для каждого типа требуемого опыта (уникальное значение из поля *experience*).   \n",
        "  \n",
        "При решении задачи примите во внимание следующее:  \n",
        "1. Рассматриваем только вакансии, у которых заполнено хотя бы одно из двух полей с зарплатой.\n",
        "2. Если заполнены оба поля с зарплатой, то считаем зарплату по каждой вакансии как сумму двух полей, делённую на 2. Если заполнено только одно из полей, то его и считаем зарплатой по вакансии.\n",
        "3. Если в расчётах участвует null, в результате он тоже даст null (посмотрите, что возвращает запрос select 1 + null). Чтобы избежать этой ситуацию, мы воспользуемся функцией [coalesce](https://postgrespro.ru/docs/postgresql/9.5/functions-conditional#functions-coalesce-nvl-ifnull), которая заменит null на значение, которое мы передадим. Например, посмотрите, что возвращает запрос `select 1 + coalesce(null, 0)`\n",
        "\n",
        "Выясните, на какую зарплату в среднем может рассчитывать дата-сайентист с опытом работы от 3 до 6 лет. Результат округлите до целого числа. "
      ]
    },
    {
      "cell_type": "code",
      "execution_count": 48,
      "id": "6a743d39-5204-48d3-8271-b9f88e68d40e",
      "metadata": {
        "id": "6a743d39-5204-48d3-8271-b9f88e68d40e"
      },
      "outputs": [],
      "source": [
        "query_6_6 = f'''SELECT DISTINCT\n",
        "                    experience,\n",
        "                    ROUND(AVG(\n",
        "                        (coalesce(salary_from, salary_to)   -- Если не указана начальная зарплата, то подставим максимальную\n",
        "                        + coalesce(salary_to, salary_from)) -- Если не указана максимальная, то подставим начальную\n",
        "                        /2),0)::int AS avg_salary           -- Тогда при делении на 2, получим ее же; округлим, отбросим десятичную часть\n",
        "                FROM vacancies\n",
        "                WHERE (lower(name) LIKE '%data scientist%'\n",
        "                    OR lower(name) LIKE '%data science%'\n",
        "                    OR lower(name) LIKE '%исследователь данных%'\n",
        "                    OR (name LIKE '%ML%' AND name NOT LIKE '%HTML%')\n",
        "                    OR lower(name) LIKE '%machine learning%'\n",
        "                    OR lower(name) LIKE '%машинн%обучен%')\n",
        "                    AND (salary_from IS NOT NULL\n",
        "                        OR salary_to IS NOT NULL)\n",
        "                GROUP BY experience\n",
        "             '''"
      ]
    },
    {
      "cell_type": "code",
      "execution_count": 49,
      "id": "aRIJ0mZEwU1_",
      "metadata": {
        "id": "aRIJ0mZEwU1_"
      },
      "outputs": [
        {
          "data": {
            "text/plain": [
              "'Средние зарплаты дата-сайентистов в зависимости от опыта работы:'"
            ]
          },
          "metadata": {},
          "output_type": "display_data"
        },
        {
          "data": {
            "text/html": [
              "<div>\n",
              "<style scoped>\n",
              "    .dataframe tbody tr th:only-of-type {\n",
              "        vertical-align: middle;\n",
              "    }\n",
              "\n",
              "    .dataframe tbody tr th {\n",
              "        vertical-align: top;\n",
              "    }\n",
              "\n",
              "    .dataframe thead th {\n",
              "        text-align: right;\n",
              "    }\n",
              "</style>\n",
              "<table border=\"1\" class=\"dataframe\">\n",
              "  <thead>\n",
              "    <tr style=\"text-align: right;\">\n",
              "      <th></th>\n",
              "      <th>experience</th>\n",
              "      <th>avg_salary</th>\n",
              "    </tr>\n",
              "  </thead>\n",
              "  <tbody>\n",
              "    <tr>\n",
              "      <th>0</th>\n",
              "      <td>Нет опыта</td>\n",
              "      <td>74643</td>\n",
              "    </tr>\n",
              "    <tr>\n",
              "      <th>1</th>\n",
              "      <td>От 1 года до 3 лет</td>\n",
              "      <td>139675</td>\n",
              "    </tr>\n",
              "    <tr>\n",
              "      <th>2</th>\n",
              "      <td>От 3 до 6 лет</td>\n",
              "      <td>243115</td>\n",
              "    </tr>\n",
              "  </tbody>\n",
              "</table>\n",
              "</div>"
            ],
            "text/plain": [
              "           experience  avg_salary\n",
              "0           Нет опыта       74643\n",
              "1  От 1 года до 3 лет      139675\n",
              "2       От 3 до 6 лет      243115"
            ]
          },
          "metadata": {},
          "output_type": "display_data"
        }
      ],
      "source": [
        "df = pd.read_sql_query(query_6_6, connection)\n",
        "display('Средние зарплаты дата-сайентистов в зависимости от опыта работы:', df)"
      ]
    },
    {
      "cell_type": "markdown",
      "id": "6a7892b4-4113-4746-adce-18aa2844f18e",
      "metadata": {
        "id": "6a7892b4-4113-4746-adce-18aa2844f18e"
      },
      "source": [
        "***"
      ]
    },
    {
      "attachments": {},
      "cell_type": "markdown",
      "id": "1bfeb112",
      "metadata": {},
      "source": [
        "**Выводы по предметному анализу:**  \n",
        "\n",
        "1.  В исследуемой базе данных содержится 1771 вакансия, имеющая отношения к анализу данных, что составляет 3,5% от общего количества вакансий.  \n",
        "\n",
        "2. И лишь около 3% (или 51 вакансия) из этого числа подходят для начинающих дата-сайентистов, что в масштабе всей базы вакансий не превышает и 1%! Таким образом, несмотря на популярность области data science, начинающему специалисту довольно сложно найти первую работу.  \n",
        "\n",
        "3. Владение SQL или PostgreSQL ожидается от потенциальных сотрудников в 201 вакансии. Представляя собой лишь 11% всех DS-вакансий, это число указывает на то, что у этих работодателей данные уже собраны в файлах типа .csv или что в штате есть профильные специалисты, готовые по требованию сформировать запрос к базе данных. Другим объяснением может быть то, что от дата сайентиста ожидается, что он будет собирать данные главным образом с помощью парсинга сайтов, либо заниматься искллючительно разработкой моделей машинного обучения на готовых данных. Кроме этого, без учета требования к стажу, можно предположить, что на позициях ведущего дата-сайентиста (senior или lead) компании меньше всего ожидают от своих сотрудников умения составлять SQL-запросы. В любом случае, даже базовые знания SQL (которые могут никогда не пригодится в работе) позволят кандидату указать этот навык в своем резюме, что при прочих равных поднимет его в глазах работодателя по сравнению с другими соискателями.  \n",
        "\n",
        "4. Знание Python является ключевым навыком в чуть большем количестве DS-вакансий (351) и представляет собой почти 20% от всего числа профильных. Интересно отметить, что в половине этих вакансий другим ключевым навыком также указан SQL или PostgreSQL, а в другой половине не указан ни один. Можно заключить, что связка Python-SQL является чрезвычайно популярной у работодателей. А вот если в предыдущем пункте исследования ужесточить требования и отбросить навыки программирования на таких языках, как Python, C++ и Java, то вакансий с ключевыми навыками SQL или PostgreSQL окажется лишь 25 (1,5%). Напрашивается очевидный вывод: работа в Data Science области возможна без знания SQL, но вряд ли возможна без знания языков программирования.  \n",
        "\n",
        "5. С учетом того, что среднее число навыков в вакансиях по DS равно 6.41, то указание в своем резюме лишь двух (Python и SQL) позволяет кандидату на треть соотвествовать требованиям работодателя (без оценки качества и глубины этих знаний). А при получении последующих знаний и навыков работы с моделями машинного обучения соискатель значительно повысит свои шансы в глазах работодателя, тем более если работодатель использует программные алгоритмы отбора резюме.  \n",
        "\n",
        "6. Несмотря на низкий процент вакансий для начинающих дата-сайентистов, их средняя заработная плата может составлять почти 75 тыс. руб. При этом лишь спустя год работы специалист может рассчитывать на увеличение зарплаты на 50% - почти до 140 тыс., а спустя еще 2 года работы - почти на 60%, до 243 тыс. (в среднем по всем проанализированым вакансиям). Таким образом, область DS предлагает не только достойное вознаграждение на старте, но и быстрое продвижение по карьерной лестнице."
      ]
    },
    {
      "attachments": {},
      "cell_type": "markdown",
      "id": "804f3573",
      "metadata": {},
      "source": [
        "# Юнит 7. Дополнительный анализ: сферы деятельности"
      ]
    },
    {
      "attachments": {},
      "cell_type": "markdown",
      "id": "60e296df",
      "metadata": {},
      "source": [
        "1. Вначале дополним юнит предварительного анализа и узнаем, какое количество работодателей в настоящее время размещает вакансии."
      ]
    },
    {
      "cell_type": "code",
      "execution_count": 50,
      "id": "e80eaf93",
      "metadata": {},
      "outputs": [],
      "source": [
        "query_7_1 = f'''SELECT\n",
        "                    COUNT(DISTINCT employer_id) AS employers_with_vacancies\n",
        "                FROM vacancies\n",
        "             '''"
      ]
    },
    {
      "cell_type": "code",
      "execution_count": 51,
      "id": "7dcd6404",
      "metadata": {},
      "outputs": [
        {
          "name": "stdout",
          "output_type": "stream",
          "text": [
            "Все вакансии в базе данных относятся к 14906 работодателям.\n"
          ]
        }
      ],
      "source": [
        "df = pd.read_sql_query(query_7_1, connection)\n",
        "print(f'Все вакансии в базе данных относятся к {df.iloc[0,0]} работодателям.')"
      ]
    },
    {
      "attachments": {},
      "cell_type": "markdown",
      "id": "d3df8ec7",
      "metadata": {},
      "source": [
        "2. Посмотрим, в каких сферах деятельности представлено больше всего работодателей, а также вакансий. Отсортируем список по количеству вакансий в порядке убывания."
      ]
    },
    {
      "cell_type": "code",
      "execution_count": 52,
      "id": "228ce1f8",
      "metadata": {},
      "outputs": [],
      "source": [
        "query_7_2 = f'''SELECT\n",
        "                    i.name AS industry,\n",
        "                    COUNT(DISTINCT ei.employer_id) AS num_of_employers,\n",
        "                    COUNT(v.id) AS num_of_vacancies\n",
        "                FROM industries AS i\n",
        "                LEFT JOIN employers_industries AS ei ON ei.industry_id = i.id\n",
        "                LEFT JOIN employers AS e ON e.id = ei.employer_id\n",
        "                LEFT JOIN vacancies AS v ON v.employer_id = e.id\n",
        "                GROUP BY i.name\n",
        "                ORDER BY COUNT(v.id) DESC\n",
        "             '''"
      ]
    },
    {
      "cell_type": "code",
      "execution_count": 53,
      "id": "20106f88",
      "metadata": {},
      "outputs": [
        {
          "data": {
            "text/plain": [
              "'Рейтинг сфер деятельности по количеству работодателей и вакансий:'"
            ]
          },
          "metadata": {},
          "output_type": "display_data"
        },
        {
          "data": {
            "text/html": [
              "<div>\n",
              "<style scoped>\n",
              "    .dataframe tbody tr th:only-of-type {\n",
              "        vertical-align: middle;\n",
              "    }\n",
              "\n",
              "    .dataframe tbody tr th {\n",
              "        vertical-align: top;\n",
              "    }\n",
              "\n",
              "    .dataframe thead th {\n",
              "        text-align: right;\n",
              "    }\n",
              "</style>\n",
              "<table border=\"1\" class=\"dataframe\">\n",
              "  <thead>\n",
              "    <tr style=\"text-align: right;\">\n",
              "      <th></th>\n",
              "      <th>industry</th>\n",
              "      <th>num_of_employers</th>\n",
              "      <th>num_of_vacancies</th>\n",
              "    </tr>\n",
              "  </thead>\n",
              "  <tbody>\n",
              "    <tr>\n",
              "      <th>0</th>\n",
              "      <td>Разработка программного обеспечения</td>\n",
              "      <td>3553</td>\n",
              "      <td>12499</td>\n",
              "    </tr>\n",
              "    <tr>\n",
              "      <th>1</th>\n",
              "      <td>Системная интеграция,  автоматизации технологи...</td>\n",
              "      <td>2993</td>\n",
              "      <td>11034</td>\n",
              "    </tr>\n",
              "    <tr>\n",
              "      <th>2</th>\n",
              "      <td>Интернет-компания (поисковики, платежные систе...</td>\n",
              "      <td>1675</td>\n",
              "      <td>6413</td>\n",
              "    </tr>\n",
              "    <tr>\n",
              "      <th>3</th>\n",
              "      <td>Банк</td>\n",
              "      <td>249</td>\n",
              "      <td>2742</td>\n",
              "    </tr>\n",
              "    <tr>\n",
              "      <th>4</th>\n",
              "      <td>Мобильная связь</td>\n",
              "      <td>156</td>\n",
              "      <td>1585</td>\n",
              "    </tr>\n",
              "    <tr>\n",
              "      <th>...</th>\n",
              "      <td>...</td>\n",
              "      <td>...</td>\n",
              "      <td>...</td>\n",
              "    </tr>\n",
              "    <tr>\n",
              "      <th>289</th>\n",
              "      <td>Химчистка</td>\n",
              "      <td>7</td>\n",
              "      <td>4</td>\n",
              "    </tr>\n",
              "    <tr>\n",
              "      <th>290</th>\n",
              "      <td>Ассоциация в сфере культуры, искусства</td>\n",
              "      <td>1</td>\n",
              "      <td>2</td>\n",
              "    </tr>\n",
              "    <tr>\n",
              "      <th>291</th>\n",
              "      <td>Автошкола</td>\n",
              "      <td>3</td>\n",
              "      <td>1</td>\n",
              "    </tr>\n",
              "    <tr>\n",
              "      <th>292</th>\n",
              "      <td>Ритуальные услуги</td>\n",
              "      <td>4</td>\n",
              "      <td>1</td>\n",
              "    </tr>\n",
              "    <tr>\n",
              "      <th>293</th>\n",
              "      <td>Ботанический сад, зоопарк, заповедник</td>\n",
              "      <td>3</td>\n",
              "      <td>0</td>\n",
              "    </tr>\n",
              "  </tbody>\n",
              "</table>\n",
              "<p>294 rows × 3 columns</p>\n",
              "</div>"
            ],
            "text/plain": [
              "                                              industry  num_of_employers  \\\n",
              "0                  Разработка программного обеспечения              3553   \n",
              "1    Системная интеграция,  автоматизации технологи...              2993   \n",
              "2    Интернет-компания (поисковики, платежные систе...              1675   \n",
              "3                                                 Банк               249   \n",
              "4                                      Мобильная связь               156   \n",
              "..                                                 ...               ...   \n",
              "289                                          Химчистка                 7   \n",
              "290             Ассоциация в сфере культуры, искусства                 1   \n",
              "291                                          Автошкола                 3   \n",
              "292                                  Ритуальные услуги                 4   \n",
              "293              Ботанический сад, зоопарк, заповедник                 3   \n",
              "\n",
              "     num_of_vacancies  \n",
              "0               12499  \n",
              "1               11034  \n",
              "2                6413  \n",
              "3                2742  \n",
              "4                1585  \n",
              "..                ...  \n",
              "289                 4  \n",
              "290                 2  \n",
              "291                 1  \n",
              "292                 1  \n",
              "293                 0  \n",
              "\n",
              "[294 rows x 3 columns]"
            ]
          },
          "metadata": {},
          "output_type": "display_data"
        }
      ],
      "source": [
        "df = pd.read_sql_query(query_7_2, connection)\n",
        "display('Рейтинг сфер деятельности по количеству работодателей и вакансий:', df)"
      ]
    },
    {
      "attachments": {},
      "cell_type": "markdown",
      "id": "34e9deda",
      "metadata": {},
      "source": [
        "3. Теперь узнаем, в каких сферах деятельности больше всего вакансий для начинаюших специалистов, т.е. не имеющих опыта работы. Выведем ТОП-10."
      ]
    },
    {
      "cell_type": "code",
      "execution_count": 54,
      "id": "359fc4f8",
      "metadata": {},
      "outputs": [],
      "source": [
        "query_7_3 = f'''SELECT\n",
        "                    i.name AS industry,\n",
        "                    COUNT(DISTINCT v.id) AS num_of_vacancies\n",
        "                FROM industries AS i\n",
        "                LEFT JOIN employers_industries AS ei ON ei.industry_id = i.id\n",
        "                LEFT JOIN employers AS e ON e.id = ei.employer_id\n",
        "                LEFT JOIN vacancies AS v ON v.employer_id = e.id\n",
        "                WHERE v.experience = 'Нет опыта'\n",
        "                GROUP BY i.name\n",
        "                ORDER BY COUNT(v.id) DESC\n",
        "                LIMIT 10\n",
        "             '''"
      ]
    },
    {
      "cell_type": "code",
      "execution_count": 55,
      "id": "b2bc5b8f",
      "metadata": {},
      "outputs": [
        {
          "data": {
            "text/plain": [
              "'ТОП-10 сфер деятельности по количеству вакансий без опыта работы:'"
            ]
          },
          "metadata": {},
          "output_type": "display_data"
        },
        {
          "data": {
            "text/html": [
              "<div>\n",
              "<style scoped>\n",
              "    .dataframe tbody tr th:only-of-type {\n",
              "        vertical-align: middle;\n",
              "    }\n",
              "\n",
              "    .dataframe tbody tr th {\n",
              "        vertical-align: top;\n",
              "    }\n",
              "\n",
              "    .dataframe thead th {\n",
              "        text-align: right;\n",
              "    }\n",
              "</style>\n",
              "<table border=\"1\" class=\"dataframe\">\n",
              "  <thead>\n",
              "    <tr style=\"text-align: right;\">\n",
              "      <th></th>\n",
              "      <th>industry</th>\n",
              "      <th>num_of_vacancies</th>\n",
              "    </tr>\n",
              "  </thead>\n",
              "  <tbody>\n",
              "    <tr>\n",
              "      <th>0</th>\n",
              "      <td>Интернет-компания (поисковики, платежные систе...</td>\n",
              "      <td>1930</td>\n",
              "    </tr>\n",
              "    <tr>\n",
              "      <th>1</th>\n",
              "      <td>Разработка программного обеспечения</td>\n",
              "      <td>1225</td>\n",
              "    </tr>\n",
              "    <tr>\n",
              "      <th>2</th>\n",
              "      <td>Системная интеграция,  автоматизации технологи...</td>\n",
              "      <td>1217</td>\n",
              "    </tr>\n",
              "    <tr>\n",
              "      <th>3</th>\n",
              "      <td>Мобильная связь</td>\n",
              "      <td>369</td>\n",
              "    </tr>\n",
              "    <tr>\n",
              "      <th>4</th>\n",
              "      <td>Интернет-провайдер</td>\n",
              "      <td>320</td>\n",
              "    </tr>\n",
              "    <tr>\n",
              "      <th>5</th>\n",
              "      <td>Оптоволоконная связь</td>\n",
              "      <td>303</td>\n",
              "    </tr>\n",
              "    <tr>\n",
              "      <th>6</th>\n",
              "      <td>Фиксированная связь</td>\n",
              "      <td>286</td>\n",
              "    </tr>\n",
              "    <tr>\n",
              "      <th>7</th>\n",
              "      <td>Банк</td>\n",
              "      <td>191</td>\n",
              "    </tr>\n",
              "    <tr>\n",
              "      <th>8</th>\n",
              "      <td>Консалтинговые услуги</td>\n",
              "      <td>186</td>\n",
              "    </tr>\n",
              "    <tr>\n",
              "      <th>9</th>\n",
              "      <td>Маркетинговые, рекламные, BTL, дизайнерские, E...</td>\n",
              "      <td>126</td>\n",
              "    </tr>\n",
              "  </tbody>\n",
              "</table>\n",
              "</div>"
            ],
            "text/plain": [
              "                                            industry  num_of_vacancies\n",
              "0  Интернет-компания (поисковики, платежные систе...              1930\n",
              "1                Разработка программного обеспечения              1225\n",
              "2  Системная интеграция,  автоматизации технологи...              1217\n",
              "3                                    Мобильная связь               369\n",
              "4                                 Интернет-провайдер               320\n",
              "5                               Оптоволоконная связь               303\n",
              "6                                Фиксированная связь               286\n",
              "7                                               Банк               191\n",
              "8                              Консалтинговые услуги               186\n",
              "9  Маркетинговые, рекламные, BTL, дизайнерские, E...               126"
            ]
          },
          "metadata": {},
          "output_type": "display_data"
        }
      ],
      "source": [
        "df = pd.read_sql_query(query_7_3, connection)\n",
        "display('ТОП-10 сфер деятельности по количеству вакансий без опыта работы:', df)"
      ]
    },
    {
      "attachments": {},
      "cell_type": "markdown",
      "id": "d38afb6f",
      "metadata": {},
      "source": [
        "4. Теперь проверим, к каким сферам относятся вакансии, связанные с данными и Data Science. Выведем ТОП-5 по убыванию количества вакансий."
      ]
    },
    {
      "cell_type": "code",
      "execution_count": 56,
      "metadata": {},
      "outputs": [],
      "source": [
        "query_7_4 = f'''SELECT\n",
        "                    i.name AS industry,\n",
        "                    COUNT(DISTINCT v.id) AS num_of_vacancies\n",
        "                FROM industries AS i\n",
        "                LEFT JOIN employers_industries AS ei ON ei.industry_id = i.id\n",
        "                LEFT JOIN employers AS e ON e.id = ei.employer_id\n",
        "                LEFT JOIN vacancies AS v ON v.employer_id = e.id\n",
        "                WHERE (lower(v.name) LIKE '%data%'\n",
        "                    OR lower(v.name) LIKE '%данн%'\n",
        "                    OR lower(v.name) LIKE '%data scientist%'\n",
        "                    OR lower(v.name) LIKE '%data science%'\n",
        "                    OR lower(v.name) LIKE '%исследователь данных%'\n",
        "                    OR (v.name LIKE '%ML%' AND v.name NOT LIKE '%HTML%')\n",
        "                    OR lower(v.name) LIKE '%machine learning%'\n",
        "                    OR lower(v.name) LIKE '%машинн%обучен%')\n",
        "                GROUP BY i.name\n",
        "                ORDER BY COUNT(v.id) DESC\n",
        "                LIMIT 5\n",
        "             '''"
      ]
    },
    {
      "cell_type": "code",
      "execution_count": 57,
      "id": "e6b81c9c",
      "metadata": {},
      "outputs": [
        {
          "data": {
            "text/plain": [
              "'ТОП-5 сфер деятельности по количеству DS-вакансий:'"
            ]
          },
          "metadata": {},
          "output_type": "display_data"
        },
        {
          "data": {
            "text/html": [
              "<div>\n",
              "<style scoped>\n",
              "    .dataframe tbody tr th:only-of-type {\n",
              "        vertical-align: middle;\n",
              "    }\n",
              "\n",
              "    .dataframe tbody tr th {\n",
              "        vertical-align: top;\n",
              "    }\n",
              "\n",
              "    .dataframe thead th {\n",
              "        text-align: right;\n",
              "    }\n",
              "</style>\n",
              "<table border=\"1\" class=\"dataframe\">\n",
              "  <thead>\n",
              "    <tr style=\"text-align: right;\">\n",
              "      <th></th>\n",
              "      <th>industry</th>\n",
              "      <th>num_of_vacancies</th>\n",
              "    </tr>\n",
              "  </thead>\n",
              "  <tbody>\n",
              "    <tr>\n",
              "      <th>0</th>\n",
              "      <td>Разработка программного обеспечения</td>\n",
              "      <td>556</td>\n",
              "    </tr>\n",
              "    <tr>\n",
              "      <th>1</th>\n",
              "      <td>Системная интеграция,  автоматизации технологи...</td>\n",
              "      <td>470</td>\n",
              "    </tr>\n",
              "    <tr>\n",
              "      <th>2</th>\n",
              "      <td>Банк</td>\n",
              "      <td>308</td>\n",
              "    </tr>\n",
              "    <tr>\n",
              "      <th>3</th>\n",
              "      <td>Интернет-компания (поисковики, платежные систе...</td>\n",
              "      <td>243</td>\n",
              "    </tr>\n",
              "    <tr>\n",
              "      <th>4</th>\n",
              "      <td>Мобильная связь</td>\n",
              "      <td>145</td>\n",
              "    </tr>\n",
              "  </tbody>\n",
              "</table>\n",
              "</div>"
            ],
            "text/plain": [
              "                                            industry  num_of_vacancies\n",
              "0                Разработка программного обеспечения               556\n",
              "1  Системная интеграция,  автоматизации технологи...               470\n",
              "2                                               Банк               308\n",
              "3  Интернет-компания (поисковики, платежные систе...               243\n",
              "4                                    Мобильная связь               145"
            ]
          },
          "metadata": {},
          "output_type": "display_data"
        }
      ],
      "source": [
        "df = pd.read_sql_query(query_7_4, connection)\n",
        "display('ТОП-5 сфер деятельности по количеству DS-вакансий:', df)"
      ]
    },
    {
      "attachments": {},
      "cell_type": "markdown",
      "id": "d7210374",
      "metadata": {},
      "source": [
        "5. Бытует мнение, что зарплаты в Москве выше, чем в других городах. Проверим, так ли это. Для этого возьмем разницу в процентах между начальной зарплатой в Москве и других городах и вычислим среднее по каждой вакансии. Условимся, что для данного исследования названия вакансий, график работы, тип занятости и опыт работы должны совпадать."
      ]
    },
    {
      "cell_type": "code",
      "execution_count": 58,
      "id": "abc35d30",
      "metadata": {},
      "outputs": [],
      "source": [
        "query_7_5 = f'''SELECT\n",
        "                    a.name AS vacancy,\n",
        "                    -- Вычислим среднюю разницу между зарплатой в Москве\n",
        "                    -- и других городах в процентах\n",
        "                    ROUND(\n",
        "                        AVG(a.salary_from * 100\n",
        "                            / b.salary_from - 100)\n",
        "                        ,0) AS \"salary_difference,%\"\n",
        "                FROM vacancies AS a\n",
        "                -- Добавим таблицу вакансий по нескольким столбцам,\n",
        "                -- чтобы обеспечить максимальное сходство вакансий\n",
        "                JOIN vacancies AS b ON a.name = b.name\n",
        "                    AND a.schedule = b.schedule\n",
        "                    AND a.experience = b.experience\n",
        "                    AND a.employment = b.employment\n",
        "                LEFT JOIN areas AS ar_a ON a.area_id = ar_a.id\n",
        "                LEFT JOIN areas AS ar_b ON b.area_id = ar_b.id   \n",
        "                WHERE (a.salary_from IS NOT NULL\n",
        "                    OR b.salary_from IS NOT NULL)\n",
        "                    AND a.salary_from != b.salary_from\n",
        "                    AND (ar_a.name = 'Москва' AND ar_b.name != 'Москва')\n",
        "                GROUP BY a.name\n",
        "                ORDER BY \"salary_difference,%\" DESC                \n",
        "             '''"
      ]
    },
    {
      "cell_type": "code",
      "execution_count": 59,
      "id": "009a2e53",
      "metadata": {},
      "outputs": [
        {
          "data": {
            "text/plain": [
              "'Разница в зарплатах по одинаковым вакансиям с Москвой (в процентах):'"
            ]
          },
          "metadata": {},
          "output_type": "display_data"
        },
        {
          "data": {
            "text/html": [
              "<div>\n",
              "<style scoped>\n",
              "    .dataframe tbody tr th:only-of-type {\n",
              "        vertical-align: middle;\n",
              "    }\n",
              "\n",
              "    .dataframe tbody tr th {\n",
              "        vertical-align: top;\n",
              "    }\n",
              "\n",
              "    .dataframe thead th {\n",
              "        text-align: right;\n",
              "    }\n",
              "</style>\n",
              "<table border=\"1\" class=\"dataframe\">\n",
              "  <thead>\n",
              "    <tr style=\"text-align: right;\">\n",
              "      <th></th>\n",
              "      <th>vacancy</th>\n",
              "      <th>salary_difference,%</th>\n",
              "    </tr>\n",
              "  </thead>\n",
              "  <tbody>\n",
              "    <tr>\n",
              "      <th>0</th>\n",
              "      <td>Аналитик 1С</td>\n",
              "      <td>11223.0</td>\n",
              "    </tr>\n",
              "    <tr>\n",
              "      <th>1</th>\n",
              "      <td>Программист Python</td>\n",
              "      <td>10246.0</td>\n",
              "    </tr>\n",
              "    <tr>\n",
              "      <th>2</th>\n",
              "      <td>Менеджер по продажам</td>\n",
              "      <td>589.0</td>\n",
              "    </tr>\n",
              "    <tr>\n",
              "      <th>3</th>\n",
              "      <td>Консультант по информационным системам</td>\n",
              "      <td>555.0</td>\n",
              "    </tr>\n",
              "    <tr>\n",
              "      <th>4</th>\n",
              "      <td>Системный администратор</td>\n",
              "      <td>529.0</td>\n",
              "    </tr>\n",
              "    <tr>\n",
              "      <th>...</th>\n",
              "      <td>...</td>\n",
              "      <td>...</td>\n",
              "    </tr>\n",
              "    <tr>\n",
              "      <th>129</th>\n",
              "      <td>Программист 1С (удаленно)</td>\n",
              "      <td>-33.0</td>\n",
              "    </tr>\n",
              "    <tr>\n",
              "      <th>130</th>\n",
              "      <td>Backend Разработчик</td>\n",
              "      <td>-34.0</td>\n",
              "    </tr>\n",
              "    <tr>\n",
              "      <th>131</th>\n",
              "      <td>Data Scientist</td>\n",
              "      <td>-50.0</td>\n",
              "    </tr>\n",
              "    <tr>\n",
              "      <th>132</th>\n",
              "      <td>QA Automation Engineer</td>\n",
              "      <td>-50.0</td>\n",
              "    </tr>\n",
              "    <tr>\n",
              "      <th>133</th>\n",
              "      <td>Unity developer</td>\n",
              "      <td>-58.0</td>\n",
              "    </tr>\n",
              "  </tbody>\n",
              "</table>\n",
              "<p>134 rows × 2 columns</p>\n",
              "</div>"
            ],
            "text/plain": [
              "                                    vacancy  salary_difference,%\n",
              "0                               Аналитик 1С              11223.0\n",
              "1                        Программист Python              10246.0\n",
              "2                      Менеджер по продажам                589.0\n",
              "3    Консультант по информационным системам                555.0\n",
              "4                   Системный администратор                529.0\n",
              "..                                      ...                  ...\n",
              "129               Программист 1С (удаленно)                -33.0\n",
              "130                     Backend Разработчик                -34.0\n",
              "131                          Data Scientist                -50.0\n",
              "132                  QA Automation Engineer                -50.0\n",
              "133                         Unity developer                -58.0\n",
              "\n",
              "[134 rows x 2 columns]"
            ]
          },
          "metadata": {},
          "output_type": "display_data"
        }
      ],
      "source": [
        "df = pd.read_sql_query(query_7_5, connection)\n",
        "display('Разница в зарплатах по одинаковым вакансиям с Москвой (в процентах):', df)"
      ]
    },
    {
      "attachments": {},
      "cell_type": "markdown",
      "id": "b2ef323a",
      "metadata": {},
      "source": [
        "6. В завершении дополним анализ вакансий, узнав, в каких странах, кроме России, они еще предлагаются. Воспользуемся списком 193 стран-членов ООН [отсюда](https://ru.wikipedia.org/wiki/%D0%A1%D0%BF%D0%B8%D1%81%D0%BE%D0%BA_%D0%B3%D0%BE%D1%81%D1%83%D0%B4%D0%B0%D1%80%D1%81%D1%82%D0%B2)."
      ]
    },
    {
      "cell_type": "code",
      "execution_count": 60,
      "id": "1573668e",
      "metadata": {},
      "outputs": [],
      "source": [
        "# Найдем и выгрузим список стран со страницы\n",
        "url = 'https://ru.wikipedia.org/wiki/%D0%A1%D0%BF%D0%B8%D1%81%D0%BE%D0%BA_%D0%B3%D0%BE%D1%81%D1%83%D0%B4%D0%B0%D1%80%D1%81%D1%82%D0%B2'\n",
        "response = requests.get(url)\n",
        "page = BeautifulSoup(response.text, 'html.parser')\n",
        "links = page.find_all('a') # Ищем все ссылки на странице и сохраняем в переменной links в виде списка\n",
        "\n",
        "# Удаляем все ненужное из списка\n",
        "country_list = [link.text for link in links[35:420]]\n",
        "country_list = [country for country in country_list if country != '']"
      ]
    },
    {
      "cell_type": "code",
      "execution_count": 61,
      "id": "466bcdd0",
      "metadata": {},
      "outputs": [],
      "source": [
        "query_7_6 = f'''-- Созданим таблицу с вакансиями во всех странах\n",
        "                WITH detailed AS\n",
        "                (\n",
        "                    SELECT\n",
        "                        a.name AS country,\n",
        "                        COUNT(v.id) AS num_of_vacancies\n",
        "                    FROM vacancies AS v\n",
        "                    LEFT JOIN areas AS a ON a.id = v.area_id\n",
        "                    WHERE a.name IN {tuple(country_list)}\n",
        "                    GROUP BY a.name\n",
        "                    ORDER BY num_of_vacancies DESC\n",
        "                )\n",
        "                \n",
        "                -- Выведем список всех стран\n",
        "                SELECT * FROM detailed\n",
        "                \n",
        "                -- Нижеследующая часть запроса подходит, когда не нужно\n",
        "                -- строить график со всеми странами, и можно страны\n",
        "                -- с небольшим вкладом (например, меньше 10 вакансий)\n",
        "                -- объединить в категорию \"Прочие страны\".\n",
        "                -- От этой части пришлось отказаться ради построения\n",
        "                -- графика.\n",
        "                -- SELECT *\n",
        "                -- FROM detailed\n",
        "                -- WHERE num_of_vacancies >= 10\n",
        "                -- UNION ALL\n",
        "                -- SELECT\n",
        "                    --'Прочие страны',\n",
        "                    --SUM(num_of_vacancies)::int\n",
        "                -- FROM detailed\n",
        "                -- WHERE num_of_vacancies < 10\n",
        "             '''"
      ]
    },
    {
      "cell_type": "code",
      "execution_count": 62,
      "id": "f56b9051",
      "metadata": {},
      "outputs": [
        {
          "data": {
            "text/plain": [
              "'Количество вакансий за пределами России:'"
            ]
          },
          "metadata": {},
          "output_type": "display_data"
        },
        {
          "data": {
            "text/html": [
              "<div>\n",
              "<style scoped>\n",
              "    .dataframe tbody tr th:only-of-type {\n",
              "        vertical-align: middle;\n",
              "    }\n",
              "\n",
              "    .dataframe tbody tr th {\n",
              "        vertical-align: top;\n",
              "    }\n",
              "\n",
              "    .dataframe thead th {\n",
              "        text-align: right;\n",
              "    }\n",
              "</style>\n",
              "<table border=\"1\" class=\"dataframe\">\n",
              "  <thead>\n",
              "    <tr style=\"text-align: right;\">\n",
              "      <th></th>\n",
              "      <th>country</th>\n",
              "      <th>num_of_vacancies</th>\n",
              "    </tr>\n",
              "  </thead>\n",
              "  <tbody>\n",
              "    <tr>\n",
              "      <th>0</th>\n",
              "      <td>Армения</td>\n",
              "      <td>223</td>\n",
              "    </tr>\n",
              "    <tr>\n",
              "      <th>1</th>\n",
              "      <td>Кипр</td>\n",
              "      <td>136</td>\n",
              "    </tr>\n",
              "    <tr>\n",
              "      <th>2</th>\n",
              "      <td>Польша</td>\n",
              "      <td>53</td>\n",
              "    </tr>\n",
              "    <tr>\n",
              "      <th>3</th>\n",
              "      <td>Турция</td>\n",
              "      <td>39</td>\n",
              "    </tr>\n",
              "    <tr>\n",
              "      <th>4</th>\n",
              "      <td>Сербия</td>\n",
              "      <td>26</td>\n",
              "    </tr>\n",
              "    <tr>\n",
              "      <th>5</th>\n",
              "      <td>Литва</td>\n",
              "      <td>19</td>\n",
              "    </tr>\n",
              "    <tr>\n",
              "      <th>6</th>\n",
              "      <td>Германия</td>\n",
              "      <td>19</td>\n",
              "    </tr>\n",
              "    <tr>\n",
              "      <th>7</th>\n",
              "      <td>Черногория</td>\n",
              "      <td>14</td>\n",
              "    </tr>\n",
              "    <tr>\n",
              "      <th>8</th>\n",
              "      <td>Чехия</td>\n",
              "      <td>14</td>\n",
              "    </tr>\n",
              "    <tr>\n",
              "      <th>9</th>\n",
              "      <td>ОАЭ</td>\n",
              "      <td>12</td>\n",
              "    </tr>\n",
              "    <tr>\n",
              "      <th>10</th>\n",
              "      <td>США</td>\n",
              "      <td>12</td>\n",
              "    </tr>\n",
              "    <tr>\n",
              "      <th>11</th>\n",
              "      <td>Болгария</td>\n",
              "      <td>12</td>\n",
              "    </tr>\n",
              "    <tr>\n",
              "      <th>12</th>\n",
              "      <td>Латвия</td>\n",
              "      <td>10</td>\n",
              "    </tr>\n",
              "    <tr>\n",
              "      <th>13</th>\n",
              "      <td>Венгрия</td>\n",
              "      <td>9</td>\n",
              "    </tr>\n",
              "    <tr>\n",
              "      <th>14</th>\n",
              "      <td>Финляндия</td>\n",
              "      <td>7</td>\n",
              "    </tr>\n",
              "    <tr>\n",
              "      <th>15</th>\n",
              "      <td>Испания</td>\n",
              "      <td>4</td>\n",
              "    </tr>\n",
              "    <tr>\n",
              "      <th>16</th>\n",
              "      <td>Таджикистан</td>\n",
              "      <td>4</td>\n",
              "    </tr>\n",
              "    <tr>\n",
              "      <th>17</th>\n",
              "      <td>Австрия</td>\n",
              "      <td>4</td>\n",
              "    </tr>\n",
              "    <tr>\n",
              "      <th>18</th>\n",
              "      <td>Эстония</td>\n",
              "      <td>3</td>\n",
              "    </tr>\n",
              "    <tr>\n",
              "      <th>19</th>\n",
              "      <td>Израиль</td>\n",
              "      <td>2</td>\n",
              "    </tr>\n",
              "    <tr>\n",
              "      <th>20</th>\n",
              "      <td>Нидерланды</td>\n",
              "      <td>2</td>\n",
              "    </tr>\n",
              "    <tr>\n",
              "      <th>21</th>\n",
              "      <td>Великобритания</td>\n",
              "      <td>2</td>\n",
              "    </tr>\n",
              "    <tr>\n",
              "      <th>22</th>\n",
              "      <td>Индия</td>\n",
              "      <td>2</td>\n",
              "    </tr>\n",
              "    <tr>\n",
              "      <th>23</th>\n",
              "      <td>Китай</td>\n",
              "      <td>1</td>\n",
              "    </tr>\n",
              "    <tr>\n",
              "      <th>24</th>\n",
              "      <td>Румыния</td>\n",
              "      <td>1</td>\n",
              "    </tr>\n",
              "    <tr>\n",
              "      <th>25</th>\n",
              "      <td>Индонезия</td>\n",
              "      <td>1</td>\n",
              "    </tr>\n",
              "    <tr>\n",
              "      <th>26</th>\n",
              "      <td>Словакия</td>\n",
              "      <td>1</td>\n",
              "    </tr>\n",
              "  </tbody>\n",
              "</table>\n",
              "</div>"
            ],
            "text/plain": [
              "           country  num_of_vacancies\n",
              "0          Армения               223\n",
              "1             Кипр               136\n",
              "2           Польша                53\n",
              "3           Турция                39\n",
              "4           Сербия                26\n",
              "5            Литва                19\n",
              "6         Германия                19\n",
              "7       Черногория                14\n",
              "8            Чехия                14\n",
              "9              ОАЭ                12\n",
              "10             США                12\n",
              "11        Болгария                12\n",
              "12          Латвия                10\n",
              "13         Венгрия                 9\n",
              "14       Финляндия                 7\n",
              "15         Испания                 4\n",
              "16     Таджикистан                 4\n",
              "17         Австрия                 4\n",
              "18         Эстония                 3\n",
              "19         Израиль                 2\n",
              "20      Нидерланды                 2\n",
              "21  Великобритания                 2\n",
              "22           Индия                 2\n",
              "23           Китай                 1\n",
              "24         Румыния                 1\n",
              "25       Индонезия                 1\n",
              "26        Словакия                 1"
            ]
          },
          "metadata": {},
          "output_type": "display_data"
        }
      ],
      "source": [
        "df = pd.read_sql_query(query_7_6, connection)\n",
        "display('Количество вакансий за пределами России:', df)"
      ]
    },
    {
      "cell_type": "code",
      "execution_count": 63,
      "id": "00650747",
      "metadata": {},
      "outputs": [
        {
          "data": {
            "application/vnd.plotly.v1+json": {
              "config": {
                "plotlyServerURL": "https://plot.ly"
              },
              "data": [
                {
                  "coloraxis": "coloraxis",
                  "geo": "geo",
                  "hovertemplate": "Страна=%{location}<br>Вакансии=%{z}<extra></extra>",
                  "locationmode": "country names",
                  "locations": [
                    "Armenia",
                    "Cyprus",
                    "Poland",
                    "Turkey",
                    "Serbia",
                    "Lithuania",
                    "Germany",
                    "Montenegro",
                    "Czechia",
                    "United Arab Emirates",
                    "United States of America",
                    "Bulgaria",
                    "Latvia",
                    "Hungary",
                    "Finland",
                    "Spain",
                    "Tajikistan",
                    "Austria",
                    "Estonia",
                    "Israel",
                    "Netherlands",
                    "United Kingdom of Great Britain and Northern Ireland",
                    "India",
                    "China",
                    "Romania",
                    "Indonesia",
                    "Slovakia"
                  ],
                  "name": "",
                  "type": "choropleth",
                  "z": [
                    223,
                    136,
                    53,
                    39,
                    26,
                    19,
                    19,
                    14,
                    14,
                    12,
                    12,
                    12,
                    10,
                    9,
                    7,
                    4,
                    4,
                    4,
                    3,
                    2,
                    2,
                    2,
                    2,
                    1,
                    1,
                    1,
                    1
                  ]
                }
              ],
              "layout": {
                "coloraxis": {
                  "cmax": 223,
                  "cmin": 0,
                  "colorbar": {
                    "title": {
                      "text": "Вакансии"
                    }
                  },
                  "colorscale": [
                    [
                      0,
                      "rgb(253, 253, 204)"
                    ],
                    [
                      0.09090909090909091,
                      "rgb(206, 236, 179)"
                    ],
                    [
                      0.18181818181818182,
                      "rgb(156, 219, 165)"
                    ],
                    [
                      0.2727272727272727,
                      "rgb(111, 201, 163)"
                    ],
                    [
                      0.36363636363636365,
                      "rgb(86, 177, 163)"
                    ],
                    [
                      0.45454545454545453,
                      "rgb(76, 153, 160)"
                    ],
                    [
                      0.5454545454545454,
                      "rgb(68, 130, 155)"
                    ],
                    [
                      0.6363636363636364,
                      "rgb(62, 108, 150)"
                    ],
                    [
                      0.7272727272727273,
                      "rgb(62, 82, 143)"
                    ],
                    [
                      0.8181818181818182,
                      "rgb(64, 60, 115)"
                    ],
                    [
                      0.9090909090909091,
                      "rgb(54, 43, 77)"
                    ],
                    [
                      1,
                      "rgb(39, 26, 44)"
                    ]
                  ]
                },
                "geo": {
                  "center": {},
                  "domain": {
                    "x": [
                      0,
                      1
                    ],
                    "y": [
                      0,
                      1
                    ]
                  },
                  "fitbounds": "locations",
                  "projection": {
                    "type": "miller"
                  },
                  "scope": "world"
                },
                "height": 600,
                "legend": {
                  "tracegroupgap": 0
                },
                "template": {
                  "data": {
                    "bar": [
                      {
                        "error_x": {
                          "color": "#2a3f5f"
                        },
                        "error_y": {
                          "color": "#2a3f5f"
                        },
                        "marker": {
                          "line": {
                            "color": "#E5ECF6",
                            "width": 0.5
                          },
                          "pattern": {
                            "fillmode": "overlay",
                            "size": 10,
                            "solidity": 0.2
                          }
                        },
                        "type": "bar"
                      }
                    ],
                    "barpolar": [
                      {
                        "marker": {
                          "line": {
                            "color": "#E5ECF6",
                            "width": 0.5
                          },
                          "pattern": {
                            "fillmode": "overlay",
                            "size": 10,
                            "solidity": 0.2
                          }
                        },
                        "type": "barpolar"
                      }
                    ],
                    "carpet": [
                      {
                        "aaxis": {
                          "endlinecolor": "#2a3f5f",
                          "gridcolor": "white",
                          "linecolor": "white",
                          "minorgridcolor": "white",
                          "startlinecolor": "#2a3f5f"
                        },
                        "baxis": {
                          "endlinecolor": "#2a3f5f",
                          "gridcolor": "white",
                          "linecolor": "white",
                          "minorgridcolor": "white",
                          "startlinecolor": "#2a3f5f"
                        },
                        "type": "carpet"
                      }
                    ],
                    "choropleth": [
                      {
                        "colorbar": {
                          "outlinewidth": 0,
                          "ticks": ""
                        },
                        "type": "choropleth"
                      }
                    ],
                    "contour": [
                      {
                        "colorbar": {
                          "outlinewidth": 0,
                          "ticks": ""
                        },
                        "colorscale": [
                          [
                            0,
                            "#0d0887"
                          ],
                          [
                            0.1111111111111111,
                            "#46039f"
                          ],
                          [
                            0.2222222222222222,
                            "#7201a8"
                          ],
                          [
                            0.3333333333333333,
                            "#9c179e"
                          ],
                          [
                            0.4444444444444444,
                            "#bd3786"
                          ],
                          [
                            0.5555555555555556,
                            "#d8576b"
                          ],
                          [
                            0.6666666666666666,
                            "#ed7953"
                          ],
                          [
                            0.7777777777777778,
                            "#fb9f3a"
                          ],
                          [
                            0.8888888888888888,
                            "#fdca26"
                          ],
                          [
                            1,
                            "#f0f921"
                          ]
                        ],
                        "type": "contour"
                      }
                    ],
                    "contourcarpet": [
                      {
                        "colorbar": {
                          "outlinewidth": 0,
                          "ticks": ""
                        },
                        "type": "contourcarpet"
                      }
                    ],
                    "heatmap": [
                      {
                        "colorbar": {
                          "outlinewidth": 0,
                          "ticks": ""
                        },
                        "colorscale": [
                          [
                            0,
                            "#0d0887"
                          ],
                          [
                            0.1111111111111111,
                            "#46039f"
                          ],
                          [
                            0.2222222222222222,
                            "#7201a8"
                          ],
                          [
                            0.3333333333333333,
                            "#9c179e"
                          ],
                          [
                            0.4444444444444444,
                            "#bd3786"
                          ],
                          [
                            0.5555555555555556,
                            "#d8576b"
                          ],
                          [
                            0.6666666666666666,
                            "#ed7953"
                          ],
                          [
                            0.7777777777777778,
                            "#fb9f3a"
                          ],
                          [
                            0.8888888888888888,
                            "#fdca26"
                          ],
                          [
                            1,
                            "#f0f921"
                          ]
                        ],
                        "type": "heatmap"
                      }
                    ],
                    "heatmapgl": [
                      {
                        "colorbar": {
                          "outlinewidth": 0,
                          "ticks": ""
                        },
                        "colorscale": [
                          [
                            0,
                            "#0d0887"
                          ],
                          [
                            0.1111111111111111,
                            "#46039f"
                          ],
                          [
                            0.2222222222222222,
                            "#7201a8"
                          ],
                          [
                            0.3333333333333333,
                            "#9c179e"
                          ],
                          [
                            0.4444444444444444,
                            "#bd3786"
                          ],
                          [
                            0.5555555555555556,
                            "#d8576b"
                          ],
                          [
                            0.6666666666666666,
                            "#ed7953"
                          ],
                          [
                            0.7777777777777778,
                            "#fb9f3a"
                          ],
                          [
                            0.8888888888888888,
                            "#fdca26"
                          ],
                          [
                            1,
                            "#f0f921"
                          ]
                        ],
                        "type": "heatmapgl"
                      }
                    ],
                    "histogram": [
                      {
                        "marker": {
                          "pattern": {
                            "fillmode": "overlay",
                            "size": 10,
                            "solidity": 0.2
                          }
                        },
                        "type": "histogram"
                      }
                    ],
                    "histogram2d": [
                      {
                        "colorbar": {
                          "outlinewidth": 0,
                          "ticks": ""
                        },
                        "colorscale": [
                          [
                            0,
                            "#0d0887"
                          ],
                          [
                            0.1111111111111111,
                            "#46039f"
                          ],
                          [
                            0.2222222222222222,
                            "#7201a8"
                          ],
                          [
                            0.3333333333333333,
                            "#9c179e"
                          ],
                          [
                            0.4444444444444444,
                            "#bd3786"
                          ],
                          [
                            0.5555555555555556,
                            "#d8576b"
                          ],
                          [
                            0.6666666666666666,
                            "#ed7953"
                          ],
                          [
                            0.7777777777777778,
                            "#fb9f3a"
                          ],
                          [
                            0.8888888888888888,
                            "#fdca26"
                          ],
                          [
                            1,
                            "#f0f921"
                          ]
                        ],
                        "type": "histogram2d"
                      }
                    ],
                    "histogram2dcontour": [
                      {
                        "colorbar": {
                          "outlinewidth": 0,
                          "ticks": ""
                        },
                        "colorscale": [
                          [
                            0,
                            "#0d0887"
                          ],
                          [
                            0.1111111111111111,
                            "#46039f"
                          ],
                          [
                            0.2222222222222222,
                            "#7201a8"
                          ],
                          [
                            0.3333333333333333,
                            "#9c179e"
                          ],
                          [
                            0.4444444444444444,
                            "#bd3786"
                          ],
                          [
                            0.5555555555555556,
                            "#d8576b"
                          ],
                          [
                            0.6666666666666666,
                            "#ed7953"
                          ],
                          [
                            0.7777777777777778,
                            "#fb9f3a"
                          ],
                          [
                            0.8888888888888888,
                            "#fdca26"
                          ],
                          [
                            1,
                            "#f0f921"
                          ]
                        ],
                        "type": "histogram2dcontour"
                      }
                    ],
                    "mesh3d": [
                      {
                        "colorbar": {
                          "outlinewidth": 0,
                          "ticks": ""
                        },
                        "type": "mesh3d"
                      }
                    ],
                    "parcoords": [
                      {
                        "line": {
                          "colorbar": {
                            "outlinewidth": 0,
                            "ticks": ""
                          }
                        },
                        "type": "parcoords"
                      }
                    ],
                    "pie": [
                      {
                        "automargin": true,
                        "type": "pie"
                      }
                    ],
                    "scatter": [
                      {
                        "fillpattern": {
                          "fillmode": "overlay",
                          "size": 10,
                          "solidity": 0.2
                        },
                        "type": "scatter"
                      }
                    ],
                    "scatter3d": [
                      {
                        "line": {
                          "colorbar": {
                            "outlinewidth": 0,
                            "ticks": ""
                          }
                        },
                        "marker": {
                          "colorbar": {
                            "outlinewidth": 0,
                            "ticks": ""
                          }
                        },
                        "type": "scatter3d"
                      }
                    ],
                    "scattercarpet": [
                      {
                        "marker": {
                          "colorbar": {
                            "outlinewidth": 0,
                            "ticks": ""
                          }
                        },
                        "type": "scattercarpet"
                      }
                    ],
                    "scattergeo": [
                      {
                        "marker": {
                          "colorbar": {
                            "outlinewidth": 0,
                            "ticks": ""
                          }
                        },
                        "type": "scattergeo"
                      }
                    ],
                    "scattergl": [
                      {
                        "marker": {
                          "colorbar": {
                            "outlinewidth": 0,
                            "ticks": ""
                          }
                        },
                        "type": "scattergl"
                      }
                    ],
                    "scattermapbox": [
                      {
                        "marker": {
                          "colorbar": {
                            "outlinewidth": 0,
                            "ticks": ""
                          }
                        },
                        "type": "scattermapbox"
                      }
                    ],
                    "scatterpolar": [
                      {
                        "marker": {
                          "colorbar": {
                            "outlinewidth": 0,
                            "ticks": ""
                          }
                        },
                        "type": "scatterpolar"
                      }
                    ],
                    "scatterpolargl": [
                      {
                        "marker": {
                          "colorbar": {
                            "outlinewidth": 0,
                            "ticks": ""
                          }
                        },
                        "type": "scatterpolargl"
                      }
                    ],
                    "scatterternary": [
                      {
                        "marker": {
                          "colorbar": {
                            "outlinewidth": 0,
                            "ticks": ""
                          }
                        },
                        "type": "scatterternary"
                      }
                    ],
                    "surface": [
                      {
                        "colorbar": {
                          "outlinewidth": 0,
                          "ticks": ""
                        },
                        "colorscale": [
                          [
                            0,
                            "#0d0887"
                          ],
                          [
                            0.1111111111111111,
                            "#46039f"
                          ],
                          [
                            0.2222222222222222,
                            "#7201a8"
                          ],
                          [
                            0.3333333333333333,
                            "#9c179e"
                          ],
                          [
                            0.4444444444444444,
                            "#bd3786"
                          ],
                          [
                            0.5555555555555556,
                            "#d8576b"
                          ],
                          [
                            0.6666666666666666,
                            "#ed7953"
                          ],
                          [
                            0.7777777777777778,
                            "#fb9f3a"
                          ],
                          [
                            0.8888888888888888,
                            "#fdca26"
                          ],
                          [
                            1,
                            "#f0f921"
                          ]
                        ],
                        "type": "surface"
                      }
                    ],
                    "table": [
                      {
                        "cells": {
                          "fill": {
                            "color": "#EBF0F8"
                          },
                          "line": {
                            "color": "white"
                          }
                        },
                        "header": {
                          "fill": {
                            "color": "#C8D4E3"
                          },
                          "line": {
                            "color": "white"
                          }
                        },
                        "type": "table"
                      }
                    ]
                  },
                  "layout": {
                    "annotationdefaults": {
                      "arrowcolor": "#2a3f5f",
                      "arrowhead": 0,
                      "arrowwidth": 1
                    },
                    "autotypenumbers": "strict",
                    "coloraxis": {
                      "colorbar": {
                        "outlinewidth": 0,
                        "ticks": ""
                      }
                    },
                    "colorscale": {
                      "diverging": [
                        [
                          0,
                          "#8e0152"
                        ],
                        [
                          0.1,
                          "#c51b7d"
                        ],
                        [
                          0.2,
                          "#de77ae"
                        ],
                        [
                          0.3,
                          "#f1b6da"
                        ],
                        [
                          0.4,
                          "#fde0ef"
                        ],
                        [
                          0.5,
                          "#f7f7f7"
                        ],
                        [
                          0.6,
                          "#e6f5d0"
                        ],
                        [
                          0.7,
                          "#b8e186"
                        ],
                        [
                          0.8,
                          "#7fbc41"
                        ],
                        [
                          0.9,
                          "#4d9221"
                        ],
                        [
                          1,
                          "#276419"
                        ]
                      ],
                      "sequential": [
                        [
                          0,
                          "#0d0887"
                        ],
                        [
                          0.1111111111111111,
                          "#46039f"
                        ],
                        [
                          0.2222222222222222,
                          "#7201a8"
                        ],
                        [
                          0.3333333333333333,
                          "#9c179e"
                        ],
                        [
                          0.4444444444444444,
                          "#bd3786"
                        ],
                        [
                          0.5555555555555556,
                          "#d8576b"
                        ],
                        [
                          0.6666666666666666,
                          "#ed7953"
                        ],
                        [
                          0.7777777777777778,
                          "#fb9f3a"
                        ],
                        [
                          0.8888888888888888,
                          "#fdca26"
                        ],
                        [
                          1,
                          "#f0f921"
                        ]
                      ],
                      "sequentialminus": [
                        [
                          0,
                          "#0d0887"
                        ],
                        [
                          0.1111111111111111,
                          "#46039f"
                        ],
                        [
                          0.2222222222222222,
                          "#7201a8"
                        ],
                        [
                          0.3333333333333333,
                          "#9c179e"
                        ],
                        [
                          0.4444444444444444,
                          "#bd3786"
                        ],
                        [
                          0.5555555555555556,
                          "#d8576b"
                        ],
                        [
                          0.6666666666666666,
                          "#ed7953"
                        ],
                        [
                          0.7777777777777778,
                          "#fb9f3a"
                        ],
                        [
                          0.8888888888888888,
                          "#fdca26"
                        ],
                        [
                          1,
                          "#f0f921"
                        ]
                      ]
                    },
                    "colorway": [
                      "#636efa",
                      "#EF553B",
                      "#00cc96",
                      "#ab63fa",
                      "#FFA15A",
                      "#19d3f3",
                      "#FF6692",
                      "#B6E880",
                      "#FF97FF",
                      "#FECB52"
                    ],
                    "font": {
                      "color": "#2a3f5f"
                    },
                    "geo": {
                      "bgcolor": "white",
                      "lakecolor": "white",
                      "landcolor": "#E5ECF6",
                      "showlakes": true,
                      "showland": true,
                      "subunitcolor": "white"
                    },
                    "hoverlabel": {
                      "align": "left"
                    },
                    "hovermode": "closest",
                    "mapbox": {
                      "style": "light"
                    },
                    "paper_bgcolor": "white",
                    "plot_bgcolor": "#E5ECF6",
                    "polar": {
                      "angularaxis": {
                        "gridcolor": "white",
                        "linecolor": "white",
                        "ticks": ""
                      },
                      "bgcolor": "#E5ECF6",
                      "radialaxis": {
                        "gridcolor": "white",
                        "linecolor": "white",
                        "ticks": ""
                      }
                    },
                    "scene": {
                      "xaxis": {
                        "backgroundcolor": "#E5ECF6",
                        "gridcolor": "white",
                        "gridwidth": 2,
                        "linecolor": "white",
                        "showbackground": true,
                        "ticks": "",
                        "zerolinecolor": "white"
                      },
                      "yaxis": {
                        "backgroundcolor": "#E5ECF6",
                        "gridcolor": "white",
                        "gridwidth": 2,
                        "linecolor": "white",
                        "showbackground": true,
                        "ticks": "",
                        "zerolinecolor": "white"
                      },
                      "zaxis": {
                        "backgroundcolor": "#E5ECF6",
                        "gridcolor": "white",
                        "gridwidth": 2,
                        "linecolor": "white",
                        "showbackground": true,
                        "ticks": "",
                        "zerolinecolor": "white"
                      }
                    },
                    "shapedefaults": {
                      "line": {
                        "color": "#2a3f5f"
                      }
                    },
                    "ternary": {
                      "aaxis": {
                        "gridcolor": "white",
                        "linecolor": "white",
                        "ticks": ""
                      },
                      "baxis": {
                        "gridcolor": "white",
                        "linecolor": "white",
                        "ticks": ""
                      },
                      "bgcolor": "#E5ECF6",
                      "caxis": {
                        "gridcolor": "white",
                        "linecolor": "white",
                        "ticks": ""
                      }
                    },
                    "title": {
                      "x": 0.05
                    },
                    "xaxis": {
                      "automargin": true,
                      "gridcolor": "white",
                      "linecolor": "white",
                      "ticks": "",
                      "title": {
                        "standoff": 15
                      },
                      "zerolinecolor": "white",
                      "zerolinewidth": 2
                    },
                    "yaxis": {
                      "automargin": true,
                      "gridcolor": "white",
                      "linecolor": "white",
                      "ticks": "",
                      "title": {
                        "standoff": 15
                      },
                      "zerolinecolor": "white",
                      "zerolinewidth": 2
                    }
                  }
                },
                "title": {
                  "text": "Количество вакансий за пределами России"
                },
                "width": 800
              }
            }
          },
          "metadata": {},
          "output_type": "display_data"
        }
      ],
      "source": [
        "# Для наглядности покажем страны на карте мира\n",
        "# Для этого добавим столбец с переводом названий стран на английский язык методами Python\n",
        "eng_list = ['Armenia', 'Cyprus', 'Poland', 'Turkey', 'Serbia', 'Lithuania',\n",
        "            'Germany', 'Montenegro', 'Czechia', 'United Arab Emirates',\n",
        "            'United States of America', 'Bulgaria', 'Latvia', 'Hungary',\n",
        "            'Finland', 'Spain', 'Tajikistan', 'Austria', 'Estonia', 'Israel',\n",
        "            'Netherlands', 'United Kingdom of Great Britain and Northern Ireland',\n",
        "            'India', 'China', 'Romania', 'Indonesia', 'Slovakia']\n",
        "df['country_eng'] = df['country']\n",
        "for i,country in enumerate(eng_list):\n",
        "    df.iloc[i, 2] = country\n",
        "\n",
        "# Построим тепловую картограмму\n",
        "fig = px.choropleth(\n",
        "    data_frame=df, # исходный dataframe\n",
        "    locations=df['country_eng'], # список стран\n",
        "    locationmode='country names', # режим сопоставления локаций с базой Plotly\n",
        "    color='num_of_vacancies', # зависимость цветовой заливки от количества вакансий\n",
        "    range_color=[0, 223], # диапазон изменения цветовой гаммы\n",
        "    title='Количество вакансий за пределами России', # название графика\n",
        "    labels={'num_of_vacancies': 'Вакансии', 'country_eng': 'Страна'}, # названия меток\n",
        "    color_continuous_scale='deep', # цветовая схема\n",
        "    projection='miller', # вид проекции Земли\n",
        "    scope='world', # регион Земли для представления на графике - весь мир\n",
        "    fitbounds='locations', # рамки графика - вмещает рассматриваемые страны\n",
        "    width=800, # ширина графика\n",
        "    height=600 # высота графика\n",
        ")\n",
        "\n",
        "fig.show();\n",
        "fig.write_html(\"plotly/world_map.html\")"
      ]
    },
    {
      "attachments": {},
      "cell_type": "markdown",
      "id": "3ca97b68",
      "metadata": {},
      "source": [
        "[![Количество вакансий за пределами России](plotly/world_map.png 'Нажмите, чтобы перейти к интерактивному графику')](http://htmlpreview.github.io/?https://github.com/StasBard/SF_DataScience/blob/master/Projects/Project_2/plotly/world_map.html)"
      ]
    },
    {
      "cell_type": "code",
      "execution_count": 64,
      "id": "UjLWUptVwY1o",
      "metadata": {
        "id": "UjLWUptVwY1o"
      },
      "outputs": [],
      "source": [
        "# Закрыываем подключение к базе данных\n",
        "connection.close()"
      ]
    },
    {
      "attachments": {},
      "cell_type": "markdown",
      "id": "c7ea9f1e",
      "metadata": {},
      "source": [
        "___"
      ]
    },
    {
      "attachments": {},
      "cell_type": "markdown",
      "id": "0fd3f17e",
      "metadata": {},
      "source": [
        "**Выводы по дополнительному анализу сфер деятельности:**  \n",
        "1. Оказывается, все имеющиеся в базе данных вакансии (49197) принадлежат 63% компаний (14906 из 23501). Иначе говоря, более трети работодателей числятся в базе, но в настоящее время не набирают сотрудников. К тому же, как мы видели ранее, не все компании указали сферу своей деятельности. Поэтому, если мы хотим понять, в каких сферах больше всего шансов отыскать работу, следует оценить их не только с точки зрения количества работодателей, но и в разрезе количества открытых вакансий.  \n",
        "\n",
        "2. Несмотря на сортировку по вакансиям, первые три сферы деятельности одинаково успешно держат первенство и по количеству работодателей. Банки и компании мобильной связи замыкают ТОП-5 по числу вакансий, что вполне очевидно, т.к. эти сферы активно развиваются и нуждаются в обработке и анализе больших объемов данных о клиентах. Кроме этого, в предыдущем исследовании *ТОП-5 работодателей* в число лидеров вошли банки Тинькофф и СБЕР, а также коммуникационный оператор Ростелеком, чем и объясняется в данном случае высокий рейтинг связанных с ними сфер деятельности.\n",
        "    \n",
        "    Сразу за ТОП-5 сфер наблюдается резкое снижение как количества работодателей, так и количества открытых вакансий, что указывает на исключительную популярность и стремительное развитие первых сфер деятельности. Отметим, что сферой, в которой представлен лишь один работодатель, является \"Ассоциация в сфере культуры, искусства\", а сфера, где нет ни одной вакансии (хотя есть три работодателя) - \"Ботанический сад, зоопарк, заповедник\".\n",
        "\n",
        "    При этом не стоит забывать, что *ТОП-5 работодателей* по количеству открытых вакасий замыкает \"Газпром нефть\". Однако сферы деятельности этой компании (\"Нефтепереработка, нефтехимия (производство)\", \"ГСМ, топливо (продвижение, оптовая торговля)\" и \"ГСМ, топливо (розничная торговля)\") не вошли даже в десятку нашего рейтинга. Это означает, что сфера деятельности не обязательно должна насчитывать большое количество работодателей, чтобы предлагать соискателям массу вакансий, т.к. один крупный работодатель может предложить много свободных позиций. Яркий пример этому - компания \"Яндекс\".  \n",
        "\n",
        "3. Как ни странно, но все те же сферы деятельности предлагают наибольшее число вакансий для начинающих специалистов без опыта работы. Это подтверждает вывод о том, что данные сферы претерпевают бурный рост, и компании, остро нуждающиеся в работниках, готовы \"выращивать\" специалистов внутри с прицелом на будущее. Отметим, что и в остальных категориях опыта работы лидерами являются эти же сферы деятельности.  \n",
        "\n",
        "4. Ожидаемо, наибольшее количество вакансий, связанных с данными и Data Science обнаруживается в рассмотренных выше быстро развивающихся сферах. Именно в них требуется работа с большими данными, а также моделирование и предсказание поведения клиентов. Однако ими все не ограничивается. Полный рейтинг насчитывает 195 сфер деятельности (66% от полного списка), где востребована наука о данных, и к ним относятся розничные сети по продаже товаров, складские услуги, водоснабжение и канализация и даже ветеринарная деятельность!  \n",
        "\n",
        "5. В целом, представление о том, что зарплаты в Москве выше, чем в других городах, подтвердилось. За исключением двух аномалий в полученной выгрузке, где разница превышает 10 тыс. процентов (ошибка в нескольких порядках при указании зарплаты в других городах), которыми нужно пренебречь, видно, что одна и та же позиция в столице может оплачиваться во много раз выше. А вот меньший размер оплаты труда по схожим вакансиям редко превышает 50% по сравнению с Москвой, и таких вакансий гораздо меньше.  \n",
        "\n",
        "    К тому же, в случаях более высоких московских зарплат чаще встречаются оффлайн-вакансии, такие как: Администратор проектов, Ведущий менеджер по продажам, - в то время, как более низкие московские зарплаты практически полностью характерны для онлайн-позиций. Последнее наблюдение вполне объяснимо: если сотрудник может работать на московской позиции удаленно из другого города, где жизнь дешевле, то зарплату можно снизить, тогда как офисному работнику в самой Москве приходится увеличивать жалование ввиду высокой стоимости жизни.  \n",
        "\n",
        "    Еще раз отметим, что для данного исследования были сделаны оговороки, могущие влиять на результат: вакансии сгруппированы по названию, но не по работодателю, не учтен верхний порог зарплатной вилки, отброшены вакансии, в которых работодатель не указал размер зарплаты, а также такие вакансии, где зарплата в разных городах совпадает. Впрочем, последних насчитывается лишь 81, что намного меньше, чем 134 случая различия в зарплатах. Кроме этого разница иногда расчитывалась лишь на основании одной вакансии, что является не слишком репрезентативным.\n",
        "\n",
        "6. За пределами России работодатели предлагают 632 позиции, что составляет чуть более 1% всей базы вакансий. Это понятно, т.к. портал hh.ru ориентирован на работодателей из постсоветского пространства. География \"зарубежных\" вакансий широкая, включает даже США. Но больше половины вакансий сосредоточены в Армении и на Кипре.  "
      ]
    },
    {
      "attachments": {},
      "cell_type": "markdown",
      "id": "c0ED6fh7wiBT",
      "metadata": {
        "id": "c0ED6fh7wiBT"
      },
      "source": [
        "# Общий вывод по проекту"
      ]
    },
    {
      "attachments": {},
      "cell_type": "markdown",
      "id": "e87a1517",
      "metadata": {},
      "source": [
        "1. Первым делом стоит сказать, что для точных оценок и прогнозов и тем более моделирования использованных данных из базы недостаточно: 49 тыс. вакансий, 23,5 тыс. работодателей, треть из которых не указали свою сферу деятельности, и треть из которых не размещает вакансии. Для получения результатов, на которые можно опираться в дальнейшей работе, желательно увеличить объем входных данных минимум вдвое (100 тыс. вакансий).  \n",
        "\n",
        "2. Тем не менее, сделанные выводы позволяют сформировать общее представление о положении дел в рекрутинговой сфере. Так, например, при средней минимальной зарплате по всем вакансиям в 71 тыс. начинающий дата-сайентист может рассчитывать на 75 тыс. (в среднем) причем вне зависимости от региона и сфера деятельности.  \n",
        "\n",
        "3. Впрочем, только 3,5% (1771) всех вакансий имеют отношение к анализу данных и лишь в 3% из них (51 вакансия) работодатели готовы взять дата-сайентиста без опыта или на стажировку.  \n",
        "\n",
        "4. Однако поскольку сферы деятельности, связанные с разработкой ПО, автоматизацией, интернет, а также банками и мобильной связью претерпевают бурный рост, они стремительно расширяются (это подтверждается количеством открытых вакансий, охваченных регионов, а также числом самих компаний) и остро нуждаются в специалистах: в больше половине вакансий требуется опыт работы от 1 до 3 лет; еще четверть приходится на специалистов с опытом от 3 до 6 лет.  \n",
        "\n",
        "5. И хотя вакансий без опыта работы во всех сферах насчитывается не более 15%, можно ожидать увеличения их числа (в первую очередь за счет перечисленных выше сфер), а также хорошие карьерные перспективы для вступивших на этот путь. Например, дата-сайентисты, проработавшие год, могут рассчитывать на удвоение своей зарплаты, а еще спустя несколько лет - на очередное удвоение!  \n",
        "\n",
        "6. Такое развитие обеспечивается крупнейшими игроками в своих сферах деятельности: Яндексом, Ростелекомом, Газпром нефтью, банками Тинькофф и СБЕР. Именно они активно привлекают и взращивают специалистов XXI века и делают это не только в крупных городах, таких как: Москва, Санкт-Петербург, Минск, Алматы, Екатеринбург, - но и в различных регионах страны. Например, лишь четверть вакансия Яндекса, как мы видели, приходится на города-миллионники.  \n",
        "\n",
        "7. От желающих связать свою карьеру с цифровыми технологиями работодатели ожидают познания в различных областях: в среднем от соискателя требуется свыше 6 различных навыков. Однако обилие информации и ее доступность позволяют относительно легко удовлетворять этим требованиям. Так, владение SQL вкупе с одним из популярных языков программирования (Python, Java, C++) сразу “закрывают” два ключевых навыка и позволяют откликаться почти на четверть вакансий, связанных с анализом данных.  \n",
        "\n",
        "8. Единственное, на что не стоит рассчитывать соискателям уровня junior - это на работу в шезлонге на берегу океана. Лишь 16% всех вакансий предлагают удаленную работу (и в первую очередь опытным специалистам) и чуть более 1% вакансий находятся за пределами России. 72% работодателей все еще ожидают видеть своих сотрудников в офисе полный рабочий день. Однако можно прогнозировать послабление этих требований после опыта пандемии и в связи с необходимостью сокращать расходы.  \n",
        "\n",
        "9. В 200 сферах деятельности из проанализированных 294 (что составляет 68%) наблюдается потребность в дата-сайентистах. 3,5 тыс. компаний из базы данных заняты разработкой программного обеспечения. Пока их число составляет 15%, но после первых обещающих результатов анализа больших данных, их использования в прогностических моделях и влияния на бизнес, следует ожидать увеличения этого числа в самом ближайшем будущем. "
      ]
    }
  ],
  "metadata": {
    "colab": {
      "collapsed_sections": [
        "8d62a9f3-f64e-4fe7-bdac-c4dffa16155e"
      ],
      "provenance": []
    },
    "kernelspec": {
      "display_name": "Python 3",
      "language": "python",
      "name": "python3"
    },
    "language_info": {
      "codemirror_mode": {
        "name": "ipython",
        "version": 3
      },
      "file_extension": ".py",
      "mimetype": "text/x-python",
      "name": "python",
      "nbconvert_exporter": "python",
      "pygments_lexer": "ipython3",
      "version": "3.9.13"
    },
    "vscode": {
      "interpreter": {
        "hash": "aee8b7b246df8f9039afb4144a1f6fd8d2ca17a180786b69acc140d282b71a49"
      }
    }
  },
  "nbformat": 4,
  "nbformat_minor": 5
}
