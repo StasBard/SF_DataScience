{
  "cells": [
    {
      "attachments": {},
      "cell_type": "markdown",
      "id": "AoeSkz4KaANH",
      "metadata": {
        "id": "AoeSkz4KaANH"
      },
      "source": [
        "# ML-7. Прогнозирование биологического ответа"
      ]
    },
    {
      "attachments": {},
      "cell_type": "markdown",
      "id": "a6b10f3f",
      "metadata": {},
      "source": [
        "![BioResponce](img/Bio_responce_title.jpg)"
      ]
    },
    {
      "attachments": {},
      "cell_type": "markdown",
      "id": "af628f85-6780-4b24-8212-e9946c388196",
      "metadata": {
        "id": "af628f85-6780-4b24-8212-e9946c388196"
      },
      "source": [
        "## 1. Введение"
      ]
    },
    {
      "attachments": {},
      "cell_type": "markdown",
      "id": "b8896f5c-1683-4a55-987f-60ce00207db5",
      "metadata": {
        "id": "b8896f5c-1683-4a55-987f-60ce00207db5"
      },
      "source": [
        "Цель практики - тренировка подбора гиперпараметров моделей МО:\n",
        "* Обучить две модели: логистическую регрессию и случайный лес;  \n",
        "* Выполнить подбор гиперпараметров с помощью базовых (GridSeachCV, RandomizedSearchCV) и продвинутых (Hyperopt, Optuna) методов оптимизации так, чтобы улучшать итоговую метрику;   \n",
        "* Провести сравнение и понять преимущества и недостатки каждого из методов.\n"
      ]
    },
    {
      "attachments": {},
      "cell_type": "markdown",
      "id": "203fb80e-a314-4876-850c-5e4913f78563",
      "metadata": {
        "id": "203fb80e-a314-4876-850c-5e4913f78563"
      },
      "source": [
        "## 2. Знакомство с данными и baseline-решение\n",
        "\n"
      ]
    },
    {
      "cell_type": "code",
      "execution_count": null,
      "id": "d8q91-MSaAOG",
      "metadata": {
        "id": "d8q91-MSaAOG"
      },
      "outputs": [],
      "source": [
        "import numpy as np\n",
        "import pandas as pd\n",
        "import matplotlib.pyplot as plt\n",
        "import seaborn as sns\n",
        "\n",
        "from sklearn import linear_model\n",
        "from sklearn import ensemble\n",
        "from sklearn import metrics\n",
        "from sklearn.model_selection import train_test_split\n",
        "\n",
        "from sklearn.model_selection import GridSearchCV\n",
        "from sklearn.model_selection import RandomizedSearchCV\n",
        "from sklearn.model_selection import cross_val_score\n",
        "\n",
        "import hyperopt\n",
        "from hyperopt import hp, fmin, tpe, Trials\n",
        "\n",
        "%matplotlib inline"
      ]
    },
    {
      "attachments": {},
      "cell_type": "markdown",
      "id": "ezanmTbEaAOe",
      "metadata": {
        "id": "ezanmTbEaAOe"
      },
      "source": [
        "### 2.1. Описание задачи"
      ]
    },
    {
      "attachments": {},
      "cell_type": "markdown",
      "id": "8SprnF5HaAOj",
      "metadata": {
        "id": "8SprnF5HaAOj"
      },
      "source": [
        "Необходимо предсказать биологический ответ молекул (столбец 'Activity') по их химическому составу (столбцы D1-D1776).  \n",
        "\n",
        "Данные представлены в формате csv.  Каждая строка представляет молекулу. Первый столбец 'Activity' содержит экспериментальные данные, описывающие фактический биологический ответ [0, 1]; остальные столбцы 'D1-D1776' представляют собой молекулярные *дескрипторы* — вычисляемые свойства, которые могут фиксировать некоторые характеристики молекулы, например размер, форму или состав элементов.  \n",
        "\n",
        "Предварительная обработка не требуется, данные уже закодированы и нормализованы.  \n",
        "\n",
        "В качестве метрики будем использовать **$F_1$-score**.\n"
      ]
    },
    {
      "attachments": {},
      "cell_type": "markdown",
      "id": "8lbyun1kaAOy",
      "metadata": {
        "id": "8lbyun1kaAOy"
      },
      "source": [
        "### 2.2. Знакомство с данными"
      ]
    },
    {
      "cell_type": "code",
      "execution_count": null,
      "id": "p770SmlfaAO3",
      "metadata": {
        "colab": {
          "base_uri": "https://localhost:8080/",
          "height": 300
        },
        "id": "p770SmlfaAO3",
        "outputId": "36d72b22-e73c-49df-c8cb-7ce420e33ea0"
      },
      "outputs": [
        {
          "data": {
            "text/html": [
              "\n",
              "  <div id=\"df-a8a1c169-d66f-4830-8632-7780d2187f9c\">\n",
              "    <div class=\"colab-df-container\">\n",
              "      <div>\n",
              "<style scoped>\n",
              "    .dataframe tbody tr th:only-of-type {\n",
              "        vertical-align: middle;\n",
              "    }\n",
              "\n",
              "    .dataframe tbody tr th {\n",
              "        vertical-align: top;\n",
              "    }\n",
              "\n",
              "    .dataframe thead th {\n",
              "        text-align: right;\n",
              "    }\n",
              "</style>\n",
              "<table border=\"1\" class=\"dataframe\">\n",
              "  <thead>\n",
              "    <tr style=\"text-align: right;\">\n",
              "      <th></th>\n",
              "      <th>Activity</th>\n",
              "      <th>D1</th>\n",
              "      <th>D2</th>\n",
              "      <th>D3</th>\n",
              "      <th>D4</th>\n",
              "      <th>D5</th>\n",
              "      <th>D6</th>\n",
              "      <th>D7</th>\n",
              "      <th>D8</th>\n",
              "      <th>D9</th>\n",
              "      <th>...</th>\n",
              "      <th>D1767</th>\n",
              "      <th>D1768</th>\n",
              "      <th>D1769</th>\n",
              "      <th>D1770</th>\n",
              "      <th>D1771</th>\n",
              "      <th>D1772</th>\n",
              "      <th>D1773</th>\n",
              "      <th>D1774</th>\n",
              "      <th>D1775</th>\n",
              "      <th>D1776</th>\n",
              "    </tr>\n",
              "  </thead>\n",
              "  <tbody>\n",
              "    <tr>\n",
              "      <th>0</th>\n",
              "      <td>1</td>\n",
              "      <td>0.000000</td>\n",
              "      <td>0.497009</td>\n",
              "      <td>0.10</td>\n",
              "      <td>0.0</td>\n",
              "      <td>0.132956</td>\n",
              "      <td>0.678031</td>\n",
              "      <td>0.273166</td>\n",
              "      <td>0.585445</td>\n",
              "      <td>0.743663</td>\n",
              "      <td>...</td>\n",
              "      <td>0</td>\n",
              "      <td>0</td>\n",
              "      <td>0</td>\n",
              "      <td>0</td>\n",
              "      <td>0</td>\n",
              "      <td>0</td>\n",
              "      <td>0</td>\n",
              "      <td>0</td>\n",
              "      <td>0</td>\n",
              "      <td>0</td>\n",
              "    </tr>\n",
              "    <tr>\n",
              "      <th>1</th>\n",
              "      <td>1</td>\n",
              "      <td>0.366667</td>\n",
              "      <td>0.606291</td>\n",
              "      <td>0.05</td>\n",
              "      <td>0.0</td>\n",
              "      <td>0.111209</td>\n",
              "      <td>0.803455</td>\n",
              "      <td>0.106105</td>\n",
              "      <td>0.411754</td>\n",
              "      <td>0.836582</td>\n",
              "      <td>...</td>\n",
              "      <td>1</td>\n",
              "      <td>1</td>\n",
              "      <td>1</td>\n",
              "      <td>1</td>\n",
              "      <td>0</td>\n",
              "      <td>1</td>\n",
              "      <td>0</td>\n",
              "      <td>0</td>\n",
              "      <td>1</td>\n",
              "      <td>0</td>\n",
              "    </tr>\n",
              "    <tr>\n",
              "      <th>2</th>\n",
              "      <td>1</td>\n",
              "      <td>0.033300</td>\n",
              "      <td>0.480124</td>\n",
              "      <td>0.00</td>\n",
              "      <td>0.0</td>\n",
              "      <td>0.209791</td>\n",
              "      <td>0.610350</td>\n",
              "      <td>0.356453</td>\n",
              "      <td>0.517720</td>\n",
              "      <td>0.679051</td>\n",
              "      <td>...</td>\n",
              "      <td>0</td>\n",
              "      <td>0</td>\n",
              "      <td>0</td>\n",
              "      <td>0</td>\n",
              "      <td>0</td>\n",
              "      <td>0</td>\n",
              "      <td>0</td>\n",
              "      <td>0</td>\n",
              "      <td>0</td>\n",
              "      <td>0</td>\n",
              "    </tr>\n",
              "    <tr>\n",
              "      <th>3</th>\n",
              "      <td>1</td>\n",
              "      <td>0.000000</td>\n",
              "      <td>0.538825</td>\n",
              "      <td>0.00</td>\n",
              "      <td>0.5</td>\n",
              "      <td>0.196344</td>\n",
              "      <td>0.724230</td>\n",
              "      <td>0.235606</td>\n",
              "      <td>0.288764</td>\n",
              "      <td>0.805110</td>\n",
              "      <td>...</td>\n",
              "      <td>0</td>\n",
              "      <td>0</td>\n",
              "      <td>0</td>\n",
              "      <td>0</td>\n",
              "      <td>0</td>\n",
              "      <td>0</td>\n",
              "      <td>0</td>\n",
              "      <td>0</td>\n",
              "      <td>0</td>\n",
              "      <td>0</td>\n",
              "    </tr>\n",
              "    <tr>\n",
              "      <th>4</th>\n",
              "      <td>0</td>\n",
              "      <td>0.100000</td>\n",
              "      <td>0.517794</td>\n",
              "      <td>0.00</td>\n",
              "      <td>0.0</td>\n",
              "      <td>0.494734</td>\n",
              "      <td>0.781422</td>\n",
              "      <td>0.154361</td>\n",
              "      <td>0.303809</td>\n",
              "      <td>0.812646</td>\n",
              "      <td>...</td>\n",
              "      <td>0</td>\n",
              "      <td>0</td>\n",
              "      <td>0</td>\n",
              "      <td>0</td>\n",
              "      <td>0</td>\n",
              "      <td>0</td>\n",
              "      <td>0</td>\n",
              "      <td>0</td>\n",
              "      <td>0</td>\n",
              "      <td>0</td>\n",
              "    </tr>\n",
              "  </tbody>\n",
              "</table>\n",
              "<p>5 rows × 1777 columns</p>\n",
              "</div>\n",
              "      <button class=\"colab-df-convert\" onclick=\"convertToInteractive('df-a8a1c169-d66f-4830-8632-7780d2187f9c')\"\n",
              "              title=\"Convert this dataframe to an interactive table.\"\n",
              "              style=\"display:none;\">\n",
              "        \n",
              "  <svg xmlns=\"http://www.w3.org/2000/svg\" height=\"24px\"viewBox=\"0 0 24 24\"\n",
              "       width=\"24px\">\n",
              "    <path d=\"M0 0h24v24H0V0z\" fill=\"none\"/>\n",
              "    <path d=\"M18.56 5.44l.94 2.06.94-2.06 2.06-.94-2.06-.94-.94-2.06-.94 2.06-2.06.94zm-11 1L8.5 8.5l.94-2.06 2.06-.94-2.06-.94L8.5 2.5l-.94 2.06-2.06.94zm10 10l.94 2.06.94-2.06 2.06-.94-2.06-.94-.94-2.06-.94 2.06-2.06.94z\"/><path d=\"M17.41 7.96l-1.37-1.37c-.4-.4-.92-.59-1.43-.59-.52 0-1.04.2-1.43.59L10.3 9.45l-7.72 7.72c-.78.78-.78 2.05 0 2.83L4 21.41c.39.39.9.59 1.41.59.51 0 1.02-.2 1.41-.59l7.78-7.78 2.81-2.81c.8-.78.8-2.07 0-2.86zM5.41 20L4 18.59l7.72-7.72 1.47 1.35L5.41 20z\"/>\n",
              "  </svg>\n",
              "      </button>\n",
              "      \n",
              "  <style>\n",
              "    .colab-df-container {\n",
              "      display:flex;\n",
              "      flex-wrap:wrap;\n",
              "      gap: 12px;\n",
              "    }\n",
              "\n",
              "    .colab-df-convert {\n",
              "      background-color: #E8F0FE;\n",
              "      border: none;\n",
              "      border-radius: 50%;\n",
              "      cursor: pointer;\n",
              "      display: none;\n",
              "      fill: #1967D2;\n",
              "      height: 32px;\n",
              "      padding: 0 0 0 0;\n",
              "      width: 32px;\n",
              "    }\n",
              "\n",
              "    .colab-df-convert:hover {\n",
              "      background-color: #E2EBFA;\n",
              "      box-shadow: 0px 1px 2px rgba(60, 64, 67, 0.3), 0px 1px 3px 1px rgba(60, 64, 67, 0.15);\n",
              "      fill: #174EA6;\n",
              "    }\n",
              "\n",
              "    [theme=dark] .colab-df-convert {\n",
              "      background-color: #3B4455;\n",
              "      fill: #D2E3FC;\n",
              "    }\n",
              "\n",
              "    [theme=dark] .colab-df-convert:hover {\n",
              "      background-color: #434B5C;\n",
              "      box-shadow: 0px 1px 3px 1px rgba(0, 0, 0, 0.15);\n",
              "      filter: drop-shadow(0px 1px 2px rgba(0, 0, 0, 0.3));\n",
              "      fill: #FFFFFF;\n",
              "    }\n",
              "  </style>\n",
              "\n",
              "      <script>\n",
              "        const buttonEl =\n",
              "          document.querySelector('#df-a8a1c169-d66f-4830-8632-7780d2187f9c button.colab-df-convert');\n",
              "        buttonEl.style.display =\n",
              "          google.colab.kernel.accessAllowed ? 'block' : 'none';\n",
              "\n",
              "        async function convertToInteractive(key) {\n",
              "          const element = document.querySelector('#df-a8a1c169-d66f-4830-8632-7780d2187f9c');\n",
              "          const dataTable =\n",
              "            await google.colab.kernel.invokeFunction('convertToInteractive',\n",
              "                                                     [key], {});\n",
              "          if (!dataTable) return;\n",
              "\n",
              "          const docLinkHtml = 'Like what you see? Visit the ' +\n",
              "            '<a target=\"_blank\" href=https://colab.research.google.com/notebooks/data_table.ipynb>data table notebook</a>'\n",
              "            + ' to learn more about interactive tables.';\n",
              "          element.innerHTML = '';\n",
              "          dataTable['output_type'] = 'display_data';\n",
              "          await google.colab.output.renderOutput(dataTable, element);\n",
              "          const docLink = document.createElement('div');\n",
              "          docLink.innerHTML = docLinkHtml;\n",
              "          element.appendChild(docLink);\n",
              "        }\n",
              "      </script>\n",
              "    </div>\n",
              "  </div>\n",
              "  "
            ],
            "text/plain": [
              "   Activity        D1        D2    D3   D4        D5        D6        D7  \\\n",
              "0         1  0.000000  0.497009  0.10  0.0  0.132956  0.678031  0.273166   \n",
              "1         1  0.366667  0.606291  0.05  0.0  0.111209  0.803455  0.106105   \n",
              "2         1  0.033300  0.480124  0.00  0.0  0.209791  0.610350  0.356453   \n",
              "3         1  0.000000  0.538825  0.00  0.5  0.196344  0.724230  0.235606   \n",
              "4         0  0.100000  0.517794  0.00  0.0  0.494734  0.781422  0.154361   \n",
              "\n",
              "         D8        D9  ...  D1767  D1768  D1769  D1770  D1771  D1772  D1773  \\\n",
              "0  0.585445  0.743663  ...      0      0      0      0      0      0      0   \n",
              "1  0.411754  0.836582  ...      1      1      1      1      0      1      0   \n",
              "2  0.517720  0.679051  ...      0      0      0      0      0      0      0   \n",
              "3  0.288764  0.805110  ...      0      0      0      0      0      0      0   \n",
              "4  0.303809  0.812646  ...      0      0      0      0      0      0      0   \n",
              "\n",
              "   D1774  D1775  D1776  \n",
              "0      0      0      0  \n",
              "1      0      1      0  \n",
              "2      0      0      0  \n",
              "3      0      0      0  \n",
              "4      0      0      0  \n",
              "\n",
              "[5 rows x 1777 columns]"
            ]
          },
          "execution_count": 2,
          "metadata": {},
          "output_type": "execute_result"
        }
      ],
      "source": [
        "# Для работы в Google Colab\n",
        "data = pd.read_csv('/content/sample_data/train_sem09.csv')\n",
        "data.head()\n",
        "\n",
        "# Для работы в IDE\n",
        "# data = pd.read_csv('data/train_sem09.csv')"
      ]
    },
    {
      "attachments": {},
      "cell_type": "markdown",
      "id": "g2w-AD7uaAPK",
      "metadata": {
        "id": "g2w-AD7uaAPK"
      },
      "source": [
        "Убедимся, что данные не содержат пропусков:"
      ]
    },
    {
      "cell_type": "code",
      "execution_count": null,
      "id": "-0L4fYsbaAPP",
      "metadata": {
        "colab": {
          "base_uri": "https://localhost:8080/"
        },
        "id": "-0L4fYsbaAPP",
        "outputId": "45a6cd78-0617-4361-d57a-f2eaba22bac4"
      },
      "outputs": [
        {
          "name": "stdout",
          "output_type": "stream",
          "text": [
            "Количество пропусков в датафрейме: 0\n"
          ]
        }
      ],
      "source": [
        "print('Количество пропусков в датафрейме:', (data.isnull().sum()).sum())"
      ]
    },
    {
      "attachments": {},
      "cell_type": "markdown",
      "id": "0jbyUoPlaAPc",
      "metadata": {
        "id": "0jbyUoPlaAPc"
      },
      "source": [
        "Проверим сбалансированность классов:"
      ]
    },
    {
      "cell_type": "code",
      "execution_count": null,
      "id": "PPo2xmRdaAPf",
      "metadata": {
        "colab": {
          "base_uri": "https://localhost:8080/",
          "height": 449
        },
        "id": "PPo2xmRdaAPf",
        "outputId": "697e0bc9-7157-4205-bd6f-c9dd8beeb5ed"
      },
      "outputs": [
        {
          "data": {
            "image/png": "[encoded data removed]",
            "text/plain": [
              "<Figure size 640x480 with 1 Axes>"
            ]
          },
          "metadata": {},
          "output_type": "display_data"
        }
      ],
      "source": [
        "sns.countplot(data=data, x='Activity');"
      ]
    },
    {
      "attachments": {},
      "cell_type": "markdown",
      "id": "M20nsIRfaAP-",
      "metadata": {
        "id": "M20nsIRfaAP-"
      },
      "source": [
        "### 2.3. Подготовка данных"
      ]
    },
    {
      "attachments": {},
      "cell_type": "markdown",
      "id": "8p3eELnEaAQW",
      "metadata": {
        "id": "8p3eELnEaAQW"
      },
      "source": [
        "Создаем матрицу наблюдений $X$ и вектор ответов $y$"
      ]
    },
    {
      "cell_type": "code",
      "execution_count": null,
      "id": "_2GncsCbaAQY",
      "metadata": {
        "id": "_2GncsCbaAQY"
      },
      "outputs": [],
      "source": [
        "X = data.drop(['Activity'], axis=1)\n",
        "y = data['Activity']"
      ]
    },
    {
      "attachments": {},
      "cell_type": "markdown",
      "id": "q4SyRSFhaAQZ",
      "metadata": {
        "id": "q4SyRSFhaAQZ"
      },
      "source": [
        "Разделяем выборку на тренировочную и тестовую в соотношении 80/20. Для сохранения соотношений целевого признака используем параметр stratify (стратифицированное разбиение). "
      ]
    },
    {
      "cell_type": "code",
      "execution_count": null,
      "id": "Fl_eJIInaAQa",
      "metadata": {
        "id": "Fl_eJIInaAQa"
      },
      "outputs": [],
      "source": [
        "X_train, X_test, y_train, y_test = train_test_split(X, y, stratify=y, random_state = 42, test_size = 0.2)"
      ]
    },
    {
      "attachments": {},
      "cell_type": "markdown",
      "id": "I43WQ36dBO0R",
      "metadata": {
        "id": "I43WQ36dBO0R"
      },
      "source": [
        "### 2.4. Обучение моделей с параметрами по умолчанию\n",
        "\n"
      ]
    },
    {
      "attachments": {},
      "cell_type": "markdown",
      "id": "CE7v-medaAQh",
      "metadata": {
        "id": "CE7v-medaAQh"
      },
      "source": [
        "#### **2.4.1. Логистическая регрессия**"
      ]
    },
    {
      "attachments": {},
      "cell_type": "markdown",
      "id": "5b6d603a-1ce0-414e-b095-e0f61113c0e7",
      "metadata": {
        "id": "5b6d603a-1ce0-414e-b095-e0f61113c0e7"
      },
      "source": [
        "Зафиксируем только метрики, которые были получены без дополнительной настройки, т.е со значениями гиперпараметров, установленных по умолчанию:"
      ]
    },
    {
      "cell_type": "code",
      "execution_count": null,
      "id": "0aMCHU3-aAQn",
      "metadata": {
        "colab": {
          "base_uri": "https://localhost:8080/",
          "height": 70
        },
        "id": "0aMCHU3-aAQn",
        "outputId": "4a9dc85c-d182-4159-ee31-c98a917a0b5a"
      },
      "outputs": [
        {
          "data": {
            "application/vnd.google.colaboratory.intrinsic+json": {
              "type": "string"
            },
            "text/plain": [
              "'Метрики для базовых параметров LogisticRegresion:'"
            ]
          },
          "metadata": {},
          "output_type": "display_data"
        },
        {
          "name": "stdout",
          "output_type": "stream",
          "text": [
            "accuracy на тестовом наборе: 0.75\n",
            "f1_score на тестовом наборе: 0.78\n"
          ]
        }
      ],
      "source": [
        "#Создаем объект класса логистическая регрессия\n",
        "log_reg = linear_model.LogisticRegression(max_iter = 500)\n",
        "\n",
        "#Обучаем модель\n",
        "log_reg.fit(X_train, y_train)\n",
        "\n",
        "# Вычислим и выведем значение метрики\n",
        "display('Метрики для базовых параметров LogisticRegresion:')\n",
        "print(\"accuracy на тестовом наборе: {:.2f}\".format(log_reg.score(X_test, y_test)))\n",
        "y_test_pred = log_reg.predict(X_test)\n",
        "print('f1_score на тестовом наборе: {:.2f}'.format(metrics.f1_score(y_test, y_test_pred)))"
      ]
    },
    {
      "attachments": {},
      "cell_type": "markdown",
      "id": "3Wr79SjIhGg4",
      "metadata": {
        "id": "3Wr79SjIhGg4"
      },
      "source": [
        "#### **2.4.2. Случайный лес**"
      ]
    },
    {
      "cell_type": "code",
      "execution_count": null,
      "id": "gCsrRbOYpyp3",
      "metadata": {
        "colab": {
          "base_uri": "https://localhost:8080/",
          "height": 70
        },
        "id": "gCsrRbOYpyp3",
        "outputId": "51c22ac2-a9db-45e1-b07e-f36761b0f17f"
      },
      "outputs": [
        {
          "data": {
            "application/vnd.google.colaboratory.intrinsic+json": {
              "type": "string"
            },
            "text/plain": [
              "'Метрики для базовых параметров RandomForestClassifier:'"
            ]
          },
          "metadata": {},
          "output_type": "display_data"
        },
        {
          "name": "stdout",
          "output_type": "stream",
          "text": [
            "accuracy на тестовом наборе: 0.78\n",
            "f1_score на тестовом наборе: 0.80\n"
          ]
        }
      ],
      "source": [
        "#Создаем объект класса случайный лес\n",
        "rfcl = ensemble.RandomForestClassifier()\n",
        "\n",
        "#Обучаем модель\n",
        "rfcl.fit(X_train, y_train)\n",
        "\n",
        "# Вычислим и выведем значение метрики\n",
        "display('Метрики для базовых параметров RandomForestClassifier:')\n",
        "print(\"accuracy на тестовом наборе: {:.2f}\".format(rfcl.score(X_test, y_test)))\n",
        "y_test_pred = rfcl.predict(X_test)\n",
        "print('f1_score на тестовом наборе: {:.2f}'.format(metrics.f1_score(y_test, y_test_pred)))"
      ]
    },
    {
      "attachments": {},
      "cell_type": "markdown",
      "id": "QIweD8i2qb5a",
      "metadata": {
        "id": "QIweD8i2qb5a"
      },
      "source": [
        "> ### **Промежуточный вывод по baseline-решению:**  \n",
        ">  \n",
        "> Как можно заметить, обе модели довольно неплохо справились с задачей предсказания без подбора гиперпараметров, при этом модель случайного леса несколько превзошла логистическую регрессию: 0,80 против 0,78 по метрике $F_1$-score, соответственно. По всей видимости, дело в хорошо подготовленных, нормализованных данных.  \n",
        ">  \n",
        "> Посмотрим, смогут ли показать лучшие результаты алгоритмы подбора гиперпарамтров.  \n",
        "___"
      ]
    },
    {
      "attachments": {},
      "cell_type": "markdown",
      "id": "scBBy2nGA9SI",
      "metadata": {
        "id": "scBBy2nGA9SI"
      },
      "source": [
        "## 3. Базовая оптимизация гиперпараметров моделей"
      ]
    },
    {
      "attachments": {},
      "cell_type": "markdown",
      "id": "Q6PP7ObJp7WG",
      "metadata": {
        "id": "Q6PP7ObJp7WG"
      },
      "source": [
        "### 3.1. GridSearchCV"
      ]
    },
    {
      "attachments": {},
      "cell_type": "markdown",
      "id": "6_WJARS6Dj8g",
      "metadata": {
        "id": "6_WJARS6Dj8g"
      },
      "source": [
        "#### **3.1.1. Логистическая регрессия**  \n",
        "Гиперпараметры логистической регрессии:\n",
        "* в качестве алгоритма оптимизации используем lbfgs, sag, saga как наиболее подходящие; liblinear, newton-cholesky не подходят для нашего датасета с большим числом признаков и лишь в два раза большим числом наблюдений; newton-cg также не подойдет, т.к. предназначен для задач с распределением на множество классов;  \n",
        "* в качестве типов регуляризации используем все доступные для алгоритмов типы, кроме elasticnet (он вызывает ошибку) - для этого потребуется создать список из словарей в параметре param_grid;  \n",
        "* диапазон силы регуляризации C зададим с фокусом на диапазон от 0.01 до 0.1, зная заранее, что наилучшие результаты достигаются при наименьшем значении  C.  "
      ]
    },
    {
      "cell_type": "code",
      "execution_count": null,
      "id": "gLkG_sbSkBcu",
      "metadata": {
        "colab": {
          "base_uri": "https://localhost:8080/"
        },
        "id": "gLkG_sbSkBcu",
        "outputId": "1bd74b92-a776-411e-f5de-51062d8d6271"
      },
      "outputs": [
        {
          "name": "stdout",
          "output_type": "stream",
          "text": [
            "CPU times: user 34.8 s, sys: 1.38 s, total: 36.2 s\n",
            "Wall time: 30min 52s\n",
            "accuracy на тестовом наборе: 0.76\n",
            "f1_score на тестовом наборе: 0.79\n",
            "Наилучшие значения гиперпараметров: {'C': 0.05, 'penalty': 'l2', 'solver': 'saga'}\n"
          ]
        }
      ],
      "source": [
        "# Создаем сетку настраиваемых гиперпараметров\n",
        "param_grid = [\n",
        "    {'penalty' : ['l2', None],\n",
        "     'solver': ['lbfgs', 'sag'],\n",
        "     'C': [0.01, 0.05, 0.07, 0.5, 1]},\n",
        "    {'penalty': ['l1', 'l2', None],\n",
        "     'solver': ['saga'],\n",
        "     'C': [0.01, 0.05, 0.1, 0.5, 1]}\n",
        "]\n",
        "\n",
        "# Создаем объект GridSearchCV с моделью логистической регрессии\n",
        "grid_search = GridSearchCV(\n",
        "    estimator = linear_model.LogisticRegression(random_state=42, max_iter=300), \n",
        "    param_grid = param_grid, \n",
        "    cv = 5,\n",
        "    error_score = 'raise',\n",
        "    n_jobs = -1\n",
        ")\n",
        "\n",
        "# Подбираем параметры, вычисляем и выводим метрики, а также наилучшие гиперпараметры\n",
        "%time grid_search.fit(X_train, y_train) \n",
        "print(\"accuracy на тестовом наборе: {:.2f}\".format(grid_search.score(X_test, y_test)))\n",
        "y_test_pred = grid_search.predict(X_test)\n",
        "print('f1_score на тестовом наборе: {:.2f}'.format(metrics.f1_score(y_test, y_test_pred)))\n",
        "print(\"Наилучшие значения гиперпараметров: {}\".format(grid_search.best_params_))"
      ]
    },
    {
      "cell_type": "code",
      "execution_count": null,
      "id": "oyI22pufdfwD",
      "metadata": {
        "colab": {
          "base_uri": "https://localhost:8080/"
        },
        "id": "oyI22pufdfwD",
        "outputId": "d5bdd2be-f76c-4aff-f4dc-a5591d21dc0f"
      },
      "outputs": [
        {
          "name": "stdout",
          "output_type": "stream",
          "text": [
            "Наилучшее значение точности при кросс-валидаци: 0.77\n"
          ]
        }
      ],
      "source": [
        "print(\"Наилучшее значение точности при кросс-валидаци: {:.2f}\".format(grid_search.best_score_))"
      ]
    },
    {
      "cell_type": "code",
      "execution_count": null,
      "id": "Is1qd_z5dfHh",
      "metadata": {
        "colab": {
          "base_uri": "https://localhost:8080/",
          "height": 350
        },
        "id": "Is1qd_z5dfHh",
        "outputId": "00f305ef-754d-4eaf-c4d8-507eda08aca3"
      },
      "outputs": [
        {
          "data": {
            "text/html": [
              "\n",
              "  <div id=\"df-2943e80e-ab91-4ae3-8b4d-1dd8d05da5af\">\n",
              "    <div class=\"colab-df-container\">\n",
              "      <div>\n",
              "<style scoped>\n",
              "    .dataframe tbody tr th:only-of-type {\n",
              "        vertical-align: middle;\n",
              "    }\n",
              "\n",
              "    .dataframe tbody tr th {\n",
              "        vertical-align: top;\n",
              "    }\n",
              "\n",
              "    .dataframe thead th {\n",
              "        text-align: right;\n",
              "    }\n",
              "</style>\n",
              "<table border=\"1\" class=\"dataframe\">\n",
              "  <thead>\n",
              "    <tr style=\"text-align: right;\">\n",
              "      <th></th>\n",
              "      <th>mean_fit_time</th>\n",
              "      <th>std_fit_time</th>\n",
              "      <th>mean_score_time</th>\n",
              "      <th>std_score_time</th>\n",
              "      <th>param_C</th>\n",
              "      <th>param_penalty</th>\n",
              "      <th>param_solver</th>\n",
              "      <th>params</th>\n",
              "      <th>split0_test_score</th>\n",
              "      <th>split1_test_score</th>\n",
              "      <th>split2_test_score</th>\n",
              "      <th>split3_test_score</th>\n",
              "      <th>split4_test_score</th>\n",
              "      <th>mean_test_score</th>\n",
              "      <th>std_test_score</th>\n",
              "      <th>rank_test_score</th>\n",
              "    </tr>\n",
              "  </thead>\n",
              "  <tbody>\n",
              "    <tr>\n",
              "      <th>0</th>\n",
              "      <td>1.264933</td>\n",
              "      <td>0.148088</td>\n",
              "      <td>0.073443</td>\n",
              "      <td>0.012773</td>\n",
              "      <td>0.01</td>\n",
              "      <td>l2</td>\n",
              "      <td>lbfgs</td>\n",
              "      <td>{'C': 0.01, 'penalty': 'l2', 'solver': 'lbfgs'}</td>\n",
              "      <td>0.793333</td>\n",
              "      <td>0.776667</td>\n",
              "      <td>0.736667</td>\n",
              "      <td>0.765</td>\n",
              "      <td>0.741667</td>\n",
              "      <td>0.762667</td>\n",
              "      <td>0.021255</td>\n",
              "      <td>7</td>\n",
              "    </tr>\n",
              "    <tr>\n",
              "      <th>1</th>\n",
              "      <td>10.585104</td>\n",
              "      <td>1.107499</td>\n",
              "      <td>0.045126</td>\n",
              "      <td>0.026598</td>\n",
              "      <td>0.01</td>\n",
              "      <td>l2</td>\n",
              "      <td>sag</td>\n",
              "      <td>{'C': 0.01, 'penalty': 'l2', 'solver': 'sag'}</td>\n",
              "      <td>0.793333</td>\n",
              "      <td>0.776667</td>\n",
              "      <td>0.736667</td>\n",
              "      <td>0.765</td>\n",
              "      <td>0.738333</td>\n",
              "      <td>0.762000</td>\n",
              "      <td>0.021944</td>\n",
              "      <td>9</td>\n",
              "    </tr>\n",
              "  </tbody>\n",
              "</table>\n",
              "</div>\n",
              "      <button class=\"colab-df-convert\" onclick=\"convertToInteractive('df-2943e80e-ab91-4ae3-8b4d-1dd8d05da5af')\"\n",
              "              title=\"Convert this dataframe to an interactive table.\"\n",
              "              style=\"display:none;\">\n",
              "        \n",
              "  <svg xmlns=\"http://www.w3.org/2000/svg\" height=\"24px\"viewBox=\"0 0 24 24\"\n",
              "       width=\"24px\">\n",
              "    <path d=\"M0 0h24v24H0V0z\" fill=\"none\"/>\n",
              "    <path d=\"M18.56 5.44l.94 2.06.94-2.06 2.06-.94-2.06-.94-.94-2.06-.94 2.06-2.06.94zm-11 1L8.5 8.5l.94-2.06 2.06-.94-2.06-.94L8.5 2.5l-.94 2.06-2.06.94zm10 10l.94 2.06.94-2.06 2.06-.94-2.06-.94-.94-2.06-.94 2.06-2.06.94z\"/><path d=\"M17.41 7.96l-1.37-1.37c-.4-.4-.92-.59-1.43-.59-.52 0-1.04.2-1.43.59L10.3 9.45l-7.72 7.72c-.78.78-.78 2.05 0 2.83L4 21.41c.39.39.9.59 1.41.59.51 0 1.02-.2 1.41-.59l7.78-7.78 2.81-2.81c.8-.78.8-2.07 0-2.86zM5.41 20L4 18.59l7.72-7.72 1.47 1.35L5.41 20z\"/>\n",
              "  </svg>\n",
              "      </button>\n",
              "      \n",
              "  <style>\n",
              "    .colab-df-container {\n",
              "      display:flex;\n",
              "      flex-wrap:wrap;\n",
              "      gap: 12px;\n",
              "    }\n",
              "\n",
              "    .colab-df-convert {\n",
              "      background-color: #E8F0FE;\n",
              "      border: none;\n",
              "      border-radius: 50%;\n",
              "      cursor: pointer;\n",
              "      display: none;\n",
              "      fill: #1967D2;\n",
              "      height: 32px;\n",
              "      padding: 0 0 0 0;\n",
              "      width: 32px;\n",
              "    }\n",
              "\n",
              "    .colab-df-convert:hover {\n",
              "      background-color: #E2EBFA;\n",
              "      box-shadow: 0px 1px 2px rgba(60, 64, 67, 0.3), 0px 1px 3px 1px rgba(60, 64, 67, 0.15);\n",
              "      fill: #174EA6;\n",
              "    }\n",
              "\n",
              "    [theme=dark] .colab-df-convert {\n",
              "      background-color: #3B4455;\n",
              "      fill: #D2E3FC;\n",
              "    }\n",
              "\n",
              "    [theme=dark] .colab-df-convert:hover {\n",
              "      background-color: #434B5C;\n",
              "      box-shadow: 0px 1px 3px 1px rgba(0, 0, 0, 0.15);\n",
              "      filter: drop-shadow(0px 1px 2px rgba(0, 0, 0, 0.3));\n",
              "      fill: #FFFFFF;\n",
              "    }\n",
              "  </style>\n",
              "\n",
              "      <script>\n",
              "        const buttonEl =\n",
              "          document.querySelector('#df-2943e80e-ab91-4ae3-8b4d-1dd8d05da5af button.colab-df-convert');\n",
              "        buttonEl.style.display =\n",
              "          google.colab.kernel.accessAllowed ? 'block' : 'none';\n",
              "\n",
              "        async function convertToInteractive(key) {\n",
              "          const element = document.querySelector('#df-2943e80e-ab91-4ae3-8b4d-1dd8d05da5af');\n",
              "          const dataTable =\n",
              "            await google.colab.kernel.invokeFunction('convertToInteractive',\n",
              "                                                     [key], {});\n",
              "          if (!dataTable) return;\n",
              "\n",
              "          const docLinkHtml = 'Like what you see? Visit the ' +\n",
              "            '<a target=\"_blank\" href=https://colab.research.google.com/notebooks/data_table.ipynb>data table notebook</a>'\n",
              "            + ' to learn more about interactive tables.';\n",
              "          element.innerHTML = '';\n",
              "          dataTable['output_type'] = 'display_data';\n",
              "          await google.colab.output.renderOutput(dataTable, element);\n",
              "          const docLink = document.createElement('div');\n",
              "          docLink.innerHTML = docLinkHtml;\n",
              "          element.appendChild(docLink);\n",
              "        }\n",
              "      </script>\n",
              "    </div>\n",
              "  </div>\n",
              "  "
            ],
            "text/plain": [
              "   mean_fit_time  std_fit_time  mean_score_time  std_score_time param_C  \\\n",
              "0       1.264933      0.148088         0.073443        0.012773    0.01   \n",
              "1      10.585104      1.107499         0.045126        0.026598    0.01   \n",
              "\n",
              "  param_penalty param_solver                                           params  \\\n",
              "0            l2        lbfgs  {'C': 0.01, 'penalty': 'l2', 'solver': 'lbfgs'}   \n",
              "1            l2          sag    {'C': 0.01, 'penalty': 'l2', 'solver': 'sag'}   \n",
              "\n",
              "   split0_test_score  split1_test_score  split2_test_score  split3_test_score  \\\n",
              "0           0.793333           0.776667           0.736667              0.765   \n",
              "1           0.793333           0.776667           0.736667              0.765   \n",
              "\n",
              "   split4_test_score  mean_test_score  std_test_score  rank_test_score  \n",
              "0           0.741667         0.762667        0.021255                7  \n",
              "1           0.738333         0.762000        0.021944                9  "
            ]
          },
          "execution_count": 103,
          "metadata": {},
          "output_type": "execute_result"
        }
      ],
      "source": [
        "# Взглянем на результаты кросс-валидации\n",
        "result_cv = pd.DataFrame(grid_search.cv_results_)\n",
        "result_cv.head(2)\n"
      ]
    },
    {
      "cell_type": "code",
      "execution_count": null,
      "id": "VeBBAi3xde7f",
      "metadata": {
        "colab": {
          "base_uri": "https://localhost:8080/",
          "height": 569
        },
        "id": "VeBBAi3xde7f",
        "outputId": "aaa1d771-e734-4e50-81eb-6e72751a6cf0"
      },
      "outputs": [
        {
          "data": {
            "image/png": "[encoded data removed]",
            "text/plain": [
              "<Figure size 800x600 with 2 Axes>"
            ]
          },
          "metadata": {},
          "output_type": "display_data"
        }
      ],
      "source": [
        "# Отобразим, как менялась точность при различных гиперпараметрах\n",
        "visual = pd.pivot_table(pd.DataFrame(grid_search.cv_results_),\n",
        "                        values='mean_test_score',\n",
        "                        index='param_C',\n",
        "                        columns='param_solver')\n",
        "\n",
        "# Построим тепловую карту\n",
        "fig = plt.figure(figsize=(8, 6))\n",
        "heatmap = sns.heatmap(\n",
        "    visual,\n",
        "    annot=True,\n",
        "    annot_kws={'fontsize':'x-small'},\n",
        "    cbar_kws={'label':'Среднее значение accuracy'}\n",
        ")\n",
        "heatmap.set_title('Тепловая карта зависимости метрики accuracy от гиперпараметров solver и С', fontsize=12);\n",
        "heatmap.set_xlabel('Алгоритм оптимизации solver', fontsize=10);\n",
        "heatmap.set_ylabel('Сила регуляризации C', fontsize=10);"
      ]
    },
    {
      "attachments": {},
      "cell_type": "markdown",
      "id": "C6O5rNDhXwN6",
      "metadata": {
        "id": "C6O5rNDhXwN6"
      },
      "source": [
        "> **Вывод по подбору гиперпараметров логистической регрессии с помощью GridSearchCV**:  \n",
        "> 1. Значения метрик accuracy и $F_1$-score улучшились на 0.01, что нельзя считать существенным приростом, а времени на их подбор затрачено 30 минут! По всей видимости, стоит попробовать другие методы оптимизации или использовать другую модель для решения данной задачи.  \n",
        ">\n",
        "> 2. На тепловой карте отсутствуют значения метрики при некоторых гиперпараметрах (`C = 0.1 при solver = 'lbfgs' и 'sag', C = 0.07 при solver = 'saga'`). Причина в неодинаковом списке значений `C` при создании сетки гиперпараметров. Ошибка обнаружена после оптимизации, и с учетом ее длительности (31 минута без пропущенных значений) повторение оптимизации представилось нецелесообразным Однако, если воспользоваться методикой заполнения пропусков с помощью медианного значения, то для алгоритма lbfgs можно ожидать значение 0.73, а для sag и saga - 0.75, что никак не скажется на итоговом результате.   \n",
        ">\n",
        "> 3. С незначительным отличием лучшие результаты метрики показал алгоритм оптимизации saga с типом регуляризации l2, а наилучший параметр C = 0.05.  \n",
        "____"
      ]
    },
    {
      "attachments": {},
      "cell_type": "markdown",
      "id": "ZvCJRphIJB8E",
      "metadata": {
        "id": "ZvCJRphIJB8E"
      },
      "source": [
        "#### **3.1.2. Случайный лес**  \n",
        "Гиперпараметры случайного леса:\n",
        "* количество деревьев ограничим 200 сотнями и будем подбирать с шагом 30;  \n",
        "* критерий информативности выберем из 'gini' и 'entropy';  \n",
        "* максимальную глубину дерева подберем от 10 до 25 с шагом 5;  \n",
        "* кол-во листьев на дереве - 5 или 7.  "
      ]
    },
    {
      "cell_type": "code",
      "execution_count": null,
      "id": "SK9VYKXWLq38",
      "metadata": {
        "colab": {
          "base_uri": "https://localhost:8080/"
        },
        "id": "SK9VYKXWLq38",
        "outputId": "f791335a-beb8-4c78-a88b-6214604be4ab"
      },
      "outputs": [
        {
          "name": "stdout",
          "output_type": "stream",
          "text": [
            "CPU times: user 4.16 s, sys: 318 ms, total: 4.48 s\n",
            "Wall time: 6min 13s\n",
            "accuracy на тестовом наборе: 0.77\n",
            "f1_score на тестовом наборе: 0.80\n",
            "Наилучшие значения гиперпараметров: {'criterion': 'entropy', 'max_depth': 20, 'min_samples_leaf': 5, 'n_estimators': 190}\n"
          ]
        }
      ],
      "source": [
        "# Создаем сетку настраиваемых гиперпараметров\n",
        "param_grid = {\n",
        "    'n_estimators' : list(range(100, 200, 30)),\n",
        "    'criterion' : ['gini', 'entropy'],\n",
        "    'max_depth': [10, 15, 20, 25],\n",
        "    'min_samples_leaf' : [5, 7],\n",
        "}\n",
        "\n",
        "# Создаем объект GridSearchCV с моделью случайного леса\n",
        "grid_search_1 = GridSearchCV(\n",
        "    estimator = ensemble.RandomForestClassifier(random_state=42), \n",
        "    param_grid = param_grid, \n",
        "    cv = 5,\n",
        "    error_score = 'raise',\n",
        "    n_jobs = -1\n",
        ")\n",
        "\n",
        "# Подбираем параметры, вычисляем и выводим метрики, а также наилучшие гиперпараметры\n",
        "%time grid_search_1.fit(X_train, y_train) \n",
        "print(\"accuracy на тестовом наборе: {:.2f}\".format(grid_search_1.score(X_test, y_test)))\n",
        "y_test_pred = grid_search_1.predict(X_test)\n",
        "print('f1_score на тестовом наборе: {:.2f}'.format(metrics.f1_score(y_test, y_test_pred)))\n",
        "print(\"Наилучшие значения гиперпараметров: {}\".format(grid_search_1.best_params_))"
      ]
    },
    {
      "cell_type": "code",
      "execution_count": null,
      "id": "xcugd3i6RmRo",
      "metadata": {
        "colab": {
          "base_uri": "https://localhost:8080/"
        },
        "id": "xcugd3i6RmRo",
        "outputId": "0beb80c0-2d80-4e60-9e33-536448845dff"
      },
      "outputs": [
        {
          "name": "stdout",
          "output_type": "stream",
          "text": [
            "Наилучшее значение точности при кросс-валидаци: 0.80\n"
          ]
        }
      ],
      "source": [
        "print(\"Наилучшее значение точности при кросс-валидаци: {:.2f}\".format(grid_search_1.best_score_))"
      ]
    },
    {
      "cell_type": "code",
      "execution_count": null,
      "id": "1zSBEmtsatVC",
      "metadata": {
        "colab": {
          "base_uri": "https://localhost:8080/",
          "height": 315
        },
        "id": "1zSBEmtsatVC",
        "outputId": "ac54c77f-21d7-47ef-fd39-948483b4679c"
      },
      "outputs": [
        {
          "data": {
            "text/html": [
              "\n",
              "  <div id=\"df-325da030-0a82-477d-b3c3-f577f569a7fe\">\n",
              "    <div class=\"colab-df-container\">\n",
              "      <div>\n",
              "<style scoped>\n",
              "    .dataframe tbody tr th:only-of-type {\n",
              "        vertical-align: middle;\n",
              "    }\n",
              "\n",
              "    .dataframe tbody tr th {\n",
              "        vertical-align: top;\n",
              "    }\n",
              "\n",
              "    .dataframe thead th {\n",
              "        text-align: right;\n",
              "    }\n",
              "</style>\n",
              "<table border=\"1\" class=\"dataframe\">\n",
              "  <thead>\n",
              "    <tr style=\"text-align: right;\">\n",
              "      <th></th>\n",
              "      <th>mean_fit_time</th>\n",
              "      <th>std_fit_time</th>\n",
              "      <th>mean_score_time</th>\n",
              "      <th>std_score_time</th>\n",
              "      <th>param_criterion</th>\n",
              "      <th>param_max_depth</th>\n",
              "      <th>param_min_samples_leaf</th>\n",
              "      <th>param_n_estimators</th>\n",
              "      <th>params</th>\n",
              "      <th>split0_test_score</th>\n",
              "      <th>split1_test_score</th>\n",
              "      <th>split2_test_score</th>\n",
              "      <th>split3_test_score</th>\n",
              "      <th>split4_test_score</th>\n",
              "      <th>mean_test_score</th>\n",
              "      <th>std_test_score</th>\n",
              "      <th>rank_test_score</th>\n",
              "    </tr>\n",
              "  </thead>\n",
              "  <tbody>\n",
              "    <tr>\n",
              "      <th>0</th>\n",
              "      <td>1.604566</td>\n",
              "      <td>0.393434</td>\n",
              "      <td>0.049310</td>\n",
              "      <td>0.020965</td>\n",
              "      <td>gini</td>\n",
              "      <td>10</td>\n",
              "      <td>5</td>\n",
              "      <td>100</td>\n",
              "      <td>{'criterion': 'gini', 'max_depth': 10, 'min_sa...</td>\n",
              "      <td>0.825000</td>\n",
              "      <td>0.786667</td>\n",
              "      <td>0.765</td>\n",
              "      <td>0.781667</td>\n",
              "      <td>0.756667</td>\n",
              "      <td>0.783000</td>\n",
              "      <td>0.023650</td>\n",
              "      <td>56</td>\n",
              "    </tr>\n",
              "    <tr>\n",
              "      <th>1</th>\n",
              "      <td>2.726907</td>\n",
              "      <td>0.368352</td>\n",
              "      <td>0.073612</td>\n",
              "      <td>0.016929</td>\n",
              "      <td>gini</td>\n",
              "      <td>10</td>\n",
              "      <td>5</td>\n",
              "      <td>130</td>\n",
              "      <td>{'criterion': 'gini', 'max_depth': 10, 'min_sa...</td>\n",
              "      <td>0.836667</td>\n",
              "      <td>0.786667</td>\n",
              "      <td>0.755</td>\n",
              "      <td>0.780000</td>\n",
              "      <td>0.760000</td>\n",
              "      <td>0.783667</td>\n",
              "      <td>0.029029</td>\n",
              "      <td>53</td>\n",
              "    </tr>\n",
              "  </tbody>\n",
              "</table>\n",
              "</div>\n",
              "      <button class=\"colab-df-convert\" onclick=\"convertToInteractive('df-325da030-0a82-477d-b3c3-f577f569a7fe')\"\n",
              "              title=\"Convert this dataframe to an interactive table.\"\n",
              "              style=\"display:none;\">\n",
              "        \n",
              "  <svg xmlns=\"http://www.w3.org/2000/svg\" height=\"24px\"viewBox=\"0 0 24 24\"\n",
              "       width=\"24px\">\n",
              "    <path d=\"M0 0h24v24H0V0z\" fill=\"none\"/>\n",
              "    <path d=\"M18.56 5.44l.94 2.06.94-2.06 2.06-.94-2.06-.94-.94-2.06-.94 2.06-2.06.94zm-11 1L8.5 8.5l.94-2.06 2.06-.94-2.06-.94L8.5 2.5l-.94 2.06-2.06.94zm10 10l.94 2.06.94-2.06 2.06-.94-2.06-.94-.94-2.06-.94 2.06-2.06.94z\"/><path d=\"M17.41 7.96l-1.37-1.37c-.4-.4-.92-.59-1.43-.59-.52 0-1.04.2-1.43.59L10.3 9.45l-7.72 7.72c-.78.78-.78 2.05 0 2.83L4 21.41c.39.39.9.59 1.41.59.51 0 1.02-.2 1.41-.59l7.78-7.78 2.81-2.81c.8-.78.8-2.07 0-2.86zM5.41 20L4 18.59l7.72-7.72 1.47 1.35L5.41 20z\"/>\n",
              "  </svg>\n",
              "      </button>\n",
              "      \n",
              "  <style>\n",
              "    .colab-df-container {\n",
              "      display:flex;\n",
              "      flex-wrap:wrap;\n",
              "      gap: 12px;\n",
              "    }\n",
              "\n",
              "    .colab-df-convert {\n",
              "      background-color: #E8F0FE;\n",
              "      border: none;\n",
              "      border-radius: 50%;\n",
              "      cursor: pointer;\n",
              "      display: none;\n",
              "      fill: #1967D2;\n",
              "      height: 32px;\n",
              "      padding: 0 0 0 0;\n",
              "      width: 32px;\n",
              "    }\n",
              "\n",
              "    .colab-df-convert:hover {\n",
              "      background-color: #E2EBFA;\n",
              "      box-shadow: 0px 1px 2px rgba(60, 64, 67, 0.3), 0px 1px 3px 1px rgba(60, 64, 67, 0.15);\n",
              "      fill: #174EA6;\n",
              "    }\n",
              "\n",
              "    [theme=dark] .colab-df-convert {\n",
              "      background-color: #3B4455;\n",
              "      fill: #D2E3FC;\n",
              "    }\n",
              "\n",
              "    [theme=dark] .colab-df-convert:hover {\n",
              "      background-color: #434B5C;\n",
              "      box-shadow: 0px 1px 3px 1px rgba(0, 0, 0, 0.15);\n",
              "      filter: drop-shadow(0px 1px 2px rgba(0, 0, 0, 0.3));\n",
              "      fill: #FFFFFF;\n",
              "    }\n",
              "  </style>\n",
              "\n",
              "      <script>\n",
              "        const buttonEl =\n",
              "          document.querySelector('#df-325da030-0a82-477d-b3c3-f577f569a7fe button.colab-df-convert');\n",
              "        buttonEl.style.display =\n",
              "          google.colab.kernel.accessAllowed ? 'block' : 'none';\n",
              "\n",
              "        async function convertToInteractive(key) {\n",
              "          const element = document.querySelector('#df-325da030-0a82-477d-b3c3-f577f569a7fe');\n",
              "          const dataTable =\n",
              "            await google.colab.kernel.invokeFunction('convertToInteractive',\n",
              "                                                     [key], {});\n",
              "          if (!dataTable) return;\n",
              "\n",
              "          const docLinkHtml = 'Like what you see? Visit the ' +\n",
              "            '<a target=\"_blank\" href=https://colab.research.google.com/notebooks/data_table.ipynb>data table notebook</a>'\n",
              "            + ' to learn more about interactive tables.';\n",
              "          element.innerHTML = '';\n",
              "          dataTable['output_type'] = 'display_data';\n",
              "          await google.colab.output.renderOutput(dataTable, element);\n",
              "          const docLink = document.createElement('div');\n",
              "          docLink.innerHTML = docLinkHtml;\n",
              "          element.appendChild(docLink);\n",
              "        }\n",
              "      </script>\n",
              "    </div>\n",
              "  </div>\n",
              "  "
            ],
            "text/plain": [
              "   mean_fit_time  std_fit_time  mean_score_time  std_score_time  \\\n",
              "0       1.604566      0.393434         0.049310        0.020965   \n",
              "1       2.726907      0.368352         0.073612        0.016929   \n",
              "\n",
              "  param_criterion param_max_depth param_min_samples_leaf param_n_estimators  \\\n",
              "0            gini              10                      5                100   \n",
              "1            gini              10                      5                130   \n",
              "\n",
              "                                              params  split0_test_score  \\\n",
              "0  {'criterion': 'gini', 'max_depth': 10, 'min_sa...           0.825000   \n",
              "1  {'criterion': 'gini', 'max_depth': 10, 'min_sa...           0.836667   \n",
              "\n",
              "   split1_test_score  split2_test_score  split3_test_score  split4_test_score  \\\n",
              "0           0.786667              0.765           0.781667           0.756667   \n",
              "1           0.786667              0.755           0.780000           0.760000   \n",
              "\n",
              "   mean_test_score  std_test_score  rank_test_score  \n",
              "0         0.783000        0.023650               56  \n",
              "1         0.783667        0.029029               53  "
            ]
          },
          "execution_count": 8,
          "metadata": {},
          "output_type": "execute_result"
        }
      ],
      "source": [
        "# Взглянем на результаты кросс-валидации\n",
        "result_cv = pd.DataFrame(grid_search_1.cv_results_)\n",
        "result_cv.head(2)"
      ]
    },
    {
      "cell_type": "code",
      "execution_count": null,
      "id": "f1vn_tCXRmM8",
      "metadata": {
        "colab": {
          "base_uri": "https://localhost:8080/",
          "height": 564
        },
        "id": "f1vn_tCXRmM8",
        "outputId": "eaae97b2-57c7-483f-eaeb-aed4a8d2a389"
      },
      "outputs": [
        {
          "data": {
            "image/png": "[encoded data removed]",
            "text/plain": [
              "<Figure size 800x600 with 2 Axes>"
            ]
          },
          "metadata": {},
          "output_type": "display_data"
        }
      ],
      "source": [
        "# Отобразим, как менялась точность при различных гиперпараметрах\n",
        "visual = pd.pivot_table(pd.DataFrame(grid_search_1.cv_results_),\n",
        "                        values='mean_test_score',\n",
        "                        index='param_max_depth',\n",
        "                        columns='param_n_estimators')\n",
        "\n",
        "# Построим тепловую карту\n",
        "fig = plt.figure(figsize=(8, 6))\n",
        "heatmap = sns.heatmap(\n",
        "    visual,\n",
        "    annot=True,\n",
        "    annot_kws={'fontsize':'x-small'},\n",
        "    cbar_kws={'label':'Среднее значение accuracy'}\n",
        ")\n",
        "heatmap.set_title('Тепловая карта зависимости метрики accuracy от гиперпараметров n_estimators и max_depth', fontsize=12);\n",
        "heatmap.set_xlabel('Количество деревьев в лесу n_estimators', fontsize=10);\n",
        "heatmap.set_ylabel('Глубина дерева max_depth', fontsize=10);"
      ]
    },
    {
      "attachments": {},
      "cell_type": "markdown",
      "id": "AbuYFYRFOXBL",
      "metadata": {
        "id": "AbuYFYRFOXBL"
      },
      "source": [
        "> **Вывод по подбору гиперпараметров случайного леса с помощью GridSearchCV**:  \n",
        "> 1. Значения метрик accuracy по сравнению с базовой оптимизацией ухудшилось на 0.01, что можно игнорировать как погрешность, а $F_1$-score  не изменилось. Так что подбор гиперпараметров методом GridSearch не дал преимущества в данном случае, и стоит попробовать другие методы оптимизации.  \n",
        ">\n",
        "> 2. Следует отметить гораздо меньшее затраченное время на подбор гиперпараметров по сравнению с моделью логистической регрессии (в 5 раз!) при одинаковом (или чуть даже превосходящем) значении $F_1$-score.  \n",
        ">  \n",
        "> 3. Наилучшими подобранными гиперпараметрами стали: критерий информативности - энтропия Шеннона, максимальная глубина дерева - 20, количество листьев - 5, кол-во деревьев в лесу - 190.  \n",
        "____"
      ]
    },
    {
      "attachments": {},
      "cell_type": "markdown",
      "id": "QOlWE5zSptj0",
      "metadata": {
        "id": "QOlWE5zSptj0"
      },
      "source": [
        "### 3.2. RandomizedSearchCV"
      ]
    },
    {
      "attachments": {},
      "cell_type": "markdown",
      "id": "d2HlSL57U2Td",
      "metadata": {
        "id": "d2HlSL57U2Td"
      },
      "source": [
        "#### **3.2.1. Логистическая регрессия**  \n",
        "При подборе используем ту же сетку гиперпараметров логистической регрессии, что и для метода GridSearchCV.  \n",
        "При этом зададим количество проверяемых комбинаций гиперпараметров n_iter, равным 10. И сравним затраченное время."
      ]
    },
    {
      "cell_type": "code",
      "execution_count": null,
      "id": "-tPYWELyVL4a",
      "metadata": {
        "colab": {
          "base_uri": "https://localhost:8080/"
        },
        "id": "-tPYWELyVL4a",
        "outputId": "74696369-d0d9-4ba1-a492-68f5d0e241f8"
      },
      "outputs": [
        {
          "name": "stdout",
          "output_type": "stream",
          "text": [
            "CPU times: user 15.5 s, sys: 268 ms, total: 15.8 s\n",
            "Wall time: 7min 42s\n",
            "accuracy на тестовом наборе: 0.76\n",
            "f1_score на тестовом наборе: 0.79\n",
            "Наилучшие значения гиперпараметров: {'solver': 'saga', 'penalty': 'l2', 'C': 0.05}\n"
          ]
        }
      ],
      "source": [
        "# Создаем сетку настраиваемых гиперпараметров\n",
        "param_distributions = [\n",
        "    {'penalty' : ['l2', None],\n",
        "     'solver': ['lbfgs', 'sag'],\n",
        "     'C': [0.01, 0.05, 0.07, 0.5, 1]},\n",
        "    {'penalty': ['l1', 'l2', None],\n",
        "     'solver': ['saga'],\n",
        "     'C': [0.01, 0.05, 0.1, 0.5, 1]}\n",
        "]\n",
        "\n",
        "# Создаем объект RandomizedSearchCV с моделью логистической регрессии\n",
        "random_search = RandomizedSearchCV(\n",
        "    estimator = linear_model.LogisticRegression(random_state=42, max_iter=300), \n",
        "    param_distributions = param_distributions, \n",
        "    cv = 5,\n",
        "    error_score = 'raise',\n",
        "    n_iter = 10,\n",
        "    n_jobs = -1\n",
        ")\n",
        "\n",
        "# Подбираем параметры, вычисляем и выводим метрики, а также наилучшие гиперпараметры\n",
        "%time random_search.fit(X_train, y_train) \n",
        "print(\"accuracy на тестовом наборе: {:.2f}\".format(random_search.score(X_test, y_test)))\n",
        "y_test_pred = random_search.predict(X_test)\n",
        "print('f1_score на тестовом наборе: {:.2f}'.format(metrics.f1_score(y_test, y_test_pred)))\n",
        "print(\"Наилучшие значения гиперпараметров: {}\".format(random_search.best_params_))"
      ]
    },
    {
      "attachments": {},
      "cell_type": "markdown",
      "id": "PPIUXZ0DX2io",
      "metadata": {
        "id": "PPIUXZ0DX2io"
      },
      "source": [
        "> **Вывод по подбору гиперпараметров логистической регрессии с помощью RandomizedSearchCV**:  \n",
        "> 1. Значения метрик accuracy и $F_1$-score получились такими же, как и при методе подбора GridSearch, зато времени на их подбор затрачено 7 минут, то есть в 4 раза меньше!  \n",
        ">\n",
        "> 2. Наилучшие гиперпараметры модели при этом подобраны точно такие же.  \n",
        "____"
      ]
    },
    {
      "attachments": {},
      "cell_type": "markdown",
      "id": "6CDd1cVeXm5q",
      "metadata": {
        "id": "6CDd1cVeXm5q"
      },
      "source": [
        "#### **3.2.2. Случайный лес**  \n",
        "При подборе используем ту же сетку гиперпараметров случайного леса, что и для метода GridSearchCV.  \n",
        "При этом зададим количество проверяемых комбинаций гиперпараметров n_iter, равным 10. И сравним затраченное время."
      ]
    },
    {
      "cell_type": "code",
      "execution_count": null,
      "id": "idH_t42gfZm2",
      "metadata": {
        "colab": {
          "base_uri": "https://localhost:8080/"
        },
        "id": "idH_t42gfZm2",
        "outputId": "6d92cf6b-d82e-4979-c9bb-03290b5f1060"
      },
      "outputs": [
        {
          "name": "stdout",
          "output_type": "stream",
          "text": [
            "CPU times: user 2.93 s, sys: 67 ms, total: 3 s\n",
            "Wall time: 1min 8s\n",
            "accuracy на тестовом наборе: 0.77\n",
            "f1_score на тестовом наборе: 0.80\n",
            "Наилучшие значения гиперпараметров: {'n_estimators': 190, 'min_samples_leaf': 5, 'max_depth': 20, 'criterion': 'entropy'}\n"
          ]
        }
      ],
      "source": [
        "# Создаем сетку настраиваемых гиперпараметров\n",
        "param_distributions = {\n",
        "    'n_estimators' : list(range(100, 200, 30)),\n",
        "    'criterion' : ['gini', 'entropy'],\n",
        "    'max_depth': [10, 15, 20, 25],\n",
        "    'min_samples_leaf' : [5, 7],\n",
        "}\n",
        "\n",
        "# Создаем объект RandomizedSearchCV с моделью логистической регрессии\n",
        "random_search_1 = RandomizedSearchCV(\n",
        "    estimator = ensemble.RandomForestClassifier(random_state=42), \n",
        "    param_distributions = param_distributions, \n",
        "    cv = 5,\n",
        "    error_score = 'raise',\n",
        "    n_iter = 10,\n",
        "    n_jobs = -1\n",
        ")\n",
        "\n",
        "# Подбираем параметры, вычисляем и выводим метрики, а также наилучшие гиперпараметры\n",
        "%time random_search_1.fit(X_train, y_train) \n",
        "print(\"accuracy на тестовом наборе: {:.2f}\".format(random_search_1.score(X_test, y_test)))\n",
        "y_test_pred = random_search_1.predict(X_test)\n",
        "print('f1_score на тестовом наборе: {:.2f}'.format(metrics.f1_score(y_test, y_test_pred)))\n",
        "print(\"Наилучшие значения гиперпараметров: {}\".format(random_search_1.best_params_))"
      ]
    },
    {
      "attachments": {},
      "cell_type": "markdown",
      "id": "XTTIVdTXhlY-",
      "metadata": {
        "id": "XTTIVdTXhlY-"
      },
      "source": [
        "> **Вывод по подбору гиперпараметров случайного леса с помощью RandomizedSearchCV**:  \n",
        "> 1. Значения метрик accuracy и $F_1$-score получились такими же, как и при методе подбора GridSearch, зато на их подбор затрачена 1 минута, то есть в 6 раз меньше!  \n",
        ">\n",
        "> 2. Наилучшие гиперпараметры модели при этом подобраны точно такие же.  \n",
        ">  \n",
        "> 3. Стоит отметить, что данные результаты получены с третьей попытки. На первых двух значение $F_1$-score составляло 0.79 (ниже, чем на Baseline), но времени затрачивалось от 53 до 59 секунд. Можно сделать вывод, что это результат случайного выбора гиперапараметров из сетки, который не всегда гарантирует наилучший результат. Однако и он близок к лучшему при существенной экономии времени.\n",
        "____"
      ]
    },
    {
      "attachments": {},
      "cell_type": "markdown",
      "id": "ndVzuctYnabL",
      "metadata": {
        "id": "ndVzuctYnabL"
      },
      "source": [
        " > ### **Промежуточный вывод по базовой оптимизации:**  \n",
        " > \n",
        " > Нам удалось несколько улучшить или сохранить на прежнем уровне значение целевой метрики $F_1$-score по сравнению с baseline-решением.   \n",
        " >  \n",
        " > Мы продемонстрировали более быструю и эффективную работу метода RandomizedSearchCV над GridSearchCV.  \n",
        " ---"
      ]
    },
    {
      "attachments": {},
      "cell_type": "markdown",
      "id": "9c224fa3-0468-4aa0-9877-057a98a92010",
      "metadata": {
        "id": "9c224fa3-0468-4aa0-9877-057a98a92010"
      },
      "source": [
        "## 4. Продвинутая оптимизация гиперпараметров моделей"
      ]
    },
    {
      "attachments": {},
      "cell_type": "markdown",
      "id": "Kmo2b6kPChhN",
      "metadata": {
        "id": "Kmo2b6kPChhN"
      },
      "source": [
        "### 4.1. Hyperopt"
      ]
    },
    {
      "attachments": {},
      "cell_type": "markdown",
      "id": "-epJECWjCcAV",
      "metadata": {
        "id": "-epJECWjCcAV"
      },
      "source": [
        "При необходимости, библиотеку можно установить с помощью команды: `!pip install hyperopt`.  \n",
        "В нашем случае она установлена и импортирована в первой части ноутбука вместе с функциями, которые нам потребуются. Напомним их:  \n",
        "* fmin - основная функция, она будет минимизировать наш функционал;  \n",
        "* tpe - алгоритм оптимизации;  \n",
        "* hp - включает набор методов для объявления пространства поиска гиперпараметров;  \n",
        "* trails - используется для логирования результатов.  "
      ]
    },
    {
      "cell_type": "code",
      "execution_count": null,
      "id": "Ae44foDuCzke",
      "metadata": {
        "colab": {
          "base_uri": "https://localhost:8080/"
        },
        "id": "Ae44foDuCzke",
        "outputId": "d41ffa58-2b2d-4b0b-d798-2c9a537eeb20"
      },
      "outputs": [
        {
          "name": "stdout",
          "output_type": "stream",
          "text": [
            "Версия Hyperopt : 0.2.7\n"
          ]
        }
      ],
      "source": [
        "# Выведем версию Hyperopt, чтобы убедиться, что мы можем продолжать работу\n",
        "print(\"Версия Hyperopt : {}\".format(hyperopt.__version__))"
      ]
    },
    {
      "attachments": {},
      "cell_type": "markdown",
      "id": "6WTN_czPN80T",
      "metadata": {
        "id": "6WTN_czPN80T"
      },
      "source": [
        "#### **4.1.1. Логистическая регрессия**  \n",
        "При подборе используем ту же сетку гиперпараметров логистической регрессии, что и в предыдущих методах, за исключением метода регуляризации `penalty = 'l1'`, который использует только метод оптимизации функции потерь `solver = 'saga'`. Как мы видели в двух предыдущих случаях, `l1` не оказывался в числе наилучших гиперпараметров, поэтому с целью упрощения кода и экономии ресурсов перестанем к нему обращаться в дальнейшем.   \n",
        "Для начала зададим количество проверяемых комбинаций гиперпараметров max_eval равным 10 и используем кросс-валидацию.  "
      ]
    },
    {
      "cell_type": "code",
      "execution_count": null,
      "id": "-tLzk33aBJ91",
      "metadata": {
        "id": "-tLzk33aBJ91"
      },
      "outputs": [],
      "source": [
        "# Зададим пространство поиска гиперпараметров\n",
        "penalty_list = ['l2', None]\n",
        "solver_list = ['lbfgs', 'sag', 'saga']\n",
        "\n",
        "space = {\n",
        "    'penalty': hp.choice('penalty', penalty_list),\n",
        "    'solver': hp.choice('solver', solver_list),\n",
        "    'C' : hp.quniform('C', 0.01, 0.15, 0.02)\n",
        "}"
      ]
    },
    {
      "cell_type": "code",
      "execution_count": null,
      "id": "t3JS7HXU8pd2",
      "metadata": {
        "id": "t3JS7HXU8pd2"
      },
      "outputs": [],
      "source": [
        "# Зафиксируем число для воспроизводимости результата\n",
        "random_state = 42\n",
        "\n",
        "# Создадим функцию расчета целевой метрики - понадобится для использования с fmin\n",
        "def hyperopt_lr(params: dict,\n",
        "                cv: int = 5,\n",
        "                X: pd.DataFrame = X_train,\n",
        "                y: pd.Series = y_train,\n",
        "                random_state: int = random_state) -> float:\n",
        "    \"\"\"Функция получает комбинацию гиперпараметров, а также обучающую выборку\n",
        "    и вектор ответов и возвращает значение целевой метрики для модели\n",
        "    логистической регрессии.\n",
        "\n",
        "    Args:\n",
        "        params (dict): словарь гиперпараметров.\n",
        "        cv (int, optional): кол-во фолдов для кросс-валидации; по умолчанию = 5.\n",
        "        X (pd.DataFrame, optional): обучабщая выборка; по умолчанию = X_train.\n",
        "        y (pd.Series, optional): вектор ответов; по умолчанию = y_train.\n",
        "        random_state (int, optional): сид воспроизводимости; по умол. = random_state.\n",
        "\n",
        "    Returns:\n",
        "        float: значение целевой метрики\n",
        "    \"\"\"\n",
        "\n",
        "    # Преобразуем комбинацию гиперпараметров в переменную\n",
        "    params = {\n",
        "        'penalty': params['penalty'], \n",
        "        'solver': params['solver'], \n",
        "        'C': float(params['C'])\n",
        "    }\n",
        "  \n",
        "    # Используем эту комбинацию для построения модели\n",
        "    model = linear_model.LogisticRegression(\n",
        "        **params,\n",
        "        random_state=random_state,\n",
        "        max_iter=500\n",
        "    )\n",
        "\n",
        "    # Обучим модель с помошью кросс-валидации\n",
        "    model.fit(X, y)\n",
        "    score = cross_val_score(model, X, y, cv=cv, scoring=\"f1\", n_jobs=-1).mean()\n",
        "\n",
        "    # Вернем значение метрики со знаком минус с целью ее минимизации\n",
        "    return -score"
      ]
    },
    {
      "cell_type": "code",
      "execution_count": null,
      "id": "qxKIThc002O1",
      "metadata": {
        "colab": {
          "background_save": true,
          "base_uri": "https://localhost:8080/"
        },
        "id": "qxKIThc002O1",
        "outputId": "9320c3d2-04fc-4573-f85b-6980a7f4564a"
      },
      "outputs": [
        {
          "name": "stdout",
          "output_type": "stream",
          "text": [
            "\r  0%|          | 0/10 [00:00<?, ?trial/s, best loss=?]"
          ]
        },
        {
          "name": "stderr",
          "output_type": "stream",
          "text": [
            "/usr/local/lib/python3.10/dist-packages/sklearn/linear_model/_logistic.py:1181: UserWarning: Setting penalty=None will ignore the C and l1_ratio parameters\n",
            "  warnings.warn(\n",
            "\n",
            "/usr/local/lib/python3.10/dist-packages/sklearn/linear_model/_logistic.py:458: ConvergenceWarning: lbfgs failed to converge (status=1):\n",
            "STOP: TOTAL NO. of ITERATIONS REACHED LIMIT.\n",
            "\n",
            "Increase the number of iterations (max_iter) or scale the data as shown in:\n",
            "    https://scikit-learn.org/stable/modules/preprocessing.html\n",
            "Please also refer to the documentation for alternative solver options:\n",
            "    https://scikit-learn.org/stable/modules/linear_model.html#logistic-regression\n",
            "  n_iter_i = _check_optimize_result(\n",
            "\n"
          ]
        },
        {
          "name": "stdout",
          "output_type": "stream",
          "text": [
            " 40%|████      | 4/10 [03:44<05:34, 55.69s/trial, best loss: -0.7939600292497768]"
          ]
        },
        {
          "name": "stderr",
          "output_type": "stream",
          "text": [
            "/usr/local/lib/python3.10/dist-packages/sklearn/linear_model/_logistic.py:1181: UserWarning: Setting penalty=None will ignore the C and l1_ratio parameters\n",
            "  warnings.warn(\n",
            "\n",
            "/usr/local/lib/python3.10/dist-packages/sklearn/linear_model/_logistic.py:458: ConvergenceWarning: lbfgs failed to converge (status=1):\n",
            "STOP: TOTAL NO. of ITERATIONS REACHED LIMIT.\n",
            "\n",
            "Increase the number of iterations (max_iter) or scale the data as shown in:\n",
            "    https://scikit-learn.org/stable/modules/preprocessing.html\n",
            "Please also refer to the documentation for alternative solver options:\n",
            "    https://scikit-learn.org/stable/modules/linear_model.html#logistic-regression\n",
            "  n_iter_i = _check_optimize_result(\n",
            "\n"
          ]
        },
        {
          "name": "stdout",
          "output_type": "stream",
          "text": [
            "\r 50%|█████     | 5/10 [04:16<03:55, 47.19s/trial, best loss: -0.7939600292497768]"
          ]
        },
        {
          "name": "stderr",
          "output_type": "stream",
          "text": [
            "/usr/local/lib/python3.10/dist-packages/sklearn/linear_model/_logistic.py:1181: UserWarning: Setting penalty=None will ignore the C and l1_ratio parameters\n",
            "  warnings.warn(\n",
            "\n",
            "/usr/local/lib/python3.10/dist-packages/sklearn/linear_model/_sag.py:350: ConvergenceWarning: The max_iter was reached which means the coef_ did not converge\n",
            "  warnings.warn(\n",
            "\n"
          ]
        },
        {
          "name": "stdout",
          "output_type": "stream",
          "text": [
            "\r 60%|██████    | 6/10 [07:27<06:23, 95.93s/trial, best loss: -0.7939600292497768]"
          ]
        },
        {
          "name": "stderr",
          "output_type": "stream",
          "text": [
            "/usr/local/lib/python3.10/dist-packages/sklearn/linear_model/_logistic.py:1181: UserWarning: Setting penalty=None will ignore the C and l1_ratio parameters\n",
            "  warnings.warn(\n",
            "\n",
            "/usr/local/lib/python3.10/dist-packages/sklearn/linear_model/_sag.py:350: ConvergenceWarning: The max_iter was reached which means the coef_ did not converge\n",
            "  warnings.warn(\n",
            "\n"
          ]
        },
        {
          "name": "stdout",
          "output_type": "stream",
          "text": [
            " 80%|████████  | 8/10 [12:37<04:09, 124.62s/trial, best loss: -0.7939600292497768]"
          ]
        },
        {
          "name": "stderr",
          "output_type": "stream",
          "text": [
            "/usr/local/lib/python3.10/dist-packages/sklearn/linear_model/_logistic.py:1181: UserWarning: Setting penalty=None will ignore the C and l1_ratio parameters\n",
            "  warnings.warn(\n",
            "\n",
            "/usr/local/lib/python3.10/dist-packages/sklearn/linear_model/_logistic.py:458: ConvergenceWarning: lbfgs failed to converge (status=1):\n",
            "STOP: TOTAL NO. of ITERATIONS REACHED LIMIT.\n",
            "\n",
            "Increase the number of iterations (max_iter) or scale the data as shown in:\n",
            "    https://scikit-learn.org/stable/modules/preprocessing.html\n",
            "Please also refer to the documentation for alternative solver options:\n",
            "    https://scikit-learn.org/stable/modules/linear_model.html#logistic-regression\n",
            "  n_iter_i = _check_optimize_result(\n",
            "\n"
          ]
        },
        {
          "name": "stdout",
          "output_type": "stream",
          "text": [
            "100%|██████████| 10/10 [14:57<00:00, 89.80s/trial, best loss: -0.7939600292497768]\n",
            "Наилучшие значения гиперпараметров {'C': 0.02, 'penalty': 0, 'solver': 0}\n",
            "CPU times: user 3min 45s, sys: 5.42 s, total: 3min 51s\n",
            "Wall time: 14min 58s\n"
          ]
        }
      ],
      "source": [
        "# Начинаем подбор гиперпараметров\n",
        "%%time\n",
        "\n",
        "trials = Trials() # Используем для логирования результатов\n",
        "\n",
        "best = fmin(hyperopt_lr, # написанная нами функция\n",
        "            space=space, # пространство гиперпараметров\n",
        "            algo=tpe.suggest, # алгоритм оптимизации (установлен по умолчанию)\n",
        "            max_evals=10, # максимальное количество итераций\n",
        "            trials=trials, # логирование результатов\n",
        "            rstate=np.random.default_rng(random_state)# фиксируем для повторяемости результата\n",
        ")\n",
        "\n",
        "print(\"Наилучшие значения гиперпараметров {}\".format(best))"
      ]
    },
    {
      "cell_type": "code",
      "execution_count": null,
      "id": "tnmOuhz8ucW_",
      "metadata": {
        "colab": {
          "background_save": true
        },
        "id": "tnmOuhz8ucW_",
        "outputId": "54af34c9-7872-4d49-86d0-abcbc2a64272"
      },
      "outputs": [
        {
          "name": "stdout",
          "output_type": "stream",
          "text": [
            "Наилучшие значения гиперпараметров: penalty = 'l2', solver = 'lbfgs', C = 0.02.\n"
          ]
        }
      ],
      "source": [
        "# Выведем значения в более понятном виде с использованием созданных ранее списков\n",
        "print(\"Наилучшие значения гиперпараметров: penalty = '{0}', solver = '{1}', C = {2}.\"\\\n",
        "      .format(penalty_list[best['penalty']],\n",
        "              solver_list[best['solver']],\n",
        "              best['C']))"
      ]
    },
    {
      "cell_type": "code",
      "execution_count": null,
      "id": "GjN-n5J601hy",
      "metadata": {
        "colab": {
          "background_save": true
        },
        "id": "GjN-n5J601hy",
        "outputId": "e5ea382f-0fbb-48f0-d97d-0caa6d79e242"
      },
      "outputs": [
        {
          "name": "stdout",
          "output_type": "stream",
          "text": [
            "f1_score на обучающем наборе: 0.83\n",
            "accuracy на тестовом наборе: 0.75\n",
            "f1_score на тестовом наборе: 0.78\n"
          ]
        }
      ],
      "source": [
        "# Рассчитаем точность для тестовой выборки\n",
        "model = linear_model.LogisticRegression(\n",
        "    penalty = penalty_list[best['penalty']],\n",
        "    solver = solver_list[best['solver']],\n",
        "    C = float(best['C']),\n",
        "    random_state = random_state\n",
        ")\n",
        "\n",
        "model.fit(X_train, y_train)\n",
        "y_train_pred = model.predict(X_train)\n",
        "print('f1_score на обучающем наборе: {:.2f}'.format(metrics.f1_score(y_train, y_train_pred)))\n",
        "print(\"accuracy на тестовом наборе: {:.2f}\".format(model.score(X_test, y_test)))\n",
        "y_test_pred = model.predict(X_test)\n",
        "print('f1_score на тестовом наборе: {:.2f}'.format(metrics.f1_score(y_test, y_test_pred)))"
      ]
    },
    {
      "attachments": {},
      "cell_type": "markdown",
      "id": "ZgKKr7KXV4aV",
      "metadata": {
        "id": "ZgKKr7KXV4aV"
      },
      "source": [
        "> Итак, после 10 итераций мы получили значения метрик, равные baseline-решению, а затратили на это 15 минут!  \n",
        "\n",
        "Воспользуемся преимуществом метода Hyperopt продолжить оптимизацию с того места, где мы остановились, за счет объекта Trials, который содержит информацию о предыдущиз запусках. Для этого увеличим количество итерацией до 20.  "
      ]
    },
    {
      "cell_type": "code",
      "execution_count": null,
      "id": "-veH7VaqSKlD",
      "metadata": {
        "colab": {
          "background_save": true
        },
        "id": "-veH7VaqSKlD",
        "outputId": "f87e746c-91ae-42ff-8b9c-5e24603dfaa5"
      },
      "outputs": [
        {
          "name": "stdout",
          "output_type": "stream",
          "text": [
            "\r 50%|█████     | 10/20 [00:00<?, ?trial/s, best loss=?]"
          ]
        },
        {
          "name": "stderr",
          "output_type": "stream",
          "text": [
            "/usr/local/lib/python3.10/dist-packages/sklearn/linear_model/_logistic.py:1181: UserWarning: Setting penalty=None will ignore the C and l1_ratio parameters\n",
            "  warnings.warn(\n",
            "\n",
            "/usr/local/lib/python3.10/dist-packages/sklearn/linear_model/_logistic.py:458: ConvergenceWarning: lbfgs failed to converge (status=1):\n",
            "STOP: TOTAL NO. of ITERATIONS REACHED LIMIT.\n",
            "\n",
            "Increase the number of iterations (max_iter) or scale the data as shown in:\n",
            "    https://scikit-learn.org/stable/modules/preprocessing.html\n",
            "Please also refer to the documentation for alternative solver options:\n",
            "    https://scikit-learn.org/stable/modules/linear_model.html#logistic-regression\n",
            "  n_iter_i = _check_optimize_result(\n",
            "\n"
          ]
        },
        {
          "name": "stdout",
          "output_type": "stream",
          "text": [
            " 70%|███████   | 14/20 [03:31<05:19, 53.25s/trial, best loss: -0.7939600292497768]"
          ]
        },
        {
          "name": "stderr",
          "output_type": "stream",
          "text": [
            "/usr/local/lib/python3.10/dist-packages/sklearn/linear_model/_logistic.py:1181: UserWarning: Setting penalty=None will ignore the C and l1_ratio parameters\n",
            "  warnings.warn(\n",
            "\n",
            "/usr/local/lib/python3.10/dist-packages/sklearn/linear_model/_logistic.py:458: ConvergenceWarning: lbfgs failed to converge (status=1):\n",
            "STOP: TOTAL NO. of ITERATIONS REACHED LIMIT.\n",
            "\n",
            "Increase the number of iterations (max_iter) or scale the data as shown in:\n",
            "    https://scikit-learn.org/stable/modules/preprocessing.html\n",
            "Please also refer to the documentation for alternative solver options:\n",
            "    https://scikit-learn.org/stable/modules/linear_model.html#logistic-regression\n",
            "  n_iter_i = _check_optimize_result(\n",
            "\n"
          ]
        },
        {
          "name": "stdout",
          "output_type": "stream",
          "text": [
            "\r 75%|███████▌  | 15/20 [04:00<03:42, 44.44s/trial, best loss: -0.7939600292497768]"
          ]
        },
        {
          "name": "stderr",
          "output_type": "stream",
          "text": [
            "/usr/local/lib/python3.10/dist-packages/sklearn/linear_model/_logistic.py:1181: UserWarning: Setting penalty=None will ignore the C and l1_ratio parameters\n",
            "  warnings.warn(\n",
            "\n",
            "/usr/local/lib/python3.10/dist-packages/sklearn/linear_model/_sag.py:350: ConvergenceWarning: The max_iter was reached which means the coef_ did not converge\n",
            "  warnings.warn(\n",
            "\n"
          ]
        },
        {
          "name": "stdout",
          "output_type": "stream",
          "text": [
            "\r 80%|████████  | 16/20 [06:58<06:00, 90.09s/trial, best loss: -0.7939600292497768]"
          ]
        },
        {
          "name": "stderr",
          "output_type": "stream",
          "text": [
            "/usr/local/lib/python3.10/dist-packages/sklearn/linear_model/_logistic.py:1181: UserWarning: Setting penalty=None will ignore the C and l1_ratio parameters\n",
            "  warnings.warn(\n",
            "\n",
            "/usr/local/lib/python3.10/dist-packages/sklearn/linear_model/_sag.py:350: ConvergenceWarning: The max_iter was reached which means the coef_ did not converge\n",
            "  warnings.warn(\n",
            "\n"
          ]
        },
        {
          "name": "stdout",
          "output_type": "stream",
          "text": [
            " 90%|█████████ | 18/20 [11:59<03:58, 119.39s/trial, best loss: -0.7939600292497768]"
          ]
        },
        {
          "name": "stderr",
          "output_type": "stream",
          "text": [
            "/usr/local/lib/python3.10/dist-packages/sklearn/linear_model/_logistic.py:1181: UserWarning: Setting penalty=None will ignore the C and l1_ratio parameters\n",
            "  warnings.warn(\n",
            "\n",
            "/usr/local/lib/python3.10/dist-packages/sklearn/linear_model/_logistic.py:458: ConvergenceWarning: lbfgs failed to converge (status=1):\n",
            "STOP: TOTAL NO. of ITERATIONS REACHED LIMIT.\n",
            "\n",
            "Increase the number of iterations (max_iter) or scale the data as shown in:\n",
            "    https://scikit-learn.org/stable/modules/preprocessing.html\n",
            "Please also refer to the documentation for alternative solver options:\n",
            "    https://scikit-learn.org/stable/modules/linear_model.html#logistic-regression\n",
            "  n_iter_i = _check_optimize_result(\n",
            "\n"
          ]
        },
        {
          "name": "stdout",
          "output_type": "stream",
          "text": [
            "100%|██████████| 20/20 [14:12<00:00, 85.23s/trial, best loss: -0.7939600292497768]\n",
            "Наилучшие значения гиперпараметров: penalty = 'l2', solver = 'lbfgs', C = 0.02.\n"
          ]
        }
      ],
      "source": [
        "# Продолжим подбор гиперпараметров\n",
        "%%time\n",
        "\n",
        "best = fmin(hyperopt_lr,\n",
        "            space=space,\n",
        "            algo=tpe.suggest,\n",
        "            max_evals=20, # увеличим максимальное количество итераций с 10 до 20\n",
        "            trials=trials, # продолжим логирование результатов\n",
        "            rstate=np.random.default_rng(random_state)\n",
        ")\n",
        "print(\"Наилучшие значения гиперпараметров: penalty = '{0}', solver = '{1}', C = {2}.\"\\\n",
        "      .format(penalty_list[best['penalty']],\n",
        "              solver_list[best['solver']],\n",
        "              best['C']))"
      ]
    },
    {
      "cell_type": "code",
      "execution_count": null,
      "id": "qMMZR0bm4tpB",
      "metadata": {
        "colab": {
          "background_save": true
        },
        "id": "qMMZR0bm4tpB",
        "outputId": "08e387a9-3c08-4a31-b0fd-740cdc7a663c"
      },
      "outputs": [
        {
          "name": "stdout",
          "output_type": "stream",
          "text": [
            "f1_score на обучающем наборе: 0.83\n",
            "accuracy на тестовом наборе: 0.75\n",
            "f1_score на тестовом наборе: 0.78\n"
          ]
        }
      ],
      "source": [
        "# Вновь рассчитаем точность для тестовой выборки\n",
        "model = linear_model.LogisticRegression(\n",
        "    penalty = penalty_list[best['penalty']],\n",
        "    solver = solver_list[best['solver']],\n",
        "    C = float(best['C']),\n",
        "    random_state = random_state\n",
        ")\n",
        "\n",
        "model.fit(X_train, y_train)\n",
        "y_train_pred = model.predict(X_train)\n",
        "print('f1_score на обучающем наборе: {:.2f}'.format(metrics.f1_score(y_train, y_train_pred)))\n",
        "print(\"accuracy на тестовом наборе: {:.2f}\".format(model.score(X_test, y_test)))\n",
        "y_test_pred = model.predict(X_test)\n",
        "print('f1_score на тестовом наборе: {:.2f}'.format(metrics.f1_score(y_test, y_test_pred)))"
      ]
    },
    {
      "attachments": {},
      "cell_type": "markdown",
      "id": "0JjxfP7kFWF1",
      "metadata": {
        "id": "0JjxfP7kFWF1"
      },
      "source": [
        "> Спустя еще 15 минут и 10 итераций мы получили те же самые результаты. Можно предположить, что дальнейшая оптимизация не принесет существенного успеха.   \n",
        "\n",
        "Попробуем все же в порядке эксперимента увеличить количество итерацией до максимально разрешенного условиями задачи - 50.  "
      ]
    },
    {
      "cell_type": "code",
      "execution_count": null,
      "id": "c9H9P9dnw7OY",
      "metadata": {
        "colab": {
          "base_uri": "https://localhost:8080/"
        },
        "id": "c9H9P9dnw7OY",
        "outputId": "3b51f85a-d23b-4ffe-a57d-cfb5a88a0886"
      },
      "outputs": [
        {
          "name": "stdout",
          "output_type": "stream",
          "text": [
            " 78%|███████▊  | 39/50 [05:55<04:16, 23.28s/trial, best loss: -0.7939600292497768]"
          ]
        },
        {
          "name": "stderr",
          "output_type": "stream",
          "text": [
            "/usr/local/lib/python3.10/dist-packages/sklearn/linear_model/_logistic.py:1181: UserWarning: Setting penalty=None will ignore the C and l1_ratio parameters\n",
            "  warnings.warn(\n",
            "\n",
            "/usr/local/lib/python3.10/dist-packages/sklearn/linear_model/_logistic.py:458: ConvergenceWarning: lbfgs failed to converge (status=1):\n",
            "STOP: TOTAL NO. of ITERATIONS REACHED LIMIT.\n",
            "\n",
            "Increase the number of iterations (max_iter) or scale the data as shown in:\n",
            "    https://scikit-learn.org/stable/modules/preprocessing.html\n",
            "Please also refer to the documentation for alternative solver options:\n",
            "    https://scikit-learn.org/stable/modules/linear_model.html#logistic-regression\n",
            "  n_iter_i = _check_optimize_result(\n",
            "\n"
          ]
        },
        {
          "name": "stdout",
          "output_type": "stream",
          "text": [
            " 84%|████████▍ | 42/50 [09:53<08:48, 66.02s/trial, best loss: -0.7939600292497768]"
          ]
        },
        {
          "name": "stderr",
          "output_type": "stream",
          "text": [
            "/usr/local/lib/python3.10/dist-packages/sklearn/linear_model/_logistic.py:1181: UserWarning: Setting penalty=None will ignore the C and l1_ratio parameters\n",
            "  warnings.warn(\n",
            "\n",
            "/usr/local/lib/python3.10/dist-packages/sklearn/linear_model/_logistic.py:458: ConvergenceWarning: lbfgs failed to converge (status=1):\n",
            "STOP: TOTAL NO. of ITERATIONS REACHED LIMIT.\n",
            "\n",
            "Increase the number of iterations (max_iter) or scale the data as shown in:\n",
            "    https://scikit-learn.org/stable/modules/preprocessing.html\n",
            "Please also refer to the documentation for alternative solver options:\n",
            "    https://scikit-learn.org/stable/modules/linear_model.html#logistic-regression\n",
            "  n_iter_i = _check_optimize_result(\n",
            "\n"
          ]
        },
        {
          "name": "stdout",
          "output_type": "stream",
          "text": [
            " 90%|█████████ | 45/50 [11:53<04:23, 52.65s/trial, best loss: -0.7942009056959869]"
          ]
        },
        {
          "name": "stderr",
          "output_type": "stream",
          "text": [
            "/usr/local/lib/python3.10/dist-packages/sklearn/linear_model/_logistic.py:1181: UserWarning: Setting penalty=None will ignore the C and l1_ratio parameters\n",
            "  warnings.warn(\n",
            "\n",
            "/usr/local/lib/python3.10/dist-packages/sklearn/linear_model/_sag.py:350: ConvergenceWarning: The max_iter was reached which means the coef_ did not converge\n",
            "  warnings.warn(\n",
            "\n"
          ]
        },
        {
          "name": "stdout",
          "output_type": "stream",
          "text": [
            " 94%|█████████▍| 47/50 [16:36<04:41, 93.74s/trial, best loss: -0.7942009056959869]"
          ]
        },
        {
          "name": "stderr",
          "output_type": "stream",
          "text": [
            "/usr/local/lib/python3.10/dist-packages/sklearn/linear_model/_logistic.py:1181: UserWarning: Setting penalty=None will ignore the C and l1_ratio parameters\n",
            "  warnings.warn(\n",
            "\n",
            "/usr/local/lib/python3.10/dist-packages/sklearn/linear_model/_sag.py:350: ConvergenceWarning: The max_iter was reached which means the coef_ did not converge\n",
            "  warnings.warn(\n",
            "\n"
          ]
        },
        {
          "name": "stdout",
          "output_type": "stream",
          "text": [
            "100%|██████████| 50/50 [22:55<00:00, 45.87s/trial, best loss: -0.7942009056959869] \n",
            "Наилучшие значения гиперпараметров: penalty = 'l2', solver = 'saga', C = 0.02.\n",
            "CPU times: user 5min 41s, sys: 11.5 s, total: 5min 53s\n",
            "Wall time: 22min 56s\n"
          ]
        }
      ],
      "source": [
        "# Продолжим подбор гиперпараметров\n",
        "%%time\n",
        "\n",
        "best = fmin(hyperopt_lr,\n",
        "            space=space,\n",
        "            algo=tpe.suggest,\n",
        "            max_evals=50, # увеличим максимальное количество итераций до 50\n",
        "            trials=trials, # продолжим логирование результатов\n",
        "            rstate=np.random.default_rng(random_state)\n",
        ")\n",
        "print(\"Наилучшие значения гиперпараметров: penalty = '{0}', solver = '{1}', C = {2}.\"\\\n",
        "      .format(penalty_list[best['penalty']],\n",
        "              solver_list[best['solver']],\n",
        "              best['C']))"
      ]
    },
    {
      "cell_type": "code",
      "execution_count": null,
      "id": "T3H-I83GxBBr",
      "metadata": {
        "colab": {
          "base_uri": "https://localhost:8080/"
        },
        "id": "T3H-I83GxBBr",
        "outputId": "a7d1584a-3138-451f-aeeb-37afff0c57e4"
      },
      "outputs": [
        {
          "name": "stdout",
          "output_type": "stream",
          "text": [
            "f1_score на обучающем наборе: 0.83\n",
            "accuracy на тестовом наборе: 0.75\n",
            "f1_score на тестовом наборе: 0.78\n"
          ]
        },
        {
          "name": "stderr",
          "output_type": "stream",
          "text": [
            "/usr/local/lib/python3.10/dist-packages/sklearn/linear_model/_sag.py:350: ConvergenceWarning: The max_iter was reached which means the coef_ did not converge\n",
            "  warnings.warn(\n"
          ]
        }
      ],
      "source": [
        "# Вновь рассчитаем точность для тестовой выборки\n",
        "model = linear_model.LogisticRegression(\n",
        "    penalty = penalty_list[best['penalty']],\n",
        "    solver = solver_list[best['solver']],\n",
        "    C = float(best['C']),\n",
        "    random_state = random_state\n",
        ")\n",
        "\n",
        "model.fit(X_train, y_train)\n",
        "y_train_pred = model.predict(X_train)\n",
        "print('f1_score на обучающем наборе: {:.2f}'.format(metrics.f1_score(y_train, y_train_pred)))\n",
        "print(\"accuracy на тестовом наборе: {:.2f}\".format(model.score(X_test, y_test)))\n",
        "y_test_pred = model.predict(X_test)\n",
        "print('f1_score на тестовом наборе: {:.2f}'.format(metrics.f1_score(y_test, y_test_pred)))"
      ]
    },
    {
      "attachments": {},
      "cell_type": "markdown",
      "id": "TqQqJI7UHLUJ",
      "metadata": {
        "id": "TqQqJI7UHLUJ"
      },
      "source": [
        "> Максимальное количество итераций не дало эффекта: метрики совсем не изменились. При этом было потрачено еще 22 минуты!\n",
        "\n",
        "Проиллюстрируем изменение точности при различных итерациях.  "
      ]
    },
    {
      "cell_type": "code",
      "execution_count": null,
      "id": "m2DYa5gQ9Ffu",
      "metadata": {
        "colab": {
          "base_uri": "https://localhost:8080/",
          "height": 1000
        },
        "id": "m2DYa5gQ9Ffu",
        "outputId": "3c8a51b7-b7df-49a0-f877-92bd24a53763"
      },
      "outputs": [
        {
          "data": {
            "image/png": "[encoded data removed]",
            "text/plain": [
              "<Figure size 1000x1000 with 4 Axes>"
            ]
          },
          "metadata": {},
          "output_type": "display_data"
        }
      ],
      "source": [
        "# Сохраним в массив значения функции потерь и гиперпараметров на всех итерациях\n",
        "tpe_results = np.array(\n",
        "    [[x['result']['loss'],\n",
        "      x['misc']['vals']['solver'][0],\n",
        "      x['misc']['vals']['penalty'][0],\n",
        "      x['misc']['vals']['C'][0]]\n",
        "     for x in trials.trials if x['result']['status'] == 'ok']\n",
        ")\n",
        "# Преобразуем массив в датафрейм и подставим значения из наших списков\n",
        "tpe_results_df = pd.DataFrame(\n",
        "    tpe_results,\n",
        "    columns=['score', 'solver', 'penalty', 'C']\n",
        ")\n",
        "tpe_results_df['solver'] = tpe_results_df['solver'].apply(lambda x: solver_list[int(x)])\n",
        "tpe_results_df['penalty'] = tpe_results_df['penalty'].apply(lambda x: penalty_list[int(x)])\n",
        "\n",
        "# Отрисуем линейные графики, т.к.тепловая карта в данном случае не очень наглядна\n",
        "fig, ax = plt.subplots(nrows=4, ncols=1, sharex=True, figsize=(10,10))\n",
        "ax[0].plot(tpe_results_df.index, tpe_results_df['score'], label='score', color='blue')\n",
        "ax[1].plot(tpe_results_df.index, tpe_results_df['solver'], label='solver', color='orange')\n",
        "ax[2].plot(tpe_results_df.index, tpe_results_df['penalty'].astype('str'), label='penalty', color='green')\n",
        "ax[3].plot(tpe_results_df.index, tpe_results_df['C'], label='C', color='red')\n",
        "fig.legend(loc=(0.86, 0.85));\n",
        "fig.suptitle('График изменения точности при различных значениях гиперпараметров');\n",
        "plt.setp(ax, xticks=range(50));\n",
        "fig.tight_layout();\n",
        "plt.show();"
      ]
    },
    {
      "attachments": {},
      "cell_type": "markdown",
      "id": "gawHqGmsHf4G",
      "metadata": {
        "id": "gawHqGmsHf4G"
      },
      "source": [
        "> **Вывод по подбору гиперпараметров логистической регрессии с помощью Hyperopt**:  \n",
        "> \n",
        "> 1. Оптимизация не принесла никакого улучшения метрик по сравнению с baseline-решением. Но при этом было затрачено 52 минуты!  \n",
        "> \n",
        "> 2. Интересно обратить внимание, что на графике метода регуляризации penalty значение `l2`, которое стабильно обеспечивало наилучшие значения точности, вдруг вновь стало меняться, как будто алгоритм перестал учитывать предыдущие успешные результаты. Возможно, это связано с тем, что часто не достигалась сходимость метода оптимизации функции потерь (хотя значение max_iter модели было выставлено с запасом - 500 вместо 300, как на этапе базовой оптимизации).  \n",
        ">\n",
        "> 3. Длительная оптимизация (50 итераций) привела к определению наилучших гиперпараметров, практически не отличающихся от полученных в ходе базовой оптимизации: penalty = 'l2', solver = 'saga', C = 0.02. Вот только заняло это у метода Hyperopt 2-6 раз больше времени. Таким образом, метод Hyperopt показал низкую эффективность для данной задачи и/или данной модели.  \n",
        "---"
      ]
    },
    {
      "attachments": {},
      "cell_type": "markdown",
      "id": "WtrJedHyLPBZ",
      "metadata": {
        "id": "WtrJedHyLPBZ"
      },
      "source": [
        "#### **4.1.2. Случайный лес**  \n",
        "При подборе используем ту же сетку гиперпараметров случайного леса, что и в предыдущих методах.  \n",
        "Начнем с задания количества проверяемых комбинаций гиперпараметров max_eval равным 10. При необходимости улучшить результат, продолжим оптимизацию. Также используем кросс-валидацию.  "
      ]
    },
    {
      "cell_type": "code",
      "execution_count": null,
      "id": "8dWxW_9K_qJp",
      "metadata": {
        "id": "8dWxW_9K_qJp"
      },
      "outputs": [],
      "source": [
        "# Зададим пространство поиска гиперпараметров\n",
        "criterion_list = ['gini', 'entropy']\n",
        "\n",
        "space = {\n",
        "    'n_estimators': hp.quniform('n_estimators', 100, 200, 30),\n",
        "    'max_depth' : hp.quniform('max_depth', 10, 25, 5),\n",
        "    'min_samples_leaf': hp.quniform('min_samples_leaf', 5, 7, 1),\n",
        "    'criterion' : hp.choice('criterion', criterion_list)\n",
        "}"
      ]
    },
    {
      "cell_type": "code",
      "execution_count": null,
      "id": "QEu0VyR-NCka",
      "metadata": {
        "id": "QEu0VyR-NCka"
      },
      "outputs": [],
      "source": [
        "# Зафиксируем число для воспроизводимости результата\n",
        "random_state = 42\n",
        "\n",
        "# Создадим функцию расчета целевой метрики - понадобится для использования с fmin\n",
        "def hyperopt_rf(params: dict,\n",
        "                cv: int = 5,\n",
        "                X: pd.DataFrame = X_train,\n",
        "                y: pd.Series = y_train,\n",
        "                random_state: int = random_state) -> float:\n",
        "    \"\"\"Функция получает комбинацию гиперпараметров, а также обучающую выборку\n",
        "    и вектор ответов и возвращает значение целевой метрики для модели\n",
        "    случайного леса.\n",
        "\n",
        "    Args:\n",
        "        params (dict): словарь гиперпараметров.\n",
        "        cv (int, optional): кол-во фолдов для кросс-валидации; по умолчанию = 5.\n",
        "        X (pd.DataFrame, optional): обучабщая выборка; по умолчанию = X_train.\n",
        "        y (pd.Series, optional): вектор ответов; по умолчанию = y_train.\n",
        "        random_state (int, optional): сид воспроизводимости; по умол. = random_state.\n",
        "\n",
        "    Returns:\n",
        "        float: значение целевой метрики\n",
        "    \"\"\"\n",
        "\n",
        "    # Преобразуем комбинацию гиперпараметров в переменную\n",
        "    params = {\n",
        "        'n_estimators': int(params['n_estimators']), \n",
        "        'max_depth': int(params['max_depth']), \n",
        "        'min_samples_leaf': int(params['min_samples_leaf']),\n",
        "        'criterion' : params['criterion']\n",
        "    }\n",
        "  \n",
        "    # Используем эту комбинацию для построения модели\n",
        "    model = ensemble.RandomForestClassifier(\n",
        "        **params,\n",
        "        random_state=random_state\n",
        "    )\n",
        "\n",
        "    # Обучим модель с помошью кросс-валидации\n",
        "    model.fit(X, y)\n",
        "    score = cross_val_score(model, X, y, cv=cv, scoring=\"f1\", n_jobs=-1).mean()\n",
        "\n",
        "    # Вернем значение метрики со знаком минус с целью ее минимизации\n",
        "    return -score"
      ]
    },
    {
      "cell_type": "code",
      "execution_count": null,
      "id": "XmFGLj7mN1Pu",
      "metadata": {
        "colab": {
          "base_uri": "https://localhost:8080/"
        },
        "id": "XmFGLj7mN1Pu",
        "outputId": "1afb7eca-5565-4965-9241-aea2d3c83d99"
      },
      "outputs": [
        {
          "name": "stdout",
          "output_type": "stream",
          "text": [
            "100%|██████████| 10/10 [03:06<00:00, 18.65s/trial, best loss: -0.8125796238402202]\n",
            "Наилучшие значения гиперпараметров {'criterion': 0, 'max_depth': 15.0, 'min_samples_leaf': 6.0, 'n_estimators': 120.0}\n",
            "CPU times: user 35.2 s, sys: 1.04 s, total: 36.3 s\n",
            "Wall time: 3min 6s\n"
          ]
        }
      ],
      "source": [
        "# Начинаем подбор гиперпараметров\n",
        "%%time\n",
        "\n",
        "trials_2 = Trials() # Используем для логирования результатов\n",
        "\n",
        "best = fmin(hyperopt_rf, # написанная нами функция\n",
        "            space=space, # пространство гиперпараметров\n",
        "            algo=tpe.suggest, # алгоритм оптимизации (установлен по умолчанию)\n",
        "            max_evals=10, # максимальное количество итераций\n",
        "            trials=trials_2, # логирование результатов\n",
        "            rstate=np.random.default_rng(random_state)# фиксируем для повторяемости результата\n",
        ")\n",
        "\n",
        "print(\"Наилучшие значения гиперпараметров {}\".format(best))"
      ]
    },
    {
      "cell_type": "code",
      "execution_count": null,
      "id": "kkpQ5N9JOqtE",
      "metadata": {
        "colab": {
          "base_uri": "https://localhost:8080/"
        },
        "id": "kkpQ5N9JOqtE",
        "outputId": "55d619ad-5fa4-475b-e974-d9449df08e1c"
      },
      "outputs": [
        {
          "name": "stdout",
          "output_type": "stream",
          "text": [
            "Наилучшие значения гиперпараметров: n_estimators = 120, max_depth = 15, min_samples_leaf = 6, criterion = 'gini'\n"
          ]
        }
      ],
      "source": [
        "# Выведем значения в более понятном виде с использованием созданного ранее списка\n",
        "print(f\"Наилучшие значения гиперпараметров: n_estimators = {int(best['n_estimators'])},\"\\\n",
        "     ,f\"max_depth = {int(best['max_depth'])},\"\\\n",
        "     ,f\"min_samples_leaf = {int(best['min_samples_leaf'])},\"\\\n",
        "     ,f\"criterion = '{criterion_list[best['criterion']]}'\")"
      ]
    },
    {
      "cell_type": "code",
      "execution_count": null,
      "id": "jyVoSNqVROG8",
      "metadata": {
        "colab": {
          "base_uri": "https://localhost:8080/"
        },
        "id": "jyVoSNqVROG8",
        "outputId": "2041692b-3bf9-48f4-ff50-ca0120c565f6"
      },
      "outputs": [
        {
          "name": "stdout",
          "output_type": "stream",
          "text": [
            "f1_score на обучающем наборе: 0.92\n",
            "accuracy на тестовом наборе: 0.77\n",
            "f1_score на тестовом наборе: 0.79\n"
          ]
        }
      ],
      "source": [
        "# Рассчитаем точность для тестовой выборки\n",
        "model = ensemble.RandomForestClassifier(\n",
        "    n_estimators = int(best['n_estimators']),\n",
        "    max_depth = int(best['max_depth']),\n",
        "    min_samples_leaf = int(best['min_samples_leaf']),\n",
        "    criterion = criterion_list[best['criterion']],\n",
        "    random_state = random_state\n",
        ")\n",
        "\n",
        "model.fit(X_train, y_train)\n",
        "y_train_pred = model.predict(X_train)\n",
        "print('f1_score на обучающем наборе: {:.2f}'.format(metrics.f1_score(y_train, y_train_pred)))\n",
        "print(\"accuracy на тестовом наборе: {:.2f}\".format(model.score(X_test, y_test)))\n",
        "y_test_pred = model.predict(X_test)\n",
        "print('f1_score на тестовом наборе: {:.2f}'.format(metrics.f1_score(y_test, y_test_pred)))"
      ]
    },
    {
      "attachments": {},
      "cell_type": "markdown",
      "id": "pI23SrfMSPcw",
      "metadata": {
        "id": "pI23SrfMSPcw"
      },
      "source": [
        "> Итак, после 10 итераций мы получили значения метрик, даже уступающие baseline-решению. Впрочем, с учетом затраченного времени (3 минуты), это вполне объяснимо.  \n",
        "\n",
        "Попробуем улучшить результат, проведя дооптимизацию - увеличим количество итераций до 20.  "
      ]
    },
    {
      "cell_type": "code",
      "execution_count": null,
      "id": "wz5KM516SvMi",
      "metadata": {
        "colab": {
          "base_uri": "https://localhost:8080/"
        },
        "id": "wz5KM516SvMi",
        "outputId": "d0900cbc-95fe-4db3-f9d4-961ff6edc245"
      },
      "outputs": [
        {
          "name": "stdout",
          "output_type": "stream",
          "text": [
            "100%|██████████| 20/20 [02:16<00:00, 13.62s/trial, best loss: -0.8125796238402202]\n",
            "Наилучшие значения гиперпараметров: n_estimators = 120, max_depth = 15, min_samples_leaf = 6, criterion = 'gini'\n",
            "CPU times: user 30 s, sys: 658 ms, total: 30.6 s\n",
            "Wall time: 2min 16s\n"
          ]
        }
      ],
      "source": [
        "# Продолжаем подбор гиперпараметров\n",
        "%%time\n",
        "\n",
        "best = fmin(hyperopt_rf,\n",
        "            space=space,\n",
        "            algo=tpe.suggest,\n",
        "            max_evals=20, # максимальное количество итераций увеличиваем до 20\n",
        "            trials=trials_2, # логирование результатов\n",
        "            rstate=np.random.default_rng(random_state)\n",
        ")\n",
        "\n",
        "# Выведем значения в более понятном виде с использованием созданного ранее списка\n",
        "print(f\"Наилучшие значения гиперпараметров: n_estimators = {int(best['n_estimators'])},\"\\\n",
        "     ,f\"max_depth = {int(best['max_depth'])},\"\\\n",
        "     ,f\"min_samples_leaf = {int(best['min_samples_leaf'])},\"\\\n",
        "     ,f\"criterion = '{criterion_list[best['criterion']]}'\")"
      ]
    },
    {
      "cell_type": "code",
      "execution_count": null,
      "id": "TFcdXvezTXwH",
      "metadata": {
        "colab": {
          "base_uri": "https://localhost:8080/"
        },
        "id": "TFcdXvezTXwH",
        "outputId": "4b4f8f4e-2f6d-423a-9728-69b20cdd57f5"
      },
      "outputs": [
        {
          "name": "stdout",
          "output_type": "stream",
          "text": [
            "f1_score на обучающем наборе: 0.92\n",
            "accuracy на тестовом наборе: 0.77\n",
            "f1_score на тестовом наборе: 0.79\n"
          ]
        }
      ],
      "source": [
        "# Вновь рассчитаем точность для тестовой выборки\n",
        "model = ensemble.RandomForestClassifier(\n",
        "    n_estimators = int(best['n_estimators']),\n",
        "    max_depth = int(best['max_depth']),\n",
        "    min_samples_leaf = int(best['min_samples_leaf']),\n",
        "    criterion = criterion_list[best['criterion']],\n",
        "    random_state = random_state\n",
        ")\n",
        "\n",
        "model.fit(X_train, y_train)\n",
        "y_train_pred = model.predict(X_train)\n",
        "print('f1_score на обучающем наборе: {:.2f}'.format(metrics.f1_score(y_train, y_train_pred)))\n",
        "print(\"accuracy на тестовом наборе: {:.2f}\".format(model.score(X_test, y_test)))\n",
        "y_test_pred = model.predict(X_test)\n",
        "print('f1_score на тестовом наборе: {:.2f}'.format(metrics.f1_score(y_test, y_test_pred)))"
      ]
    },
    {
      "attachments": {},
      "cell_type": "markdown",
      "id": "vN3DW-NLcER-",
      "metadata": {
        "id": "vN3DW-NLcER-"
      },
      "source": [
        "> После 20 итераций результаты метрик не изменились.  \n",
        ">\n",
        "> При этом в обоих случаях лучшим критерием информативности оказывался `gini`, тогда как в предыдущих исследованиях им становился `entropy`, да и остальные параметры леса не приблизились к значениям, которые мы видели на этапах базовой оптимизации. Это может свидетельствовать о том, что мы подобрали не самые лучшие гиперпараметры.  \n",
        "\n",
        "Проверим, получится ли улучшить результат, проведя дооптимизацию с максимально возможным по условию задачи количеством итераций - 50.  "
      ]
    },
    {
      "cell_type": "code",
      "execution_count": null,
      "id": "isw3vQwJT3e5",
      "metadata": {
        "colab": {
          "base_uri": "https://localhost:8080/"
        },
        "id": "isw3vQwJT3e5",
        "outputId": "b24d6d8d-be37-4dfc-e410-35d7e6f94d43"
      },
      "outputs": [
        {
          "name": "stdout",
          "output_type": "stream",
          "text": [
            "100%|██████████| 50/50 [06:07<00:00, 12.25s/trial, best loss: -0.8164538403645167]\n",
            "Наилучшие значения гиперпараметров: n_estimators = 210, max_depth = 25, min_samples_leaf = 5, criterion = 'entropy'\n",
            "CPU times: user 1min 22s, sys: 1.69 s, total: 1min 24s\n",
            "Wall time: 6min 7s\n"
          ]
        }
      ],
      "source": [
        "# Продолжаем подбор гиперпараметров\n",
        "%%time\n",
        "\n",
        "best = fmin(hyperopt_rf,\n",
        "            space=space,\n",
        "            algo=tpe.suggest,\n",
        "            max_evals=50, # максимальное количество итераций увеличиваем до 50\n",
        "            trials=trials_2, # логирование результатов\n",
        "            rstate=np.random.default_rng(random_state)\n",
        ")\n",
        "\n",
        "# Выведем значения в более понятном виде с использованием созданного ранее списка\n",
        "print(f\"Наилучшие значения гиперпараметров: n_estimators = {int(best['n_estimators'])},\"\\\n",
        "     ,f\"max_depth = {int(best['max_depth'])},\"\\\n",
        "     ,f\"min_samples_leaf = {int(best['min_samples_leaf'])},\"\\\n",
        "     ,f\"criterion = '{criterion_list[best['criterion']]}'\")"
      ]
    },
    {
      "cell_type": "code",
      "execution_count": null,
      "id": "-f3wawR6Vb2d",
      "metadata": {
        "colab": {
          "base_uri": "https://localhost:8080/"
        },
        "id": "-f3wawR6Vb2d",
        "outputId": "cfaaa6ed-56fb-4829-bdda-d3e499ffd2f0"
      },
      "outputs": [
        {
          "name": "stdout",
          "output_type": "stream",
          "text": [
            "f1_score на обучающем наборе: 0.95\n",
            "accuracy на тестовом наборе: 0.78\n",
            "f1_score на тестовом наборе: 0.80\n"
          ]
        }
      ],
      "source": [
        "# Вновь рассчитаем точность для тестовой выборки\n",
        "model = ensemble.RandomForestClassifier(\n",
        "    n_estimators = int(best['n_estimators']),\n",
        "    max_depth = int(best['max_depth']),\n",
        "    min_samples_leaf = int(best['min_samples_leaf']),\n",
        "    criterion = criterion_list[best['criterion']],\n",
        "    random_state = random_state\n",
        ")\n",
        "\n",
        "model.fit(X_train, y_train)\n",
        "y_train_pred = model.predict(X_train)\n",
        "print('f1_score на обучающем наборе: {:.2f}'.format(metrics.f1_score(y_train, y_train_pred)))\n",
        "print(\"accuracy на тестовом наборе: {:.2f}\".format(model.score(X_test, y_test)))\n",
        "y_test_pred = model.predict(X_test)\n",
        "print('f1_score на тестовом наборе: {:.2f}'.format(metrics.f1_score(y_test, y_test_pred)))"
      ]
    },
    {
      "attachments": {},
      "cell_type": "markdown",
      "id": "YohBVpaAdqly",
      "metadata": {
        "id": "YohBVpaAdqly"
      },
      "source": [
        "> Наконец нам удалось достичь такого же значения метрики $F_1$-score, как и во время базовой оптимизации - 0.80, а вот значение accuracy даже увеличилось на 0.01. Однако результаты все равно не превосходят baseline-решение.  \n",
        "> \n",
        "> Суммарное затраченное время на все 50 итераций составило 9 минут, что не так уж и много. Но неспособность метода превзойти базовое решение с параметрами по умолчанию, ставит под сомнение его использование. Впрочем, результаты могут объясняться тем, что модель случайного леса прекрасно справляется с данной задачей вне зависимости от набора гиперпараметров.  \n",
        "  \n",
        "Проиллюстритуем изменение точности при различных гиперпараметрах.  "
      ]
    },
    {
      "cell_type": "code",
      "execution_count": null,
      "id": "8Z2hPXEfV1eT",
      "metadata": {
        "colab": {
          "base_uri": "https://localhost:8080/",
          "height": 1000
        },
        "id": "8Z2hPXEfV1eT",
        "outputId": "9e06b141-eb29-45e8-bf09-1bfe5fdf468a"
      },
      "outputs": [
        {
          "data": {
            "image/png": "[encoded data removed]",
            "text/plain": [
              "<Figure size 1000x1000 with 5 Axes>"
            ]
          },
          "metadata": {},
          "output_type": "display_data"
        }
      ],
      "source": [
        "# Сохраним в массив значения функции потерь и гиперпараметров на всех итерациях\n",
        "tpe_results = np.array(\n",
        "    [[x['result']['loss'],\n",
        "      x['misc']['vals']['n_estimators'][0],\n",
        "      x['misc']['vals']['max_depth'][0],\n",
        "      x['misc']['vals']['min_samples_leaf'][0],\n",
        "      x['misc']['vals']['criterion'][0]]\n",
        "     for x in trials_2.trials if x['result']['status'] == 'ok']\n",
        ")\n",
        "# Преобразуем массив в датафрейм и подставим значения из наших списков\n",
        "tpe_results_df = pd.DataFrame(\n",
        "    tpe_results,\n",
        "    columns=['score', 'n_estimators', 'max_depth', 'min_samples_leaf', 'criterion']\n",
        ")\n",
        "tpe_results_df['criterion'] = tpe_results_df['criterion'].apply(lambda x: criterion_list[int(x)])\n",
        "\n",
        "# Отрисуем линейные графики, т.к.тепловая карта в данном случае не очень наглядна\n",
        "fig, ax = plt.subplots(nrows=5, ncols=1, sharex=True, figsize=(10,10))\n",
        "ax[0].plot(tpe_results_df.index, tpe_results_df['score'], label='score', color='blue')\n",
        "ax[1].plot(tpe_results_df.index, tpe_results_df['n_estimators'], label='n_estimators', color='orange')\n",
        "ax[2].plot(tpe_results_df.index, tpe_results_df['max_depth'], label='max_depth', color='green')\n",
        "ax[3].plot(tpe_results_df.index, tpe_results_df['min_samples_leaf'], label='min_samples_leaf', color='red')\n",
        "ax[4].plot(tpe_results_df.index, tpe_results_df['criterion'], label='criterion', color='violet')\n",
        "fig.legend(loc=(0.8, 0.84));\n",
        "fig.suptitle('График изменения точности при различных значениях гиперпараметров');\n",
        "plt.setp(ax, xticks=range(50));\n",
        "fig.tight_layout();\n",
        "plt.show();"
      ]
    },
    {
      "attachments": {},
      "cell_type": "markdown",
      "id": "XOk-GLGRgL5K",
      "metadata": {
        "id": "XOk-GLGRgL5K"
      },
      "source": [
        "> **Вывод по подбору гиперпараметров случайного леса с помощью Hyperopt**:  \n",
        "> 1. Значения метрики $F_1$-score получилось таким же, как и при методах базовой оптимизации. А вот accuracy улучшилась на 0.01. Но при этом результаты не превосходят baseline-решение.  \n",
        "> \n",
        "> 2. После 50 итераций наилучшие гиперпараметры модели оказались очень похожими на те, что были подобраны на этапе базовой оптимизации. В частости, наилучшим критерием информативности в итоге был признан `entropy`.  \n",
        ">  \n",
        "> 3. На графиках отчетливо заметна особенность байесовской оптимизации, реализованной в Hyperopt, - учитывать предыдущие результаты: начиная с 37 итерации метод окончательно \"определился\", что наилучим критерием информативности является `entropy`. Остается неизменным также количество листьев на дереве = 5. Небольшие вариации отмечаются на оставшихся двух параметрах.  \n",
        ">\n",
        "> 4. Метод Hyperopt для модели случайного леса затратил наибольшее количество времени из всех предыдущих - 9 минут при максимальном количестве итераций 50, что ставит под сомнение его эффективность для данной задачи и/или данной модели.  \n",
        "____"
      ]
    },
    {
      "attachments": {},
      "cell_type": "markdown",
      "id": "b8734d51-d5d5-4424-b8a3-b341dde985b5",
      "metadata": {
        "id": "b8734d51-d5d5-4424-b8a3-b341dde985b5"
      },
      "source": [
        "### 4.2. Optuna\n",
        "\n"
      ]
    },
    {
      "cell_type": "code",
      "execution_count": null,
      "id": "cNySTr2GqwbF",
      "metadata": {
        "colab": {
          "base_uri": "https://localhost:8080/"
        },
        "id": "cNySTr2GqwbF",
        "outputId": "fbfb4838-8338-413e-af6f-f93a2d104380"
      },
      "outputs": [
        {
          "name": "stdout",
          "output_type": "stream",
          "text": [
            "Looking in indexes: https://pypi.org/simple, https://us-python.pkg.dev/colab-wheels/public/simple/\n",
            "Collecting optuna\n",
            "  Downloading optuna-3.1.1-py3-none-any.whl (365 kB)\n",
            "\u001b[2K     \u001b[90m━━━━━━━━━━━━━━━━━━━━━━━━━━━━━━━━━━━━━━━\u001b[0m \u001b[32m365.7/365.7 kB\u001b[0m \u001b[31m7.5 MB/s\u001b[0m eta \u001b[36m0:00:00\u001b[0m\n",
            "\u001b[?25hCollecting alembic>=1.5.0 (from optuna)\n",
            "  Downloading alembic-1.11.1-py3-none-any.whl (224 kB)\n",
            "\u001b[2K     \u001b[90m━━━━━━━━━━━━━━━━━━━━━━━━━━━━━━━━━━━━━━\u001b[0m \u001b[32m224.5/224.5 kB\u001b[0m \u001b[31m17.8 MB/s\u001b[0m eta \u001b[36m0:00:00\u001b[0m\n",
            "\u001b[?25hCollecting cmaes>=0.9.1 (from optuna)\n",
            "  Downloading cmaes-0.9.1-py3-none-any.whl (21 kB)\n",
            "Collecting colorlog (from optuna)\n",
            "  Downloading colorlog-6.7.0-py2.py3-none-any.whl (11 kB)\n",
            "Requirement already satisfied: numpy in /usr/local/lib/python3.10/dist-packages (from optuna) (1.22.4)\n",
            "Requirement already satisfied: packaging>=20.0 in /usr/local/lib/python3.10/dist-packages (from optuna) (23.1)\n",
            "Requirement already satisfied: sqlalchemy>=1.3.0 in /usr/local/lib/python3.10/dist-packages (from optuna) (2.0.10)\n",
            "Requirement already satisfied: tqdm in /usr/local/lib/python3.10/dist-packages (from optuna) (4.65.0)\n",
            "Requirement already satisfied: PyYAML in /usr/local/lib/python3.10/dist-packages (from optuna) (6.0)\n",
            "Collecting Mako (from alembic>=1.5.0->optuna)\n",
            "  Downloading Mako-1.2.4-py3-none-any.whl (78 kB)\n",
            "\u001b[2K     \u001b[90m━━━━━━━━━━━━━━━━━━━━━━━━━━━━━━━━━━━━━━━━\u001b[0m \u001b[32m78.7/78.7 kB\u001b[0m \u001b[31m7.7 MB/s\u001b[0m eta \u001b[36m0:00:00\u001b[0m\n",
            "\u001b[?25hRequirement already satisfied: typing-extensions>=4 in /usr/local/lib/python3.10/dist-packages (from alembic>=1.5.0->optuna) (4.5.0)\n",
            "Requirement already satisfied: greenlet!=0.4.17 in /usr/local/lib/python3.10/dist-packages (from sqlalchemy>=1.3.0->optuna) (2.0.2)\n",
            "Requirement already satisfied: MarkupSafe>=0.9.2 in /usr/local/lib/python3.10/dist-packages (from Mako->alembic>=1.5.0->optuna) (2.1.2)\n",
            "Installing collected packages: Mako, colorlog, cmaes, alembic, optuna\n",
            "Successfully installed Mako-1.2.4 alembic-1.11.1 cmaes-0.9.1 colorlog-6.7.0 optuna-3.1.1\n"
          ]
        }
      ],
      "source": [
        "# Устанавливаем библиотеку\n",
        "!pip install optuna"
      ]
    },
    {
      "cell_type": "code",
      "execution_count": null,
      "id": "CQL0pyNGqQgR",
      "metadata": {
        "colab": {
          "base_uri": "https://localhost:8080/"
        },
        "id": "CQL0pyNGqQgR",
        "outputId": "1cc9ab26-e875-4ff5-cb35-96b179da6f1a"
      },
      "outputs": [
        {
          "name": "stdout",
          "output_type": "stream",
          "text": [
            "Версия Optuna: 3.1.1\n"
          ]
        }
      ],
      "source": [
        "# Импортируем и выведем текущую версию\n",
        "import optuna\n",
        "\n",
        "print(\"Версия Optuna: {}\".format(optuna.__version__))"
      ]
    },
    {
      "attachments": {},
      "cell_type": "markdown",
      "id": "yp8FIvxPfu93",
      "metadata": {
        "id": "yp8FIvxPfu93"
      },
      "source": [
        "#### **4.2.1. Логистическая регрессия**  \n",
        "Сохраним подход к формированию сетки гиперпараметров, как для Hyperopt.   \n",
        "Для начала зададим количество проверяемых комбинаций гиперпараметров n_trials равным 20 и используем кросс-валидацию.  "
      ]
    },
    {
      "cell_type": "code",
      "execution_count": null,
      "id": "IEfHbhqKhWsb",
      "metadata": {
        "id": "IEfHbhqKhWsb"
      },
      "outputs": [],
      "source": [
        "# Зафиксируем число для воспроизводимости результата\n",
        "random_state = 42\n",
        "\n",
        "# Создадим функцию расчета целевой метрики\n",
        "def optuna_lr(trial,\n",
        "              cv: int = 5,\n",
        "              X: pd.DataFrame = X_train,\n",
        "              y: pd.Series = y_train,\n",
        "              random_state: int = random_state) -> float:\n",
        "  \"\"\"Функция получает объект trial, выборки и другие параметры и возвращает\n",
        "  значение целевой метрики для модели логистической регрессии.\n",
        "\n",
        "  Args:\n",
        "      trial : объект Optuna.trial для сохранения результатов оптимизации.\n",
        "      cv (int, optional): кол-во фолдов для кросс-валидации; по умолчанию = 5.\n",
        "      X (pd.DataFrame, optional): обучабщая выборка; по умолчанию = X_train.\n",
        "      y (pd.Series, optional): вектор ответов; по умолчанию = y_train.\n",
        "      random_state (int, optional): сид воспроизводимости; по умол. = random_state.\n",
        "\n",
        "  Returns:\n",
        "      float: значение целевой метрики\n",
        "  \"\"\"\n",
        "\n",
        "  # Задаем пространства поиска гиперпараметров\n",
        "  penalty_list = ['l2', None]\n",
        "  solver_list = ['lbfgs', 'sag', 'saga']\n",
        "  penalty = trial.suggest_categorical('penalty', penalty_list)\n",
        "  solver = trial.suggest_categorical('solver', solver_list)\n",
        "  C = trial.suggest_float('C', 0.01, 0.15, step=0.02)\n",
        "\n",
        "  # Cоздаем модель\n",
        "  model = linear_model.LogisticRegression(\n",
        "      penalty = penalty,\n",
        "      solver = solver,\n",
        "      C = C,\n",
        "      max_iter = 500,\n",
        "      random_state = random_state\n",
        "  )\n",
        "  \n",
        "  # Обучаем модель с помощью кросс-валидации\n",
        "  model.fit(X, y)\n",
        "  score = cross_val_score(model, X, y, cv=cv, scoring=\"f1\", n_jobs=-1).mean()\n",
        "\n",
        "  # Возвращаем значение метрики\n",
        "  return score"
      ]
    },
    {
      "cell_type": "code",
      "execution_count": null,
      "id": "jaC2OC-ikfvt",
      "metadata": {
        "colab": {
          "base_uri": "https://localhost:8080/"
        },
        "id": "jaC2OC-ikfvt",
        "outputId": "eede3352-f92d-486e-a202-a0d1465e7b04"
      },
      "outputs": [
        {
          "name": "stderr",
          "output_type": "stream",
          "text": [
            "\u001b[32m[I 2023-05-18 16:25:27,825]\u001b[0m A new study created in memory with name: LogisticRegression\u001b[0m\n",
            "\u001b[32m[I 2023-05-18 16:25:36,262]\u001b[0m Trial 0 finished with value: 0.7879017552772007 and parameters: {'penalty': 'l2', 'solver': 'lbfgs', 'C': 0.06999999999999999}. Best is trial 0 with value: 0.7879017552772007.\u001b[0m\n",
            "\u001b[32m[I 2023-05-18 16:26:54,816]\u001b[0m Trial 1 finished with value: 0.7903599972929735 and parameters: {'penalty': 'l2', 'solver': 'sag', 'C': 0.05}. Best is trial 1 with value: 0.7903599972929735.\u001b[0m\n",
            "\u001b[32m[I 2023-05-18 16:26:59,450]\u001b[0m Trial 2 finished with value: 0.7926327960126269 and parameters: {'penalty': 'l2', 'solver': 'lbfgs', 'C': 0.03}. Best is trial 2 with value: 0.7926327960126269.\u001b[0m\n",
            "\u001b[32m[I 2023-05-18 16:27:05,066]\u001b[0m Trial 3 finished with value: 0.7902171664645037 and parameters: {'penalty': 'l2', 'solver': 'lbfgs', 'C': 0.05}. Best is trial 2 with value: 0.7926327960126269.\u001b[0m\n",
            "/usr/local/lib/python3.10/dist-packages/sklearn/linear_model/_logistic.py:1181: UserWarning: Setting penalty=None will ignore the C and l1_ratio parameters\n",
            "  warnings.warn(\n",
            "/usr/local/lib/python3.10/dist-packages/sklearn/linear_model/_sag.py:350: ConvergenceWarning: The max_iter was reached which means the coef_ did not converge\n",
            "  warnings.warn(\n",
            "\u001b[32m[I 2023-05-18 16:30:08,694]\u001b[0m Trial 4 finished with value: 0.7653993605915081 and parameters: {'penalty': None, 'solver': 'saga', 'C': 0.15}. Best is trial 2 with value: 0.7926327960126269.\u001b[0m\n",
            "/usr/local/lib/python3.10/dist-packages/sklearn/linear_model/_logistic.py:1181: UserWarning: Setting penalty=None will ignore the C and l1_ratio parameters\n",
            "  warnings.warn(\n",
            "/usr/local/lib/python3.10/dist-packages/sklearn/linear_model/_logistic.py:458: ConvergenceWarning: lbfgs failed to converge (status=1):\n",
            "STOP: TOTAL NO. of ITERATIONS REACHED LIMIT.\n",
            "\n",
            "Increase the number of iterations (max_iter) or scale the data as shown in:\n",
            "    https://scikit-learn.org/stable/modules/preprocessing.html\n",
            "Please also refer to the documentation for alternative solver options:\n",
            "    https://scikit-learn.org/stable/modules/linear_model.html#logistic-regression\n",
            "  n_iter_i = _check_optimize_result(\n",
            "\u001b[32m[I 2023-05-18 16:30:30,991]\u001b[0m Trial 5 finished with value: 0.7196099083243708 and parameters: {'penalty': None, 'solver': 'lbfgs', 'C': 0.09}. Best is trial 2 with value: 0.7926327960126269.\u001b[0m\n",
            "/usr/local/lib/python3.10/dist-packages/sklearn/linear_model/_logistic.py:1181: UserWarning: Setting penalty=None will ignore the C and l1_ratio parameters\n",
            "  warnings.warn(\n",
            "/usr/local/lib/python3.10/dist-packages/sklearn/linear_model/_sag.py:350: ConvergenceWarning: The max_iter was reached which means the coef_ did not converge\n",
            "  warnings.warn(\n",
            "\u001b[32m[I 2023-05-18 16:33:28,765]\u001b[0m Trial 6 finished with value: 0.7626510635585347 and parameters: {'penalty': None, 'solver': 'sag', 'C': 0.06999999999999999}. Best is trial 2 with value: 0.7926327960126269.\u001b[0m\n",
            "/usr/local/lib/python3.10/dist-packages/sklearn/linear_model/_logistic.py:1181: UserWarning: Setting penalty=None will ignore the C and l1_ratio parameters\n",
            "  warnings.warn(\n",
            "/usr/local/lib/python3.10/dist-packages/sklearn/linear_model/_sag.py:350: ConvergenceWarning: The max_iter was reached which means the coef_ did not converge\n",
            "  warnings.warn(\n",
            "\u001b[32m[I 2023-05-18 16:36:23,045]\u001b[0m Trial 7 finished with value: 0.7626510635585347 and parameters: {'penalty': None, 'solver': 'sag', 'C': 0.11}. Best is trial 2 with value: 0.7926327960126269.\u001b[0m\n",
            "\u001b[32m[I 2023-05-18 16:36:53,200]\u001b[0m Trial 8 finished with value: 0.7872758838461376 and parameters: {'penalty': 'l2', 'solver': 'sag', 'C': 0.01}. Best is trial 2 with value: 0.7926327960126269.\u001b[0m\n",
            "/usr/local/lib/python3.10/dist-packages/sklearn/linear_model/_logistic.py:1181: UserWarning: Setting penalty=None will ignore the C and l1_ratio parameters\n",
            "  warnings.warn(\n",
            "/usr/local/lib/python3.10/dist-packages/sklearn/linear_model/_sag.py:350: ConvergenceWarning: The max_iter was reached which means the coef_ did not converge\n",
            "  warnings.warn(\n",
            "\u001b[32m[I 2023-05-18 16:39:47,834]\u001b[0m Trial 9 finished with value: 0.7626510635585347 and parameters: {'penalty': None, 'solver': 'sag', 'C': 0.05}. Best is trial 2 with value: 0.7926327960126269.\u001b[0m\n",
            "\u001b[32m[I 2023-05-18 16:40:44,512]\u001b[0m Trial 10 finished with value: 0.7878551093895769 and parameters: {'penalty': 'l2', 'solver': 'saga', 'C': 0.01}. Best is trial 2 with value: 0.7926327960126269.\u001b[0m\n",
            "\u001b[32m[I 2023-05-18 16:40:48,766]\u001b[0m Trial 11 finished with value: 0.7926327960126269 and parameters: {'penalty': 'l2', 'solver': 'lbfgs', 'C': 0.03}. Best is trial 2 with value: 0.7926327960126269.\u001b[0m\n",
            "\u001b[32m[I 2023-05-18 16:40:53,299]\u001b[0m Trial 12 finished with value: 0.7926327960126269 and parameters: {'penalty': 'l2', 'solver': 'lbfgs', 'C': 0.03}. Best is trial 2 with value: 0.7926327960126269.\u001b[0m\n",
            "\u001b[32m[I 2023-05-18 16:40:58,158]\u001b[0m Trial 13 finished with value: 0.7926327960126269 and parameters: {'penalty': 'l2', 'solver': 'lbfgs', 'C': 0.03}. Best is trial 2 with value: 0.7926327960126269.\u001b[0m\n",
            "\u001b[32m[I 2023-05-18 16:41:01,313]\u001b[0m Trial 14 finished with value: 0.7880145279769869 and parameters: {'penalty': 'l2', 'solver': 'lbfgs', 'C': 0.01}. Best is trial 2 with value: 0.7926327960126269.\u001b[0m\n",
            "\u001b[32m[I 2023-05-18 16:41:09,552]\u001b[0m Trial 15 finished with value: 0.7856190729512456 and parameters: {'penalty': 'l2', 'solver': 'lbfgs', 'C': 0.11}. Best is trial 2 with value: 0.7926327960126269.\u001b[0m\n",
            "\u001b[32m[I 2023-05-18 16:41:13,925]\u001b[0m Trial 16 finished with value: 0.7926327960126269 and parameters: {'penalty': 'l2', 'solver': 'lbfgs', 'C': 0.03}. Best is trial 2 with value: 0.7926327960126269.\u001b[0m\n",
            "\u001b[32m[I 2023-05-18 16:42:38,790]\u001b[0m Trial 17 finished with value: 0.7931527786353183 and parameters: {'penalty': 'l2', 'solver': 'saga', 'C': 0.03}. Best is trial 17 with value: 0.7931527786353183.\u001b[0m\n",
            "\u001b[32m[I 2023-05-18 16:44:27,829]\u001b[0m Trial 18 finished with value: 0.7827011992103936 and parameters: {'penalty': 'l2', 'solver': 'saga', 'C': 0.15}. Best is trial 17 with value: 0.7931527786353183.\u001b[0m\n",
            "\u001b[32m[I 2023-05-18 16:46:16,692]\u001b[0m Trial 19 finished with value: 0.7881816442596703 and parameters: {'penalty': 'l2', 'solver': 'saga', 'C': 0.06999999999999999}. Best is trial 17 with value: 0.7931527786353183.\u001b[0m\n"
          ]
        },
        {
          "name": "stdout",
          "output_type": "stream",
          "text": [
            "CPU times: user 5min, sys: 4.67 s, total: 5min 5s\n",
            "Wall time: 20min 48s\n"
          ]
        }
      ],
      "source": [
        "# Начинаем подбор гиперпараметров\n",
        "%%time\n",
        "\n",
        "# Создаем объект исследования, будем максимизировать значение метрики\n",
        "study = optuna.create_study(study_name=\"LogisticRegression\", direction=\"maximize\")\n",
        "\n",
        "# Выполняем оптимизацию гиперпараметров 20 раз\n",
        "study.optimize(optuna_lr, n_trials=20)"
      ]
    },
    {
      "cell_type": "code",
      "execution_count": null,
      "id": "vQqtBLxolDrl",
      "metadata": {
        "colab": {
          "base_uri": "https://localhost:8080/"
        },
        "id": "vQqtBLxolDrl",
        "outputId": "c7c9f57c-24a8-40c5-c5c8-d911fd8ee7b1"
      },
      "outputs": [
        {
          "name": "stdout",
          "output_type": "stream",
          "text": [
            "Наилучшие значения гиперпараметров {'penalty': 'l2', 'solver': 'saga', 'C': 0.03}\n",
            "f1_score на обучающем наборе: 0.79\n"
          ]
        }
      ],
      "source": [
        "# Выводим результаты на обучающей выборке\n",
        "print(\"Наилучшие значения гиперпараметров {}\".format(study.best_params))\n",
        "print(\"f1_score на обучающем наборе: {:.2f}\".format(study.best_value))"
      ]
    },
    {
      "cell_type": "code",
      "execution_count": null,
      "id": "OuIydW5rlMKp",
      "metadata": {
        "colab": {
          "base_uri": "https://localhost:8080/"
        },
        "id": "OuIydW5rlMKp",
        "outputId": "25eab239-35db-40fa-9a5f-4501a9d9f81d"
      },
      "outputs": [
        {
          "name": "stdout",
          "output_type": "stream",
          "text": [
            "accuracy на тестовом наборе: 0.76\n",
            "f1_score на тестовом наборе: 0.78\n"
          ]
        },
        {
          "name": "stderr",
          "output_type": "stream",
          "text": [
            "/usr/local/lib/python3.10/dist-packages/sklearn/linear_model/_sag.py:350: ConvergenceWarning: The max_iter was reached which means the coef_ did not converge\n",
            "  warnings.warn(\n"
          ]
        }
      ],
      "source": [
        "# Выводим результаты на тестовой выборке\n",
        "model = linear_model.LogisticRegression(**study.best_params,random_state=random_state)\n",
        "model.fit(X_train, y_train)\n",
        "y_train_pred = model.predict(X_train)\n",
        "print(\"accuracy на тестовом наборе: {:.2f}\".format(model.score(X_test, y_test)))\n",
        "y_test_pred = model.predict(X_test)\n",
        "print('f1_score на тестовом наборе: {:.2f}'.format(metrics.f1_score(y_test, y_test_pred)))"
      ]
    },
    {
      "attachments": {},
      "cell_type": "markdown",
      "id": "zAY7bkcqw7eF",
      "metadata": {
        "id": "zAY7bkcqw7eF"
      },
      "source": [
        "> Итак, после 20 итераций, занявших почти 21 минуту, мы получили значение $F_1$-score равное baseline-решению и Hyperopt, но меньше на 0.01, чем при базовой оптимизации.\n",
        "> \n",
        "> Выигрыш по времени по сравнению с Hyperopt составил около 9 минут (сравниваем с результатами первых 10 итераций Hyperopt). И при этом сразу был найден наилучший метод оптимизации функции потерь solver = 'saga' (у Hyperopt спустя первые 20 итераций он не был найден). \n",
        "\n",
        "Поскольку подобранные гиперпараметры по итогам 20 итераций очень близки к наилучшим, найденным во всех предыдущих методах оптимизации, дальнейшие поиски вряд ли принесут ощутимое улучшение метрик и изменение параметров. Но в целях эксперимента проведем дополнительные 30 итераций и проверим эффективность библиотеки Optuna.\n"
      ]
    },
    {
      "cell_type": "code",
      "execution_count": null,
      "id": "KYF968dmlCtT",
      "metadata": {
        "colab": {
          "base_uri": "https://localhost:8080/"
        },
        "id": "KYF968dmlCtT",
        "outputId": "8ea134ef-62e0-4c4b-be3c-67b91e3a7439"
      },
      "outputs": [
        {
          "name": "stderr",
          "output_type": "stream",
          "text": [
            "\u001b[32m[I 2023-05-18 16:50:58,287]\u001b[0m Trial 20 finished with value: 0.7867462132357887 and parameters: {'penalty': 'l2', 'solver': 'saga', 'C': 0.09}. Best is trial 17 with value: 0.7931527786353183.\u001b[0m\n",
            "\u001b[32m[I 2023-05-18 16:52:35,549]\u001b[0m Trial 21 finished with value: 0.7931527786353183 and parameters: {'penalty': 'l2', 'solver': 'saga', 'C': 0.03}. Best is trial 17 with value: 0.7931527786353183.\u001b[0m\n",
            "\u001b[32m[I 2023-05-18 16:54:40,897]\u001b[0m Trial 22 finished with value: 0.7907284724091234 and parameters: {'penalty': 'l2', 'solver': 'saga', 'C': 0.05}. Best is trial 17 with value: 0.7931527786353183.\u001b[0m\n",
            "\u001b[32m[I 2023-05-18 16:55:55,016]\u001b[0m Trial 23 finished with value: 0.7878551093895769 and parameters: {'penalty': 'l2', 'solver': 'saga', 'C': 0.01}. Best is trial 17 with value: 0.7931527786353183.\u001b[0m\n",
            "\u001b[32m[I 2023-05-18 16:57:19,620]\u001b[0m Trial 24 finished with value: 0.7931527786353183 and parameters: {'penalty': 'l2', 'solver': 'saga', 'C': 0.03}. Best is trial 17 with value: 0.7931527786353183.\u001b[0m\n",
            "\u001b[32m[I 2023-05-18 16:59:28,307]\u001b[0m Trial 25 finished with value: 0.7907284724091234 and parameters: {'penalty': 'l2', 'solver': 'saga', 'C': 0.05}. Best is trial 17 with value: 0.7931527786353183.\u001b[0m\n",
            "/usr/local/lib/python3.10/dist-packages/sklearn/linear_model/_logistic.py:1181: UserWarning: Setting penalty=None will ignore the C and l1_ratio parameters\n",
            "  warnings.warn(\n",
            "/usr/local/lib/python3.10/dist-packages/sklearn/linear_model/_sag.py:350: ConvergenceWarning: The max_iter was reached which means the coef_ did not converge\n",
            "  warnings.warn(\n",
            "\u001b[32m[I 2023-05-18 17:03:13,211]\u001b[0m Trial 26 finished with value: 0.7653993605915081 and parameters: {'penalty': None, 'solver': 'saga', 'C': 0.03}. Best is trial 17 with value: 0.7931527786353183.\u001b[0m\n",
            "\u001b[32m[I 2023-05-18 17:04:16,588]\u001b[0m Trial 27 finished with value: 0.7878551093895769 and parameters: {'penalty': 'l2', 'solver': 'saga', 'C': 0.01}. Best is trial 17 with value: 0.7931527786353183.\u001b[0m\n",
            "\u001b[32m[I 2023-05-18 17:06:01,601]\u001b[0m Trial 28 finished with value: 0.7907284724091234 and parameters: {'penalty': 'l2', 'solver': 'saga', 'C': 0.05}. Best is trial 17 with value: 0.7931527786353183.\u001b[0m\n",
            "\u001b[32m[I 2023-05-18 17:07:49,860]\u001b[0m Trial 29 finished with value: 0.7881816442596703 and parameters: {'penalty': 'l2', 'solver': 'saga', 'C': 0.06999999999999999}. Best is trial 17 with value: 0.7931527786353183.\u001b[0m\n",
            "\u001b[32m[I 2023-05-18 17:09:40,513]\u001b[0m Trial 30 finished with value: 0.7849968937674829 and parameters: {'penalty': 'l2', 'solver': 'saga', 'C': 0.13}. Best is trial 17 with value: 0.7931527786353183.\u001b[0m\n",
            "\u001b[32m[I 2023-05-18 17:11:06,628]\u001b[0m Trial 31 finished with value: 0.7931527786353183 and parameters: {'penalty': 'l2', 'solver': 'saga', 'C': 0.03}. Best is trial 17 with value: 0.7931527786353183.\u001b[0m\n",
            "\u001b[32m[I 2023-05-18 17:12:31,414]\u001b[0m Trial 32 finished with value: 0.7931527786353183 and parameters: {'penalty': 'l2', 'solver': 'saga', 'C': 0.03}. Best is trial 17 with value: 0.7931527786353183.\u001b[0m\n",
            "\u001b[32m[I 2023-05-18 17:13:56,763]\u001b[0m Trial 33 finished with value: 0.7931527786353183 and parameters: {'penalty': 'l2', 'solver': 'saga', 'C': 0.03}. Best is trial 17 with value: 0.7931527786353183.\u001b[0m\n",
            "\u001b[32m[I 2023-05-18 17:15:38,174]\u001b[0m Trial 34 finished with value: 0.7907284724091234 and parameters: {'penalty': 'l2', 'solver': 'saga', 'C': 0.05}. Best is trial 17 with value: 0.7931527786353183.\u001b[0m\n",
            "\u001b[32m[I 2023-05-18 17:16:34,688]\u001b[0m Trial 35 finished with value: 0.7878551093895769 and parameters: {'penalty': 'l2', 'solver': 'saga', 'C': 0.01}. Best is trial 17 with value: 0.7931527786353183.\u001b[0m\n",
            "\u001b[32m[I 2023-05-18 17:18:13,872]\u001b[0m Trial 36 finished with value: 0.7907284724091234 and parameters: {'penalty': 'l2', 'solver': 'saga', 'C': 0.05}. Best is trial 17 with value: 0.7931527786353183.\u001b[0m\n",
            "/usr/local/lib/python3.10/dist-packages/sklearn/linear_model/_logistic.py:1181: UserWarning: Setting penalty=None will ignore the C and l1_ratio parameters\n",
            "  warnings.warn(\n",
            "/usr/local/lib/python3.10/dist-packages/sklearn/linear_model/_sag.py:350: ConvergenceWarning: The max_iter was reached which means the coef_ did not converge\n",
            "  warnings.warn(\n",
            "\u001b[32m[I 2023-05-18 17:21:18,012]\u001b[0m Trial 37 finished with value: 0.7653993605915081 and parameters: {'penalty': None, 'solver': 'saga', 'C': 0.06999999999999999}. Best is trial 17 with value: 0.7931527786353183.\u001b[0m\n",
            "\u001b[32m[I 2023-05-18 17:22:39,193]\u001b[0m Trial 38 finished with value: 0.7931527786353183 and parameters: {'penalty': 'l2', 'solver': 'saga', 'C': 0.03}. Best is trial 17 with value: 0.7931527786353183.\u001b[0m\n",
            "/usr/local/lib/python3.10/dist-packages/sklearn/linear_model/_logistic.py:1181: UserWarning: Setting penalty=None will ignore the C and l1_ratio parameters\n",
            "  warnings.warn(\n",
            "/usr/local/lib/python3.10/dist-packages/sklearn/linear_model/_sag.py:350: ConvergenceWarning: The max_iter was reached which means the coef_ did not converge\n",
            "  warnings.warn(\n",
            "\u001b[32m[I 2023-05-18 17:25:27,042]\u001b[0m Trial 39 finished with value: 0.7626510635585347 and parameters: {'penalty': None, 'solver': 'sag', 'C': 0.01}. Best is trial 17 with value: 0.7931527786353183.\u001b[0m\n",
            "\u001b[32m[I 2023-05-18 17:27:02,739]\u001b[0m Trial 40 finished with value: 0.7907284724091234 and parameters: {'penalty': 'l2', 'solver': 'saga', 'C': 0.05}. Best is trial 17 with value: 0.7931527786353183.\u001b[0m\n",
            "\u001b[32m[I 2023-05-18 17:28:25,801]\u001b[0m Trial 41 finished with value: 0.7931527786353183 and parameters: {'penalty': 'l2', 'solver': 'saga', 'C': 0.03}. Best is trial 17 with value: 0.7931527786353183.\u001b[0m\n",
            "\u001b[32m[I 2023-05-18 17:29:46,899]\u001b[0m Trial 42 finished with value: 0.7931527786353183 and parameters: {'penalty': 'l2', 'solver': 'saga', 'C': 0.03}. Best is trial 17 with value: 0.7931527786353183.\u001b[0m\n",
            "\u001b[32m[I 2023-05-18 17:31:12,008]\u001b[0m Trial 43 finished with value: 0.7931527786353183 and parameters: {'penalty': 'l2', 'solver': 'saga', 'C': 0.03}. Best is trial 17 with value: 0.7931527786353183.\u001b[0m\n",
            "\u001b[32m[I 2023-05-18 17:31:41,249]\u001b[0m Trial 44 finished with value: 0.7872758838461376 and parameters: {'penalty': 'l2', 'solver': 'sag', 'C': 0.01}. Best is trial 17 with value: 0.7931527786353183.\u001b[0m\n",
            "/usr/local/lib/python3.10/dist-packages/sklearn/linear_model/_logistic.py:1181: UserWarning: Setting penalty=None will ignore the C and l1_ratio parameters\n",
            "  warnings.warn(\n",
            "/usr/local/lib/python3.10/dist-packages/sklearn/linear_model/_sag.py:350: ConvergenceWarning: The max_iter was reached which means the coef_ did not converge\n",
            "  warnings.warn(\n",
            "\u001b[32m[I 2023-05-18 17:34:38,514]\u001b[0m Trial 45 finished with value: 0.7653993605915081 and parameters: {'penalty': None, 'solver': 'saga', 'C': 0.05}. Best is trial 17 with value: 0.7931527786353183.\u001b[0m\n",
            "\u001b[32m[I 2023-05-18 17:35:59,481]\u001b[0m Trial 46 finished with value: 0.7931527786353183 and parameters: {'penalty': 'l2', 'solver': 'saga', 'C': 0.03}. Best is trial 17 with value: 0.7931527786353183.\u001b[0m\n",
            "\u001b[32m[I 2023-05-18 17:36:29,276]\u001b[0m Trial 47 finished with value: 0.7872758838461376 and parameters: {'penalty': 'l2', 'solver': 'sag', 'C': 0.01}. Best is trial 17 with value: 0.7931527786353183.\u001b[0m\n",
            "\u001b[32m[I 2023-05-18 17:38:05,451]\u001b[0m Trial 48 finished with value: 0.7907284724091234 and parameters: {'penalty': 'l2', 'solver': 'saga', 'C': 0.05}. Best is trial 17 with value: 0.7931527786353183.\u001b[0m\n",
            "\u001b[32m[I 2023-05-18 17:39:27,617]\u001b[0m Trial 49 finished with value: 0.7931527786353183 and parameters: {'penalty': 'l2', 'solver': 'saga', 'C': 0.03}. Best is trial 17 with value: 0.7931527786353183.\u001b[0m\n"
          ]
        },
        {
          "name": "stdout",
          "output_type": "stream",
          "text": [
            "CPU times: user 11min 48s, sys: 2.89 s, total: 11min 51s\n",
            "Wall time: 50min 44s\n"
          ]
        }
      ],
      "source": [
        "# Продолжим подбор гиперпараметров\n",
        "%%time\n",
        "\n",
        "# Добавим до 50 еще 30 итераций n_trials\n",
        "study.optimize(optuna_lr, n_trials=30)"
      ]
    },
    {
      "cell_type": "code",
      "execution_count": null,
      "id": "IpQIDst09udt",
      "metadata": {
        "colab": {
          "base_uri": "https://localhost:8080/"
        },
        "id": "IpQIDst09udt",
        "outputId": "173f1279-6520-4cc9-8159-0322b3aab173"
      },
      "outputs": [
        {
          "name": "stdout",
          "output_type": "stream",
          "text": [
            "Наилучшие значения гиперпараметров {'penalty': 'l2', 'solver': 'saga', 'C': 0.03}\n",
            "f1_score на обучающем наборе: 0.79\n"
          ]
        }
      ],
      "source": [
        "# Выводим результаты на обучающей выборке\n",
        "print(\"Наилучшие значения гиперпараметров {}\".format(study.best_params))\n",
        "print(\"f1_score на обучающем наборе: {:.2f}\".format(study.best_value))"
      ]
    },
    {
      "cell_type": "code",
      "execution_count": null,
      "id": "OH1Eve2L9udu",
      "metadata": {
        "colab": {
          "base_uri": "https://localhost:8080/"
        },
        "id": "OH1Eve2L9udu",
        "outputId": "4b9b325b-b7f6-4291-899b-0fed1ae9b198"
      },
      "outputs": [
        {
          "name": "stdout",
          "output_type": "stream",
          "text": [
            "accuracy на тестовом наборе: 0.76\n",
            "f1_score на тестовом наборе: 0.78\n"
          ]
        },
        {
          "name": "stderr",
          "output_type": "stream",
          "text": [
            "/usr/local/lib/python3.10/dist-packages/sklearn/linear_model/_sag.py:350: ConvergenceWarning: The max_iter was reached which means the coef_ did not converge\n",
            "  warnings.warn(\n"
          ]
        }
      ],
      "source": [
        "# Выводим результаты на тестовой выборке\n",
        "model = linear_model.LogisticRegression(**study.best_params,random_state=random_state)\n",
        "model.fit(X_train, y_train)\n",
        "y_train_pred = model.predict(X_train)\n",
        "print(\"accuracy на тестовом наборе: {:.2f}\".format(model.score(X_test, y_test)))\n",
        "y_test_pred = model.predict(X_test)\n",
        "print('f1_score на тестовом наборе: {:.2f}'.format(metrics.f1_score(y_test, y_test_pred)))"
      ]
    },
    {
      "attachments": {},
      "cell_type": "markdown",
      "id": "ihboqyZe0CNc",
      "metadata": {
        "id": "ihboqyZe0CNc"
      },
      "source": [
        "> Как мы и ожидали, дальнейшего улучшения после 50 итераций не произошло (а времени потребовалось еще 50 минут!).  \n",
        "\n",
        "Воспользуемся встроенным в библиотеку функционалом графического отображения процесса и результатов оптимизации, который помогает принимать лучшие решения, видеть влияние различных гиперпараметров на производительность модели.  "
      ]
    },
    {
      "cell_type": "code",
      "execution_count": null,
      "id": "YSRD2qklz8Pd",
      "metadata": {
        "colab": {
          "base_uri": "https://localhost:8080/"
        },
        "id": "YSRD2qklz8Pd",
        "outputId": "126e2e50-7adf-4245-bfd3-9fe74866f31d"
      },
      "outputs": [
        {
          "data": {
            "text/plain": [
              "True"
            ]
          },
          "execution_count": 25,
          "metadata": {},
          "output_type": "execute_result"
        }
      ],
      "source": [
        "# Проверим доступность встроенной визуализации\n",
        "optuna.visualization.is_available()"
      ]
    },
    {
      "attachments": {},
      "cell_type": "markdown",
      "id": "-lO7NNUn0WYj",
      "metadata": {
        "id": "-lO7NNUn0WYj"
      },
      "source": [
        "Построим график истории оптимизации. Он отображает количество испытаний на оси Х и метрику на оси Y.  \n",
        "Следует использовать эту диаграмму, чтобы проверить, идет ли оптимизация гиперпараметров в правильном направлении или нет."
      ]
    },
    {
      "cell_type": "code",
      "execution_count": null,
      "id": "vfo2GDeq0WYz",
      "metadata": {
        "colab": {
          "base_uri": "https://localhost:8080/",
          "height": 542
        },
        "id": "vfo2GDeq0WYz",
        "outputId": "833cd4e5-49ca-4747-cf4f-1321c20e6692"
      },
      "outputs": [
        {
          "data": {
            "text/html": [
              "<html>\n",
              "<head><meta charset=\"utf-8\" /></head>\n",
              "<body>\n",
              "    <div>            <script src=\"https://cdnjs.cloudflare.com/ajax/libs/mathjax/2.7.5/MathJax.js?config=TeX-AMS-MML_SVG\"></script><script type=\"text/javascript\">if (window.MathJax && window.MathJax.Hub && window.MathJax.Hub.Config) {window.MathJax.Hub.Config({SVG: {font: \"STIX-Web\"}});}</script>                <script type=\"text/javascript\">window.PlotlyConfig = {MathJaxConfig: 'local'};</script>\n",
              "        <script src=\"https://cdn.plot.ly/plotly-2.18.2.min.js\"></script>                <div id=\"793e5529-03b0-4be1-8e74-ab99426506b6\" class=\"plotly-graph-div\" style=\"height:525px; width:100%;\"></div>            <script type=\"text/javascript\">                                    window.PLOTLYENV=window.PLOTLYENV || {};                                    if (document.getElementById(\"793e5529-03b0-4be1-8e74-ab99426506b6\")) {                    Plotly.newPlot(                        \"793e5529-03b0-4be1-8e74-ab99426506b6\",                        [{\"mode\":\"markers\",\"name\":\"f1_score\",\"x\":[0,1,2,3,4,5,6,7,8,9,10,11,12,13,14,15,16,17,18,19,20,21,22,23,24,25,26,27,28,29,30,31,32,33,34,35,36,37,38,39,40,41,42,43,44,45,46,47,48,49],\"y\":[0.7879017552772007,0.7903599972929735,0.7926327960126269,0.7902171664645037,0.7653993605915081,0.7196099083243708,0.7626510635585347,0.7626510635585347,0.7872758838461376,0.7626510635585347,0.7878551093895769,0.7926327960126269,0.7926327960126269,0.7926327960126269,0.7880145279769869,0.7856190729512456,0.7926327960126269,0.7931527786353183,0.7827011992103936,0.7881816442596703,0.7867462132357887,0.7931527786353183,0.7907284724091234,0.7878551093895769,0.7931527786353183,0.7907284724091234,0.7653993605915081,0.7878551093895769,0.7907284724091234,0.7881816442596703,0.7849968937674829,0.7931527786353183,0.7931527786353183,0.7931527786353183,0.7907284724091234,0.7878551093895769,0.7907284724091234,0.7653993605915081,0.7931527786353183,0.7626510635585347,0.7907284724091234,0.7931527786353183,0.7931527786353183,0.7931527786353183,0.7872758838461376,0.7653993605915081,0.7931527786353183,0.7872758838461376,0.7907284724091234,0.7931527786353183],\"type\":\"scatter\"},{\"name\":\"Best Value\",\"x\":[0,1,2,3,4,5,6,7,8,9,10,11,12,13,14,15,16,17,18,19,20,21,22,23,24,25,26,27,28,29,30,31,32,33,34,35,36,37,38,39,40,41,42,43,44,45,46,47,48,49],\"y\":[0.7879017552772007,0.7903599972929735,0.7926327960126269,0.7926327960126269,0.7926327960126269,0.7926327960126269,0.7926327960126269,0.7926327960126269,0.7926327960126269,0.7926327960126269,0.7926327960126269,0.7926327960126269,0.7926327960126269,0.7926327960126269,0.7926327960126269,0.7926327960126269,0.7926327960126269,0.7931527786353183,0.7931527786353183,0.7931527786353183,0.7931527786353183,0.7931527786353183,0.7931527786353183,0.7931527786353183,0.7931527786353183,0.7931527786353183,0.7931527786353183,0.7931527786353183,0.7931527786353183,0.7931527786353183,0.7931527786353183,0.7931527786353183,0.7931527786353183,0.7931527786353183,0.7931527786353183,0.7931527786353183,0.7931527786353183,0.7931527786353183,0.7931527786353183,0.7931527786353183,0.7931527786353183,0.7931527786353183,0.7931527786353183,0.7931527786353183,0.7931527786353183,0.7931527786353183,0.7931527786353183,0.7931527786353183,0.7931527786353183,0.7931527786353183],\"type\":\"scatter\"}],                        {\"title\":{\"text\":\"Optimization History Plot\"},\"xaxis\":{\"title\":{\"text\":\"Trial\"}},\"yaxis\":{\"title\":{\"text\":\"f1_score\"}},\"template\":{\"data\":{\"histogram2dcontour\":[{\"type\":\"histogram2dcontour\",\"colorbar\":{\"outlinewidth\":0,\"ticks\":\"\"},\"colorscale\":[[0.0,\"#0d0887\"],[0.1111111111111111,\"#46039f\"],[0.2222222222222222,\"#7201a8\"],[0.3333333333333333,\"#9c179e\"],[0.4444444444444444,\"#bd3786\"],[0.5555555555555556,\"#d8576b\"],[0.6666666666666666,\"#ed7953\"],[0.7777777777777778,\"#fb9f3a\"],[0.8888888888888888,\"#fdca26\"],[1.0,\"#f0f921\"]]}],\"choropleth\":[{\"type\":\"choropleth\",\"colorbar\":{\"outlinewidth\":0,\"ticks\":\"\"}}],\"histogram2d\":[{\"type\":\"histogram2d\",\"colorbar\":{\"outlinewidth\":0,\"ticks\":\"\"},\"colorscale\":[[0.0,\"#0d0887\"],[0.1111111111111111,\"#46039f\"],[0.2222222222222222,\"#7201a8\"],[0.3333333333333333,\"#9c179e\"],[0.4444444444444444,\"#bd3786\"],[0.5555555555555556,\"#d8576b\"],[0.6666666666666666,\"#ed7953\"],[0.7777777777777778,\"#fb9f3a\"],[0.8888888888888888,\"#fdca26\"],[1.0,\"#f0f921\"]]}],\"heatmap\":[{\"type\":\"heatmap\",\"colorbar\":{\"outlinewidth\":0,\"ticks\":\"\"},\"colorscale\":[[0.0,\"#0d0887\"],[0.1111111111111111,\"#46039f\"],[0.2222222222222222,\"#7201a8\"],[0.3333333333333333,\"#9c179e\"],[0.4444444444444444,\"#bd3786\"],[0.5555555555555556,\"#d8576b\"],[0.6666666666666666,\"#ed7953\"],[0.7777777777777778,\"#fb9f3a\"],[0.8888888888888888,\"#fdca26\"],[1.0,\"#f0f921\"]]}],\"heatmapgl\":[{\"type\":\"heatmapgl\",\"colorbar\":{\"outlinewidth\":0,\"ticks\":\"\"},\"colorscale\":[[0.0,\"#0d0887\"],[0.1111111111111111,\"#46039f\"],[0.2222222222222222,\"#7201a8\"],[0.3333333333333333,\"#9c179e\"],[0.4444444444444444,\"#bd3786\"],[0.5555555555555556,\"#d8576b\"],[0.6666666666666666,\"#ed7953\"],[0.7777777777777778,\"#fb9f3a\"],[0.8888888888888888,\"#fdca26\"],[1.0,\"#f0f921\"]]}],\"contourcarpet\":[{\"type\":\"contourcarpet\",\"colorbar\":{\"outlinewidth\":0,\"ticks\":\"\"}}],\"contour\":[{\"type\":\"contour\",\"colorbar\":{\"outlinewidth\":0,\"ticks\":\"\"},\"colorscale\":[[0.0,\"#0d0887\"],[0.1111111111111111,\"#46039f\"],[0.2222222222222222,\"#7201a8\"],[0.3333333333333333,\"#9c179e\"],[0.4444444444444444,\"#bd3786\"],[0.5555555555555556,\"#d8576b\"],[0.6666666666666666,\"#ed7953\"],[0.7777777777777778,\"#fb9f3a\"],[0.8888888888888888,\"#fdca26\"],[1.0,\"#f0f921\"]]}],\"surface\":[{\"type\":\"surface\",\"colorbar\":{\"outlinewidth\":0,\"ticks\":\"\"},\"colorscale\":[[0.0,\"#0d0887\"],[0.1111111111111111,\"#46039f\"],[0.2222222222222222,\"#7201a8\"],[0.3333333333333333,\"#9c179e\"],[0.4444444444444444,\"#bd3786\"],[0.5555555555555556,\"#d8576b\"],[0.6666666666666666,\"#ed7953\"],[0.7777777777777778,\"#fb9f3a\"],[0.8888888888888888,\"#fdca26\"],[1.0,\"#f0f921\"]]}],\"mesh3d\":[{\"type\":\"mesh3d\",\"colorbar\":{\"outlinewidth\":0,\"ticks\":\"\"}}],\"scatter\":[{\"fillpattern\":{\"fillmode\":\"overlay\",\"size\":10,\"solidity\":0.2},\"type\":\"scatter\"}],\"parcoords\":[{\"type\":\"parcoords\",\"line\":{\"colorbar\":{\"outlinewidth\":0,\"ticks\":\"\"}}}],\"scatterpolargl\":[{\"type\":\"scatterpolargl\",\"marker\":{\"colorbar\":{\"outlinewidth\":0,\"ticks\":\"\"}}}],\"bar\":[{\"error_x\":{\"color\":\"#2a3f5f\"},\"error_y\":{\"color\":\"#2a3f5f\"},\"marker\":{\"line\":{\"color\":\"#E5ECF6\",\"width\":0.5},\"pattern\":{\"fillmode\":\"overlay\",\"size\":10,\"solidity\":0.2}},\"type\":\"bar\"}],\"scattergeo\":[{\"type\":\"scattergeo\",\"marker\":{\"colorbar\":{\"outlinewidth\":0,\"ticks\":\"\"}}}],\"scatterpolar\":[{\"type\":\"scatterpolar\",\"marker\":{\"colorbar\":{\"outlinewidth\":0,\"ticks\":\"\"}}}],\"histogram\":[{\"marker\":{\"pattern\":{\"fillmode\":\"overlay\",\"size\":10,\"solidity\":0.2}},\"type\":\"histogram\"}],\"scattergl\":[{\"type\":\"scattergl\",\"marker\":{\"colorbar\":{\"outlinewidth\":0,\"ticks\":\"\"}}}],\"scatter3d\":[{\"type\":\"scatter3d\",\"line\":{\"colorbar\":{\"outlinewidth\":0,\"ticks\":\"\"}},\"marker\":{\"colorbar\":{\"outlinewidth\":0,\"ticks\":\"\"}}}],\"scattermapbox\":[{\"type\":\"scattermapbox\",\"marker\":{\"colorbar\":{\"outlinewidth\":0,\"ticks\":\"\"}}}],\"scatterternary\":[{\"type\":\"scatterternary\",\"marker\":{\"colorbar\":{\"outlinewidth\":0,\"ticks\":\"\"}}}],\"scattercarpet\":[{\"type\":\"scattercarpet\",\"marker\":{\"colorbar\":{\"outlinewidth\":0,\"ticks\":\"\"}}}],\"carpet\":[{\"aaxis\":{\"endlinecolor\":\"#2a3f5f\",\"gridcolor\":\"white\",\"linecolor\":\"white\",\"minorgridcolor\":\"white\",\"startlinecolor\":\"#2a3f5f\"},\"baxis\":{\"endlinecolor\":\"#2a3f5f\",\"gridcolor\":\"white\",\"linecolor\":\"white\",\"minorgridcolor\":\"white\",\"startlinecolor\":\"#2a3f5f\"},\"type\":\"carpet\"}],\"table\":[{\"cells\":{\"fill\":{\"color\":\"#EBF0F8\"},\"line\":{\"color\":\"white\"}},\"header\":{\"fill\":{\"color\":\"#C8D4E3\"},\"line\":{\"color\":\"white\"}},\"type\":\"table\"}],\"barpolar\":[{\"marker\":{\"line\":{\"color\":\"#E5ECF6\",\"width\":0.5},\"pattern\":{\"fillmode\":\"overlay\",\"size\":10,\"solidity\":0.2}},\"type\":\"barpolar\"}],\"pie\":[{\"automargin\":true,\"type\":\"pie\"}]},\"layout\":{\"autotypenumbers\":\"strict\",\"colorway\":[\"#636efa\",\"#EF553B\",\"#00cc96\",\"#ab63fa\",\"#FFA15A\",\"#19d3f3\",\"#FF6692\",\"#B6E880\",\"#FF97FF\",\"#FECB52\"],\"font\":{\"color\":\"#2a3f5f\"},\"hovermode\":\"closest\",\"hoverlabel\":{\"align\":\"left\"},\"paper_bgcolor\":\"white\",\"plot_bgcolor\":\"#E5ECF6\",\"polar\":{\"bgcolor\":\"#E5ECF6\",\"angularaxis\":{\"gridcolor\":\"white\",\"linecolor\":\"white\",\"ticks\":\"\"},\"radialaxis\":{\"gridcolor\":\"white\",\"linecolor\":\"white\",\"ticks\":\"\"}},\"ternary\":{\"bgcolor\":\"#E5ECF6\",\"aaxis\":{\"gridcolor\":\"white\",\"linecolor\":\"white\",\"ticks\":\"\"},\"baxis\":{\"gridcolor\":\"white\",\"linecolor\":\"white\",\"ticks\":\"\"},\"caxis\":{\"gridcolor\":\"white\",\"linecolor\":\"white\",\"ticks\":\"\"}},\"coloraxis\":{\"colorbar\":{\"outlinewidth\":0,\"ticks\":\"\"}},\"colorscale\":{\"sequential\":[[0.0,\"#0d0887\"],[0.1111111111111111,\"#46039f\"],[0.2222222222222222,\"#7201a8\"],[0.3333333333333333,\"#9c179e\"],[0.4444444444444444,\"#bd3786\"],[0.5555555555555556,\"#d8576b\"],[0.6666666666666666,\"#ed7953\"],[0.7777777777777778,\"#fb9f3a\"],[0.8888888888888888,\"#fdca26\"],[1.0,\"#f0f921\"]],\"sequentialminus\":[[0.0,\"#0d0887\"],[0.1111111111111111,\"#46039f\"],[0.2222222222222222,\"#7201a8\"],[0.3333333333333333,\"#9c179e\"],[0.4444444444444444,\"#bd3786\"],[0.5555555555555556,\"#d8576b\"],[0.6666666666666666,\"#ed7953\"],[0.7777777777777778,\"#fb9f3a\"],[0.8888888888888888,\"#fdca26\"],[1.0,\"#f0f921\"]],\"diverging\":[[0,\"#8e0152\"],[0.1,\"#c51b7d\"],[0.2,\"#de77ae\"],[0.3,\"#f1b6da\"],[0.4,\"#fde0ef\"],[0.5,\"#f7f7f7\"],[0.6,\"#e6f5d0\"],[0.7,\"#b8e186\"],[0.8,\"#7fbc41\"],[0.9,\"#4d9221\"],[1,\"#276419\"]]},\"xaxis\":{\"gridcolor\":\"white\",\"linecolor\":\"white\",\"ticks\":\"\",\"title\":{\"standoff\":15},\"zerolinecolor\":\"white\",\"automargin\":true,\"zerolinewidth\":2},\"yaxis\":{\"gridcolor\":\"white\",\"linecolor\":\"white\",\"ticks\":\"\",\"title\":{\"standoff\":15},\"zerolinecolor\":\"white\",\"automargin\":true,\"zerolinewidth\":2},\"scene\":{\"xaxis\":{\"backgroundcolor\":\"#E5ECF6\",\"gridcolor\":\"white\",\"linecolor\":\"white\",\"showbackground\":true,\"ticks\":\"\",\"zerolinecolor\":\"white\",\"gridwidth\":2},\"yaxis\":{\"backgroundcolor\":\"#E5ECF6\",\"gridcolor\":\"white\",\"linecolor\":\"white\",\"showbackground\":true,\"ticks\":\"\",\"zerolinecolor\":\"white\",\"gridwidth\":2},\"zaxis\":{\"backgroundcolor\":\"#E5ECF6\",\"gridcolor\":\"white\",\"linecolor\":\"white\",\"showbackground\":true,\"ticks\":\"\",\"zerolinecolor\":\"white\",\"gridwidth\":2}},\"shapedefaults\":{\"line\":{\"color\":\"#2a3f5f\"}},\"annotationdefaults\":{\"arrowcolor\":\"#2a3f5f\",\"arrowhead\":0,\"arrowwidth\":1},\"geo\":{\"bgcolor\":\"white\",\"landcolor\":\"#E5ECF6\",\"subunitcolor\":\"white\",\"showland\":true,\"showlakes\":true,\"lakecolor\":\"white\"},\"title\":{\"x\":0.05},\"mapbox\":{\"style\":\"light\"}}}},                        {\"responsive\": true}                    ).then(function(){\n",
              "                            \n",
              "var gd = document.getElementById('793e5529-03b0-4be1-8e74-ab99426506b6');\n",
              "var x = new MutationObserver(function (mutations, observer) {{\n",
              "        var display = window.getComputedStyle(gd).display;\n",
              "        if (!display || display === 'none') {{\n",
              "            console.log([gd, 'removed!']);\n",
              "            Plotly.purge(gd);\n",
              "            observer.disconnect();\n",
              "        }}\n",
              "}});\n",
              "\n",
              "// Listen for the removal of the full notebook cells\n",
              "var notebookContainer = gd.closest('#notebook-container');\n",
              "if (notebookContainer) {{\n",
              "    x.observe(notebookContainer, {childList: true});\n",
              "}}\n",
              "\n",
              "// Listen for the clearing of the current output cell\n",
              "var outputEl = gd.closest('.output');\n",
              "if (outputEl) {{\n",
              "    x.observe(outputEl, {childList: true});\n",
              "}}\n",
              "\n",
              "                        })                };                            </script>        </div>\n",
              "</body>\n",
              "</html>"
            ]
          },
          "metadata": {},
          "output_type": "display_data"
        }
      ],
      "source": [
        "optuna.visualization.plot_optimization_history(study, target_name=\"f1_score\")"
      ]
    },
    {
      "attachments": {},
      "cell_type": "markdown",
      "id": "5640364d",
      "metadata": {},
      "source": [
        "![LogisticRegression_Optimisation_History_plot](img/Optuna_421_LR_1_History_plot.png)"
      ]
    },
    {
      "attachments": {},
      "cell_type": "markdown",
      "id": "bxOdrW8a-BpJ",
      "metadata": {
        "id": "bxOdrW8a-BpJ"
      },
      "source": [
        "> Как можно видеть, на протяжении всех 50 итераций метрика $F_1$-score постоянно максимизируется.  \n",
        "\n",
        "Теперь построим диаграмму важности гиперпараметров. Она помогает понять, какие гиперпараметры вносят больший вклад в максимизацию метрики.  "
      ]
    },
    {
      "cell_type": "code",
      "execution_count": null,
      "id": "-N1x0CGJ-BpK",
      "metadata": {
        "colab": {
          "base_uri": "https://localhost:8080/",
          "height": 542
        },
        "id": "-N1x0CGJ-BpK",
        "outputId": "c021c6c3-a3a7-468f-fc9a-a3207d48ad77"
      },
      "outputs": [
        {
          "data": {
            "text/html": [
              "<html>\n",
              "<head><meta charset=\"utf-8\" /></head>\n",
              "<body>\n",
              "    <div>            <script src=\"https://cdnjs.cloudflare.com/ajax/libs/mathjax/2.7.5/MathJax.js?config=TeX-AMS-MML_SVG\"></script><script type=\"text/javascript\">if (window.MathJax && window.MathJax.Hub && window.MathJax.Hub.Config) {window.MathJax.Hub.Config({SVG: {font: \"STIX-Web\"}});}</script>                <script type=\"text/javascript\">window.PlotlyConfig = {MathJaxConfig: 'local'};</script>\n",
              "        <script src=\"https://cdn.plot.ly/plotly-2.18.2.min.js\"></script>                <div id=\"304b5fc9-a1cb-4832-a355-3cd418d3ccf3\" class=\"plotly-graph-div\" style=\"height:525px; width:100%;\"></div>            <script type=\"text/javascript\">                                    window.PLOTLYENV=window.PLOTLYENV || {};                                    if (document.getElementById(\"304b5fc9-a1cb-4832-a355-3cd418d3ccf3\")) {                    Plotly.newPlot(                        \"304b5fc9-a1cb-4832-a355-3cd418d3ccf3\",                        [{\"cliponaxis\":false,\"hovertemplate\":[\"C (FloatDistribution): 0.014633962956969981<extra></extra>\",\"solver (CategoricalDistribution): 0.10335914154031026<extra></extra>\",\"penalty (CategoricalDistribution): 0.8820068955027196<extra></extra>\"],\"marker\":{\"color\":\"rgb(66,146,198)\"},\"orientation\":\"h\",\"text\":[\"0.01\",\"0.10\",\"0.88\"],\"textposition\":\"outside\",\"x\":[0.014633962956969981,0.10335914154031026,0.8820068955027196],\"y\":[\"C\",\"solver\",\"penalty\"],\"type\":\"bar\"}],                        {\"showlegend\":false,\"title\":{\"text\":\"Hyperparameter Importances\"},\"xaxis\":{\"title\":{\"text\":\"Importance for f1_score\"}},\"yaxis\":{\"title\":{\"text\":\"Hyperparameter\"}},\"template\":{\"data\":{\"histogram2dcontour\":[{\"type\":\"histogram2dcontour\",\"colorbar\":{\"outlinewidth\":0,\"ticks\":\"\"},\"colorscale\":[[0.0,\"#0d0887\"],[0.1111111111111111,\"#46039f\"],[0.2222222222222222,\"#7201a8\"],[0.3333333333333333,\"#9c179e\"],[0.4444444444444444,\"#bd3786\"],[0.5555555555555556,\"#d8576b\"],[0.6666666666666666,\"#ed7953\"],[0.7777777777777778,\"#fb9f3a\"],[0.8888888888888888,\"#fdca26\"],[1.0,\"#f0f921\"]]}],\"choropleth\":[{\"type\":\"choropleth\",\"colorbar\":{\"outlinewidth\":0,\"ticks\":\"\"}}],\"histogram2d\":[{\"type\":\"histogram2d\",\"colorbar\":{\"outlinewidth\":0,\"ticks\":\"\"},\"colorscale\":[[0.0,\"#0d0887\"],[0.1111111111111111,\"#46039f\"],[0.2222222222222222,\"#7201a8\"],[0.3333333333333333,\"#9c179e\"],[0.4444444444444444,\"#bd3786\"],[0.5555555555555556,\"#d8576b\"],[0.6666666666666666,\"#ed7953\"],[0.7777777777777778,\"#fb9f3a\"],[0.8888888888888888,\"#fdca26\"],[1.0,\"#f0f921\"]]}],\"heatmap\":[{\"type\":\"heatmap\",\"colorbar\":{\"outlinewidth\":0,\"ticks\":\"\"},\"colorscale\":[[0.0,\"#0d0887\"],[0.1111111111111111,\"#46039f\"],[0.2222222222222222,\"#7201a8\"],[0.3333333333333333,\"#9c179e\"],[0.4444444444444444,\"#bd3786\"],[0.5555555555555556,\"#d8576b\"],[0.6666666666666666,\"#ed7953\"],[0.7777777777777778,\"#fb9f3a\"],[0.8888888888888888,\"#fdca26\"],[1.0,\"#f0f921\"]]}],\"heatmapgl\":[{\"type\":\"heatmapgl\",\"colorbar\":{\"outlinewidth\":0,\"ticks\":\"\"},\"colorscale\":[[0.0,\"#0d0887\"],[0.1111111111111111,\"#46039f\"],[0.2222222222222222,\"#7201a8\"],[0.3333333333333333,\"#9c179e\"],[0.4444444444444444,\"#bd3786\"],[0.5555555555555556,\"#d8576b\"],[0.6666666666666666,\"#ed7953\"],[0.7777777777777778,\"#fb9f3a\"],[0.8888888888888888,\"#fdca26\"],[1.0,\"#f0f921\"]]}],\"contourcarpet\":[{\"type\":\"contourcarpet\",\"colorbar\":{\"outlinewidth\":0,\"ticks\":\"\"}}],\"contour\":[{\"type\":\"contour\",\"colorbar\":{\"outlinewidth\":0,\"ticks\":\"\"},\"colorscale\":[[0.0,\"#0d0887\"],[0.1111111111111111,\"#46039f\"],[0.2222222222222222,\"#7201a8\"],[0.3333333333333333,\"#9c179e\"],[0.4444444444444444,\"#bd3786\"],[0.5555555555555556,\"#d8576b\"],[0.6666666666666666,\"#ed7953\"],[0.7777777777777778,\"#fb9f3a\"],[0.8888888888888888,\"#fdca26\"],[1.0,\"#f0f921\"]]}],\"surface\":[{\"type\":\"surface\",\"colorbar\":{\"outlinewidth\":0,\"ticks\":\"\"},\"colorscale\":[[0.0,\"#0d0887\"],[0.1111111111111111,\"#46039f\"],[0.2222222222222222,\"#7201a8\"],[0.3333333333333333,\"#9c179e\"],[0.4444444444444444,\"#bd3786\"],[0.5555555555555556,\"#d8576b\"],[0.6666666666666666,\"#ed7953\"],[0.7777777777777778,\"#fb9f3a\"],[0.8888888888888888,\"#fdca26\"],[1.0,\"#f0f921\"]]}],\"mesh3d\":[{\"type\":\"mesh3d\",\"colorbar\":{\"outlinewidth\":0,\"ticks\":\"\"}}],\"scatter\":[{\"fillpattern\":{\"fillmode\":\"overlay\",\"size\":10,\"solidity\":0.2},\"type\":\"scatter\"}],\"parcoords\":[{\"type\":\"parcoords\",\"line\":{\"colorbar\":{\"outlinewidth\":0,\"ticks\":\"\"}}}],\"scatterpolargl\":[{\"type\":\"scatterpolargl\",\"marker\":{\"colorbar\":{\"outlinewidth\":0,\"ticks\":\"\"}}}],\"bar\":[{\"error_x\":{\"color\":\"#2a3f5f\"},\"error_y\":{\"color\":\"#2a3f5f\"},\"marker\":{\"line\":{\"color\":\"#E5ECF6\",\"width\":0.5},\"pattern\":{\"fillmode\":\"overlay\",\"size\":10,\"solidity\":0.2}},\"type\":\"bar\"}],\"scattergeo\":[{\"type\":\"scattergeo\",\"marker\":{\"colorbar\":{\"outlinewidth\":0,\"ticks\":\"\"}}}],\"scatterpolar\":[{\"type\":\"scatterpolar\",\"marker\":{\"colorbar\":{\"outlinewidth\":0,\"ticks\":\"\"}}}],\"histogram\":[{\"marker\":{\"pattern\":{\"fillmode\":\"overlay\",\"size\":10,\"solidity\":0.2}},\"type\":\"histogram\"}],\"scattergl\":[{\"type\":\"scattergl\",\"marker\":{\"colorbar\":{\"outlinewidth\":0,\"ticks\":\"\"}}}],\"scatter3d\":[{\"type\":\"scatter3d\",\"line\":{\"colorbar\":{\"outlinewidth\":0,\"ticks\":\"\"}},\"marker\":{\"colorbar\":{\"outlinewidth\":0,\"ticks\":\"\"}}}],\"scattermapbox\":[{\"type\":\"scattermapbox\",\"marker\":{\"colorbar\":{\"outlinewidth\":0,\"ticks\":\"\"}}}],\"scatterternary\":[{\"type\":\"scatterternary\",\"marker\":{\"colorbar\":{\"outlinewidth\":0,\"ticks\":\"\"}}}],\"scattercarpet\":[{\"type\":\"scattercarpet\",\"marker\":{\"colorbar\":{\"outlinewidth\":0,\"ticks\":\"\"}}}],\"carpet\":[{\"aaxis\":{\"endlinecolor\":\"#2a3f5f\",\"gridcolor\":\"white\",\"linecolor\":\"white\",\"minorgridcolor\":\"white\",\"startlinecolor\":\"#2a3f5f\"},\"baxis\":{\"endlinecolor\":\"#2a3f5f\",\"gridcolor\":\"white\",\"linecolor\":\"white\",\"minorgridcolor\":\"white\",\"startlinecolor\":\"#2a3f5f\"},\"type\":\"carpet\"}],\"table\":[{\"cells\":{\"fill\":{\"color\":\"#EBF0F8\"},\"line\":{\"color\":\"white\"}},\"header\":{\"fill\":{\"color\":\"#C8D4E3\"},\"line\":{\"color\":\"white\"}},\"type\":\"table\"}],\"barpolar\":[{\"marker\":{\"line\":{\"color\":\"#E5ECF6\",\"width\":0.5},\"pattern\":{\"fillmode\":\"overlay\",\"size\":10,\"solidity\":0.2}},\"type\":\"barpolar\"}],\"pie\":[{\"automargin\":true,\"type\":\"pie\"}]},\"layout\":{\"autotypenumbers\":\"strict\",\"colorway\":[\"#636efa\",\"#EF553B\",\"#00cc96\",\"#ab63fa\",\"#FFA15A\",\"#19d3f3\",\"#FF6692\",\"#B6E880\",\"#FF97FF\",\"#FECB52\"],\"font\":{\"color\":\"#2a3f5f\"},\"hovermode\":\"closest\",\"hoverlabel\":{\"align\":\"left\"},\"paper_bgcolor\":\"white\",\"plot_bgcolor\":\"#E5ECF6\",\"polar\":{\"bgcolor\":\"#E5ECF6\",\"angularaxis\":{\"gridcolor\":\"white\",\"linecolor\":\"white\",\"ticks\":\"\"},\"radialaxis\":{\"gridcolor\":\"white\",\"linecolor\":\"white\",\"ticks\":\"\"}},\"ternary\":{\"bgcolor\":\"#E5ECF6\",\"aaxis\":{\"gridcolor\":\"white\",\"linecolor\":\"white\",\"ticks\":\"\"},\"baxis\":{\"gridcolor\":\"white\",\"linecolor\":\"white\",\"ticks\":\"\"},\"caxis\":{\"gridcolor\":\"white\",\"linecolor\":\"white\",\"ticks\":\"\"}},\"coloraxis\":{\"colorbar\":{\"outlinewidth\":0,\"ticks\":\"\"}},\"colorscale\":{\"sequential\":[[0.0,\"#0d0887\"],[0.1111111111111111,\"#46039f\"],[0.2222222222222222,\"#7201a8\"],[0.3333333333333333,\"#9c179e\"],[0.4444444444444444,\"#bd3786\"],[0.5555555555555556,\"#d8576b\"],[0.6666666666666666,\"#ed7953\"],[0.7777777777777778,\"#fb9f3a\"],[0.8888888888888888,\"#fdca26\"],[1.0,\"#f0f921\"]],\"sequentialminus\":[[0.0,\"#0d0887\"],[0.1111111111111111,\"#46039f\"],[0.2222222222222222,\"#7201a8\"],[0.3333333333333333,\"#9c179e\"],[0.4444444444444444,\"#bd3786\"],[0.5555555555555556,\"#d8576b\"],[0.6666666666666666,\"#ed7953\"],[0.7777777777777778,\"#fb9f3a\"],[0.8888888888888888,\"#fdca26\"],[1.0,\"#f0f921\"]],\"diverging\":[[0,\"#8e0152\"],[0.1,\"#c51b7d\"],[0.2,\"#de77ae\"],[0.3,\"#f1b6da\"],[0.4,\"#fde0ef\"],[0.5,\"#f7f7f7\"],[0.6,\"#e6f5d0\"],[0.7,\"#b8e186\"],[0.8,\"#7fbc41\"],[0.9,\"#4d9221\"],[1,\"#276419\"]]},\"xaxis\":{\"gridcolor\":\"white\",\"linecolor\":\"white\",\"ticks\":\"\",\"title\":{\"standoff\":15},\"zerolinecolor\":\"white\",\"automargin\":true,\"zerolinewidth\":2},\"yaxis\":{\"gridcolor\":\"white\",\"linecolor\":\"white\",\"ticks\":\"\",\"title\":{\"standoff\":15},\"zerolinecolor\":\"white\",\"automargin\":true,\"zerolinewidth\":2},\"scene\":{\"xaxis\":{\"backgroundcolor\":\"#E5ECF6\",\"gridcolor\":\"white\",\"linecolor\":\"white\",\"showbackground\":true,\"ticks\":\"\",\"zerolinecolor\":\"white\",\"gridwidth\":2},\"yaxis\":{\"backgroundcolor\":\"#E5ECF6\",\"gridcolor\":\"white\",\"linecolor\":\"white\",\"showbackground\":true,\"ticks\":\"\",\"zerolinecolor\":\"white\",\"gridwidth\":2},\"zaxis\":{\"backgroundcolor\":\"#E5ECF6\",\"gridcolor\":\"white\",\"linecolor\":\"white\",\"showbackground\":true,\"ticks\":\"\",\"zerolinecolor\":\"white\",\"gridwidth\":2}},\"shapedefaults\":{\"line\":{\"color\":\"#2a3f5f\"}},\"annotationdefaults\":{\"arrowcolor\":\"#2a3f5f\",\"arrowhead\":0,\"arrowwidth\":1},\"geo\":{\"bgcolor\":\"white\",\"landcolor\":\"#E5ECF6\",\"subunitcolor\":\"white\",\"showland\":true,\"showlakes\":true,\"lakecolor\":\"white\"},\"title\":{\"x\":0.05},\"mapbox\":{\"style\":\"light\"}}}},                        {\"responsive\": true}                    ).then(function(){\n",
              "                            \n",
              "var gd = document.getElementById('304b5fc9-a1cb-4832-a355-3cd418d3ccf3');\n",
              "var x = new MutationObserver(function (mutations, observer) {{\n",
              "        var display = window.getComputedStyle(gd).display;\n",
              "        if (!display || display === 'none') {{\n",
              "            console.log([gd, 'removed!']);\n",
              "            Plotly.purge(gd);\n",
              "            observer.disconnect();\n",
              "        }}\n",
              "}});\n",
              "\n",
              "// Listen for the removal of the full notebook cells\n",
              "var notebookContainer = gd.closest('#notebook-container');\n",
              "if (notebookContainer) {{\n",
              "    x.observe(notebookContainer, {childList: true});\n",
              "}}\n",
              "\n",
              "// Listen for the clearing of the current output cell\n",
              "var outputEl = gd.closest('.output');\n",
              "if (outputEl) {{\n",
              "    x.observe(outputEl, {childList: true});\n",
              "}}\n",
              "\n",
              "                        })                };                            </script>        </div>\n",
              "</body>\n",
              "</html>"
            ]
          },
          "metadata": {},
          "output_type": "display_data"
        }
      ],
      "source": [
        "optuna.visualization.plot_param_importances(study, target_name=\"f1_score\")"
      ]
    },
    {
      "attachments": {},
      "cell_type": "markdown",
      "id": "eb72f6ee",
      "metadata": {},
      "source": [
        "![LogisticRegression_Hyperparameter_Importances](img/Optuna_421_LR_2_Hyperparameters_plot.png)"
      ]
    },
    {
      "attachments": {},
      "cell_type": "markdown",
      "id": "z9hysuxt-BpK",
      "metadata": {
        "id": "z9hysuxt-BpK"
      },
      "source": [
        "> Из диаграммы можно сделать вывод, что стоит обратить большее внимание на настройку метода регуляризации `penalty`. А вот коэффициент `C` имеет самое низкое значение.  "
      ]
    },
    {
      "attachments": {},
      "cell_type": "markdown",
      "id": "Y-9f7IJP-BpL",
      "metadata": {
        "id": "Y-9f7IJP-BpL"
      },
      "source": [
        "Наконец, построим графики контуров отношений гиперпараметров. Они позволят увидеть связь между различными комбинациями гиперпараметров и значением метрики для этих комбинаций.  "
      ]
    },
    {
      "cell_type": "code",
      "execution_count": null,
      "id": "IAfUfNKJ-BpL",
      "metadata": {
        "colab": {
          "base_uri": "https://localhost:8080/",
          "height": 542
        },
        "id": "IAfUfNKJ-BpL",
        "outputId": "891a747e-f83f-48c9-d8d6-21f1f1e8b722"
      },
      "outputs": [
        {
          "data": {
            "text/html": [
              "<html>\n",
              "<head><meta charset=\"utf-8\" /></head>\n",
              "<body>\n",
              "    <div>            <script src=\"https://cdnjs.cloudflare.com/ajax/libs/mathjax/2.7.5/MathJax.js?config=TeX-AMS-MML_SVG\"></script><script type=\"text/javascript\">if (window.MathJax && window.MathJax.Hub && window.MathJax.Hub.Config) {window.MathJax.Hub.Config({SVG: {font: \"STIX-Web\"}});}</script>                <script type=\"text/javascript\">window.PlotlyConfig = {MathJaxConfig: 'local'};</script>\n",
              "        <script src=\"https://cdn.plot.ly/plotly-2.18.2.min.js\"></script>                <div id=\"11508447-2b9e-42c1-a036-3daa0bef0cfc\" class=\"plotly-graph-div\" style=\"height:525px; width:100%;\"></div>            <script type=\"text/javascript\">                                    window.PLOTLYENV=window.PLOTLYENV || {};                                    if (document.getElementById(\"11508447-2b9e-42c1-a036-3daa0bef0cfc\")) {                    Plotly.newPlot(                        \"11508447-2b9e-42c1-a036-3daa0bef0cfc\",                        [{\"type\":\"scatter\",\"xaxis\":\"x\",\"yaxis\":\"y\"},{\"colorbar\":{\"title\":{\"text\":\"f1_score\"}},\"colorscale\":[[0.0,\"rgb(247,251,255)\"],[0.125,\"rgb(222,235,247)\"],[0.25,\"rgb(198,219,239)\"],[0.375,\"rgb(158,202,225)\"],[0.5,\"rgb(107,174,214)\"],[0.625,\"rgb(66,146,198)\"],[0.75,\"rgb(33,113,181)\"],[0.875,\"rgb(8,81,156)\"],[1.0,\"rgb(8,48,107)\"]],\"connectgaps\":true,\"contours\":{\"coloring\":\"heatmap\"},\"hoverinfo\":\"none\",\"line\":{\"smoothing\":1.3},\"reversescale\":false,\"showscale\":true,\"x\":[0.003000000000000001,0.01,0.03,0.05,0.06999999999999999,0.09,0.11,0.13,0.15,0.157],\"y\":[\"None\",\"l2\"],\"z\":[[null,0.7626510635585347,0.7653993605915081,0.7653993605915081,0.7653993605915081,0.7196099083243708,0.7626510635585347,null,0.7653993605915081,null],[null,0.7872758838461376,0.7931527786353183,0.7907284724091234,0.7881816442596703,0.7867462132357887,0.7856190729512456,0.7849968937674829,0.7827011992103936,null]],\"type\":\"contour\",\"xaxis\":\"x4\",\"yaxis\":\"y4\"},{\"marker\":{\"color\":\"black\",\"line\":{\"color\":\"Grey\",\"width\":2.0}},\"mode\":\"markers\",\"showlegend\":false,\"x\":[0.06999999999999999,0.05,0.03,0.05,0.15,0.09,0.06999999999999999,0.11,0.01,0.05,0.01,0.03,0.03,0.03,0.01,0.11,0.03,0.03,0.15,0.06999999999999999,0.09,0.03,0.05,0.01,0.03,0.05,0.03,0.01,0.05,0.06999999999999999,0.13,0.03,0.03,0.03,0.05,0.01,0.05,0.06999999999999999,0.03,0.01,0.05,0.03,0.03,0.03,0.01,0.05,0.03,0.01,0.05,0.03],\"y\":[\"l2\",\"l2\",\"l2\",\"l2\",\"None\",\"None\",\"None\",\"None\",\"l2\",\"None\",\"l2\",\"l2\",\"l2\",\"l2\",\"l2\",\"l2\",\"l2\",\"l2\",\"l2\",\"l2\",\"l2\",\"l2\",\"l2\",\"l2\",\"l2\",\"l2\",\"None\",\"l2\",\"l2\",\"l2\",\"l2\",\"l2\",\"l2\",\"l2\",\"l2\",\"l2\",\"l2\",\"None\",\"l2\",\"None\",\"l2\",\"l2\",\"l2\",\"l2\",\"l2\",\"None\",\"l2\",\"l2\",\"l2\",\"l2\"],\"type\":\"scatter\",\"xaxis\":\"x4\",\"yaxis\":\"y4\"},{\"colorbar\":{\"title\":{\"text\":\"f1_score\"}},\"colorscale\":[[0.0,\"rgb(247,251,255)\"],[0.125,\"rgb(222,235,247)\"],[0.25,\"rgb(198,219,239)\"],[0.375,\"rgb(158,202,225)\"],[0.5,\"rgb(107,174,214)\"],[0.625,\"rgb(66,146,198)\"],[0.75,\"rgb(33,113,181)\"],[0.875,\"rgb(8,81,156)\"],[1.0,\"rgb(8,48,107)\"]],\"connectgaps\":true,\"contours\":{\"coloring\":\"heatmap\"},\"hoverinfo\":\"none\",\"line\":{\"smoothing\":1.3},\"reversescale\":false,\"showscale\":false,\"x\":[0.003000000000000001,0.01,0.03,0.05,0.06999999999999999,0.09,0.11,0.13,0.15,0.157],\"y\":[\"lbfgs\",\"sag\",\"saga\"],\"z\":[[null,0.7880145279769869,0.7926327960126269,0.7902171664645037,0.7879017552772007,0.7196099083243708,0.7856190729512456,null,null,null],[null,0.7872758838461376,null,0.7626510635585347,0.7626510635585347,null,0.7626510635585347,null,null,null],[null,0.7878551093895769,0.7931527786353183,0.7907284724091234,0.7653993605915081,0.7867462132357887,null,0.7849968937674829,0.7827011992103936,null]],\"type\":\"contour\",\"xaxis\":\"x7\",\"yaxis\":\"y7\"},{\"marker\":{\"color\":\"black\",\"line\":{\"color\":\"Grey\",\"width\":2.0}},\"mode\":\"markers\",\"showlegend\":false,\"x\":[0.06999999999999999,0.05,0.03,0.05,0.15,0.09,0.06999999999999999,0.11,0.01,0.05,0.01,0.03,0.03,0.03,0.01,0.11,0.03,0.03,0.15,0.06999999999999999,0.09,0.03,0.05,0.01,0.03,0.05,0.03,0.01,0.05,0.06999999999999999,0.13,0.03,0.03,0.03,0.05,0.01,0.05,0.06999999999999999,0.03,0.01,0.05,0.03,0.03,0.03,0.01,0.05,0.03,0.01,0.05,0.03],\"y\":[\"lbfgs\",\"sag\",\"lbfgs\",\"lbfgs\",\"saga\",\"lbfgs\",\"sag\",\"sag\",\"sag\",\"sag\",\"saga\",\"lbfgs\",\"lbfgs\",\"lbfgs\",\"lbfgs\",\"lbfgs\",\"lbfgs\",\"saga\",\"saga\",\"saga\",\"saga\",\"saga\",\"saga\",\"saga\",\"saga\",\"saga\",\"saga\",\"saga\",\"saga\",\"saga\",\"saga\",\"saga\",\"saga\",\"saga\",\"saga\",\"saga\",\"saga\",\"saga\",\"saga\",\"sag\",\"saga\",\"saga\",\"saga\",\"saga\",\"sag\",\"saga\",\"saga\",\"sag\",\"saga\",\"saga\"],\"type\":\"scatter\",\"xaxis\":\"x7\",\"yaxis\":\"y7\"},{\"colorbar\":{\"title\":{\"text\":\"f1_score\"}},\"colorscale\":[[0.0,\"rgb(247,251,255)\"],[0.125,\"rgb(222,235,247)\"],[0.25,\"rgb(198,219,239)\"],[0.375,\"rgb(158,202,225)\"],[0.5,\"rgb(107,174,214)\"],[0.625,\"rgb(66,146,198)\"],[0.75,\"rgb(33,113,181)\"],[0.875,\"rgb(8,81,156)\"],[1.0,\"rgb(8,48,107)\"]],\"connectgaps\":true,\"contours\":{\"coloring\":\"heatmap\"},\"hoverinfo\":\"none\",\"line\":{\"smoothing\":1.3},\"reversescale\":false,\"showscale\":false,\"x\":[\"None\",\"l2\"],\"y\":[0.003000000000000001,0.01,0.03,0.05,0.06999999999999999,0.09,0.11,0.13,0.15,0.157],\"z\":[[null,null],[0.7626510635585347,0.7872758838461376],[0.7653993605915081,0.7931527786353183],[0.7653993605915081,0.7907284724091234],[0.7653993605915081,0.7881816442596703],[0.7196099083243708,0.7867462132357887],[0.7626510635585347,0.7856190729512456],[null,0.7849968937674829],[0.7653993605915081,0.7827011992103936],[null,null]],\"type\":\"contour\",\"xaxis\":\"x2\",\"yaxis\":\"y2\"},{\"marker\":{\"color\":\"black\",\"line\":{\"color\":\"Grey\",\"width\":2.0}},\"mode\":\"markers\",\"showlegend\":false,\"x\":[\"l2\",\"l2\",\"l2\",\"l2\",\"None\",\"None\",\"None\",\"None\",\"l2\",\"None\",\"l2\",\"l2\",\"l2\",\"l2\",\"l2\",\"l2\",\"l2\",\"l2\",\"l2\",\"l2\",\"l2\",\"l2\",\"l2\",\"l2\",\"l2\",\"l2\",\"None\",\"l2\",\"l2\",\"l2\",\"l2\",\"l2\",\"l2\",\"l2\",\"l2\",\"l2\",\"l2\",\"None\",\"l2\",\"None\",\"l2\",\"l2\",\"l2\",\"l2\",\"l2\",\"None\",\"l2\",\"l2\",\"l2\",\"l2\"],\"y\":[0.06999999999999999,0.05,0.03,0.05,0.15,0.09,0.06999999999999999,0.11,0.01,0.05,0.01,0.03,0.03,0.03,0.01,0.11,0.03,0.03,0.15,0.06999999999999999,0.09,0.03,0.05,0.01,0.03,0.05,0.03,0.01,0.05,0.06999999999999999,0.13,0.03,0.03,0.03,0.05,0.01,0.05,0.06999999999999999,0.03,0.01,0.05,0.03,0.03,0.03,0.01,0.05,0.03,0.01,0.05,0.03],\"type\":\"scatter\",\"xaxis\":\"x2\",\"yaxis\":\"y2\"},{\"type\":\"scatter\",\"xaxis\":\"x5\",\"yaxis\":\"y5\"},{\"colorbar\":{\"title\":{\"text\":\"f1_score\"}},\"colorscale\":[[0.0,\"rgb(247,251,255)\"],[0.125,\"rgb(222,235,247)\"],[0.25,\"rgb(198,219,239)\"],[0.375,\"rgb(158,202,225)\"],[0.5,\"rgb(107,174,214)\"],[0.625,\"rgb(66,146,198)\"],[0.75,\"rgb(33,113,181)\"],[0.875,\"rgb(8,81,156)\"],[1.0,\"rgb(8,48,107)\"]],\"connectgaps\":true,\"contours\":{\"coloring\":\"heatmap\"},\"hoverinfo\":\"none\",\"line\":{\"smoothing\":1.3},\"reversescale\":false,\"showscale\":false,\"x\":[\"None\",\"l2\"],\"y\":[\"lbfgs\",\"sag\",\"saga\"],\"z\":[[0.7196099083243708,0.7926327960126269],[0.7626510635585347,0.7872758838461376],[0.7653993605915081,0.7931527786353183]],\"type\":\"contour\",\"xaxis\":\"x8\",\"yaxis\":\"y8\"},{\"marker\":{\"color\":\"black\",\"line\":{\"color\":\"Grey\",\"width\":2.0}},\"mode\":\"markers\",\"showlegend\":false,\"x\":[\"l2\",\"l2\",\"l2\",\"l2\",\"None\",\"None\",\"None\",\"None\",\"l2\",\"None\",\"l2\",\"l2\",\"l2\",\"l2\",\"l2\",\"l2\",\"l2\",\"l2\",\"l2\",\"l2\",\"l2\",\"l2\",\"l2\",\"l2\",\"l2\",\"l2\",\"None\",\"l2\",\"l2\",\"l2\",\"l2\",\"l2\",\"l2\",\"l2\",\"l2\",\"l2\",\"l2\",\"None\",\"l2\",\"None\",\"l2\",\"l2\",\"l2\",\"l2\",\"l2\",\"None\",\"l2\",\"l2\",\"l2\",\"l2\"],\"y\":[\"lbfgs\",\"sag\",\"lbfgs\",\"lbfgs\",\"saga\",\"lbfgs\",\"sag\",\"sag\",\"sag\",\"sag\",\"saga\",\"lbfgs\",\"lbfgs\",\"lbfgs\",\"lbfgs\",\"lbfgs\",\"lbfgs\",\"saga\",\"saga\",\"saga\",\"saga\",\"saga\",\"saga\",\"saga\",\"saga\",\"saga\",\"saga\",\"saga\",\"saga\",\"saga\",\"saga\",\"saga\",\"saga\",\"saga\",\"saga\",\"saga\",\"saga\",\"saga\",\"saga\",\"sag\",\"saga\",\"saga\",\"saga\",\"saga\",\"sag\",\"saga\",\"saga\",\"sag\",\"saga\",\"saga\"],\"type\":\"scatter\",\"xaxis\":\"x8\",\"yaxis\":\"y8\"},{\"colorbar\":{\"title\":{\"text\":\"f1_score\"}},\"colorscale\":[[0.0,\"rgb(247,251,255)\"],[0.125,\"rgb(222,235,247)\"],[0.25,\"rgb(198,219,239)\"],[0.375,\"rgb(158,202,225)\"],[0.5,\"rgb(107,174,214)\"],[0.625,\"rgb(66,146,198)\"],[0.75,\"rgb(33,113,181)\"],[0.875,\"rgb(8,81,156)\"],[1.0,\"rgb(8,48,107)\"]],\"connectgaps\":true,\"contours\":{\"coloring\":\"heatmap\"},\"hoverinfo\":\"none\",\"line\":{\"smoothing\":1.3},\"reversescale\":false,\"showscale\":false,\"x\":[\"lbfgs\",\"sag\",\"saga\"],\"y\":[0.003000000000000001,0.01,0.03,0.05,0.06999999999999999,0.09,0.11,0.13,0.15,0.157],\"z\":[[null,null,null],[0.7880145279769869,0.7872758838461376,0.7878551093895769],[0.7926327960126269,null,0.7931527786353183],[0.7902171664645037,0.7626510635585347,0.7907284724091234],[0.7879017552772007,0.7626510635585347,0.7653993605915081],[0.7196099083243708,null,0.7867462132357887],[0.7856190729512456,0.7626510635585347,null],[null,null,0.7849968937674829],[null,null,0.7827011992103936],[null,null,null]],\"type\":\"contour\",\"xaxis\":\"x3\",\"yaxis\":\"y3\"},{\"marker\":{\"color\":\"black\",\"line\":{\"color\":\"Grey\",\"width\":2.0}},\"mode\":\"markers\",\"showlegend\":false,\"x\":[\"lbfgs\",\"sag\",\"lbfgs\",\"lbfgs\",\"saga\",\"lbfgs\",\"sag\",\"sag\",\"sag\",\"sag\",\"saga\",\"lbfgs\",\"lbfgs\",\"lbfgs\",\"lbfgs\",\"lbfgs\",\"lbfgs\",\"saga\",\"saga\",\"saga\",\"saga\",\"saga\",\"saga\",\"saga\",\"saga\",\"saga\",\"saga\",\"saga\",\"saga\",\"saga\",\"saga\",\"saga\",\"saga\",\"saga\",\"saga\",\"saga\",\"saga\",\"saga\",\"saga\",\"sag\",\"saga\",\"saga\",\"saga\",\"saga\",\"sag\",\"saga\",\"saga\",\"sag\",\"saga\",\"saga\"],\"y\":[0.06999999999999999,0.05,0.03,0.05,0.15,0.09,0.06999999999999999,0.11,0.01,0.05,0.01,0.03,0.03,0.03,0.01,0.11,0.03,0.03,0.15,0.06999999999999999,0.09,0.03,0.05,0.01,0.03,0.05,0.03,0.01,0.05,0.06999999999999999,0.13,0.03,0.03,0.03,0.05,0.01,0.05,0.06999999999999999,0.03,0.01,0.05,0.03,0.03,0.03,0.01,0.05,0.03,0.01,0.05,0.03],\"type\":\"scatter\",\"xaxis\":\"x3\",\"yaxis\":\"y3\"},{\"colorbar\":{\"title\":{\"text\":\"f1_score\"}},\"colorscale\":[[0.0,\"rgb(247,251,255)\"],[0.125,\"rgb(222,235,247)\"],[0.25,\"rgb(198,219,239)\"],[0.375,\"rgb(158,202,225)\"],[0.5,\"rgb(107,174,214)\"],[0.625,\"rgb(66,146,198)\"],[0.75,\"rgb(33,113,181)\"],[0.875,\"rgb(8,81,156)\"],[1.0,\"rgb(8,48,107)\"]],\"connectgaps\":true,\"contours\":{\"coloring\":\"heatmap\"},\"hoverinfo\":\"none\",\"line\":{\"smoothing\":1.3},\"reversescale\":false,\"showscale\":false,\"x\":[\"lbfgs\",\"sag\",\"saga\"],\"y\":[\"None\",\"l2\"],\"z\":[[0.7196099083243708,0.7626510635585347,0.7653993605915081],[0.7926327960126269,0.7872758838461376,0.7931527786353183]],\"type\":\"contour\",\"xaxis\":\"x6\",\"yaxis\":\"y6\"},{\"marker\":{\"color\":\"black\",\"line\":{\"color\":\"Grey\",\"width\":2.0}},\"mode\":\"markers\",\"showlegend\":false,\"x\":[\"lbfgs\",\"sag\",\"lbfgs\",\"lbfgs\",\"saga\",\"lbfgs\",\"sag\",\"sag\",\"sag\",\"sag\",\"saga\",\"lbfgs\",\"lbfgs\",\"lbfgs\",\"lbfgs\",\"lbfgs\",\"lbfgs\",\"saga\",\"saga\",\"saga\",\"saga\",\"saga\",\"saga\",\"saga\",\"saga\",\"saga\",\"saga\",\"saga\",\"saga\",\"saga\",\"saga\",\"saga\",\"saga\",\"saga\",\"saga\",\"saga\",\"saga\",\"saga\",\"saga\",\"sag\",\"saga\",\"saga\",\"saga\",\"saga\",\"sag\",\"saga\",\"saga\",\"sag\",\"saga\",\"saga\"],\"y\":[\"l2\",\"l2\",\"l2\",\"l2\",\"None\",\"None\",\"None\",\"None\",\"l2\",\"None\",\"l2\",\"l2\",\"l2\",\"l2\",\"l2\",\"l2\",\"l2\",\"l2\",\"l2\",\"l2\",\"l2\",\"l2\",\"l2\",\"l2\",\"l2\",\"l2\",\"None\",\"l2\",\"l2\",\"l2\",\"l2\",\"l2\",\"l2\",\"l2\",\"l2\",\"l2\",\"l2\",\"None\",\"l2\",\"None\",\"l2\",\"l2\",\"l2\",\"l2\",\"l2\",\"None\",\"l2\",\"l2\",\"l2\",\"l2\"],\"type\":\"scatter\",\"xaxis\":\"x6\",\"yaxis\":\"y6\"},{\"type\":\"scatter\",\"xaxis\":\"x9\",\"yaxis\":\"y9\"}],                        {\"template\":{\"data\":{\"histogram2dcontour\":[{\"type\":\"histogram2dcontour\",\"colorbar\":{\"outlinewidth\":0,\"ticks\":\"\"},\"colorscale\":[[0.0,\"#0d0887\"],[0.1111111111111111,\"#46039f\"],[0.2222222222222222,\"#7201a8\"],[0.3333333333333333,\"#9c179e\"],[0.4444444444444444,\"#bd3786\"],[0.5555555555555556,\"#d8576b\"],[0.6666666666666666,\"#ed7953\"],[0.7777777777777778,\"#fb9f3a\"],[0.8888888888888888,\"#fdca26\"],[1.0,\"#f0f921\"]]}],\"choropleth\":[{\"type\":\"choropleth\",\"colorbar\":{\"outlinewidth\":0,\"ticks\":\"\"}}],\"histogram2d\":[{\"type\":\"histogram2d\",\"colorbar\":{\"outlinewidth\":0,\"ticks\":\"\"},\"colorscale\":[[0.0,\"#0d0887\"],[0.1111111111111111,\"#46039f\"],[0.2222222222222222,\"#7201a8\"],[0.3333333333333333,\"#9c179e\"],[0.4444444444444444,\"#bd3786\"],[0.5555555555555556,\"#d8576b\"],[0.6666666666666666,\"#ed7953\"],[0.7777777777777778,\"#fb9f3a\"],[0.8888888888888888,\"#fdca26\"],[1.0,\"#f0f921\"]]}],\"heatmap\":[{\"type\":\"heatmap\",\"colorbar\":{\"outlinewidth\":0,\"ticks\":\"\"},\"colorscale\":[[0.0,\"#0d0887\"],[0.1111111111111111,\"#46039f\"],[0.2222222222222222,\"#7201a8\"],[0.3333333333333333,\"#9c179e\"],[0.4444444444444444,\"#bd3786\"],[0.5555555555555556,\"#d8576b\"],[0.6666666666666666,\"#ed7953\"],[0.7777777777777778,\"#fb9f3a\"],[0.8888888888888888,\"#fdca26\"],[1.0,\"#f0f921\"]]}],\"heatmapgl\":[{\"type\":\"heatmapgl\",\"colorbar\":{\"outlinewidth\":0,\"ticks\":\"\"},\"colorscale\":[[0.0,\"#0d0887\"],[0.1111111111111111,\"#46039f\"],[0.2222222222222222,\"#7201a8\"],[0.3333333333333333,\"#9c179e\"],[0.4444444444444444,\"#bd3786\"],[0.5555555555555556,\"#d8576b\"],[0.6666666666666666,\"#ed7953\"],[0.7777777777777778,\"#fb9f3a\"],[0.8888888888888888,\"#fdca26\"],[1.0,\"#f0f921\"]]}],\"contourcarpet\":[{\"type\":\"contourcarpet\",\"colorbar\":{\"outlinewidth\":0,\"ticks\":\"\"}}],\"contour\":[{\"type\":\"contour\",\"colorbar\":{\"outlinewidth\":0,\"ticks\":\"\"},\"colorscale\":[[0.0,\"#0d0887\"],[0.1111111111111111,\"#46039f\"],[0.2222222222222222,\"#7201a8\"],[0.3333333333333333,\"#9c179e\"],[0.4444444444444444,\"#bd3786\"],[0.5555555555555556,\"#d8576b\"],[0.6666666666666666,\"#ed7953\"],[0.7777777777777778,\"#fb9f3a\"],[0.8888888888888888,\"#fdca26\"],[1.0,\"#f0f921\"]]}],\"surface\":[{\"type\":\"surface\",\"colorbar\":{\"outlinewidth\":0,\"ticks\":\"\"},\"colorscale\":[[0.0,\"#0d0887\"],[0.1111111111111111,\"#46039f\"],[0.2222222222222222,\"#7201a8\"],[0.3333333333333333,\"#9c179e\"],[0.4444444444444444,\"#bd3786\"],[0.5555555555555556,\"#d8576b\"],[0.6666666666666666,\"#ed7953\"],[0.7777777777777778,\"#fb9f3a\"],[0.8888888888888888,\"#fdca26\"],[1.0,\"#f0f921\"]]}],\"mesh3d\":[{\"type\":\"mesh3d\",\"colorbar\":{\"outlinewidth\":0,\"ticks\":\"\"}}],\"scatter\":[{\"fillpattern\":{\"fillmode\":\"overlay\",\"size\":10,\"solidity\":0.2},\"type\":\"scatter\"}],\"parcoords\":[{\"type\":\"parcoords\",\"line\":{\"colorbar\":{\"outlinewidth\":0,\"ticks\":\"\"}}}],\"scatterpolargl\":[{\"type\":\"scatterpolargl\",\"marker\":{\"colorbar\":{\"outlinewidth\":0,\"ticks\":\"\"}}}],\"bar\":[{\"error_x\":{\"color\":\"#2a3f5f\"},\"error_y\":{\"color\":\"#2a3f5f\"},\"marker\":{\"line\":{\"color\":\"#E5ECF6\",\"width\":0.5},\"pattern\":{\"fillmode\":\"overlay\",\"size\":10,\"solidity\":0.2}},\"type\":\"bar\"}],\"scattergeo\":[{\"type\":\"scattergeo\",\"marker\":{\"colorbar\":{\"outlinewidth\":0,\"ticks\":\"\"}}}],\"scatterpolar\":[{\"type\":\"scatterpolar\",\"marker\":{\"colorbar\":{\"outlinewidth\":0,\"ticks\":\"\"}}}],\"histogram\":[{\"marker\":{\"pattern\":{\"fillmode\":\"overlay\",\"size\":10,\"solidity\":0.2}},\"type\":\"histogram\"}],\"scattergl\":[{\"type\":\"scattergl\",\"marker\":{\"colorbar\":{\"outlinewidth\":0,\"ticks\":\"\"}}}],\"scatter3d\":[{\"type\":\"scatter3d\",\"line\":{\"colorbar\":{\"outlinewidth\":0,\"ticks\":\"\"}},\"marker\":{\"colorbar\":{\"outlinewidth\":0,\"ticks\":\"\"}}}],\"scattermapbox\":[{\"type\":\"scattermapbox\",\"marker\":{\"colorbar\":{\"outlinewidth\":0,\"ticks\":\"\"}}}],\"scatterternary\":[{\"type\":\"scatterternary\",\"marker\":{\"colorbar\":{\"outlinewidth\":0,\"ticks\":\"\"}}}],\"scattercarpet\":[{\"type\":\"scattercarpet\",\"marker\":{\"colorbar\":{\"outlinewidth\":0,\"ticks\":\"\"}}}],\"carpet\":[{\"aaxis\":{\"endlinecolor\":\"#2a3f5f\",\"gridcolor\":\"white\",\"linecolor\":\"white\",\"minorgridcolor\":\"white\",\"startlinecolor\":\"#2a3f5f\"},\"baxis\":{\"endlinecolor\":\"#2a3f5f\",\"gridcolor\":\"white\",\"linecolor\":\"white\",\"minorgridcolor\":\"white\",\"startlinecolor\":\"#2a3f5f\"},\"type\":\"carpet\"}],\"table\":[{\"cells\":{\"fill\":{\"color\":\"#EBF0F8\"},\"line\":{\"color\":\"white\"}},\"header\":{\"fill\":{\"color\":\"#C8D4E3\"},\"line\":{\"color\":\"white\"}},\"type\":\"table\"}],\"barpolar\":[{\"marker\":{\"line\":{\"color\":\"#E5ECF6\",\"width\":0.5},\"pattern\":{\"fillmode\":\"overlay\",\"size\":10,\"solidity\":0.2}},\"type\":\"barpolar\"}],\"pie\":[{\"automargin\":true,\"type\":\"pie\"}]},\"layout\":{\"autotypenumbers\":\"strict\",\"colorway\":[\"#636efa\",\"#EF553B\",\"#00cc96\",\"#ab63fa\",\"#FFA15A\",\"#19d3f3\",\"#FF6692\",\"#B6E880\",\"#FF97FF\",\"#FECB52\"],\"font\":{\"color\":\"#2a3f5f\"},\"hovermode\":\"closest\",\"hoverlabel\":{\"align\":\"left\"},\"paper_bgcolor\":\"white\",\"plot_bgcolor\":\"#E5ECF6\",\"polar\":{\"bgcolor\":\"#E5ECF6\",\"angularaxis\":{\"gridcolor\":\"white\",\"linecolor\":\"white\",\"ticks\":\"\"},\"radialaxis\":{\"gridcolor\":\"white\",\"linecolor\":\"white\",\"ticks\":\"\"}},\"ternary\":{\"bgcolor\":\"#E5ECF6\",\"aaxis\":{\"gridcolor\":\"white\",\"linecolor\":\"white\",\"ticks\":\"\"},\"baxis\":{\"gridcolor\":\"white\",\"linecolor\":\"white\",\"ticks\":\"\"},\"caxis\":{\"gridcolor\":\"white\",\"linecolor\":\"white\",\"ticks\":\"\"}},\"coloraxis\":{\"colorbar\":{\"outlinewidth\":0,\"ticks\":\"\"}},\"colorscale\":{\"sequential\":[[0.0,\"#0d0887\"],[0.1111111111111111,\"#46039f\"],[0.2222222222222222,\"#7201a8\"],[0.3333333333333333,\"#9c179e\"],[0.4444444444444444,\"#bd3786\"],[0.5555555555555556,\"#d8576b\"],[0.6666666666666666,\"#ed7953\"],[0.7777777777777778,\"#fb9f3a\"],[0.8888888888888888,\"#fdca26\"],[1.0,\"#f0f921\"]],\"sequentialminus\":[[0.0,\"#0d0887\"],[0.1111111111111111,\"#46039f\"],[0.2222222222222222,\"#7201a8\"],[0.3333333333333333,\"#9c179e\"],[0.4444444444444444,\"#bd3786\"],[0.5555555555555556,\"#d8576b\"],[0.6666666666666666,\"#ed7953\"],[0.7777777777777778,\"#fb9f3a\"],[0.8888888888888888,\"#fdca26\"],[1.0,\"#f0f921\"]],\"diverging\":[[0,\"#8e0152\"],[0.1,\"#c51b7d\"],[0.2,\"#de77ae\"],[0.3,\"#f1b6da\"],[0.4,\"#fde0ef\"],[0.5,\"#f7f7f7\"],[0.6,\"#e6f5d0\"],[0.7,\"#b8e186\"],[0.8,\"#7fbc41\"],[0.9,\"#4d9221\"],[1,\"#276419\"]]},\"xaxis\":{\"gridcolor\":\"white\",\"linecolor\":\"white\",\"ticks\":\"\",\"title\":{\"standoff\":15},\"zerolinecolor\":\"white\",\"automargin\":true,\"zerolinewidth\":2},\"yaxis\":{\"gridcolor\":\"white\",\"linecolor\":\"white\",\"ticks\":\"\",\"title\":{\"standoff\":15},\"zerolinecolor\":\"white\",\"automargin\":true,\"zerolinewidth\":2},\"scene\":{\"xaxis\":{\"backgroundcolor\":\"#E5ECF6\",\"gridcolor\":\"white\",\"linecolor\":\"white\",\"showbackground\":true,\"ticks\":\"\",\"zerolinecolor\":\"white\",\"gridwidth\":2},\"yaxis\":{\"backgroundcolor\":\"#E5ECF6\",\"gridcolor\":\"white\",\"linecolor\":\"white\",\"showbackground\":true,\"ticks\":\"\",\"zerolinecolor\":\"white\",\"gridwidth\":2},\"zaxis\":{\"backgroundcolor\":\"#E5ECF6\",\"gridcolor\":\"white\",\"linecolor\":\"white\",\"showbackground\":true,\"ticks\":\"\",\"zerolinecolor\":\"white\",\"gridwidth\":2}},\"shapedefaults\":{\"line\":{\"color\":\"#2a3f5f\"}},\"annotationdefaults\":{\"arrowcolor\":\"#2a3f5f\",\"arrowhead\":0,\"arrowwidth\":1},\"geo\":{\"bgcolor\":\"white\",\"landcolor\":\"#E5ECF6\",\"subunitcolor\":\"white\",\"showland\":true,\"showlakes\":true,\"lakecolor\":\"white\"},\"title\":{\"x\":0.05},\"mapbox\":{\"style\":\"light\"}}},\"xaxis\":{\"anchor\":\"y\",\"domain\":[0.0,0.2888888888888889],\"matches\":\"x7\",\"showticklabels\":false,\"range\":[0.003000000000000001,0.157]},\"yaxis\":{\"anchor\":\"x\",\"domain\":[0.7333333333333333,1.0],\"range\":[0.003000000000000001,0.157],\"title\":{\"text\":\"C\"}},\"xaxis2\":{\"anchor\":\"y2\",\"domain\":[0.35555555555555557,0.6444444444444445],\"matches\":\"x8\",\"showticklabels\":false,\"range\":[-0.05,1.05],\"type\":\"category\"},\"yaxis2\":{\"anchor\":\"x2\",\"domain\":[0.7333333333333333,1.0],\"matches\":\"y\",\"showticklabels\":false,\"range\":[0.003000000000000001,0.157]},\"xaxis3\":{\"anchor\":\"y3\",\"domain\":[0.7111111111111111,1.0],\"matches\":\"x9\",\"showticklabels\":false,\"range\":[-0.1,2.1],\"type\":\"category\"},\"yaxis3\":{\"anchor\":\"x3\",\"domain\":[0.7333333333333333,1.0],\"matches\":\"y\",\"showticklabels\":false,\"range\":[0.003000000000000001,0.157]},\"xaxis4\":{\"anchor\":\"y4\",\"domain\":[0.0,0.2888888888888889],\"matches\":\"x7\",\"showticklabels\":false,\"range\":[0.003000000000000001,0.157]},\"yaxis4\":{\"anchor\":\"x4\",\"domain\":[0.36666666666666664,0.6333333333333333],\"range\":[-0.05,1.05],\"type\":\"category\",\"title\":{\"text\":\"penalty\"}},\"xaxis5\":{\"anchor\":\"y5\",\"domain\":[0.35555555555555557,0.6444444444444445],\"matches\":\"x8\",\"showticklabels\":false,\"range\":[-0.05,1.05],\"type\":\"category\"},\"yaxis5\":{\"anchor\":\"x5\",\"domain\":[0.36666666666666664,0.6333333333333333],\"matches\":\"y4\",\"showticklabels\":false,\"range\":[-0.05,1.05],\"type\":\"category\"},\"xaxis6\":{\"anchor\":\"y6\",\"domain\":[0.7111111111111111,1.0],\"matches\":\"x9\",\"showticklabels\":false,\"range\":[-0.1,2.1],\"type\":\"category\"},\"yaxis6\":{\"anchor\":\"x6\",\"domain\":[0.36666666666666664,0.6333333333333333],\"matches\":\"y4\",\"showticklabels\":false,\"range\":[-0.05,1.05],\"type\":\"category\"},\"xaxis7\":{\"anchor\":\"y7\",\"domain\":[0.0,0.2888888888888889],\"range\":[0.003000000000000001,0.157],\"title\":{\"text\":\"C\"}},\"yaxis7\":{\"anchor\":\"x7\",\"domain\":[0.0,0.26666666666666666],\"range\":[-0.1,2.1],\"type\":\"category\",\"title\":{\"text\":\"solver\"}},\"xaxis8\":{\"anchor\":\"y8\",\"domain\":[0.35555555555555557,0.6444444444444445],\"range\":[-0.05,1.05],\"type\":\"category\",\"title\":{\"text\":\"penalty\"}},\"yaxis8\":{\"anchor\":\"x8\",\"domain\":[0.0,0.26666666666666666],\"matches\":\"y7\",\"showticklabels\":false,\"range\":[-0.1,2.1],\"type\":\"category\"},\"xaxis9\":{\"anchor\":\"y9\",\"domain\":[0.7111111111111111,1.0],\"range\":[-0.1,2.1],\"type\":\"category\",\"title\":{\"text\":\"solver\"}},\"yaxis9\":{\"anchor\":\"x9\",\"domain\":[0.0,0.26666666666666666],\"matches\":\"y7\",\"showticklabels\":false,\"range\":[-0.1,2.1],\"type\":\"category\"},\"title\":{\"text\":\"Contour Plot\"}},                        {\"responsive\": true}                    ).then(function(){\n",
              "                            \n",
              "var gd = document.getElementById('11508447-2b9e-42c1-a036-3daa0bef0cfc');\n",
              "var x = new MutationObserver(function (mutations, observer) {{\n",
              "        var display = window.getComputedStyle(gd).display;\n",
              "        if (!display || display === 'none') {{\n",
              "            console.log([gd, 'removed!']);\n",
              "            Plotly.purge(gd);\n",
              "            observer.disconnect();\n",
              "        }}\n",
              "}});\n",
              "\n",
              "// Listen for the removal of the full notebook cells\n",
              "var notebookContainer = gd.closest('#notebook-container');\n",
              "if (notebookContainer) {{\n",
              "    x.observe(notebookContainer, {childList: true});\n",
              "}}\n",
              "\n",
              "// Listen for the clearing of the current output cell\n",
              "var outputEl = gd.closest('.output');\n",
              "if (outputEl) {{\n",
              "    x.observe(outputEl, {childList: true});\n",
              "}}\n",
              "\n",
              "                        })                };                            </script>        </div>\n",
              "</body>\n",
              "</html>"
            ]
          },
          "metadata": {},
          "output_type": "display_data"
        }
      ],
      "source": [
        "optuna.visualization.plot_contour(study, params=[\"penalty\", 'solver', \"C\"],\n",
        "                                  target_name=\"f1_score\")"
      ]
    },
    {
      "attachments": {},
      "cell_type": "markdown",
      "id": "fd685d56",
      "metadata": {},
      "source": [
        "![LogisticRegression_Contour_Plot](img/Optuna_421_LR_3_Contour_plot.png)"
      ]
    },
    {
      "attachments": {},
      "cell_type": "markdown",
      "id": "R1Nthror-BpM",
      "metadata": {
        "id": "R1Nthror-BpM"
      },
      "source": [
        "> Наиболее темные области, как следует из легенды, соответствуют высокому значению метрики $F_1$-score.  \n",
        "> Наилучшими выглядят значениями гиперпараметров `penalty = 'l2', solver = 'saga', C < 0.05`. \n",
        "\n",
        "\n",
        "\n",
        "\n",
        "\n",
        "\n",
        "\n",
        "\n",
        "\n",
        "\n",
        "\n",
        "\n",
        "\n"
      ]
    },
    {
      "attachments": {},
      "cell_type": "markdown",
      "id": "fG1xdM34LCCX",
      "metadata": {
        "id": "fG1xdM34LCCX"
      },
      "source": [
        "> **Вывод по подбору гиперпараметров логистической регрессии с помощью Optuna**:  \n",
        "> 1. После 20 итераций и 21 минуты алгоритм подобрал гиперпараметры, которые по метрике accuracy превзошли baseline-решение, а также Hyperopt на 0.01, а по целевой метрике $F_1$-score остались на таком же уровне - 0.78.  \n",
        ">\n",
        "> 2. Однако целевая метрика в данном случае оказалась на 0.01 хуже, чем при использовании базовых алгоритмов оптимизации.  \n",
        "> \n",
        "> 3. По времени работы, библиотека Optuna выглядит более предпочтительной нежели Hyperopt для данной задачи и данной модели (21 минута против 52 минут), но значительно проигрывает методу RandomizedSearchCV, которому потребовалось около 8 минут, чтобы подобрать наилучшие гиперпараметры, достигнув при этом более выского значения $F_1$-score.\n",
        "---\n",
        "\n"
      ]
    },
    {
      "attachments": {},
      "cell_type": "markdown",
      "id": "yqk4qGkGPuIj",
      "metadata": {
        "id": "yqk4qGkGPuIj"
      },
      "source": [
        "#### **4.2.2. Случайный лес**  \n",
        "Сохраним подход к формированию сетки гиперпараметров, как для Hyperopt.   \n",
        "Для начала зададим количество проверяемых комбинаций гиперпараметров n_trials равным 20 и используем кросс-валидацию.  "
      ]
    },
    {
      "cell_type": "code",
      "execution_count": null,
      "id": "jd4FLO90PuIu",
      "metadata": {
        "id": "jd4FLO90PuIu"
      },
      "outputs": [],
      "source": [
        "# Зафиксируем число для воспроизводимости результата\n",
        "random_state = 42\n",
        "\n",
        "# Создадим функцию расчета целевой метрики\n",
        "def optuna_rf(trial,\n",
        "              cv: int = 5,\n",
        "              X: pd.DataFrame = X_train,\n",
        "              y: pd.Series = y_train,\n",
        "              random_state: int = random_state) -> float:\n",
        "  \"\"\"Функция получает объект trial, выборки и другие параметры и возвращает\n",
        "  значение целевой метрики для модели случайного леса.\n",
        "\n",
        "  Args:\n",
        "      trial : объект Optuna.trial для сохранения результатов оптимизации.\n",
        "      cv (int, optional): кол-во фолдов для кросс-валидации; по умолчанию = 5.\n",
        "      X (pd.DataFrame, optional): обучабщая выборка; по умолчанию = X_train.\n",
        "      y (pd.Series, optional): вектор ответов; по умолчанию = y_train.\n",
        "      random_state (int, optional): сид воспроизводимости; по умол. = random_state.\n",
        "\n",
        "  Returns:\n",
        "      float: значение целевой метрики\n",
        "  \"\"\"\n",
        "\n",
        "  # Задаем пространства поиска гиперпараметров\n",
        "  criterion_list = ['gini', 'entropy']\n",
        "  n_estimators = trial.suggest_int('n_estimators', 100, 190, step=30)\n",
        "  max_depth = trial.suggest_int('max_depth', 10, 25, step=5)\n",
        "  min_samples_leaf = trial.suggest_int('min_samples_leaf', 5, 7, step=1)\n",
        "  criterion = trial.suggest_categorical('criterion', criterion_list)\n",
        "\n",
        "  # Cоздаем модель\n",
        "  model = ensemble.RandomForestClassifier(\n",
        "      n_estimators = n_estimators,\n",
        "      max_depth = max_depth,\n",
        "      min_samples_leaf = min_samples_leaf,\n",
        "      criterion = criterion,\n",
        "      random_state = random_state\n",
        "  )\n",
        "  \n",
        "  # Обучаем модель с помощью кросс-валидации\n",
        "  model.fit(X, y)\n",
        "  score = cross_val_score(model, X, y, cv=cv, scoring=\"f1\", n_jobs=-1).mean()\n",
        "\n",
        "  # Возвращаем значение метрики\n",
        "  return score"
      ]
    },
    {
      "cell_type": "code",
      "execution_count": null,
      "id": "oqVT4ysCPuIu",
      "metadata": {
        "colab": {
          "base_uri": "https://localhost:8080/"
        },
        "id": "oqVT4ysCPuIu",
        "outputId": "18302d8a-eb9c-4524-d056-d262753c7f0c"
      },
      "outputs": [
        {
          "name": "stderr",
          "output_type": "stream",
          "text": [
            "\u001b[32m[I 2023-05-18 19:09:53,342]\u001b[0m A new study created in memory with name: RandomForestClassifier\u001b[0m\n",
            "\u001b[32m[I 2023-05-18 19:10:07,678]\u001b[0m Trial 0 finished with value: 0.8125420070751825 and parameters: {'n_estimators': 130, 'max_depth': 15, 'min_samples_leaf': 5, 'criterion': 'entropy'}. Best is trial 0 with value: 0.8125420070751825.\u001b[0m\n",
            "\u001b[32m[I 2023-05-18 19:10:18,121]\u001b[0m Trial 1 finished with value: 0.8060429894497148 and parameters: {'n_estimators': 130, 'max_depth': 25, 'min_samples_leaf': 7, 'criterion': 'entropy'}. Best is trial 0 with value: 0.8125420070751825.\u001b[0m\n",
            "\u001b[32m[I 2023-05-18 19:10:28,058]\u001b[0m Trial 2 finished with value: 0.8157343853767269 and parameters: {'n_estimators': 130, 'max_depth': 25, 'min_samples_leaf': 5, 'criterion': 'entropy'}. Best is trial 2 with value: 0.8157343853767269.\u001b[0m\n",
            "\u001b[32m[I 2023-05-18 19:10:40,154]\u001b[0m Trial 3 finished with value: 0.8088600057473192 and parameters: {'n_estimators': 160, 'max_depth': 20, 'min_samples_leaf': 7, 'criterion': 'entropy'}. Best is trial 2 with value: 0.8157343853767269.\u001b[0m\n",
            "\u001b[32m[I 2023-05-18 19:10:50,146]\u001b[0m Trial 4 finished with value: 0.8113083974463127 and parameters: {'n_estimators': 130, 'max_depth': 25, 'min_samples_leaf': 6, 'criterion': 'gini'}. Best is trial 2 with value: 0.8157343853767269.\u001b[0m\n",
            "\u001b[32m[I 2023-05-18 19:11:04,648]\u001b[0m Trial 5 finished with value: 0.8180228086989535 and parameters: {'n_estimators': 160, 'max_depth': 25, 'min_samples_leaf': 5, 'criterion': 'entropy'}. Best is trial 5 with value: 0.8180228086989535.\u001b[0m\n",
            "\u001b[32m[I 2023-05-18 19:11:16,653]\u001b[0m Trial 6 finished with value: 0.8049505986533946 and parameters: {'n_estimators': 190, 'max_depth': 10, 'min_samples_leaf': 7, 'criterion': 'gini'}. Best is trial 5 with value: 0.8180228086989535.\u001b[0m\n",
            "\u001b[32m[I 2023-05-18 19:11:24,791]\u001b[0m Trial 7 finished with value: 0.807636537612958 and parameters: {'n_estimators': 100, 'max_depth': 20, 'min_samples_leaf': 5, 'criterion': 'gini'}. Best is trial 5 with value: 0.8180228086989535.\u001b[0m\n",
            "\u001b[32m[I 2023-05-18 19:11:34,767]\u001b[0m Trial 8 finished with value: 0.8054342890640231 and parameters: {'n_estimators': 160, 'max_depth': 20, 'min_samples_leaf': 7, 'criterion': 'gini'}. Best is trial 5 with value: 0.8180228086989535.\u001b[0m\n",
            "\u001b[32m[I 2023-05-18 19:11:41,353]\u001b[0m Trial 9 finished with value: 0.8012767691897331 and parameters: {'n_estimators': 100, 'max_depth': 10, 'min_samples_leaf': 7, 'criterion': 'gini'}. Best is trial 5 with value: 0.8180228086989535.\u001b[0m\n",
            "\u001b[32m[I 2023-05-18 19:12:00,840]\u001b[0m Trial 10 finished with value: 0.812976727472639 and parameters: {'n_estimators': 190, 'max_depth': 15, 'min_samples_leaf': 6, 'criterion': 'entropy'}. Best is trial 5 with value: 0.8180228086989535.\u001b[0m\n",
            "\u001b[32m[I 2023-05-18 19:12:14,904]\u001b[0m Trial 11 finished with value: 0.8180228086989535 and parameters: {'n_estimators': 160, 'max_depth': 25, 'min_samples_leaf': 5, 'criterion': 'entropy'}. Best is trial 5 with value: 0.8180228086989535.\u001b[0m\n",
            "\u001b[32m[I 2023-05-18 19:12:33,930]\u001b[0m Trial 12 finished with value: 0.8180228086989535 and parameters: {'n_estimators': 160, 'max_depth': 25, 'min_samples_leaf': 5, 'criterion': 'entropy'}. Best is trial 5 with value: 0.8180228086989535.\u001b[0m\n",
            "\u001b[32m[I 2023-05-18 19:12:55,132]\u001b[0m Trial 13 finished with value: 0.8135425896368668 and parameters: {'n_estimators': 190, 'max_depth': 25, 'min_samples_leaf': 6, 'criterion': 'entropy'}. Best is trial 5 with value: 0.8180228086989535.\u001b[0m\n",
            "\u001b[32m[I 2023-05-18 19:13:13,545]\u001b[0m Trial 14 finished with value: 0.8159337677209251 and parameters: {'n_estimators': 160, 'max_depth': 20, 'min_samples_leaf': 5, 'criterion': 'entropy'}. Best is trial 5 with value: 0.8180228086989535.\u001b[0m\n",
            "\u001b[32m[I 2023-05-18 19:13:30,610]\u001b[0m Trial 15 finished with value: 0.8180228086989535 and parameters: {'n_estimators': 160, 'max_depth': 25, 'min_samples_leaf': 5, 'criterion': 'entropy'}. Best is trial 5 with value: 0.8180228086989535.\u001b[0m\n",
            "\u001b[32m[I 2023-05-18 19:13:52,827]\u001b[0m Trial 16 finished with value: 0.812976727472639 and parameters: {'n_estimators': 190, 'max_depth': 15, 'min_samples_leaf': 6, 'criterion': 'entropy'}. Best is trial 5 with value: 0.8180228086989535.\u001b[0m\n",
            "\u001b[32m[I 2023-05-18 19:14:12,877]\u001b[0m Trial 17 finished with value: 0.8159337677209251 and parameters: {'n_estimators': 160, 'max_depth': 20, 'min_samples_leaf': 5, 'criterion': 'entropy'}. Best is trial 5 with value: 0.8180228086989535.\u001b[0m\n",
            "\u001b[32m[I 2023-05-18 19:14:27,176]\u001b[0m Trial 18 finished with value: 0.8134840414936626 and parameters: {'n_estimators': 130, 'max_depth': 25, 'min_samples_leaf': 6, 'criterion': 'entropy'}. Best is trial 5 with value: 0.8180228086989535.\u001b[0m\n",
            "\u001b[32m[I 2023-05-18 19:14:47,514]\u001b[0m Trial 19 finished with value: 0.8176117551554786 and parameters: {'n_estimators': 190, 'max_depth': 20, 'min_samples_leaf': 5, 'criterion': 'entropy'}. Best is trial 5 with value: 0.8180228086989535.\u001b[0m\n"
          ]
        },
        {
          "name": "stdout",
          "output_type": "stream",
          "text": [
            "CPU times: user 1min 1s, sys: 1 s, total: 1min 2s\n",
            "Wall time: 4min 54s\n"
          ]
        }
      ],
      "source": [
        "# Начинаем подбор гиперпараметров\n",
        "%%time\n",
        "\n",
        "# Создаем объект исследования, будем максимизировать значение метрики\n",
        "study = optuna.create_study(study_name=\"RandomForestClassifier\", direction=\"maximize\")\n",
        "\n",
        "# Выполняем оптимизацию гиперпараметров 20 раз\n",
        "study.optimize(optuna_rf, n_trials=20)"
      ]
    },
    {
      "cell_type": "code",
      "execution_count": null,
      "id": "n8N2_sahTcJD",
      "metadata": {
        "colab": {
          "base_uri": "https://localhost:8080/"
        },
        "id": "n8N2_sahTcJD",
        "outputId": "b0d5b3a3-437a-45a5-b814-1054c66a37ef"
      },
      "outputs": [
        {
          "name": "stdout",
          "output_type": "stream",
          "text": [
            "Наилучшие значения гиперпараметров {'n_estimators': 160, 'max_depth': 25, 'min_samples_leaf': 5, 'criterion': 'entropy'}\n",
            "f1_score на обучающем наборе: 0.82\n"
          ]
        }
      ],
      "source": [
        "# Выводим результаты на обучающей выборке\n",
        "print(\"Наилучшие значения гиперпараметров {}\".format(study.best_params))\n",
        "print(\"f1_score на обучающем наборе: {:.2f}\".format(study.best_value))"
      ]
    },
    {
      "cell_type": "code",
      "execution_count": null,
      "id": "yo1Y3SqtTcJE",
      "metadata": {
        "colab": {
          "base_uri": "https://localhost:8080/"
        },
        "id": "yo1Y3SqtTcJE",
        "outputId": "75a44611-dc14-4367-a603-8748cb64add8"
      },
      "outputs": [
        {
          "name": "stdout",
          "output_type": "stream",
          "text": [
            "accuracy на тестовом наборе: 0.77\n",
            "f1_score на тестовом наборе: 0.79\n"
          ]
        }
      ],
      "source": [
        "# Выводим результаты на тестовой выборке\n",
        "model = ensemble.RandomForestClassifier(**study.best_params,random_state=random_state)\n",
        "model.fit(X_train, y_train)\n",
        "y_train_pred = model.predict(X_train)\n",
        "print(\"accuracy на тестовом наборе: {:.2f}\".format(model.score(X_test, y_test)))\n",
        "y_test_pred = model.predict(X_test)\n",
        "print('f1_score на тестовом наборе: {:.2f}'.format(metrics.f1_score(y_test, y_test_pred)))"
      ]
    },
    {
      "attachments": {},
      "cell_type": "markdown",
      "id": "q6Ula5XTTcJF",
      "metadata": {
        "id": "q6Ula5XTTcJF"
      },
      "source": [
        "> Итак, после 20 итераций, занявших чуть меньше 5 минут, мы получили близкие к наилучшим, но недостаточно высокие значения метрик на тестовой выборке. При этом были подобраны близкие к наилучшим значения гиперпараметров, в частости `criterion = 'entropy'`.  \n",
        "> \n",
        "> Hyperopt за те же 20 итераций и примерно такое же время продемонстрировал такие же значения метрик, но вот значение `criterion` все еще равнялось 'gini'. Так что на данном этапе можно считать алгоритм Optuna предпочтительным.\n",
        "\n",
        "Поскольку базовые методы оптимизации позволяли достигать $F_1$-score = 0.8, а время, затрачиваемое Optuna невелико, попробуем увеличить число итераций до 50 и посмотреть, к чему это приведет."
      ]
    },
    {
      "cell_type": "code",
      "execution_count": null,
      "id": "t95T63n-T_HZ",
      "metadata": {
        "colab": {
          "base_uri": "https://localhost:8080/"
        },
        "id": "t95T63n-T_HZ",
        "outputId": "e4b734bd-ca6c-4c74-a426-e47175803636"
      },
      "outputs": [
        {
          "name": "stderr",
          "output_type": "stream",
          "text": [
            "\u001b[32m[I 2023-05-18 19:22:39,093]\u001b[0m Trial 20 finished with value: 0.8180228086989535 and parameters: {'n_estimators': 160, 'max_depth': 25, 'min_samples_leaf': 5, 'criterion': 'entropy'}. Best is trial 5 with value: 0.8180228086989535.\u001b[0m\n",
            "\u001b[32m[I 2023-05-18 19:22:54,279]\u001b[0m Trial 21 finished with value: 0.8180228086989535 and parameters: {'n_estimators': 160, 'max_depth': 25, 'min_samples_leaf': 5, 'criterion': 'entropy'}. Best is trial 5 with value: 0.8180228086989535.\u001b[0m\n",
            "\u001b[32m[I 2023-05-18 19:23:07,119]\u001b[0m Trial 22 finished with value: 0.8180228086989535 and parameters: {'n_estimators': 160, 'max_depth': 25, 'min_samples_leaf': 5, 'criterion': 'entropy'}. Best is trial 5 with value: 0.8180228086989535.\u001b[0m\n",
            "\u001b[32m[I 2023-05-18 19:23:19,859]\u001b[0m Trial 23 finished with value: 0.8180228086989535 and parameters: {'n_estimators': 160, 'max_depth': 25, 'min_samples_leaf': 5, 'criterion': 'entropy'}. Best is trial 5 with value: 0.8180228086989535.\u001b[0m\n",
            "\u001b[32m[I 2023-05-18 19:23:34,035]\u001b[0m Trial 24 finished with value: 0.8116646875929089 and parameters: {'n_estimators': 130, 'max_depth': 20, 'min_samples_leaf': 6, 'criterion': 'entropy'}. Best is trial 5 with value: 0.8180228086989535.\u001b[0m\n",
            "\u001b[32m[I 2023-05-18 19:23:51,896]\u001b[0m Trial 25 finished with value: 0.8180228086989535 and parameters: {'n_estimators': 160, 'max_depth': 25, 'min_samples_leaf': 5, 'criterion': 'entropy'}. Best is trial 5 with value: 0.8180228086989535.\u001b[0m\n",
            "\u001b[32m[I 2023-05-18 19:24:07,056]\u001b[0m Trial 26 finished with value: 0.8103816779234405 and parameters: {'n_estimators': 190, 'max_depth': 20, 'min_samples_leaf': 5, 'criterion': 'gini'}. Best is trial 5 with value: 0.8180228086989535.\u001b[0m\n",
            "\u001b[32m[I 2023-05-18 19:24:19,982]\u001b[0m Trial 27 finished with value: 0.8118020818012841 and parameters: {'n_estimators': 160, 'max_depth': 25, 'min_samples_leaf': 6, 'criterion': 'entropy'}. Best is trial 5 with value: 0.8180228086989535.\u001b[0m\n",
            "\u001b[32m[I 2023-05-18 19:24:30,951]\u001b[0m Trial 28 finished with value: 0.8125420070751825 and parameters: {'n_estimators': 130, 'max_depth': 15, 'min_samples_leaf': 5, 'criterion': 'entropy'}. Best is trial 5 with value: 0.8180228086989535.\u001b[0m\n",
            "\u001b[32m[I 2023-05-18 19:24:38,406]\u001b[0m Trial 29 finished with value: 0.8140593468259999 and parameters: {'n_estimators': 100, 'max_depth': 25, 'min_samples_leaf': 5, 'criterion': 'entropy'}. Best is trial 5 with value: 0.8180228086989535.\u001b[0m\n",
            "\u001b[32m[I 2023-05-18 19:24:54,532]\u001b[0m Trial 30 finished with value: 0.8176117551554786 and parameters: {'n_estimators': 190, 'max_depth': 20, 'min_samples_leaf': 5, 'criterion': 'entropy'}. Best is trial 5 with value: 0.8180228086989535.\u001b[0m\n",
            "\u001b[32m[I 2023-05-18 19:25:07,074]\u001b[0m Trial 31 finished with value: 0.8180228086989535 and parameters: {'n_estimators': 160, 'max_depth': 25, 'min_samples_leaf': 5, 'criterion': 'entropy'}. Best is trial 5 with value: 0.8180228086989535.\u001b[0m\n",
            "\u001b[32m[I 2023-05-18 19:25:19,863]\u001b[0m Trial 32 finished with value: 0.8180228086989535 and parameters: {'n_estimators': 160, 'max_depth': 25, 'min_samples_leaf': 5, 'criterion': 'entropy'}. Best is trial 5 with value: 0.8180228086989535.\u001b[0m\n",
            "\u001b[32m[I 2023-05-18 19:25:32,659]\u001b[0m Trial 33 finished with value: 0.8180228086989535 and parameters: {'n_estimators': 160, 'max_depth': 25, 'min_samples_leaf': 5, 'criterion': 'entropy'}. Best is trial 5 with value: 0.8180228086989535.\u001b[0m\n",
            "\u001b[32m[I 2023-05-18 19:25:43,632]\u001b[0m Trial 34 finished with value: 0.8157343853767269 and parameters: {'n_estimators': 130, 'max_depth': 25, 'min_samples_leaf': 5, 'criterion': 'entropy'}. Best is trial 5 with value: 0.8180228086989535.\u001b[0m\n",
            "\u001b[32m[I 2023-05-18 19:25:57,012]\u001b[0m Trial 35 finished with value: 0.8180228086989535 and parameters: {'n_estimators': 160, 'max_depth': 25, 'min_samples_leaf': 5, 'criterion': 'entropy'}. Best is trial 5 with value: 0.8180228086989535.\u001b[0m\n",
            "\u001b[32m[I 2023-05-18 19:26:07,904]\u001b[0m Trial 36 finished with value: 0.8134840414936626 and parameters: {'n_estimators': 130, 'max_depth': 25, 'min_samples_leaf': 6, 'criterion': 'entropy'}. Best is trial 5 with value: 0.8180228086989535.\u001b[0m\n",
            "\u001b[32m[I 2023-05-18 19:26:20,089]\u001b[0m Trial 37 finished with value: 0.807613972094442 and parameters: {'n_estimators': 160, 'max_depth': 25, 'min_samples_leaf': 5, 'criterion': 'gini'}. Best is trial 5 with value: 0.8180228086989535.\u001b[0m\n",
            "\u001b[32m[I 2023-05-18 19:26:32,581]\u001b[0m Trial 38 finished with value: 0.8115226427367312 and parameters: {'n_estimators': 160, 'max_depth': 20, 'min_samples_leaf': 6, 'criterion': 'entropy'}. Best is trial 5 with value: 0.8180228086989535.\u001b[0m\n",
            "\u001b[32m[I 2023-05-18 19:26:41,271]\u001b[0m Trial 39 finished with value: 0.8061958101822748 and parameters: {'n_estimators': 130, 'max_depth': 25, 'min_samples_leaf': 5, 'criterion': 'gini'}. Best is trial 5 with value: 0.8180228086989535.\u001b[0m\n",
            "\u001b[32m[I 2023-05-18 19:26:54,058]\u001b[0m Trial 40 finished with value: 0.8046079828869945 and parameters: {'n_estimators': 190, 'max_depth': 10, 'min_samples_leaf': 5, 'criterion': 'entropy'}. Best is trial 5 with value: 0.8180228086989535.\u001b[0m\n",
            "\u001b[32m[I 2023-05-18 19:27:07,015]\u001b[0m Trial 41 finished with value: 0.8180228086989535 and parameters: {'n_estimators': 160, 'max_depth': 25, 'min_samples_leaf': 5, 'criterion': 'entropy'}. Best is trial 5 with value: 0.8180228086989535.\u001b[0m\n",
            "\u001b[32m[I 2023-05-18 19:27:20,133]\u001b[0m Trial 42 finished with value: 0.8180228086989535 and parameters: {'n_estimators': 160, 'max_depth': 25, 'min_samples_leaf': 5, 'criterion': 'entropy'}. Best is trial 5 with value: 0.8180228086989535.\u001b[0m\n",
            "\u001b[32m[I 2023-05-18 19:27:33,196]\u001b[0m Trial 43 finished with value: 0.8180228086989535 and parameters: {'n_estimators': 160, 'max_depth': 25, 'min_samples_leaf': 5, 'criterion': 'entropy'}. Best is trial 5 with value: 0.8180228086989535.\u001b[0m\n",
            "\u001b[32m[I 2023-05-18 19:27:46,355]\u001b[0m Trial 44 finished with value: 0.8180228086989535 and parameters: {'n_estimators': 160, 'max_depth': 25, 'min_samples_leaf': 5, 'criterion': 'entropy'}. Best is trial 5 with value: 0.8180228086989535.\u001b[0m\n",
            "\u001b[32m[I 2023-05-18 19:28:01,480]\u001b[0m Trial 45 finished with value: 0.8089222242937579 and parameters: {'n_estimators': 160, 'max_depth': 20, 'min_samples_leaf': 5, 'criterion': 'gini'}. Best is trial 5 with value: 0.8180228086989535.\u001b[0m\n",
            "\u001b[32m[I 2023-05-18 19:28:13,724]\u001b[0m Trial 46 finished with value: 0.8064014408492604 and parameters: {'n_estimators': 160, 'max_depth': 25, 'min_samples_leaf': 7, 'criterion': 'entropy'}. Best is trial 5 with value: 0.8180228086989535.\u001b[0m\n",
            "\u001b[32m[I 2023-05-18 19:28:30,307]\u001b[0m Trial 47 finished with value: 0.8176117551554786 and parameters: {'n_estimators': 190, 'max_depth': 20, 'min_samples_leaf': 5, 'criterion': 'entropy'}. Best is trial 5 with value: 0.8180228086989535.\u001b[0m\n",
            "\u001b[32m[I 2023-05-18 19:28:43,350]\u001b[0m Trial 48 finished with value: 0.8180228086989535 and parameters: {'n_estimators': 160, 'max_depth': 25, 'min_samples_leaf': 5, 'criterion': 'entropy'}. Best is trial 5 with value: 0.8180228086989535.\u001b[0m\n",
            "\u001b[32m[I 2023-05-18 19:28:54,180]\u001b[0m Trial 49 finished with value: 0.8134840414936626 and parameters: {'n_estimators': 130, 'max_depth': 25, 'min_samples_leaf': 6, 'criterion': 'entropy'}. Best is trial 5 with value: 0.8180228086989535.\u001b[0m\n"
          ]
        },
        {
          "name": "stdout",
          "output_type": "stream",
          "text": [
            "CPU times: user 1min 31s, sys: 1.42 s, total: 1min 33s\n",
            "Wall time: 6min 30s\n"
          ]
        }
      ],
      "source": [
        "# Продолжим подбор гиперпараметров\n",
        "%%time\n",
        "\n",
        "# Добавим до 50 еще 30 итераций n_trials\n",
        "study.optimize(optuna_rf, n_trials=30)"
      ]
    },
    {
      "cell_type": "code",
      "execution_count": null,
      "id": "Yf8QHQizVwdi",
      "metadata": {
        "colab": {
          "base_uri": "https://localhost:8080/"
        },
        "id": "Yf8QHQizVwdi",
        "outputId": "93a3ca1f-1d1e-4474-e295-126508457740"
      },
      "outputs": [
        {
          "name": "stdout",
          "output_type": "stream",
          "text": [
            "Наилучшие значения гиперпараметров {'n_estimators': 160, 'max_depth': 25, 'min_samples_leaf': 5, 'criterion': 'entropy'}\n",
            "f1_score на обучающем наборе: 0.82\n"
          ]
        }
      ],
      "source": [
        "# Выводим результаты на обучающей выборке\n",
        "print(\"Наилучшие значения гиперпараметров {}\".format(study.best_params))\n",
        "print(\"f1_score на обучающем наборе: {:.2f}\".format(study.best_value))"
      ]
    },
    {
      "cell_type": "code",
      "execution_count": null,
      "id": "Nkhne2SLVwdu",
      "metadata": {
        "colab": {
          "base_uri": "https://localhost:8080/"
        },
        "id": "Nkhne2SLVwdu",
        "outputId": "503cce4b-1e90-4bd1-8e4b-728883bdb6a9"
      },
      "outputs": [
        {
          "name": "stdout",
          "output_type": "stream",
          "text": [
            "accuracy на тестовом наборе: 0.77\n",
            "f1_score на тестовом наборе: 0.79\n"
          ]
        }
      ],
      "source": [
        "# Выводим результаты на тестовой выборке\n",
        "model = ensemble.RandomForestClassifier(**study.best_params,random_state=random_state)\n",
        "model.fit(X_train, y_train)\n",
        "y_train_pred = model.predict(X_train)\n",
        "print(\"accuracy на тестовом наборе: {:.2f}\".format(model.score(X_test, y_test)))\n",
        "y_test_pred = model.predict(X_test)\n",
        "print('f1_score на тестовом наборе: {:.2f}'.format(metrics.f1_score(y_test, y_test_pred)))"
      ]
    },
    {
      "attachments": {},
      "cell_type": "markdown",
      "id": "tnJyGOjxfAR9",
      "metadata": {
        "id": "tnJyGOjxfAR9"
      },
      "source": [
        "> Как и в случае со линейной регрессией, дополнительные 30 итераций не принесли никакого эффекта - метрики остались на том же уровне, а в логах можно видеть, что наилучшие значения гиперпараметров были подобраны еще на 5-й итерации.  \n",
        ">\n",
        "> Хорошо, что дополнительные итерации потребовали лишь 6,5 минут времени, однако мы не будем их учитывать в дальнейшем сравнении, т.к. результаты были получены после 20 итераций и 5 минут."
      ]
    },
    {
      "attachments": {},
      "cell_type": "markdown",
      "id": "dwSilA5bX64y",
      "metadata": {
        "id": "dwSilA5bX64y"
      },
      "source": [
        "Построим график истории оптимизации. Он отображает количество испытаний на оси Х и метрику на оси Y.  \n",
        "Следует использовать эту диаграмму, чтобы проверить, идет ли оптимизация гиперпараметров в правильном направлении или нет."
      ]
    },
    {
      "cell_type": "code",
      "execution_count": null,
      "id": "L813ORKVX64-",
      "metadata": {
        "colab": {
          "base_uri": "https://localhost:8080/",
          "height": 542
        },
        "id": "L813ORKVX64-",
        "outputId": "26f04fdc-3e3c-4645-929d-b6c8a6eb3f50"
      },
      "outputs": [
        {
          "data": {
            "text/html": [
              "<html>\n",
              "<head><meta charset=\"utf-8\" /></head>\n",
              "<body>\n",
              "    <div>            <script src=\"https://cdnjs.cloudflare.com/ajax/libs/mathjax/2.7.5/MathJax.js?config=TeX-AMS-MML_SVG\"></script><script type=\"text/javascript\">if (window.MathJax && window.MathJax.Hub && window.MathJax.Hub.Config) {window.MathJax.Hub.Config({SVG: {font: \"STIX-Web\"}});}</script>                <script type=\"text/javascript\">window.PlotlyConfig = {MathJaxConfig: 'local'};</script>\n",
              "        <script src=\"https://cdn.plot.ly/plotly-2.18.2.min.js\"></script>                <div id=\"425b5a22-0cd4-4a4d-8da0-0055ddc50a1c\" class=\"plotly-graph-div\" style=\"height:525px; width:100%;\"></div>            <script type=\"text/javascript\">                                    window.PLOTLYENV=window.PLOTLYENV || {};                                    if (document.getElementById(\"425b5a22-0cd4-4a4d-8da0-0055ddc50a1c\")) {                    Plotly.newPlot(                        \"425b5a22-0cd4-4a4d-8da0-0055ddc50a1c\",                        [{\"mode\":\"markers\",\"name\":\"f1_score\",\"x\":[0,1,2,3,4,5,6,7,8,9,10,11,12,13,14,15,16,17,18,19,20,21,22,23,24,25,26,27,28,29,30,31,32,33,34,35,36,37,38,39,40,41,42,43,44,45,46,47,48,49],\"y\":[0.8125420070751825,0.8060429894497148,0.8157343853767269,0.8088600057473192,0.8113083974463127,0.8180228086989535,0.8049505986533946,0.807636537612958,0.8054342890640231,0.8012767691897331,0.812976727472639,0.8180228086989535,0.8180228086989535,0.8135425896368668,0.8159337677209251,0.8180228086989535,0.812976727472639,0.8159337677209251,0.8134840414936626,0.8176117551554786,0.8180228086989535,0.8180228086989535,0.8180228086989535,0.8180228086989535,0.8116646875929089,0.8180228086989535,0.8103816779234405,0.8118020818012841,0.8125420070751825,0.8140593468259999,0.8176117551554786,0.8180228086989535,0.8180228086989535,0.8180228086989535,0.8157343853767269,0.8180228086989535,0.8134840414936626,0.807613972094442,0.8115226427367312,0.8061958101822748,0.8046079828869945,0.8180228086989535,0.8180228086989535,0.8180228086989535,0.8180228086989535,0.8089222242937579,0.8064014408492604,0.8176117551554786,0.8180228086989535,0.8134840414936626],\"type\":\"scatter\"},{\"name\":\"Best Value\",\"x\":[0,1,2,3,4,5,6,7,8,9,10,11,12,13,14,15,16,17,18,19,20,21,22,23,24,25,26,27,28,29,30,31,32,33,34,35,36,37,38,39,40,41,42,43,44,45,46,47,48,49],\"y\":[0.8125420070751825,0.8125420070751825,0.8157343853767269,0.8157343853767269,0.8157343853767269,0.8180228086989535,0.8180228086989535,0.8180228086989535,0.8180228086989535,0.8180228086989535,0.8180228086989535,0.8180228086989535,0.8180228086989535,0.8180228086989535,0.8180228086989535,0.8180228086989535,0.8180228086989535,0.8180228086989535,0.8180228086989535,0.8180228086989535,0.8180228086989535,0.8180228086989535,0.8180228086989535,0.8180228086989535,0.8180228086989535,0.8180228086989535,0.8180228086989535,0.8180228086989535,0.8180228086989535,0.8180228086989535,0.8180228086989535,0.8180228086989535,0.8180228086989535,0.8180228086989535,0.8180228086989535,0.8180228086989535,0.8180228086989535,0.8180228086989535,0.8180228086989535,0.8180228086989535,0.8180228086989535,0.8180228086989535,0.8180228086989535,0.8180228086989535,0.8180228086989535,0.8180228086989535,0.8180228086989535,0.8180228086989535,0.8180228086989535,0.8180228086989535],\"type\":\"scatter\"}],                        {\"title\":{\"text\":\"Optimization History Plot\"},\"xaxis\":{\"title\":{\"text\":\"Trial\"}},\"yaxis\":{\"title\":{\"text\":\"f1_score\"}},\"template\":{\"data\":{\"histogram2dcontour\":[{\"type\":\"histogram2dcontour\",\"colorbar\":{\"outlinewidth\":0,\"ticks\":\"\"},\"colorscale\":[[0.0,\"#0d0887\"],[0.1111111111111111,\"#46039f\"],[0.2222222222222222,\"#7201a8\"],[0.3333333333333333,\"#9c179e\"],[0.4444444444444444,\"#bd3786\"],[0.5555555555555556,\"#d8576b\"],[0.6666666666666666,\"#ed7953\"],[0.7777777777777778,\"#fb9f3a\"],[0.8888888888888888,\"#fdca26\"],[1.0,\"#f0f921\"]]}],\"choropleth\":[{\"type\":\"choropleth\",\"colorbar\":{\"outlinewidth\":0,\"ticks\":\"\"}}],\"histogram2d\":[{\"type\":\"histogram2d\",\"colorbar\":{\"outlinewidth\":0,\"ticks\":\"\"},\"colorscale\":[[0.0,\"#0d0887\"],[0.1111111111111111,\"#46039f\"],[0.2222222222222222,\"#7201a8\"],[0.3333333333333333,\"#9c179e\"],[0.4444444444444444,\"#bd3786\"],[0.5555555555555556,\"#d8576b\"],[0.6666666666666666,\"#ed7953\"],[0.7777777777777778,\"#fb9f3a\"],[0.8888888888888888,\"#fdca26\"],[1.0,\"#f0f921\"]]}],\"heatmap\":[{\"type\":\"heatmap\",\"colorbar\":{\"outlinewidth\":0,\"ticks\":\"\"},\"colorscale\":[[0.0,\"#0d0887\"],[0.1111111111111111,\"#46039f\"],[0.2222222222222222,\"#7201a8\"],[0.3333333333333333,\"#9c179e\"],[0.4444444444444444,\"#bd3786\"],[0.5555555555555556,\"#d8576b\"],[0.6666666666666666,\"#ed7953\"],[0.7777777777777778,\"#fb9f3a\"],[0.8888888888888888,\"#fdca26\"],[1.0,\"#f0f921\"]]}],\"heatmapgl\":[{\"type\":\"heatmapgl\",\"colorbar\":{\"outlinewidth\":0,\"ticks\":\"\"},\"colorscale\":[[0.0,\"#0d0887\"],[0.1111111111111111,\"#46039f\"],[0.2222222222222222,\"#7201a8\"],[0.3333333333333333,\"#9c179e\"],[0.4444444444444444,\"#bd3786\"],[0.5555555555555556,\"#d8576b\"],[0.6666666666666666,\"#ed7953\"],[0.7777777777777778,\"#fb9f3a\"],[0.8888888888888888,\"#fdca26\"],[1.0,\"#f0f921\"]]}],\"contourcarpet\":[{\"type\":\"contourcarpet\",\"colorbar\":{\"outlinewidth\":0,\"ticks\":\"\"}}],\"contour\":[{\"type\":\"contour\",\"colorbar\":{\"outlinewidth\":0,\"ticks\":\"\"},\"colorscale\":[[0.0,\"#0d0887\"],[0.1111111111111111,\"#46039f\"],[0.2222222222222222,\"#7201a8\"],[0.3333333333333333,\"#9c179e\"],[0.4444444444444444,\"#bd3786\"],[0.5555555555555556,\"#d8576b\"],[0.6666666666666666,\"#ed7953\"],[0.7777777777777778,\"#fb9f3a\"],[0.8888888888888888,\"#fdca26\"],[1.0,\"#f0f921\"]]}],\"surface\":[{\"type\":\"surface\",\"colorbar\":{\"outlinewidth\":0,\"ticks\":\"\"},\"colorscale\":[[0.0,\"#0d0887\"],[0.1111111111111111,\"#46039f\"],[0.2222222222222222,\"#7201a8\"],[0.3333333333333333,\"#9c179e\"],[0.4444444444444444,\"#bd3786\"],[0.5555555555555556,\"#d8576b\"],[0.6666666666666666,\"#ed7953\"],[0.7777777777777778,\"#fb9f3a\"],[0.8888888888888888,\"#fdca26\"],[1.0,\"#f0f921\"]]}],\"mesh3d\":[{\"type\":\"mesh3d\",\"colorbar\":{\"outlinewidth\":0,\"ticks\":\"\"}}],\"scatter\":[{\"fillpattern\":{\"fillmode\":\"overlay\",\"size\":10,\"solidity\":0.2},\"type\":\"scatter\"}],\"parcoords\":[{\"type\":\"parcoords\",\"line\":{\"colorbar\":{\"outlinewidth\":0,\"ticks\":\"\"}}}],\"scatterpolargl\":[{\"type\":\"scatterpolargl\",\"marker\":{\"colorbar\":{\"outlinewidth\":0,\"ticks\":\"\"}}}],\"bar\":[{\"error_x\":{\"color\":\"#2a3f5f\"},\"error_y\":{\"color\":\"#2a3f5f\"},\"marker\":{\"line\":{\"color\":\"#E5ECF6\",\"width\":0.5},\"pattern\":{\"fillmode\":\"overlay\",\"size\":10,\"solidity\":0.2}},\"type\":\"bar\"}],\"scattergeo\":[{\"type\":\"scattergeo\",\"marker\":{\"colorbar\":{\"outlinewidth\":0,\"ticks\":\"\"}}}],\"scatterpolar\":[{\"type\":\"scatterpolar\",\"marker\":{\"colorbar\":{\"outlinewidth\":0,\"ticks\":\"\"}}}],\"histogram\":[{\"marker\":{\"pattern\":{\"fillmode\":\"overlay\",\"size\":10,\"solidity\":0.2}},\"type\":\"histogram\"}],\"scattergl\":[{\"type\":\"scattergl\",\"marker\":{\"colorbar\":{\"outlinewidth\":0,\"ticks\":\"\"}}}],\"scatter3d\":[{\"type\":\"scatter3d\",\"line\":{\"colorbar\":{\"outlinewidth\":0,\"ticks\":\"\"}},\"marker\":{\"colorbar\":{\"outlinewidth\":0,\"ticks\":\"\"}}}],\"scattermapbox\":[{\"type\":\"scattermapbox\",\"marker\":{\"colorbar\":{\"outlinewidth\":0,\"ticks\":\"\"}}}],\"scatterternary\":[{\"type\":\"scatterternary\",\"marker\":{\"colorbar\":{\"outlinewidth\":0,\"ticks\":\"\"}}}],\"scattercarpet\":[{\"type\":\"scattercarpet\",\"marker\":{\"colorbar\":{\"outlinewidth\":0,\"ticks\":\"\"}}}],\"carpet\":[{\"aaxis\":{\"endlinecolor\":\"#2a3f5f\",\"gridcolor\":\"white\",\"linecolor\":\"white\",\"minorgridcolor\":\"white\",\"startlinecolor\":\"#2a3f5f\"},\"baxis\":{\"endlinecolor\":\"#2a3f5f\",\"gridcolor\":\"white\",\"linecolor\":\"white\",\"minorgridcolor\":\"white\",\"startlinecolor\":\"#2a3f5f\"},\"type\":\"carpet\"}],\"table\":[{\"cells\":{\"fill\":{\"color\":\"#EBF0F8\"},\"line\":{\"color\":\"white\"}},\"header\":{\"fill\":{\"color\":\"#C8D4E3\"},\"line\":{\"color\":\"white\"}},\"type\":\"table\"}],\"barpolar\":[{\"marker\":{\"line\":{\"color\":\"#E5ECF6\",\"width\":0.5},\"pattern\":{\"fillmode\":\"overlay\",\"size\":10,\"solidity\":0.2}},\"type\":\"barpolar\"}],\"pie\":[{\"automargin\":true,\"type\":\"pie\"}]},\"layout\":{\"autotypenumbers\":\"strict\",\"colorway\":[\"#636efa\",\"#EF553B\",\"#00cc96\",\"#ab63fa\",\"#FFA15A\",\"#19d3f3\",\"#FF6692\",\"#B6E880\",\"#FF97FF\",\"#FECB52\"],\"font\":{\"color\":\"#2a3f5f\"},\"hovermode\":\"closest\",\"hoverlabel\":{\"align\":\"left\"},\"paper_bgcolor\":\"white\",\"plot_bgcolor\":\"#E5ECF6\",\"polar\":{\"bgcolor\":\"#E5ECF6\",\"angularaxis\":{\"gridcolor\":\"white\",\"linecolor\":\"white\",\"ticks\":\"\"},\"radialaxis\":{\"gridcolor\":\"white\",\"linecolor\":\"white\",\"ticks\":\"\"}},\"ternary\":{\"bgcolor\":\"#E5ECF6\",\"aaxis\":{\"gridcolor\":\"white\",\"linecolor\":\"white\",\"ticks\":\"\"},\"baxis\":{\"gridcolor\":\"white\",\"linecolor\":\"white\",\"ticks\":\"\"},\"caxis\":{\"gridcolor\":\"white\",\"linecolor\":\"white\",\"ticks\":\"\"}},\"coloraxis\":{\"colorbar\":{\"outlinewidth\":0,\"ticks\":\"\"}},\"colorscale\":{\"sequential\":[[0.0,\"#0d0887\"],[0.1111111111111111,\"#46039f\"],[0.2222222222222222,\"#7201a8\"],[0.3333333333333333,\"#9c179e\"],[0.4444444444444444,\"#bd3786\"],[0.5555555555555556,\"#d8576b\"],[0.6666666666666666,\"#ed7953\"],[0.7777777777777778,\"#fb9f3a\"],[0.8888888888888888,\"#fdca26\"],[1.0,\"#f0f921\"]],\"sequentialminus\":[[0.0,\"#0d0887\"],[0.1111111111111111,\"#46039f\"],[0.2222222222222222,\"#7201a8\"],[0.3333333333333333,\"#9c179e\"],[0.4444444444444444,\"#bd3786\"],[0.5555555555555556,\"#d8576b\"],[0.6666666666666666,\"#ed7953\"],[0.7777777777777778,\"#fb9f3a\"],[0.8888888888888888,\"#fdca26\"],[1.0,\"#f0f921\"]],\"diverging\":[[0,\"#8e0152\"],[0.1,\"#c51b7d\"],[0.2,\"#de77ae\"],[0.3,\"#f1b6da\"],[0.4,\"#fde0ef\"],[0.5,\"#f7f7f7\"],[0.6,\"#e6f5d0\"],[0.7,\"#b8e186\"],[0.8,\"#7fbc41\"],[0.9,\"#4d9221\"],[1,\"#276419\"]]},\"xaxis\":{\"gridcolor\":\"white\",\"linecolor\":\"white\",\"ticks\":\"\",\"title\":{\"standoff\":15},\"zerolinecolor\":\"white\",\"automargin\":true,\"zerolinewidth\":2},\"yaxis\":{\"gridcolor\":\"white\",\"linecolor\":\"white\",\"ticks\":\"\",\"title\":{\"standoff\":15},\"zerolinecolor\":\"white\",\"automargin\":true,\"zerolinewidth\":2},\"scene\":{\"xaxis\":{\"backgroundcolor\":\"#E5ECF6\",\"gridcolor\":\"white\",\"linecolor\":\"white\",\"showbackground\":true,\"ticks\":\"\",\"zerolinecolor\":\"white\",\"gridwidth\":2},\"yaxis\":{\"backgroundcolor\":\"#E5ECF6\",\"gridcolor\":\"white\",\"linecolor\":\"white\",\"showbackground\":true,\"ticks\":\"\",\"zerolinecolor\":\"white\",\"gridwidth\":2},\"zaxis\":{\"backgroundcolor\":\"#E5ECF6\",\"gridcolor\":\"white\",\"linecolor\":\"white\",\"showbackground\":true,\"ticks\":\"\",\"zerolinecolor\":\"white\",\"gridwidth\":2}},\"shapedefaults\":{\"line\":{\"color\":\"#2a3f5f\"}},\"annotationdefaults\":{\"arrowcolor\":\"#2a3f5f\",\"arrowhead\":0,\"arrowwidth\":1},\"geo\":{\"bgcolor\":\"white\",\"landcolor\":\"#E5ECF6\",\"subunitcolor\":\"white\",\"showland\":true,\"showlakes\":true,\"lakecolor\":\"white\"},\"title\":{\"x\":0.05},\"mapbox\":{\"style\":\"light\"}}}},                        {\"responsive\": true}                    ).then(function(){\n",
              "                            \n",
              "var gd = document.getElementById('425b5a22-0cd4-4a4d-8da0-0055ddc50a1c');\n",
              "var x = new MutationObserver(function (mutations, observer) {{\n",
              "        var display = window.getComputedStyle(gd).display;\n",
              "        if (!display || display === 'none') {{\n",
              "            console.log([gd, 'removed!']);\n",
              "            Plotly.purge(gd);\n",
              "            observer.disconnect();\n",
              "        }}\n",
              "}});\n",
              "\n",
              "// Listen for the removal of the full notebook cells\n",
              "var notebookContainer = gd.closest('#notebook-container');\n",
              "if (notebookContainer) {{\n",
              "    x.observe(notebookContainer, {childList: true});\n",
              "}}\n",
              "\n",
              "// Listen for the clearing of the current output cell\n",
              "var outputEl = gd.closest('.output');\n",
              "if (outputEl) {{\n",
              "    x.observe(outputEl, {childList: true});\n",
              "}}\n",
              "\n",
              "                        })                };                            </script>        </div>\n",
              "</body>\n",
              "</html>"
            ]
          },
          "metadata": {},
          "output_type": "display_data"
        }
      ],
      "source": [
        "optuna.visualization.plot_optimization_history(study, target_name=\"f1_score\")"
      ]
    },
    {
      "attachments": {},
      "cell_type": "markdown",
      "id": "e902f959",
      "metadata": {},
      "source": [
        "![RandomForest_Classifier_Optimisation_History_plot](img/Optuna_422_RF_1_History_plot.png)"
      ]
    },
    {
      "attachments": {},
      "cell_type": "markdown",
      "id": "KVTWiBkNX64_",
      "metadata": {
        "id": "KVTWiBkNX64_"
      },
      "source": [
        "> Как можно видеть, на протяжении всех 50 итераций метрика $F_1$-score постоянно максимизируется.  \n",
        "\n",
        "Теперь построим диаграмму важности гиперпараметров. Она помогает понять, какие гиперпараметры вносят больший вклад в максимизацию метрики.  "
      ]
    },
    {
      "cell_type": "code",
      "execution_count": null,
      "id": "JyVY6WX5X64_",
      "metadata": {
        "colab": {
          "base_uri": "https://localhost:8080/",
          "height": 542
        },
        "id": "JyVY6WX5X64_",
        "outputId": "177a4fba-31b5-4cd8-87f7-e99211a1363f"
      },
      "outputs": [
        {
          "data": {
            "text/html": [
              "<html>\n",
              "<head><meta charset=\"utf-8\" /></head>\n",
              "<body>\n",
              "    <div>            <script src=\"https://cdnjs.cloudflare.com/ajax/libs/mathjax/2.7.5/MathJax.js?config=TeX-AMS-MML_SVG\"></script><script type=\"text/javascript\">if (window.MathJax && window.MathJax.Hub && window.MathJax.Hub.Config) {window.MathJax.Hub.Config({SVG: {font: \"STIX-Web\"}});}</script>                <script type=\"text/javascript\">window.PlotlyConfig = {MathJaxConfig: 'local'};</script>\n",
              "        <script src=\"https://cdn.plot.ly/plotly-2.18.2.min.js\"></script>                <div id=\"f373172a-ded3-4067-b755-7afb8886284b\" class=\"plotly-graph-div\" style=\"height:525px; width:100%;\"></div>            <script type=\"text/javascript\">                                    window.PLOTLYENV=window.PLOTLYENV || {};                                    if (document.getElementById(\"f373172a-ded3-4067-b755-7afb8886284b\")) {                    Plotly.newPlot(                        \"f373172a-ded3-4067-b755-7afb8886284b\",                        [{\"cliponaxis\":false,\"hovertemplate\":[\"n_estimators (IntDistribution): 0.03604084989177039<extra></extra>\",\"max_depth (IntDistribution): 0.19724410984537816<extra></extra>\",\"criterion (CategoricalDistribution): 0.28232186592187714<extra></extra>\",\"min_samples_leaf (IntDistribution): 0.4843931743409742<extra></extra>\"],\"marker\":{\"color\":\"rgb(66,146,198)\"},\"orientation\":\"h\",\"text\":[\"0.04\",\"0.20\",\"0.28\",\"0.48\"],\"textposition\":\"outside\",\"x\":[0.03604084989177039,0.19724410984537816,0.28232186592187714,0.4843931743409742],\"y\":[\"n_estimators\",\"max_depth\",\"criterion\",\"min_samples_leaf\"],\"type\":\"bar\"}],                        {\"showlegend\":false,\"title\":{\"text\":\"Hyperparameter Importances\"},\"xaxis\":{\"title\":{\"text\":\"Importance for f1_score\"}},\"yaxis\":{\"title\":{\"text\":\"Hyperparameter\"}},\"template\":{\"data\":{\"histogram2dcontour\":[{\"type\":\"histogram2dcontour\",\"colorbar\":{\"outlinewidth\":0,\"ticks\":\"\"},\"colorscale\":[[0.0,\"#0d0887\"],[0.1111111111111111,\"#46039f\"],[0.2222222222222222,\"#7201a8\"],[0.3333333333333333,\"#9c179e\"],[0.4444444444444444,\"#bd3786\"],[0.5555555555555556,\"#d8576b\"],[0.6666666666666666,\"#ed7953\"],[0.7777777777777778,\"#fb9f3a\"],[0.8888888888888888,\"#fdca26\"],[1.0,\"#f0f921\"]]}],\"choropleth\":[{\"type\":\"choropleth\",\"colorbar\":{\"outlinewidth\":0,\"ticks\":\"\"}}],\"histogram2d\":[{\"type\":\"histogram2d\",\"colorbar\":{\"outlinewidth\":0,\"ticks\":\"\"},\"colorscale\":[[0.0,\"#0d0887\"],[0.1111111111111111,\"#46039f\"],[0.2222222222222222,\"#7201a8\"],[0.3333333333333333,\"#9c179e\"],[0.4444444444444444,\"#bd3786\"],[0.5555555555555556,\"#d8576b\"],[0.6666666666666666,\"#ed7953\"],[0.7777777777777778,\"#fb9f3a\"],[0.8888888888888888,\"#fdca26\"],[1.0,\"#f0f921\"]]}],\"heatmap\":[{\"type\":\"heatmap\",\"colorbar\":{\"outlinewidth\":0,\"ticks\":\"\"},\"colorscale\":[[0.0,\"#0d0887\"],[0.1111111111111111,\"#46039f\"],[0.2222222222222222,\"#7201a8\"],[0.3333333333333333,\"#9c179e\"],[0.4444444444444444,\"#bd3786\"],[0.5555555555555556,\"#d8576b\"],[0.6666666666666666,\"#ed7953\"],[0.7777777777777778,\"#fb9f3a\"],[0.8888888888888888,\"#fdca26\"],[1.0,\"#f0f921\"]]}],\"heatmapgl\":[{\"type\":\"heatmapgl\",\"colorbar\":{\"outlinewidth\":0,\"ticks\":\"\"},\"colorscale\":[[0.0,\"#0d0887\"],[0.1111111111111111,\"#46039f\"],[0.2222222222222222,\"#7201a8\"],[0.3333333333333333,\"#9c179e\"],[0.4444444444444444,\"#bd3786\"],[0.5555555555555556,\"#d8576b\"],[0.6666666666666666,\"#ed7953\"],[0.7777777777777778,\"#fb9f3a\"],[0.8888888888888888,\"#fdca26\"],[1.0,\"#f0f921\"]]}],\"contourcarpet\":[{\"type\":\"contourcarpet\",\"colorbar\":{\"outlinewidth\":0,\"ticks\":\"\"}}],\"contour\":[{\"type\":\"contour\",\"colorbar\":{\"outlinewidth\":0,\"ticks\":\"\"},\"colorscale\":[[0.0,\"#0d0887\"],[0.1111111111111111,\"#46039f\"],[0.2222222222222222,\"#7201a8\"],[0.3333333333333333,\"#9c179e\"],[0.4444444444444444,\"#bd3786\"],[0.5555555555555556,\"#d8576b\"],[0.6666666666666666,\"#ed7953\"],[0.7777777777777778,\"#fb9f3a\"],[0.8888888888888888,\"#fdca26\"],[1.0,\"#f0f921\"]]}],\"surface\":[{\"type\":\"surface\",\"colorbar\":{\"outlinewidth\":0,\"ticks\":\"\"},\"colorscale\":[[0.0,\"#0d0887\"],[0.1111111111111111,\"#46039f\"],[0.2222222222222222,\"#7201a8\"],[0.3333333333333333,\"#9c179e\"],[0.4444444444444444,\"#bd3786\"],[0.5555555555555556,\"#d8576b\"],[0.6666666666666666,\"#ed7953\"],[0.7777777777777778,\"#fb9f3a\"],[0.8888888888888888,\"#fdca26\"],[1.0,\"#f0f921\"]]}],\"mesh3d\":[{\"type\":\"mesh3d\",\"colorbar\":{\"outlinewidth\":0,\"ticks\":\"\"}}],\"scatter\":[{\"fillpattern\":{\"fillmode\":\"overlay\",\"size\":10,\"solidity\":0.2},\"type\":\"scatter\"}],\"parcoords\":[{\"type\":\"parcoords\",\"line\":{\"colorbar\":{\"outlinewidth\":0,\"ticks\":\"\"}}}],\"scatterpolargl\":[{\"type\":\"scatterpolargl\",\"marker\":{\"colorbar\":{\"outlinewidth\":0,\"ticks\":\"\"}}}],\"bar\":[{\"error_x\":{\"color\":\"#2a3f5f\"},\"error_y\":{\"color\":\"#2a3f5f\"},\"marker\":{\"line\":{\"color\":\"#E5ECF6\",\"width\":0.5},\"pattern\":{\"fillmode\":\"overlay\",\"size\":10,\"solidity\":0.2}},\"type\":\"bar\"}],\"scattergeo\":[{\"type\":\"scattergeo\",\"marker\":{\"colorbar\":{\"outlinewidth\":0,\"ticks\":\"\"}}}],\"scatterpolar\":[{\"type\":\"scatterpolar\",\"marker\":{\"colorbar\":{\"outlinewidth\":0,\"ticks\":\"\"}}}],\"histogram\":[{\"marker\":{\"pattern\":{\"fillmode\":\"overlay\",\"size\":10,\"solidity\":0.2}},\"type\":\"histogram\"}],\"scattergl\":[{\"type\":\"scattergl\",\"marker\":{\"colorbar\":{\"outlinewidth\":0,\"ticks\":\"\"}}}],\"scatter3d\":[{\"type\":\"scatter3d\",\"line\":{\"colorbar\":{\"outlinewidth\":0,\"ticks\":\"\"}},\"marker\":{\"colorbar\":{\"outlinewidth\":0,\"ticks\":\"\"}}}],\"scattermapbox\":[{\"type\":\"scattermapbox\",\"marker\":{\"colorbar\":{\"outlinewidth\":0,\"ticks\":\"\"}}}],\"scatterternary\":[{\"type\":\"scatterternary\",\"marker\":{\"colorbar\":{\"outlinewidth\":0,\"ticks\":\"\"}}}],\"scattercarpet\":[{\"type\":\"scattercarpet\",\"marker\":{\"colorbar\":{\"outlinewidth\":0,\"ticks\":\"\"}}}],\"carpet\":[{\"aaxis\":{\"endlinecolor\":\"#2a3f5f\",\"gridcolor\":\"white\",\"linecolor\":\"white\",\"minorgridcolor\":\"white\",\"startlinecolor\":\"#2a3f5f\"},\"baxis\":{\"endlinecolor\":\"#2a3f5f\",\"gridcolor\":\"white\",\"linecolor\":\"white\",\"minorgridcolor\":\"white\",\"startlinecolor\":\"#2a3f5f\"},\"type\":\"carpet\"}],\"table\":[{\"cells\":{\"fill\":{\"color\":\"#EBF0F8\"},\"line\":{\"color\":\"white\"}},\"header\":{\"fill\":{\"color\":\"#C8D4E3\"},\"line\":{\"color\":\"white\"}},\"type\":\"table\"}],\"barpolar\":[{\"marker\":{\"line\":{\"color\":\"#E5ECF6\",\"width\":0.5},\"pattern\":{\"fillmode\":\"overlay\",\"size\":10,\"solidity\":0.2}},\"type\":\"barpolar\"}],\"pie\":[{\"automargin\":true,\"type\":\"pie\"}]},\"layout\":{\"autotypenumbers\":\"strict\",\"colorway\":[\"#636efa\",\"#EF553B\",\"#00cc96\",\"#ab63fa\",\"#FFA15A\",\"#19d3f3\",\"#FF6692\",\"#B6E880\",\"#FF97FF\",\"#FECB52\"],\"font\":{\"color\":\"#2a3f5f\"},\"hovermode\":\"closest\",\"hoverlabel\":{\"align\":\"left\"},\"paper_bgcolor\":\"white\",\"plot_bgcolor\":\"#E5ECF6\",\"polar\":{\"bgcolor\":\"#E5ECF6\",\"angularaxis\":{\"gridcolor\":\"white\",\"linecolor\":\"white\",\"ticks\":\"\"},\"radialaxis\":{\"gridcolor\":\"white\",\"linecolor\":\"white\",\"ticks\":\"\"}},\"ternary\":{\"bgcolor\":\"#E5ECF6\",\"aaxis\":{\"gridcolor\":\"white\",\"linecolor\":\"white\",\"ticks\":\"\"},\"baxis\":{\"gridcolor\":\"white\",\"linecolor\":\"white\",\"ticks\":\"\"},\"caxis\":{\"gridcolor\":\"white\",\"linecolor\":\"white\",\"ticks\":\"\"}},\"coloraxis\":{\"colorbar\":{\"outlinewidth\":0,\"ticks\":\"\"}},\"colorscale\":{\"sequential\":[[0.0,\"#0d0887\"],[0.1111111111111111,\"#46039f\"],[0.2222222222222222,\"#7201a8\"],[0.3333333333333333,\"#9c179e\"],[0.4444444444444444,\"#bd3786\"],[0.5555555555555556,\"#d8576b\"],[0.6666666666666666,\"#ed7953\"],[0.7777777777777778,\"#fb9f3a\"],[0.8888888888888888,\"#fdca26\"],[1.0,\"#f0f921\"]],\"sequentialminus\":[[0.0,\"#0d0887\"],[0.1111111111111111,\"#46039f\"],[0.2222222222222222,\"#7201a8\"],[0.3333333333333333,\"#9c179e\"],[0.4444444444444444,\"#bd3786\"],[0.5555555555555556,\"#d8576b\"],[0.6666666666666666,\"#ed7953\"],[0.7777777777777778,\"#fb9f3a\"],[0.8888888888888888,\"#fdca26\"],[1.0,\"#f0f921\"]],\"diverging\":[[0,\"#8e0152\"],[0.1,\"#c51b7d\"],[0.2,\"#de77ae\"],[0.3,\"#f1b6da\"],[0.4,\"#fde0ef\"],[0.5,\"#f7f7f7\"],[0.6,\"#e6f5d0\"],[0.7,\"#b8e186\"],[0.8,\"#7fbc41\"],[0.9,\"#4d9221\"],[1,\"#276419\"]]},\"xaxis\":{\"gridcolor\":\"white\",\"linecolor\":\"white\",\"ticks\":\"\",\"title\":{\"standoff\":15},\"zerolinecolor\":\"white\",\"automargin\":true,\"zerolinewidth\":2},\"yaxis\":{\"gridcolor\":\"white\",\"linecolor\":\"white\",\"ticks\":\"\",\"title\":{\"standoff\":15},\"zerolinecolor\":\"white\",\"automargin\":true,\"zerolinewidth\":2},\"scene\":{\"xaxis\":{\"backgroundcolor\":\"#E5ECF6\",\"gridcolor\":\"white\",\"linecolor\":\"white\",\"showbackground\":true,\"ticks\":\"\",\"zerolinecolor\":\"white\",\"gridwidth\":2},\"yaxis\":{\"backgroundcolor\":\"#E5ECF6\",\"gridcolor\":\"white\",\"linecolor\":\"white\",\"showbackground\":true,\"ticks\":\"\",\"zerolinecolor\":\"white\",\"gridwidth\":2},\"zaxis\":{\"backgroundcolor\":\"#E5ECF6\",\"gridcolor\":\"white\",\"linecolor\":\"white\",\"showbackground\":true,\"ticks\":\"\",\"zerolinecolor\":\"white\",\"gridwidth\":2}},\"shapedefaults\":{\"line\":{\"color\":\"#2a3f5f\"}},\"annotationdefaults\":{\"arrowcolor\":\"#2a3f5f\",\"arrowhead\":0,\"arrowwidth\":1},\"geo\":{\"bgcolor\":\"white\",\"landcolor\":\"#E5ECF6\",\"subunitcolor\":\"white\",\"showland\":true,\"showlakes\":true,\"lakecolor\":\"white\"},\"title\":{\"x\":0.05},\"mapbox\":{\"style\":\"light\"}}}},                        {\"responsive\": true}                    ).then(function(){\n",
              "                            \n",
              "var gd = document.getElementById('f373172a-ded3-4067-b755-7afb8886284b');\n",
              "var x = new MutationObserver(function (mutations, observer) {{\n",
              "        var display = window.getComputedStyle(gd).display;\n",
              "        if (!display || display === 'none') {{\n",
              "            console.log([gd, 'removed!']);\n",
              "            Plotly.purge(gd);\n",
              "            observer.disconnect();\n",
              "        }}\n",
              "}});\n",
              "\n",
              "// Listen for the removal of the full notebook cells\n",
              "var notebookContainer = gd.closest('#notebook-container');\n",
              "if (notebookContainer) {{\n",
              "    x.observe(notebookContainer, {childList: true});\n",
              "}}\n",
              "\n",
              "// Listen for the clearing of the current output cell\n",
              "var outputEl = gd.closest('.output');\n",
              "if (outputEl) {{\n",
              "    x.observe(outputEl, {childList: true});\n",
              "}}\n",
              "\n",
              "                        })                };                            </script>        </div>\n",
              "</body>\n",
              "</html>"
            ]
          },
          "metadata": {},
          "output_type": "display_data"
        }
      ],
      "source": [
        "optuna.visualization.plot_param_importances(study, target_name=\"f1_score\")"
      ]
    },
    {
      "attachments": {},
      "cell_type": "markdown",
      "id": "1639f217",
      "metadata": {},
      "source": [
        "![RandomForestClassifier_Hyperparameter_Importances](img/Optuna_422_RF_2_Hyperparameters_plot.png)"
      ]
    },
    {
      "attachments": {},
      "cell_type": "markdown",
      "id": "AgfMN2_2X65A",
      "metadata": {
        "id": "AgfMN2_2X65A"
      },
      "source": [
        "> Наибольший вклад вносит минимальное количество листьев на ветви `min_samples_leaf`, затем `criterion` и так далее. А вот количество деревьев `n_estimators` играет наименьшую роль - все потому, что в случайном лесу используются глубокие деревья, способные сформировать полноценный прогноз.  "
      ]
    },
    {
      "attachments": {},
      "cell_type": "markdown",
      "id": "AOslcj0gX65B",
      "metadata": {
        "id": "AOslcj0gX65B"
      },
      "source": [
        "Наконец, построим графики контуров отношений гиперпараметров. Они позволят увидеть связь между различными комбинациями гиперпараметров и значением метрики для этих комбинаций.  "
      ]
    },
    {
      "cell_type": "code",
      "execution_count": null,
      "id": "Ji1v-FWHX65B",
      "metadata": {
        "colab": {
          "base_uri": "https://localhost:8080/",
          "height": 542
        },
        "id": "Ji1v-FWHX65B",
        "outputId": "3827ca95-671c-4f68-8b39-d4178b762f5b"
      },
      "outputs": [
        {
          "data": {
            "text/html": [
              "<html>\n",
              "<head><meta charset=\"utf-8\" /></head>\n",
              "<body>\n",
              "    <div>            <script src=\"https://cdnjs.cloudflare.com/ajax/libs/mathjax/2.7.5/MathJax.js?config=TeX-AMS-MML_SVG\"></script><script type=\"text/javascript\">if (window.MathJax && window.MathJax.Hub && window.MathJax.Hub.Config) {window.MathJax.Hub.Config({SVG: {font: \"STIX-Web\"}});}</script>                <script type=\"text/javascript\">window.PlotlyConfig = {MathJaxConfig: 'local'};</script>\n",
              "        <script src=\"https://cdn.plot.ly/plotly-2.18.2.min.js\"></script>                <div id=\"ccad7d3d-0522-4cc1-b45d-58fb9947b83b\" class=\"plotly-graph-div\" style=\"height:525px; width:100%;\"></div>            <script type=\"text/javascript\">                                    window.PLOTLYENV=window.PLOTLYENV || {};                                    if (document.getElementById(\"ccad7d3d-0522-4cc1-b45d-58fb9947b83b\")) {                    Plotly.newPlot(                        \"ccad7d3d-0522-4cc1-b45d-58fb9947b83b\",                        [{\"type\":\"scatter\",\"xaxis\":\"x\",\"yaxis\":\"y\"},{\"colorbar\":{\"title\":{\"text\":\"f1_score\"}},\"colorscale\":[[0.0,\"rgb(247,251,255)\"],[0.125,\"rgb(222,235,247)\"],[0.25,\"rgb(198,219,239)\"],[0.375,\"rgb(158,202,225)\"],[0.5,\"rgb(107,174,214)\"],[0.625,\"rgb(66,146,198)\"],[0.75,\"rgb(33,113,181)\"],[0.875,\"rgb(8,81,156)\"],[1.0,\"rgb(8,48,107)\"]],\"connectgaps\":true,\"contours\":{\"coloring\":\"heatmap\"},\"hoverinfo\":\"none\",\"line\":{\"smoothing\":1.3},\"reversescale\":false,\"showscale\":true,\"x\":[\"entropy\",\"gini\"],\"y\":[9.25,10,15,20,25,25.75],\"z\":[[null,null],[0.8046079828869945,0.8012767691897331],[0.8125420070751825,null],[0.8176117551554786,0.8089222242937579],[0.8134840414936626,0.8061958101822748],[null,null]],\"type\":\"contour\",\"xaxis\":\"x5\",\"yaxis\":\"y5\"},{\"marker\":{\"color\":\"black\",\"line\":{\"color\":\"Grey\",\"width\":2.0}},\"mode\":\"markers\",\"showlegend\":false,\"x\":[\"entropy\",\"entropy\",\"entropy\",\"entropy\",\"gini\",\"entropy\",\"gini\",\"gini\",\"gini\",\"gini\",\"entropy\",\"entropy\",\"entropy\",\"entropy\",\"entropy\",\"entropy\",\"entropy\",\"entropy\",\"entropy\",\"entropy\",\"entropy\",\"entropy\",\"entropy\",\"entropy\",\"entropy\",\"entropy\",\"gini\",\"entropy\",\"entropy\",\"entropy\",\"entropy\",\"entropy\",\"entropy\",\"entropy\",\"entropy\",\"entropy\",\"entropy\",\"gini\",\"entropy\",\"gini\",\"entropy\",\"entropy\",\"entropy\",\"entropy\",\"entropy\",\"gini\",\"entropy\",\"entropy\",\"entropy\",\"entropy\"],\"y\":[15,25,25,20,25,25,10,20,20,10,15,25,25,25,20,25,15,20,25,20,25,25,25,25,20,25,20,25,15,25,20,25,25,25,25,25,25,25,20,25,10,25,25,25,25,20,25,20,25,25],\"type\":\"scatter\",\"xaxis\":\"x5\",\"yaxis\":\"y5\"},{\"colorbar\":{\"title\":{\"text\":\"f1_score\"}},\"colorscale\":[[0.0,\"rgb(247,251,255)\"],[0.125,\"rgb(222,235,247)\"],[0.25,\"rgb(198,219,239)\"],[0.375,\"rgb(158,202,225)\"],[0.5,\"rgb(107,174,214)\"],[0.625,\"rgb(66,146,198)\"],[0.75,\"rgb(33,113,181)\"],[0.875,\"rgb(8,81,156)\"],[1.0,\"rgb(8,48,107)\"]],\"connectgaps\":true,\"contours\":{\"coloring\":\"heatmap\"},\"hoverinfo\":\"none\",\"line\":{\"smoothing\":1.3},\"reversescale\":false,\"showscale\":false,\"x\":[\"entropy\",\"gini\"],\"y\":[4.9,5,6,7,7.1],\"z\":[[null,null],[0.8180228086989535,0.8089222242937579],[0.8134840414936626,0.8113083974463127],[0.8064014408492604,0.8012767691897331],[null,null]],\"type\":\"contour\",\"xaxis\":\"x9\",\"yaxis\":\"y9\"},{\"marker\":{\"color\":\"black\",\"line\":{\"color\":\"Grey\",\"width\":2.0}},\"mode\":\"markers\",\"showlegend\":false,\"x\":[\"entropy\",\"entropy\",\"entropy\",\"entropy\",\"gini\",\"entropy\",\"gini\",\"gini\",\"gini\",\"gini\",\"entropy\",\"entropy\",\"entropy\",\"entropy\",\"entropy\",\"entropy\",\"entropy\",\"entropy\",\"entropy\",\"entropy\",\"entropy\",\"entropy\",\"entropy\",\"entropy\",\"entropy\",\"entropy\",\"gini\",\"entropy\",\"entropy\",\"entropy\",\"entropy\",\"entropy\",\"entropy\",\"entropy\",\"entropy\",\"entropy\",\"entropy\",\"gini\",\"entropy\",\"gini\",\"entropy\",\"entropy\",\"entropy\",\"entropy\",\"entropy\",\"gini\",\"entropy\",\"entropy\",\"entropy\",\"entropy\"],\"y\":[5,7,5,7,6,5,7,5,7,7,6,5,5,6,5,5,6,5,6,5,5,5,5,5,6,5,5,6,5,5,5,5,5,5,5,5,6,5,6,5,5,5,5,5,5,5,7,5,5,6],\"type\":\"scatter\",\"xaxis\":\"x9\",\"yaxis\":\"y9\"},{\"colorbar\":{\"title\":{\"text\":\"f1_score\"}},\"colorscale\":[[0.0,\"rgb(247,251,255)\"],[0.125,\"rgb(222,235,247)\"],[0.25,\"rgb(198,219,239)\"],[0.375,\"rgb(158,202,225)\"],[0.5,\"rgb(107,174,214)\"],[0.625,\"rgb(66,146,198)\"],[0.75,\"rgb(33,113,181)\"],[0.875,\"rgb(8,81,156)\"],[1.0,\"rgb(8,48,107)\"]],\"connectgaps\":true,\"contours\":{\"coloring\":\"heatmap\"},\"hoverinfo\":\"none\",\"line\":{\"smoothing\":1.3},\"reversescale\":false,\"showscale\":false,\"x\":[\"entropy\",\"gini\"],\"y\":[95.5,100,130,160,190,194.5],\"z\":[[null,null],[0.8140593468259999,0.8012767691897331],[0.8134840414936626,0.8061958101822748],[0.8180228086989535,0.8089222242937579],[0.8176117551554786,0.8103816779234405],[null,null]],\"type\":\"contour\",\"xaxis\":\"x13\",\"yaxis\":\"y13\"},{\"marker\":{\"color\":\"black\",\"line\":{\"color\":\"Grey\",\"width\":2.0}},\"mode\":\"markers\",\"showlegend\":false,\"x\":[\"entropy\",\"entropy\",\"entropy\",\"entropy\",\"gini\",\"entropy\",\"gini\",\"gini\",\"gini\",\"gini\",\"entropy\",\"entropy\",\"entropy\",\"entropy\",\"entropy\",\"entropy\",\"entropy\",\"entropy\",\"entropy\",\"entropy\",\"entropy\",\"entropy\",\"entropy\",\"entropy\",\"entropy\",\"entropy\",\"gini\",\"entropy\",\"entropy\",\"entropy\",\"entropy\",\"entropy\",\"entropy\",\"entropy\",\"entropy\",\"entropy\",\"entropy\",\"gini\",\"entropy\",\"gini\",\"entropy\",\"entropy\",\"entropy\",\"entropy\",\"entropy\",\"gini\",\"entropy\",\"entropy\",\"entropy\",\"entropy\"],\"y\":[130,130,130,160,130,160,190,100,160,100,190,160,160,190,160,160,190,160,130,190,160,160,160,160,130,160,190,160,130,100,190,160,160,160,130,160,130,160,160,130,190,160,160,160,160,160,160,190,160,130],\"type\":\"scatter\",\"xaxis\":\"x13\",\"yaxis\":\"y13\"},{\"colorbar\":{\"title\":{\"text\":\"f1_score\"}},\"colorscale\":[[0.0,\"rgb(247,251,255)\"],[0.125,\"rgb(222,235,247)\"],[0.25,\"rgb(198,219,239)\"],[0.375,\"rgb(158,202,225)\"],[0.5,\"rgb(107,174,214)\"],[0.625,\"rgb(66,146,198)\"],[0.75,\"rgb(33,113,181)\"],[0.875,\"rgb(8,81,156)\"],[1.0,\"rgb(8,48,107)\"]],\"connectgaps\":true,\"contours\":{\"coloring\":\"heatmap\"},\"hoverinfo\":\"none\",\"line\":{\"smoothing\":1.3},\"reversescale\":false,\"showscale\":false,\"x\":[9.25,10,15,20,25,25.75],\"y\":[\"entropy\",\"gini\"],\"z\":[[null,0.8046079828869945,0.8125420070751825,0.8176117551554786,0.8134840414936626,null],[null,0.8012767691897331,null,0.8089222242937579,0.8061958101822748,null]],\"type\":\"contour\",\"xaxis\":\"x2\",\"yaxis\":\"y2\"},{\"marker\":{\"color\":\"black\",\"line\":{\"color\":\"Grey\",\"width\":2.0}},\"mode\":\"markers\",\"showlegend\":false,\"x\":[15,25,25,20,25,25,10,20,20,10,15,25,25,25,20,25,15,20,25,20,25,25,25,25,20,25,20,25,15,25,20,25,25,25,25,25,25,25,20,25,10,25,25,25,25,20,25,20,25,25],\"y\":[\"entropy\",\"entropy\",\"entropy\",\"entropy\",\"gini\",\"entropy\",\"gini\",\"gini\",\"gini\",\"gini\",\"entropy\",\"entropy\",\"entropy\",\"entropy\",\"entropy\",\"entropy\",\"entropy\",\"entropy\",\"entropy\",\"entropy\",\"entropy\",\"entropy\",\"entropy\",\"entropy\",\"entropy\",\"entropy\",\"gini\",\"entropy\",\"entropy\",\"entropy\",\"entropy\",\"entropy\",\"entropy\",\"entropy\",\"entropy\",\"entropy\",\"entropy\",\"gini\",\"entropy\",\"gini\",\"entropy\",\"entropy\",\"entropy\",\"entropy\",\"entropy\",\"gini\",\"entropy\",\"entropy\",\"entropy\",\"entropy\"],\"type\":\"scatter\",\"xaxis\":\"x2\",\"yaxis\":\"y2\"},{\"type\":\"scatter\",\"xaxis\":\"x6\",\"yaxis\":\"y6\"},{\"colorbar\":{\"title\":{\"text\":\"f1_score\"}},\"colorscale\":[[0.0,\"rgb(247,251,255)\"],[0.125,\"rgb(222,235,247)\"],[0.25,\"rgb(198,219,239)\"],[0.375,\"rgb(158,202,225)\"],[0.5,\"rgb(107,174,214)\"],[0.625,\"rgb(66,146,198)\"],[0.75,\"rgb(33,113,181)\"],[0.875,\"rgb(8,81,156)\"],[1.0,\"rgb(8,48,107)\"]],\"connectgaps\":true,\"contours\":{\"coloring\":\"heatmap\"},\"hoverinfo\":\"none\",\"line\":{\"smoothing\":1.3},\"reversescale\":false,\"showscale\":false,\"x\":[9.25,10,15,20,25,25.75],\"y\":[4.9,5,6,7,7.1],\"z\":[[null,null,null,null,null,null],[null,0.8046079828869945,0.8125420070751825,0.8176117551554786,0.8180228086989535,null],[null,null,0.812976727472639,0.8115226427367312,0.8134840414936626,null],[null,0.8012767691897331,null,0.8054342890640231,0.8064014408492604,null],[null,null,null,null,null,null]],\"type\":\"contour\",\"xaxis\":\"x10\",\"yaxis\":\"y10\"},{\"marker\":{\"color\":\"black\",\"line\":{\"color\":\"Grey\",\"width\":2.0}},\"mode\":\"markers\",\"showlegend\":false,\"x\":[15,25,25,20,25,25,10,20,20,10,15,25,25,25,20,25,15,20,25,20,25,25,25,25,20,25,20,25,15,25,20,25,25,25,25,25,25,25,20,25,10,25,25,25,25,20,25,20,25,25],\"y\":[5,7,5,7,6,5,7,5,7,7,6,5,5,6,5,5,6,5,6,5,5,5,5,5,6,5,5,6,5,5,5,5,5,5,5,5,6,5,6,5,5,5,5,5,5,5,7,5,5,6],\"type\":\"scatter\",\"xaxis\":\"x10\",\"yaxis\":\"y10\"},{\"colorbar\":{\"title\":{\"text\":\"f1_score\"}},\"colorscale\":[[0.0,\"rgb(247,251,255)\"],[0.125,\"rgb(222,235,247)\"],[0.25,\"rgb(198,219,239)\"],[0.375,\"rgb(158,202,225)\"],[0.5,\"rgb(107,174,214)\"],[0.625,\"rgb(66,146,198)\"],[0.75,\"rgb(33,113,181)\"],[0.875,\"rgb(8,81,156)\"],[1.0,\"rgb(8,48,107)\"]],\"connectgaps\":true,\"contours\":{\"coloring\":\"heatmap\"},\"hoverinfo\":\"none\",\"line\":{\"smoothing\":1.3},\"reversescale\":false,\"showscale\":false,\"x\":[9.25,10,15,20,25,25.75],\"y\":[95.5,100,130,160,190,194.5],\"z\":[[null,null,null,null,null,null],[null,0.8012767691897331,null,0.807636537612958,0.8140593468259999,null],[null,null,0.8125420070751825,0.8116646875929089,0.8134840414936626,null],[null,null,null,0.8089222242937579,0.8180228086989535,null],[null,0.8046079828869945,0.812976727472639,0.8176117551554786,0.8135425896368668,null],[null,null,null,null,null,null]],\"type\":\"contour\",\"xaxis\":\"x14\",\"yaxis\":\"y14\"},{\"marker\":{\"color\":\"black\",\"line\":{\"color\":\"Grey\",\"width\":2.0}},\"mode\":\"markers\",\"showlegend\":false,\"x\":[15,25,25,20,25,25,10,20,20,10,15,25,25,25,20,25,15,20,25,20,25,25,25,25,20,25,20,25,15,25,20,25,25,25,25,25,25,25,20,25,10,25,25,25,25,20,25,20,25,25],\"y\":[130,130,130,160,130,160,190,100,160,100,190,160,160,190,160,160,190,160,130,190,160,160,160,160,130,160,190,160,130,100,190,160,160,160,130,160,130,160,160,130,190,160,160,160,160,160,160,190,160,130],\"type\":\"scatter\",\"xaxis\":\"x14\",\"yaxis\":\"y14\"},{\"colorbar\":{\"title\":{\"text\":\"f1_score\"}},\"colorscale\":[[0.0,\"rgb(247,251,255)\"],[0.125,\"rgb(222,235,247)\"],[0.25,\"rgb(198,219,239)\"],[0.375,\"rgb(158,202,225)\"],[0.5,\"rgb(107,174,214)\"],[0.625,\"rgb(66,146,198)\"],[0.75,\"rgb(33,113,181)\"],[0.875,\"rgb(8,81,156)\"],[1.0,\"rgb(8,48,107)\"]],\"connectgaps\":true,\"contours\":{\"coloring\":\"heatmap\"},\"hoverinfo\":\"none\",\"line\":{\"smoothing\":1.3},\"reversescale\":false,\"showscale\":false,\"x\":[4.9,5,6,7,7.1],\"y\":[\"entropy\",\"gini\"],\"z\":[[null,0.8180228086989535,0.8134840414936626,0.8064014408492604,null],[null,0.8089222242937579,0.8113083974463127,0.8012767691897331,null]],\"type\":\"contour\",\"xaxis\":\"x3\",\"yaxis\":\"y3\"},{\"marker\":{\"color\":\"black\",\"line\":{\"color\":\"Grey\",\"width\":2.0}},\"mode\":\"markers\",\"showlegend\":false,\"x\":[5,7,5,7,6,5,7,5,7,7,6,5,5,6,5,5,6,5,6,5,5,5,5,5,6,5,5,6,5,5,5,5,5,5,5,5,6,5,6,5,5,5,5,5,5,5,7,5,5,6],\"y\":[\"entropy\",\"entropy\",\"entropy\",\"entropy\",\"gini\",\"entropy\",\"gini\",\"gini\",\"gini\",\"gini\",\"entropy\",\"entropy\",\"entropy\",\"entropy\",\"entropy\",\"entropy\",\"entropy\",\"entropy\",\"entropy\",\"entropy\",\"entropy\",\"entropy\",\"entropy\",\"entropy\",\"entropy\",\"entropy\",\"gini\",\"entropy\",\"entropy\",\"entropy\",\"entropy\",\"entropy\",\"entropy\",\"entropy\",\"entropy\",\"entropy\",\"entropy\",\"gini\",\"entropy\",\"gini\",\"entropy\",\"entropy\",\"entropy\",\"entropy\",\"entropy\",\"gini\",\"entropy\",\"entropy\",\"entropy\",\"entropy\"],\"type\":\"scatter\",\"xaxis\":\"x3\",\"yaxis\":\"y3\"},{\"colorbar\":{\"title\":{\"text\":\"f1_score\"}},\"colorscale\":[[0.0,\"rgb(247,251,255)\"],[0.125,\"rgb(222,235,247)\"],[0.25,\"rgb(198,219,239)\"],[0.375,\"rgb(158,202,225)\"],[0.5,\"rgb(107,174,214)\"],[0.625,\"rgb(66,146,198)\"],[0.75,\"rgb(33,113,181)\"],[0.875,\"rgb(8,81,156)\"],[1.0,\"rgb(8,48,107)\"]],\"connectgaps\":true,\"contours\":{\"coloring\":\"heatmap\"},\"hoverinfo\":\"none\",\"line\":{\"smoothing\":1.3},\"reversescale\":false,\"showscale\":false,\"x\":[4.9,5,6,7,7.1],\"y\":[9.25,10,15,20,25,25.75],\"z\":[[null,null,null,null,null],[null,0.8046079828869945,null,0.8012767691897331,null],[null,0.8125420070751825,0.812976727472639,null,null],[null,0.8176117551554786,0.8115226427367312,0.8054342890640231,null],[null,0.8180228086989535,0.8134840414936626,0.8064014408492604,null],[null,null,null,null,null]],\"type\":\"contour\",\"xaxis\":\"x7\",\"yaxis\":\"y7\"},{\"marker\":{\"color\":\"black\",\"line\":{\"color\":\"Grey\",\"width\":2.0}},\"mode\":\"markers\",\"showlegend\":false,\"x\":[5,7,5,7,6,5,7,5,7,7,6,5,5,6,5,5,6,5,6,5,5,5,5,5,6,5,5,6,5,5,5,5,5,5,5,5,6,5,6,5,5,5,5,5,5,5,7,5,5,6],\"y\":[15,25,25,20,25,25,10,20,20,10,15,25,25,25,20,25,15,20,25,20,25,25,25,25,20,25,20,25,15,25,20,25,25,25,25,25,25,25,20,25,10,25,25,25,25,20,25,20,25,25],\"type\":\"scatter\",\"xaxis\":\"x7\",\"yaxis\":\"y7\"},{\"type\":\"scatter\",\"xaxis\":\"x11\",\"yaxis\":\"y11\"},{\"colorbar\":{\"title\":{\"text\":\"f1_score\"}},\"colorscale\":[[0.0,\"rgb(247,251,255)\"],[0.125,\"rgb(222,235,247)\"],[0.25,\"rgb(198,219,239)\"],[0.375,\"rgb(158,202,225)\"],[0.5,\"rgb(107,174,214)\"],[0.625,\"rgb(66,146,198)\"],[0.75,\"rgb(33,113,181)\"],[0.875,\"rgb(8,81,156)\"],[1.0,\"rgb(8,48,107)\"]],\"connectgaps\":true,\"contours\":{\"coloring\":\"heatmap\"},\"hoverinfo\":\"none\",\"line\":{\"smoothing\":1.3},\"reversescale\":false,\"showscale\":false,\"x\":[4.9,5,6,7,7.1],\"y\":[95.5,100,130,160,190,194.5],\"z\":[[null,null,null,null,null],[null,0.8140593468259999,null,0.8012767691897331,null],[null,0.8061958101822748,0.8134840414936626,0.8060429894497148,null],[null,0.8180228086989535,0.8115226427367312,0.8064014408492604,null],[null,0.8176117551554786,0.812976727472639,0.8049505986533946,null],[null,null,null,null,null]],\"type\":\"contour\",\"xaxis\":\"x15\",\"yaxis\":\"y15\"},{\"marker\":{\"color\":\"black\",\"line\":{\"color\":\"Grey\",\"width\":2.0}},\"mode\":\"markers\",\"showlegend\":false,\"x\":[5,7,5,7,6,5,7,5,7,7,6,5,5,6,5,5,6,5,6,5,5,5,5,5,6,5,5,6,5,5,5,5,5,5,5,5,6,5,6,5,5,5,5,5,5,5,7,5,5,6],\"y\":[130,130,130,160,130,160,190,100,160,100,190,160,160,190,160,160,190,160,130,190,160,160,160,160,130,160,190,160,130,100,190,160,160,160,130,160,130,160,160,130,190,160,160,160,160,160,160,190,160,130],\"type\":\"scatter\",\"xaxis\":\"x15\",\"yaxis\":\"y15\"},{\"colorbar\":{\"title\":{\"text\":\"f1_score\"}},\"colorscale\":[[0.0,\"rgb(247,251,255)\"],[0.125,\"rgb(222,235,247)\"],[0.25,\"rgb(198,219,239)\"],[0.375,\"rgb(158,202,225)\"],[0.5,\"rgb(107,174,214)\"],[0.625,\"rgb(66,146,198)\"],[0.75,\"rgb(33,113,181)\"],[0.875,\"rgb(8,81,156)\"],[1.0,\"rgb(8,48,107)\"]],\"connectgaps\":true,\"contours\":{\"coloring\":\"heatmap\"},\"hoverinfo\":\"none\",\"line\":{\"smoothing\":1.3},\"reversescale\":false,\"showscale\":false,\"x\":[95.5,100,130,160,190,194.5],\"y\":[\"entropy\",\"gini\"],\"z\":[[null,0.8140593468259999,0.8134840414936626,0.8180228086989535,0.8176117551554786,null],[null,0.8012767691897331,0.8061958101822748,0.8089222242937579,0.8103816779234405,null]],\"type\":\"contour\",\"xaxis\":\"x4\",\"yaxis\":\"y4\"},{\"marker\":{\"color\":\"black\",\"line\":{\"color\":\"Grey\",\"width\":2.0}},\"mode\":\"markers\",\"showlegend\":false,\"x\":[130,130,130,160,130,160,190,100,160,100,190,160,160,190,160,160,190,160,130,190,160,160,160,160,130,160,190,160,130,100,190,160,160,160,130,160,130,160,160,130,190,160,160,160,160,160,160,190,160,130],\"y\":[\"entropy\",\"entropy\",\"entropy\",\"entropy\",\"gini\",\"entropy\",\"gini\",\"gini\",\"gini\",\"gini\",\"entropy\",\"entropy\",\"entropy\",\"entropy\",\"entropy\",\"entropy\",\"entropy\",\"entropy\",\"entropy\",\"entropy\",\"entropy\",\"entropy\",\"entropy\",\"entropy\",\"entropy\",\"entropy\",\"gini\",\"entropy\",\"entropy\",\"entropy\",\"entropy\",\"entropy\",\"entropy\",\"entropy\",\"entropy\",\"entropy\",\"entropy\",\"gini\",\"entropy\",\"gini\",\"entropy\",\"entropy\",\"entropy\",\"entropy\",\"entropy\",\"gini\",\"entropy\",\"entropy\",\"entropy\",\"entropy\"],\"type\":\"scatter\",\"xaxis\":\"x4\",\"yaxis\":\"y4\"},{\"colorbar\":{\"title\":{\"text\":\"f1_score\"}},\"colorscale\":[[0.0,\"rgb(247,251,255)\"],[0.125,\"rgb(222,235,247)\"],[0.25,\"rgb(198,219,239)\"],[0.375,\"rgb(158,202,225)\"],[0.5,\"rgb(107,174,214)\"],[0.625,\"rgb(66,146,198)\"],[0.75,\"rgb(33,113,181)\"],[0.875,\"rgb(8,81,156)\"],[1.0,\"rgb(8,48,107)\"]],\"connectgaps\":true,\"contours\":{\"coloring\":\"heatmap\"},\"hoverinfo\":\"none\",\"line\":{\"smoothing\":1.3},\"reversescale\":false,\"showscale\":false,\"x\":[95.5,100,130,160,190,194.5],\"y\":[9.25,10,15,20,25,25.75],\"z\":[[null,null,null,null,null,null],[null,0.8012767691897331,null,null,0.8046079828869945,null],[null,null,0.8125420070751825,null,0.812976727472639,null],[null,0.807636537612958,0.8116646875929089,0.8089222242937579,0.8176117551554786,null],[null,0.8140593468259999,0.8134840414936626,0.8180228086989535,0.8135425896368668,null],[null,null,null,null,null,null]],\"type\":\"contour\",\"xaxis\":\"x8\",\"yaxis\":\"y8\"},{\"marker\":{\"color\":\"black\",\"line\":{\"color\":\"Grey\",\"width\":2.0}},\"mode\":\"markers\",\"showlegend\":false,\"x\":[130,130,130,160,130,160,190,100,160,100,190,160,160,190,160,160,190,160,130,190,160,160,160,160,130,160,190,160,130,100,190,160,160,160,130,160,130,160,160,130,190,160,160,160,160,160,160,190,160,130],\"y\":[15,25,25,20,25,25,10,20,20,10,15,25,25,25,20,25,15,20,25,20,25,25,25,25,20,25,20,25,15,25,20,25,25,25,25,25,25,25,20,25,10,25,25,25,25,20,25,20,25,25],\"type\":\"scatter\",\"xaxis\":\"x8\",\"yaxis\":\"y8\"},{\"colorbar\":{\"title\":{\"text\":\"f1_score\"}},\"colorscale\":[[0.0,\"rgb(247,251,255)\"],[0.125,\"rgb(222,235,247)\"],[0.25,\"rgb(198,219,239)\"],[0.375,\"rgb(158,202,225)\"],[0.5,\"rgb(107,174,214)\"],[0.625,\"rgb(66,146,198)\"],[0.75,\"rgb(33,113,181)\"],[0.875,\"rgb(8,81,156)\"],[1.0,\"rgb(8,48,107)\"]],\"connectgaps\":true,\"contours\":{\"coloring\":\"heatmap\"},\"hoverinfo\":\"none\",\"line\":{\"smoothing\":1.3},\"reversescale\":false,\"showscale\":false,\"x\":[95.5,100,130,160,190,194.5],\"y\":[4.9,5,6,7,7.1],\"z\":[[null,null,null,null,null,null],[null,0.8140593468259999,0.8061958101822748,0.8180228086989535,0.8176117551554786,null],[null,null,0.8134840414936626,0.8115226427367312,0.812976727472639,null],[null,0.8012767691897331,0.8060429894497148,0.8064014408492604,0.8049505986533946,null],[null,null,null,null,null,null]],\"type\":\"contour\",\"xaxis\":\"x12\",\"yaxis\":\"y12\"},{\"marker\":{\"color\":\"black\",\"line\":{\"color\":\"Grey\",\"width\":2.0}},\"mode\":\"markers\",\"showlegend\":false,\"x\":[130,130,130,160,130,160,190,100,160,100,190,160,160,190,160,160,190,160,130,190,160,160,160,160,130,160,190,160,130,100,190,160,160,160,130,160,130,160,160,130,190,160,160,160,160,160,160,190,160,130],\"y\":[5,7,5,7,6,5,7,5,7,7,6,5,5,6,5,5,6,5,6,5,5,5,5,5,6,5,5,6,5,5,5,5,5,5,5,5,6,5,6,5,5,5,5,5,5,5,7,5,5,6],\"type\":\"scatter\",\"xaxis\":\"x12\",\"yaxis\":\"y12\"},{\"type\":\"scatter\",\"xaxis\":\"x16\",\"yaxis\":\"y16\"}],                        {\"template\":{\"data\":{\"histogram2dcontour\":[{\"type\":\"histogram2dcontour\",\"colorbar\":{\"outlinewidth\":0,\"ticks\":\"\"},\"colorscale\":[[0.0,\"#0d0887\"],[0.1111111111111111,\"#46039f\"],[0.2222222222222222,\"#7201a8\"],[0.3333333333333333,\"#9c179e\"],[0.4444444444444444,\"#bd3786\"],[0.5555555555555556,\"#d8576b\"],[0.6666666666666666,\"#ed7953\"],[0.7777777777777778,\"#fb9f3a\"],[0.8888888888888888,\"#fdca26\"],[1.0,\"#f0f921\"]]}],\"choropleth\":[{\"type\":\"choropleth\",\"colorbar\":{\"outlinewidth\":0,\"ticks\":\"\"}}],\"histogram2d\":[{\"type\":\"histogram2d\",\"colorbar\":{\"outlinewidth\":0,\"ticks\":\"\"},\"colorscale\":[[0.0,\"#0d0887\"],[0.1111111111111111,\"#46039f\"],[0.2222222222222222,\"#7201a8\"],[0.3333333333333333,\"#9c179e\"],[0.4444444444444444,\"#bd3786\"],[0.5555555555555556,\"#d8576b\"],[0.6666666666666666,\"#ed7953\"],[0.7777777777777778,\"#fb9f3a\"],[0.8888888888888888,\"#fdca26\"],[1.0,\"#f0f921\"]]}],\"heatmap\":[{\"type\":\"heatmap\",\"colorbar\":{\"outlinewidth\":0,\"ticks\":\"\"},\"colorscale\":[[0.0,\"#0d0887\"],[0.1111111111111111,\"#46039f\"],[0.2222222222222222,\"#7201a8\"],[0.3333333333333333,\"#9c179e\"],[0.4444444444444444,\"#bd3786\"],[0.5555555555555556,\"#d8576b\"],[0.6666666666666666,\"#ed7953\"],[0.7777777777777778,\"#fb9f3a\"],[0.8888888888888888,\"#fdca26\"],[1.0,\"#f0f921\"]]}],\"heatmapgl\":[{\"type\":\"heatmapgl\",\"colorbar\":{\"outlinewidth\":0,\"ticks\":\"\"},\"colorscale\":[[0.0,\"#0d0887\"],[0.1111111111111111,\"#46039f\"],[0.2222222222222222,\"#7201a8\"],[0.3333333333333333,\"#9c179e\"],[0.4444444444444444,\"#bd3786\"],[0.5555555555555556,\"#d8576b\"],[0.6666666666666666,\"#ed7953\"],[0.7777777777777778,\"#fb9f3a\"],[0.8888888888888888,\"#fdca26\"],[1.0,\"#f0f921\"]]}],\"contourcarpet\":[{\"type\":\"contourcarpet\",\"colorbar\":{\"outlinewidth\":0,\"ticks\":\"\"}}],\"contour\":[{\"type\":\"contour\",\"colorbar\":{\"outlinewidth\":0,\"ticks\":\"\"},\"colorscale\":[[0.0,\"#0d0887\"],[0.1111111111111111,\"#46039f\"],[0.2222222222222222,\"#7201a8\"],[0.3333333333333333,\"#9c179e\"],[0.4444444444444444,\"#bd3786\"],[0.5555555555555556,\"#d8576b\"],[0.6666666666666666,\"#ed7953\"],[0.7777777777777778,\"#fb9f3a\"],[0.8888888888888888,\"#fdca26\"],[1.0,\"#f0f921\"]]}],\"surface\":[{\"type\":\"surface\",\"colorbar\":{\"outlinewidth\":0,\"ticks\":\"\"},\"colorscale\":[[0.0,\"#0d0887\"],[0.1111111111111111,\"#46039f\"],[0.2222222222222222,\"#7201a8\"],[0.3333333333333333,\"#9c179e\"],[0.4444444444444444,\"#bd3786\"],[0.5555555555555556,\"#d8576b\"],[0.6666666666666666,\"#ed7953\"],[0.7777777777777778,\"#fb9f3a\"],[0.8888888888888888,\"#fdca26\"],[1.0,\"#f0f921\"]]}],\"mesh3d\":[{\"type\":\"mesh3d\",\"colorbar\":{\"outlinewidth\":0,\"ticks\":\"\"}}],\"scatter\":[{\"fillpattern\":{\"fillmode\":\"overlay\",\"size\":10,\"solidity\":0.2},\"type\":\"scatter\"}],\"parcoords\":[{\"type\":\"parcoords\",\"line\":{\"colorbar\":{\"outlinewidth\":0,\"ticks\":\"\"}}}],\"scatterpolargl\":[{\"type\":\"scatterpolargl\",\"marker\":{\"colorbar\":{\"outlinewidth\":0,\"ticks\":\"\"}}}],\"bar\":[{\"error_x\":{\"color\":\"#2a3f5f\"},\"error_y\":{\"color\":\"#2a3f5f\"},\"marker\":{\"line\":{\"color\":\"#E5ECF6\",\"width\":0.5},\"pattern\":{\"fillmode\":\"overlay\",\"size\":10,\"solidity\":0.2}},\"type\":\"bar\"}],\"scattergeo\":[{\"type\":\"scattergeo\",\"marker\":{\"colorbar\":{\"outlinewidth\":0,\"ticks\":\"\"}}}],\"scatterpolar\":[{\"type\":\"scatterpolar\",\"marker\":{\"colorbar\":{\"outlinewidth\":0,\"ticks\":\"\"}}}],\"histogram\":[{\"marker\":{\"pattern\":{\"fillmode\":\"overlay\",\"size\":10,\"solidity\":0.2}},\"type\":\"histogram\"}],\"scattergl\":[{\"type\":\"scattergl\",\"marker\":{\"colorbar\":{\"outlinewidth\":0,\"ticks\":\"\"}}}],\"scatter3d\":[{\"type\":\"scatter3d\",\"line\":{\"colorbar\":{\"outlinewidth\":0,\"ticks\":\"\"}},\"marker\":{\"colorbar\":{\"outlinewidth\":0,\"ticks\":\"\"}}}],\"scattermapbox\":[{\"type\":\"scattermapbox\",\"marker\":{\"colorbar\":{\"outlinewidth\":0,\"ticks\":\"\"}}}],\"scatterternary\":[{\"type\":\"scatterternary\",\"marker\":{\"colorbar\":{\"outlinewidth\":0,\"ticks\":\"\"}}}],\"scattercarpet\":[{\"type\":\"scattercarpet\",\"marker\":{\"colorbar\":{\"outlinewidth\":0,\"ticks\":\"\"}}}],\"carpet\":[{\"aaxis\":{\"endlinecolor\":\"#2a3f5f\",\"gridcolor\":\"white\",\"linecolor\":\"white\",\"minorgridcolor\":\"white\",\"startlinecolor\":\"#2a3f5f\"},\"baxis\":{\"endlinecolor\":\"#2a3f5f\",\"gridcolor\":\"white\",\"linecolor\":\"white\",\"minorgridcolor\":\"white\",\"startlinecolor\":\"#2a3f5f\"},\"type\":\"carpet\"}],\"table\":[{\"cells\":{\"fill\":{\"color\":\"#EBF0F8\"},\"line\":{\"color\":\"white\"}},\"header\":{\"fill\":{\"color\":\"#C8D4E3\"},\"line\":{\"color\":\"white\"}},\"type\":\"table\"}],\"barpolar\":[{\"marker\":{\"line\":{\"color\":\"#E5ECF6\",\"width\":0.5},\"pattern\":{\"fillmode\":\"overlay\",\"size\":10,\"solidity\":0.2}},\"type\":\"barpolar\"}],\"pie\":[{\"automargin\":true,\"type\":\"pie\"}]},\"layout\":{\"autotypenumbers\":\"strict\",\"colorway\":[\"#636efa\",\"#EF553B\",\"#00cc96\",\"#ab63fa\",\"#FFA15A\",\"#19d3f3\",\"#FF6692\",\"#B6E880\",\"#FF97FF\",\"#FECB52\"],\"font\":{\"color\":\"#2a3f5f\"},\"hovermode\":\"closest\",\"hoverlabel\":{\"align\":\"left\"},\"paper_bgcolor\":\"white\",\"plot_bgcolor\":\"#E5ECF6\",\"polar\":{\"bgcolor\":\"#E5ECF6\",\"angularaxis\":{\"gridcolor\":\"white\",\"linecolor\":\"white\",\"ticks\":\"\"},\"radialaxis\":{\"gridcolor\":\"white\",\"linecolor\":\"white\",\"ticks\":\"\"}},\"ternary\":{\"bgcolor\":\"#E5ECF6\",\"aaxis\":{\"gridcolor\":\"white\",\"linecolor\":\"white\",\"ticks\":\"\"},\"baxis\":{\"gridcolor\":\"white\",\"linecolor\":\"white\",\"ticks\":\"\"},\"caxis\":{\"gridcolor\":\"white\",\"linecolor\":\"white\",\"ticks\":\"\"}},\"coloraxis\":{\"colorbar\":{\"outlinewidth\":0,\"ticks\":\"\"}},\"colorscale\":{\"sequential\":[[0.0,\"#0d0887\"],[0.1111111111111111,\"#46039f\"],[0.2222222222222222,\"#7201a8\"],[0.3333333333333333,\"#9c179e\"],[0.4444444444444444,\"#bd3786\"],[0.5555555555555556,\"#d8576b\"],[0.6666666666666666,\"#ed7953\"],[0.7777777777777778,\"#fb9f3a\"],[0.8888888888888888,\"#fdca26\"],[1.0,\"#f0f921\"]],\"sequentialminus\":[[0.0,\"#0d0887\"],[0.1111111111111111,\"#46039f\"],[0.2222222222222222,\"#7201a8\"],[0.3333333333333333,\"#9c179e\"],[0.4444444444444444,\"#bd3786\"],[0.5555555555555556,\"#d8576b\"],[0.6666666666666666,\"#ed7953\"],[0.7777777777777778,\"#fb9f3a\"],[0.8888888888888888,\"#fdca26\"],[1.0,\"#f0f921\"]],\"diverging\":[[0,\"#8e0152\"],[0.1,\"#c51b7d\"],[0.2,\"#de77ae\"],[0.3,\"#f1b6da\"],[0.4,\"#fde0ef\"],[0.5,\"#f7f7f7\"],[0.6,\"#e6f5d0\"],[0.7,\"#b8e186\"],[0.8,\"#7fbc41\"],[0.9,\"#4d9221\"],[1,\"#276419\"]]},\"xaxis\":{\"gridcolor\":\"white\",\"linecolor\":\"white\",\"ticks\":\"\",\"title\":{\"standoff\":15},\"zerolinecolor\":\"white\",\"automargin\":true,\"zerolinewidth\":2},\"yaxis\":{\"gridcolor\":\"white\",\"linecolor\":\"white\",\"ticks\":\"\",\"title\":{\"standoff\":15},\"zerolinecolor\":\"white\",\"automargin\":true,\"zerolinewidth\":2},\"scene\":{\"xaxis\":{\"backgroundcolor\":\"#E5ECF6\",\"gridcolor\":\"white\",\"linecolor\":\"white\",\"showbackground\":true,\"ticks\":\"\",\"zerolinecolor\":\"white\",\"gridwidth\":2},\"yaxis\":{\"backgroundcolor\":\"#E5ECF6\",\"gridcolor\":\"white\",\"linecolor\":\"white\",\"showbackground\":true,\"ticks\":\"\",\"zerolinecolor\":\"white\",\"gridwidth\":2},\"zaxis\":{\"backgroundcolor\":\"#E5ECF6\",\"gridcolor\":\"white\",\"linecolor\":\"white\",\"showbackground\":true,\"ticks\":\"\",\"zerolinecolor\":\"white\",\"gridwidth\":2}},\"shapedefaults\":{\"line\":{\"color\":\"#2a3f5f\"}},\"annotationdefaults\":{\"arrowcolor\":\"#2a3f5f\",\"arrowhead\":0,\"arrowwidth\":1},\"geo\":{\"bgcolor\":\"white\",\"landcolor\":\"#E5ECF6\",\"subunitcolor\":\"white\",\"showland\":true,\"showlakes\":true,\"lakecolor\":\"white\"},\"title\":{\"x\":0.05},\"mapbox\":{\"style\":\"light\"}}},\"xaxis\":{\"anchor\":\"y\",\"domain\":[0.0,0.2125],\"matches\":\"x13\",\"showticklabels\":false,\"range\":[-0.05,1.05],\"type\":\"category\"},\"yaxis\":{\"anchor\":\"x\",\"domain\":[0.80625,1.0],\"range\":[-0.05,1.05],\"type\":\"category\",\"title\":{\"text\":\"criterion\"}},\"xaxis2\":{\"anchor\":\"y2\",\"domain\":[0.2625,0.475],\"matches\":\"x14\",\"showticklabels\":false,\"range\":[9.25,25.75]},\"yaxis2\":{\"anchor\":\"x2\",\"domain\":[0.80625,1.0],\"matches\":\"y\",\"showticklabels\":false,\"range\":[-0.05,1.05],\"type\":\"category\"},\"xaxis3\":{\"anchor\":\"y3\",\"domain\":[0.525,0.7375],\"matches\":\"x15\",\"showticklabels\":false,\"range\":[4.9,7.1]},\"yaxis3\":{\"anchor\":\"x3\",\"domain\":[0.80625,1.0],\"matches\":\"y\",\"showticklabels\":false,\"range\":[-0.05,1.05],\"type\":\"category\"},\"xaxis4\":{\"anchor\":\"y4\",\"domain\":[0.7875,1.0],\"matches\":\"x16\",\"showticklabels\":false,\"range\":[95.5,194.5]},\"yaxis4\":{\"anchor\":\"x4\",\"domain\":[0.80625,1.0],\"matches\":\"y\",\"showticklabels\":false,\"range\":[-0.05,1.05],\"type\":\"category\"},\"xaxis5\":{\"anchor\":\"y5\",\"domain\":[0.0,0.2125],\"matches\":\"x13\",\"showticklabels\":false,\"range\":[-0.05,1.05],\"type\":\"category\"},\"yaxis5\":{\"anchor\":\"x5\",\"domain\":[0.5375,0.73125],\"range\":[9.25,25.75],\"title\":{\"text\":\"max_depth\"}},\"xaxis6\":{\"anchor\":\"y6\",\"domain\":[0.2625,0.475],\"matches\":\"x14\",\"showticklabels\":false,\"range\":[9.25,25.75]},\"yaxis6\":{\"anchor\":\"x6\",\"domain\":[0.5375,0.73125],\"matches\":\"y5\",\"showticklabels\":false,\"range\":[9.25,25.75]},\"xaxis7\":{\"anchor\":\"y7\",\"domain\":[0.525,0.7375],\"matches\":\"x15\",\"showticklabels\":false,\"range\":[4.9,7.1]},\"yaxis7\":{\"anchor\":\"x7\",\"domain\":[0.5375,0.73125],\"matches\":\"y5\",\"showticklabels\":false,\"range\":[9.25,25.75]},\"xaxis8\":{\"anchor\":\"y8\",\"domain\":[0.7875,1.0],\"matches\":\"x16\",\"showticklabels\":false,\"range\":[95.5,194.5]},\"yaxis8\":{\"anchor\":\"x8\",\"domain\":[0.5375,0.73125],\"matches\":\"y5\",\"showticklabels\":false,\"range\":[9.25,25.75]},\"xaxis9\":{\"anchor\":\"y9\",\"domain\":[0.0,0.2125],\"matches\":\"x13\",\"showticklabels\":false,\"range\":[-0.05,1.05],\"type\":\"category\"},\"yaxis9\":{\"anchor\":\"x9\",\"domain\":[0.26875,0.4625],\"range\":[4.9,7.1],\"title\":{\"text\":\"min_samples_leaf\"}},\"xaxis10\":{\"anchor\":\"y10\",\"domain\":[0.2625,0.475],\"matches\":\"x14\",\"showticklabels\":false,\"range\":[9.25,25.75]},\"yaxis10\":{\"anchor\":\"x10\",\"domain\":[0.26875,0.4625],\"matches\":\"y9\",\"showticklabels\":false,\"range\":[4.9,7.1]},\"xaxis11\":{\"anchor\":\"y11\",\"domain\":[0.525,0.7375],\"matches\":\"x15\",\"showticklabels\":false,\"range\":[4.9,7.1]},\"yaxis11\":{\"anchor\":\"x11\",\"domain\":[0.26875,0.4625],\"matches\":\"y9\",\"showticklabels\":false,\"range\":[4.9,7.1]},\"xaxis12\":{\"anchor\":\"y12\",\"domain\":[0.7875,1.0],\"matches\":\"x16\",\"showticklabels\":false,\"range\":[95.5,194.5]},\"yaxis12\":{\"anchor\":\"x12\",\"domain\":[0.26875,0.4625],\"matches\":\"y9\",\"showticklabels\":false,\"range\":[4.9,7.1]},\"xaxis13\":{\"anchor\":\"y13\",\"domain\":[0.0,0.2125],\"range\":[-0.05,1.05],\"type\":\"category\",\"title\":{\"text\":\"criterion\"}},\"yaxis13\":{\"anchor\":\"x13\",\"domain\":[0.0,0.19375],\"range\":[95.5,194.5],\"title\":{\"text\":\"n_estimators\"}},\"xaxis14\":{\"anchor\":\"y14\",\"domain\":[0.2625,0.475],\"range\":[9.25,25.75],\"title\":{\"text\":\"max_depth\"}},\"yaxis14\":{\"anchor\":\"x14\",\"domain\":[0.0,0.19375],\"matches\":\"y13\",\"showticklabels\":false,\"range\":[95.5,194.5]},\"xaxis15\":{\"anchor\":\"y15\",\"domain\":[0.525,0.7375],\"range\":[4.9,7.1],\"title\":{\"text\":\"min_samples_leaf\"}},\"yaxis15\":{\"anchor\":\"x15\",\"domain\":[0.0,0.19375],\"matches\":\"y13\",\"showticklabels\":false,\"range\":[95.5,194.5]},\"xaxis16\":{\"anchor\":\"y16\",\"domain\":[0.7875,1.0],\"range\":[95.5,194.5],\"title\":{\"text\":\"n_estimators\"}},\"yaxis16\":{\"anchor\":\"x16\",\"domain\":[0.0,0.19375],\"matches\":\"y13\",\"showticklabels\":false,\"range\":[95.5,194.5]},\"title\":{\"text\":\"Contour Plot\"}},                        {\"responsive\": true}                    ).then(function(){\n",
              "                            \n",
              "var gd = document.getElementById('ccad7d3d-0522-4cc1-b45d-58fb9947b83b');\n",
              "var x = new MutationObserver(function (mutations, observer) {{\n",
              "        var display = window.getComputedStyle(gd).display;\n",
              "        if (!display || display === 'none') {{\n",
              "            console.log([gd, 'removed!']);\n",
              "            Plotly.purge(gd);\n",
              "            observer.disconnect();\n",
              "        }}\n",
              "}});\n",
              "\n",
              "// Listen for the removal of the full notebook cells\n",
              "var notebookContainer = gd.closest('#notebook-container');\n",
              "if (notebookContainer) {{\n",
              "    x.observe(notebookContainer, {childList: true});\n",
              "}}\n",
              "\n",
              "// Listen for the clearing of the current output cell\n",
              "var outputEl = gd.closest('.output');\n",
              "if (outputEl) {{\n",
              "    x.observe(outputEl, {childList: true});\n",
              "}}\n",
              "\n",
              "                        })                };                            </script>        </div>\n",
              "</body>\n",
              "</html>"
            ]
          },
          "metadata": {},
          "output_type": "display_data"
        }
      ],
      "source": [
        "optuna.visualization.plot_contour(study, params=['min_samples_leaf', 'criterion', 'max_depth', 'n_estimators'],\n",
        "                                  target_name=\"f1_score\")"
      ]
    },
    {
      "attachments": {},
      "cell_type": "markdown",
      "id": "3dc7275d",
      "metadata": {},
      "source": [
        "![RandomForestClassifier_Contour_Plot](img/Optuna_422_RF_3_Contour_plot.png)"
      ]
    },
    {
      "attachments": {},
      "cell_type": "markdown",
      "id": "DCsc1A1NX65C",
      "metadata": {
        "id": "DCsc1A1NX65C"
      },
      "source": [
        "> Наиболее темные области, как следует из легенды, соответствуют высокому значению метрики $F_1$-score.  \n",
        "> Наилучшими выглядят значениями гиперпараметров `criterion = 'entropy', max_depth  >= 20, min_samples_leaf = 5, n_estimators >= 160`. \n",
        "\n",
        "\n",
        "\n",
        "\n",
        "\n",
        "\n",
        "\n",
        "\n",
        "\n",
        "\n",
        "\n",
        "\n",
        "\n"
      ]
    },
    {
      "attachments": {},
      "cell_type": "markdown",
      "id": "E8u7xbjlhvc7",
      "metadata": {
        "id": "E8u7xbjlhvc7"
      },
      "source": [
        "> **Вывод по подбору гиперпараметров случайного леса с помощью Optuna**:  \n",
        "> 1. Наилучший набор гиперпараметров был подобран в течение первых 20 итераций (точнее на 5-й итерации) в течение 5 минут, что почти вдвое быстрее, чем с помощью библиотеки Hyperopt.  \n",
        ">\n",
        "> 2. Однако целевая метрика $F_1$-score даже после 50 итераций так и осталась на уровне 0.79 и не дотянула до baseline-решения = 0.80, что говорит не в пользу Optuna.\n",
        "> \n",
        "> 3. Учитывая приведенные факты, эффективность библиотеки можно рассматривать с точки зрения ее возможностей визуализации, которые помогают лучше понять взаимосвязи гиперпараметров и сосредоточиться затем на работе с наиболее важными из них.\n",
        "---\n",
        "\n"
      ]
    },
    {
      "attachments": {},
      "cell_type": "markdown",
      "id": "CKZ1oXtqjXLN",
      "metadata": {
        "id": "CKZ1oXtqjXLN"
      },
      "source": [
        " > ### **Промежуточный вывод по продвинутой оптимизации:**  \n",
        " > \n",
        " > В целом, продвинутые методы в данной задаче предсказания биологического ответа с данными моделями линейной регресии и случайного леса не полностью оправдали заложенный в них потенциал: подбор гиперпараметров происходил дольше, чем в базовых методах, а результаты едва превосходили базовые. В случае с моделью логистической регрессии значение метрики оказалось даже хуже, чем при использовании базовых методов оптимизации.  \n",
        " >  \n",
        " > Из двух рассмотренных библиотек наиболее простой в использовании представляется Optuna, предлагая к тому же полезный графический функционал. Она также намного быстрее Hyperopt, хотя не всегда показывает лучшие результаты метрик.  \n",
        " > \n",
        " > Примечание: при выгрузке ноутбука из Google Colab графики Optuna не созранились - пришлось сохранить их отдельно и вставить в ноутбук в виде изображений.\n",
        " ---"
      ]
    },
    {
      "attachments": {},
      "cell_type": "markdown",
      "id": "LH7MItbtlZoe",
      "metadata": {
        "id": "LH7MItbtlZoe"
      },
      "source": [
        "## 5. Общий вывод по задаче  \n",
        "\n",
        "> 1. Мы рассмотрели в сравнении 4 метода оптимизации гиперпараметров для двух моделей машинного обучения, научились использовать их функционал, увидели на практике эффективность каждого из методов.  \n",
        "> \n",
        "> 2. Для сравнения рассмотренных методов сведем в одну таблицу итоговые данные по целевой метрике $F_1$-score и времени подбора наилучших гиперпараметров: "
      ]
    },
    {
      "attachments": {},
      "cell_type": "markdown",
      "id": "ftGJ7M84rPEZ",
      "metadata": {
        "id": "ftGJ7M84rPEZ"
      },
      "source": [
        "|  | Logistic | Regression | \\| | RandomForestClassifier | ForestClassifier |\n",
        "|---|---:|---:|---|---:|---:|\n",
        "|  | $F_1$-score | Time | \\| | $F_1$-score | Time |\n",
        "| Baseline | 0.78 | 0 min | \\| | 0.80 | 0 min |\n",
        "| GridSearchCV | 0.79 | 31 min | \\| | 0.80 | 6 min |\n",
        "| RandomizedSearchCV | 0.79 | 8 min | \\| | 0.80 | 1 min |\n",
        "| Hyperopt | 0.78 | 52 min | \\| | 0.80 | 9 min |\n",
        "| Optuna | 0.78 | 21 min | \\| | 0.79 | 5 min |"
      ]
    },
    {
      "attachments": {},
      "cell_type": "markdown",
      "id": "WuriH8SYR77f",
      "metadata": {
        "id": "WuriH8SYR77f"
      },
      "source": [
        "> 3. Как следует из таблицы, все методы оптимизации показали примерно одинаковый результат целевой метрики (в пределах погрешности). Однако продвинутые методы требовали больше времени на нахождение наилучшего набора гиперпараметров. На втором месте по длительности работы следует расположить алгоритм GridSearchCV в виду его прямолинейной работы.\n",
        ">\n",
        "> 4. Отметим, что наиболее времязатратной оказалась модель логистической регрессии (22 минуты в среднем на каждый из алгоритмов), в том время как модели случайного леса требовалось в среднем чуть больше 4 минут на подбор. При этом модель случайного леса стабильно показывала более высокий результат целевой метрики, который так и не был достигнут при использовании логистической регрессии.  \n",
        ">\n",
        "> 5. Стоит обратить внимание на более сложный синтаксис продвинутых методов, необходимость создания специальной функции для оптимизации метрики, а также явное использование кросс-валидации. Всех этих недостатков лишены рассмотренные базовые методы, входящие в библиотеку sklearn. С учетом полученных результатов, использование продвинутых методов не представляется целесообразным для данной задачи и данных моделей, что, впрочем, не свидетельствует об их возможной неэффективности в других случаях применения.\n",
        ">\n",
        "> 6. Приобретенные навыки и полученный арсенал средств позволят в последующей работе с большей эффективностью достигать поставленных целей.  \n",
        "---"
      ]
    }
  ],
  "metadata": {
    "colab": {
      "provenance": [],
      "toc_visible": true
    },
    "kernelspec": {
      "display_name": "Python 3 (ipykernel)",
      "language": "python",
      "name": "python3"
    },
    "language_info": {
      "codemirror_mode": {
        "name": "ipython",
        "version": 3
      },
      "file_extension": ".py",
      "mimetype": "text/x-python",
      "name": "python",
      "nbconvert_exporter": "python",
      "pygments_lexer": "ipython3",
      "version": "3.9.7"
    }
  },
  "nbformat": 4,
  "nbformat_minor": 5
}
